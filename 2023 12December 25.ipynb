{
 "cells": [
  {
   "cell_type": "markdown",
   "id": "0017579f-c71b-470b-8bc4-4c42b40d1d39",
   "metadata": {},
   "source": [
    "# Agenda\n",
    "\n",
    "1. Object system in Python\n",
    "2. Metaclasses\n",
    "3. Iterators\n",
    "    - Iterator protocol\n",
    "    - Adding the iterator protocol to our classes\n",
    "    - Generator functions and generators"
   ]
  },
  {
   "cell_type": "code",
   "execution_count": 1,
   "id": "951b78a9-d0fa-4962-b2de-99140659a0ff",
   "metadata": {},
   "outputs": [],
   "source": [
    "class Bowl:\n",
    "    pass\n",
    "\n",
    "b = Bowl()\n",
    "\n"
   ]
  },
  {
   "cell_type": "code",
   "execution_count": 2,
   "id": "10b14a2e-7c71-4b3f-bfbf-02cbebd8d047",
   "metadata": {},
   "outputs": [
    {
     "data": {
      "text/plain": [
       "__main__.Bowl"
      ]
     },
     "execution_count": 2,
     "metadata": {},
     "output_type": "execute_result"
    }
   ],
   "source": [
    "type(b)"
   ]
  },
  {
   "cell_type": "code",
   "execution_count": 3,
   "id": "948dcaba-ed5c-4f11-9391-554b456df6a8",
   "metadata": {},
   "outputs": [
    {
     "data": {
      "text/plain": [
       "type"
      ]
     },
     "execution_count": 3,
     "metadata": {},
     "output_type": "execute_result"
    }
   ],
   "source": [
    "type(Bowl)"
   ]
  },
  {
   "cell_type": "code",
   "execution_count": 4,
   "id": "fdbe22c2-2b5c-45d3-8231-b80ea74b827e",
   "metadata": {},
   "outputs": [
    {
     "data": {
      "text/plain": [
       "type"
      ]
     },
     "execution_count": 4,
     "metadata": {},
     "output_type": "execute_result"
    }
   ],
   "source": [
    "type(type)"
   ]
  },
  {
   "cell_type": "code",
   "execution_count": 5,
   "id": "7c294856-a5cb-4a82-b9f0-646a3bc93eed",
   "metadata": {},
   "outputs": [
    {
     "data": {
      "text/plain": [
       "__main__.Bowl"
      ]
     },
     "execution_count": 5,
     "metadata": {},
     "output_type": "execute_result"
    }
   ],
   "source": [
    "b.__class__   # this is where type info is stored"
   ]
  },
  {
   "cell_type": "code",
   "execution_count": 6,
   "id": "279e5296-f7d2-4aa0-b9eb-13ae0801f9ca",
   "metadata": {},
   "outputs": [
    {
     "ename": "TypeError",
     "evalue": "__class__ assignment only supported for mutable types or ModuleType subclasses",
     "output_type": "error",
     "traceback": [
      "\u001b[1;31m---------------------------------------------------------------------------\u001b[0m",
      "\u001b[1;31mTypeError\u001b[0m                                 Traceback (most recent call last)",
      "Cell \u001b[1;32mIn[6], line 1\u001b[0m\n\u001b[1;32m----> 1\u001b[0m \u001b[43mb\u001b[49m\u001b[38;5;241;43m.\u001b[39;49m\u001b[38;5;18;43m__class__\u001b[39;49m \u001b[38;5;241m=\u001b[39m \u001b[38;5;28mstr\u001b[39m\n",
      "\u001b[1;31mTypeError\u001b[0m: __class__ assignment only supported for mutable types or ModuleType subclasses"
     ]
    }
   ],
   "source": [
    "b.__class__ = str"
   ]
  },
  {
   "cell_type": "code",
   "execution_count": 7,
   "id": "e0bdbaaf-cb2b-4cf3-8f72-8c621e633aae",
   "metadata": {
    "scrolled": true
   },
   "outputs": [
    {
     "data": {
      "text/plain": [
       "(object,)"
      ]
     },
     "execution_count": 7,
     "metadata": {},
     "output_type": "execute_result"
    }
   ],
   "source": [
    "Bowl.__bases__"
   ]
  },
  {
   "cell_type": "code",
   "execution_count": 8,
   "id": "0209d753-882a-40f0-a3d8-72497eb51c2f",
   "metadata": {},
   "outputs": [
    {
     "data": {
      "text/plain": [
       "type"
      ]
     },
     "execution_count": 8,
     "metadata": {},
     "output_type": "execute_result"
    }
   ],
   "source": [
    "type(object)"
   ]
  },
  {
   "cell_type": "code",
   "execution_count": 9,
   "id": "00656912-e030-4567-850c-049dcef399fc",
   "metadata": {},
   "outputs": [
    {
     "data": {
      "text/plain": [
       "type"
      ]
     },
     "execution_count": 9,
     "metadata": {},
     "output_type": "execute_result"
    }
   ],
   "source": [
    "type(str)"
   ]
  },
  {
   "cell_type": "code",
   "execution_count": 10,
   "id": "263a9388-d4ac-4d8f-883e-324d4a42dbda",
   "metadata": {},
   "outputs": [],
   "source": [
    "from collections import Counter"
   ]
  },
  {
   "cell_type": "code",
   "execution_count": 11,
   "id": "d205c47c-30e8-4ac7-8046-a7a739029b65",
   "metadata": {},
   "outputs": [
    {
     "data": {
      "text/plain": [
       "type"
      ]
     },
     "execution_count": 11,
     "metadata": {},
     "output_type": "execute_result"
    }
   ],
   "source": [
    "type(Counter)"
   ]
  },
  {
   "cell_type": "code",
   "execution_count": 12,
   "id": "ddc63adc-7f70-4867-8780-d477c129a05c",
   "metadata": {},
   "outputs": [
    {
     "data": {
      "text/plain": [
       "()"
      ]
     },
     "execution_count": 12,
     "metadata": {},
     "output_type": "execute_result"
    }
   ],
   "source": [
    "object.__bases__"
   ]
  },
  {
   "cell_type": "code",
   "execution_count": 13,
   "id": "1df2c980-f29c-46ab-bd63-def3f9d27d47",
   "metadata": {},
   "outputs": [
    {
     "data": {
      "text/plain": [
       "'Hello from MyClass'"
      ]
     },
     "execution_count": 13,
     "metadata": {},
     "output_type": "execute_result"
    }
   ],
   "source": [
    "class MyClass:\n",
    "    def __init__(self, x):\n",
    "        self.x = x\n",
    "\n",
    "    # method that doesn't use self\n",
    "    def hello(self):\n",
    "        return f'Hello from MyClass'\n",
    "\n",
    "m = MyClass(10)\n",
    "m.hello()"
   ]
  },
  {
   "cell_type": "code",
   "execution_count": 16,
   "id": "0c87d916-d063-4288-948b-8ce6ec59e9b5",
   "metadata": {},
   "outputs": [
    {
     "ename": "TypeError",
     "evalue": "MyClass.hello() missing 1 required positional argument: 'self'",
     "output_type": "error",
     "traceback": [
      "\u001b[1;31m---------------------------------------------------------------------------\u001b[0m",
      "\u001b[1;31mTypeError\u001b[0m                                 Traceback (most recent call last)",
      "Cell \u001b[1;32mIn[16], line 1\u001b[0m\n\u001b[1;32m----> 1\u001b[0m \u001b[43mMyClass\u001b[49m\u001b[38;5;241;43m.\u001b[39;49m\u001b[43mhello\u001b[49m\u001b[43m(\u001b[49m\u001b[43m)\u001b[49m\n",
      "\u001b[1;31mTypeError\u001b[0m: MyClass.hello() missing 1 required positional argument: 'self'"
     ]
    }
   ],
   "source": [
    "MyClass.hello()"
   ]
  },
  {
   "cell_type": "code",
   "execution_count": 17,
   "id": "38bb4c63-e77e-4cf2-9862-eac4f3ecf19e",
   "metadata": {},
   "outputs": [
    {
     "ename": "TypeError",
     "evalue": "MyClass.hello() takes 0 positional arguments but 1 was given",
     "output_type": "error",
     "traceback": [
      "\u001b[1;31m---------------------------------------------------------------------------\u001b[0m",
      "\u001b[1;31mTypeError\u001b[0m                                 Traceback (most recent call last)",
      "Cell \u001b[1;32mIn[17], line 12\u001b[0m\n\u001b[0;32m      9\u001b[0m         \u001b[38;5;28;01mreturn\u001b[39;00m \u001b[38;5;124mf\u001b[39m\u001b[38;5;124m'\u001b[39m\u001b[38;5;124mHello from MyClass\u001b[39m\u001b[38;5;124m'\u001b[39m\n\u001b[0;32m     11\u001b[0m m \u001b[38;5;241m=\u001b[39m MyClass(\u001b[38;5;241m10\u001b[39m)\n\u001b[1;32m---> 12\u001b[0m \u001b[43mm\u001b[49m\u001b[38;5;241;43m.\u001b[39;49m\u001b[43mhello\u001b[49m\u001b[43m(\u001b[49m\u001b[43m)\u001b[49m\n",
      "\u001b[1;31mTypeError\u001b[0m: MyClass.hello() takes 0 positional arguments but 1 was given"
     ]
    }
   ],
   "source": [
    "# what if I define hello without any arguments?\n",
    "\n",
    "class MyClass:\n",
    "    def __init__(self, x):\n",
    "        self.x = x\n",
    "\n",
    "    # method without any parameters\n",
    "    def hello():\n",
    "        return f'Hello from MyClass'\n",
    "\n",
    "m = MyClass(10)\n",
    "m.hello()"
   ]
  },
  {
   "cell_type": "code",
   "execution_count": 18,
   "id": "f550c6a1-4768-491c-9d77-d63ff4839ea1",
   "metadata": {},
   "outputs": [
    {
     "data": {
      "text/plain": [
       "'Hello from MyClass'"
      ]
     },
     "execution_count": 18,
     "metadata": {},
     "output_type": "execute_result"
    }
   ],
   "source": [
    "MyClass.hello()"
   ]
  },
  {
   "cell_type": "code",
   "execution_count": 19,
   "id": "ada78c59-030e-4418-8ab1-b09be940b0a3",
   "metadata": {},
   "outputs": [
    {
     "data": {
      "text/plain": [
       "'Hello from MyClass'"
      ]
     },
     "execution_count": 19,
     "metadata": {},
     "output_type": "execute_result"
    }
   ],
   "source": [
    "# how can I have a method that works from both the instance and class, but doesn't\n",
    "# require passing an instance?\n",
    "\n",
    "class MyClass:\n",
    "    def __init__(self, x):\n",
    "        self.x = x\n",
    "\n",
    "    @staticmethod\n",
    "    def hello():\n",
    "        return f'Hello from MyClass'\n",
    "\n",
    "m = MyClass(10)\n",
    "m.hello()"
   ]
  },
  {
   "cell_type": "code",
   "execution_count": 20,
   "id": "1d64d5df-d2e9-41bb-a8b8-fb00db32f886",
   "metadata": {},
   "outputs": [
    {
     "data": {
      "text/plain": [
       "'Hello from MyClass'"
      ]
     },
     "execution_count": 20,
     "metadata": {},
     "output_type": "execute_result"
    }
   ],
   "source": [
    "MyClass.hello()"
   ]
  },
  {
   "cell_type": "code",
   "execution_count": 21,
   "id": "b468c141-7cb1-4c92-a72f-f5502ff30012",
   "metadata": {},
   "outputs": [
    {
     "data": {
      "text/plain": [
       "\"Hello from <class '__main__.MyClass'>\""
      ]
     },
     "execution_count": 21,
     "metadata": {},
     "output_type": "execute_result"
    }
   ],
   "source": [
    "# @classmethod \n",
    "\n",
    "\n",
    "class MyClass:\n",
    "    def __init__(self, x):\n",
    "        self.x = x\n",
    "\n",
    "    @classmethod\n",
    "    def hello(cls):    # class methods get the class as an argument\n",
    "        return f'Hello from {cls}'\n",
    "\n",
    "m = MyClass(10)\n",
    "m.hello()"
   ]
  },
  {
   "cell_type": "code",
   "execution_count": 22,
   "id": "bc94e270-1d83-4f6b-b923-f65feb2b3254",
   "metadata": {},
   "outputs": [
    {
     "data": {
      "text/plain": [
       "\"Hello from <class '__main__.MyClass'>\""
      ]
     },
     "execution_count": 22,
     "metadata": {},
     "output_type": "execute_result"
    }
   ],
   "source": [
    "MyClass.hello()"
   ]
  },
  {
   "cell_type": "code",
   "execution_count": 23,
   "id": "2c44ae1e-09b7-4cb7-b274-807813a7b2e6",
   "metadata": {},
   "outputs": [
    {
     "data": {
      "text/plain": [
       "['__class__',\n",
       " '__delattr__',\n",
       " '__dict__',\n",
       " '__dir__',\n",
       " '__doc__',\n",
       " '__eq__',\n",
       " '__format__',\n",
       " '__ge__',\n",
       " '__getattribute__',\n",
       " '__getstate__',\n",
       " '__gt__',\n",
       " '__hash__',\n",
       " '__init__',\n",
       " '__init_subclass__',\n",
       " '__le__',\n",
       " '__lt__',\n",
       " '__module__',\n",
       " '__ne__',\n",
       " '__new__',\n",
       " '__reduce__',\n",
       " '__reduce_ex__',\n",
       " '__repr__',\n",
       " '__setattr__',\n",
       " '__sizeof__',\n",
       " '__str__',\n",
       " '__subclasshook__',\n",
       " '__weakref__',\n",
       " 'hello']"
      ]
     },
     "execution_count": 23,
     "metadata": {},
     "output_type": "execute_result"
    }
   ],
   "source": [
    "dir(MyClass)"
   ]
  },
  {
   "cell_type": "code",
   "execution_count": 24,
   "id": "bf56aaa8-d82c-4877-81bc-97330ce281af",
   "metadata": {},
   "outputs": [
    {
     "data": {
      "text/plain": [
       "mappingproxy({'__module__': '__main__',\n",
       "              '__init__': <function __main__.MyClass.__init__(self, x)>,\n",
       "              'hello': <classmethod(<function MyClass.hello at 0x107b4c2c0>)>,\n",
       "              '__dict__': <attribute '__dict__' of 'MyClass' objects>,\n",
       "              '__weakref__': <attribute '__weakref__' of 'MyClass' objects>,\n",
       "              '__doc__': None})"
      ]
     },
     "execution_count": 24,
     "metadata": {},
     "output_type": "execute_result"
    }
   ],
   "source": [
    "vars(MyClass)"
   ]
  },
  {
   "cell_type": "code",
   "execution_count": 28,
   "id": "0625d452-1836-4241-a254-5021c08f1484",
   "metadata": {},
   "outputs": [],
   "source": [
    "# standard way to do this\n",
    "class ThisType:\n",
    "    x = 100\n",
    "\n",
    "# I could also have said:\n",
    "t = type('ThisType', (object,), {'x':100})"
   ]
  },
  {
   "cell_type": "code",
   "execution_count": 29,
   "id": "c69fc5f3-2ef3-4aa0-b4a1-980a5d3e57af",
   "metadata": {},
   "outputs": [
    {
     "data": {
      "text/plain": [
       "type"
      ]
     },
     "execution_count": 29,
     "metadata": {},
     "output_type": "execute_result"
    }
   ],
   "source": [
    "type(t)"
   ]
  },
  {
   "cell_type": "code",
   "execution_count": 30,
   "id": "500a2d05-fd7a-4c1b-a1b5-603259099391",
   "metadata": {},
   "outputs": [
    {
     "data": {
      "text/plain": [
       "['__class__',\n",
       " '__delattr__',\n",
       " '__dict__',\n",
       " '__dir__',\n",
       " '__doc__',\n",
       " '__eq__',\n",
       " '__format__',\n",
       " '__ge__',\n",
       " '__getattribute__',\n",
       " '__getstate__',\n",
       " '__gt__',\n",
       " '__hash__',\n",
       " '__init__',\n",
       " '__init_subclass__',\n",
       " '__le__',\n",
       " '__lt__',\n",
       " '__module__',\n",
       " '__ne__',\n",
       " '__new__',\n",
       " '__reduce__',\n",
       " '__reduce_ex__',\n",
       " '__repr__',\n",
       " '__setattr__',\n",
       " '__sizeof__',\n",
       " '__str__',\n",
       " '__subclasshook__',\n",
       " '__weakref__',\n",
       " 'x']"
      ]
     },
     "execution_count": 30,
     "metadata": {},
     "output_type": "execute_result"
    }
   ],
   "source": [
    "dir(t)"
   ]
  },
  {
   "cell_type": "code",
   "execution_count": 31,
   "id": "c7652eaf-5c5b-494d-9d79-ad4785609bad",
   "metadata": {},
   "outputs": [
    {
     "data": {
      "text/plain": [
       "100"
      ]
     },
     "execution_count": 31,
     "metadata": {},
     "output_type": "execute_result"
    }
   ],
   "source": [
    "t.x"
   ]
  },
  {
   "cell_type": "code",
   "execution_count": 32,
   "id": "af7f6a8f-a309-47a1-a91a-e3e1462d0aaf",
   "metadata": {},
   "outputs": [],
   "source": [
    "class u(t):\n",
    "    pass"
   ]
  },
  {
   "cell_type": "code",
   "execution_count": 33,
   "id": "ed24856f-46ba-4b96-84e4-16ceb76c4fa3",
   "metadata": {},
   "outputs": [
    {
     "data": {
      "text/plain": [
       "100"
      ]
     },
     "execution_count": 33,
     "metadata": {},
     "output_type": "execute_result"
    }
   ],
   "source": [
    "u.x"
   ]
  },
  {
   "cell_type": "code",
   "execution_count": 36,
   "id": "abca54cd-f06a-456d-8f46-07349562612f",
   "metadata": {},
   "outputs": [
    {
     "name": "stdout",
     "output_type": "stream",
     "text": [
      "<__main__.MyClass object at 0x107bb7c10>\n"
     ]
    }
   ],
   "source": [
    "class MyMeta(type):       # MyMeta inherits from type, and can thus be a metaclass\n",
    "    def __new__(cls, name, bases, attributes):\n",
    "        return super().__new__(cls, name, bases, attributes)\n",
    "\n",
    "class MyClass(metaclass=MyMeta):\n",
    "    pass\n",
    "\n",
    "m = MyClass()\n",
    "print(m)"
   ]
  },
  {
   "cell_type": "code",
   "execution_count": 37,
   "id": "247ca840-a4fd-48e7-9228-c26f82c43a8b",
   "metadata": {},
   "outputs": [
    {
     "data": {
      "text/plain": [
       "__main__.MyMeta"
      ]
     },
     "execution_count": 37,
     "metadata": {},
     "output_type": "execute_result"
    }
   ],
   "source": [
    "type(MyClass)"
   ]
  },
  {
   "cell_type": "code",
   "execution_count": 38,
   "id": "2a86c6c2-f2c3-4af6-9ffe-c49350b2edac",
   "metadata": {},
   "outputs": [
    {
     "data": {
      "text/plain": [
       "True"
      ]
     },
     "execution_count": 38,
     "metadata": {},
     "output_type": "execute_result"
    }
   ],
   "source": [
    "isinstance(MyMeta, type)"
   ]
  },
  {
   "cell_type": "code",
   "execution_count": null,
   "id": "a9c85753-3acb-4366-8ab6-7b8e66b4fbc1",
   "metadata": {},
   "outputs": [],
   "source": [
    "class MyMeta(type):       # MyMeta inherits from type, and can thus be a metaclass\n",
    "    def __new__(cls, name, bases, attributes):\n",
    "        return super().__new__(cls, name, bases, attributes)\n",
    "\n",
    "class MyClass(metaclass=MyMeta):\n",
    "    pass\n",
    "\n",
    "m = MyClass()\n",
    "print(m)"
   ]
  },
  {
   "cell_type": "markdown",
   "id": "be744e91-9a87-47dc-9076-8d71354ac54b",
   "metadata": {},
   "source": [
    "`MyClass`:\n",
    "\n",
    "- `type` is `MyMeta`\n",
    "- inherits from `object`\n",
    "\n",
    "Thus:\n",
    "- If I ask for MyClass.z, Python will look:\n",
    "    - Instance: `MyClass`\n",
    "    - Class: `MyMeta`\n",
    "    - Parent/`object`: `object`\n",
    " \n",
    "- If I ask for m.z, Python will look:\n",
    "    - Instance: `m`\n",
    "    - Class: `MyClass`\n",
    "    - Parent/`object`: `object`    "
   ]
  },
  {
   "cell_type": "code",
   "execution_count": 43,
   "id": "7363fcd5-dc4f-48ca-8cfe-fe4e3d09d59e",
   "metadata": {},
   "outputs": [
    {
     "name": "stdout",
     "output_type": "stream",
     "text": [
      "<__main__.MyClass object at 0x107c0b3d0>\n"
     ]
    }
   ],
   "source": [
    "# let's add a new attribute\n",
    "\n",
    "class MyMeta(type):       # MyMeta inherits from type, and can thus be a metaclass\n",
    "    def __new__(cls, name, bases, attributes):\n",
    "\n",
    "        attributes['x'] = 100\n",
    "        attributes['y'] = [10, 20, 30]\n",
    "\n",
    "        # add a method, while we're at it\n",
    "        def hello(self):\n",
    "            return f'Hello!'\n",
    "        attributes['hello'] = hello\n",
    "\n",
    "        return super().__new__(cls, name, bases, attributes)\n",
    "\n",
    "class MyClass(metaclass=MyMeta):\n",
    "    pass\n",
    "\n",
    "m = MyClass()  # this runs MyMeta.__new__, which adds to attributes, then runs object.__new__ and object.__init__\n",
    "print(m)"
   ]
  },
  {
   "cell_type": "code",
   "execution_count": 44,
   "id": "bdc72da5-0d22-4efa-a09e-26b3a57798bb",
   "metadata": {},
   "outputs": [
    {
     "data": {
      "text/plain": [
       "100"
      ]
     },
     "execution_count": 44,
     "metadata": {},
     "output_type": "execute_result"
    }
   ],
   "source": [
    "m.x   # does m have x? No. Does m's class (MyClass) have x? Yes, thanks to MyMeta.__new__"
   ]
  },
  {
   "cell_type": "code",
   "execution_count": 45,
   "id": "2c8e2067-0dca-41c0-ad27-1c8d92fcb298",
   "metadata": {},
   "outputs": [
    {
     "data": {
      "text/plain": [
       "[10, 20, 30]"
      ]
     },
     "execution_count": 45,
     "metadata": {},
     "output_type": "execute_result"
    }
   ],
   "source": [
    "m.y    # does m have y? No. Does m's class (MyClass) have y? Yes, thanks to MyMeta.__new__"
   ]
  },
  {
   "cell_type": "code",
   "execution_count": null,
   "id": "c850735f-8582-4c09-aa92-7da7b6774c53",
   "metadata": {},
   "outputs": [],
   "source": []
  },
  {
   "cell_type": "code",
   "execution_count": 46,
   "id": "2b79ad40-6479-4bac-8211-5aca6697abf4",
   "metadata": {},
   "outputs": [
    {
     "data": {
      "text/plain": [
       "'Hello!'"
      ]
     },
     "execution_count": 46,
     "metadata": {},
     "output_type": "execute_result"
    }
   ],
   "source": [
    "m.hello()"
   ]
  },
  {
   "cell_type": "code",
   "execution_count": 47,
   "id": "808b9a56-8fa3-47d8-80d9-5c15c2350901",
   "metadata": {},
   "outputs": [
    {
     "data": {
      "text/plain": [
       "mappingproxy({'__module__': '__main__',\n",
       "              'x': 100,\n",
       "              'y': [10, 20, 30],\n",
       "              'hello': <function __main__.MyMeta.__new__.<locals>.hello(self)>,\n",
       "              '__dict__': <attribute '__dict__' of 'MyClass' objects>,\n",
       "              '__weakref__': <attribute '__weakref__' of 'MyClass' objects>,\n",
       "              '__doc__': None})"
      ]
     },
     "execution_count": 47,
     "metadata": {},
     "output_type": "execute_result"
    }
   ],
   "source": [
    "vars(MyClass)"
   ]
  },
  {
   "cell_type": "markdown",
   "id": "698e6acd-e8aa-458b-bd18-b47143658c68",
   "metadata": {},
   "source": [
    "My talk about decorators from PyCon US 2019:\n",
    "\n",
    "https://www.youtube.com/watch?v=MjHpMCIvwsY"
   ]
  },
  {
   "cell_type": "markdown",
   "id": "1281d1b7-13ef-47e0-bae0-6b29215cd69c",
   "metadata": {},
   "source": [
    "# Properties and descriptors\n",
    "\n",
    "When I call a method on an instance, the call is rewritten:\n",
    "\n",
    "```python\n",
    "s = 'abcd'\n",
    "s.lower()    # this is rewritten to be str.lower(s)\n",
    "```\n",
    "\n",
    "Who is doing this rewriting?\n",
    "\n",
    "A descriptor is an object that:\n",
    "\n",
    "- we define as a class attribute\n",
    "- we access via the instance\n",
    "\n",
    "When we do this:\n",
    "- If we ask for its value, we don't get the class attribute's value back. Rather, we run `__get__` on the object, and return its value\n",
    "- If we assign to it, we don't set the attribute's value. Rather, we run `__set__` on the object\n",
    "\n",
    "We see this every day, when we call a method!\n",
    "\n",
    "- Methods are defined on the class\n",
    "- We call them via the instance\n",
    "- The descriptor sees the call via the instance, and rewrites the call to make the instance `self`\n",
    "\n",
    "Properties are easy-to-create descriptors, that look like values but act like methods. That's because they are actually methods!"
   ]
  },
  {
   "cell_type": "code",
   "execution_count": 49,
   "id": "8078914c-c385-4136-8aeb-a75053592d5d",
   "metadata": {},
   "outputs": [
    {
     "name": "stdout",
     "output_type": "stream",
     "text": [
      "Now in value getter!\n"
     ]
    }
   ],
   "source": [
    "class MyClass:\n",
    "    def __init__(self):\n",
    "        self._value = None\n",
    "\n",
    "    @property\n",
    "    def value(self):\n",
    "        print('Now in value getter!')\n",
    "        return self._value\n",
    "\n",
    "m = MyClass()\n",
    "m.value     # ask via the instance, but value is defined on the class"
   ]
  },
  {
   "cell_type": "code",
   "execution_count": 50,
   "id": "85915ca7-dfbb-4442-9065-108d298a3682",
   "metadata": {},
   "outputs": [
    {
     "name": "stdout",
     "output_type": "stream",
     "text": [
      "Now in value getter!\n",
      "None\n",
      "Assigning 12345 to value!\n",
      "Now in value getter!\n",
      "12345\n"
     ]
    }
   ],
   "source": [
    "class MyClass:\n",
    "    def __init__(self):\n",
    "        self._value = None\n",
    "\n",
    "    @property      # this decorator means: the following method is a getter\n",
    "    def value(self):\n",
    "        print('Now in value getter!')\n",
    "        return self._value\n",
    "\n",
    "    @value.setter  # this decorator means: the following method is a setter for value\n",
    "    def value(self, new_value):\n",
    "        print(f'Assigning {new_value} to value!')\n",
    "        self._value = new_value\n",
    "\n",
    "m = MyClass()\n",
    "print(m.value)\n",
    "m.value = 12345\n",
    "print(m.value)"
   ]
  },
  {
   "cell_type": "code",
   "execution_count": 53,
   "id": "81ce30c5-b2f1-4a9e-a347-526fb587f528",
   "metadata": {},
   "outputs": [],
   "source": [
    "class MyClass:\n",
    "    def __init__(self, x):\n",
    "        self.x = x\n",
    "\n",
    "    def x2(self):\n",
    "        return self.x * 2\n",
    "\n",
    "    # if the attribute doesn't exist, then this method is called with the requested name\n",
    "    def __getattr__(self, name):\n",
    "        return f'Got __getattr__ with {name}'\n",
    "\n",
    "m = MyClass(10)"
   ]
  },
  {
   "cell_type": "code",
   "execution_count": 54,
   "id": "9fa75304-e938-4326-8537-d159519f61ed",
   "metadata": {},
   "outputs": [
    {
     "data": {
      "text/plain": [
       "10"
      ]
     },
     "execution_count": 54,
     "metadata": {},
     "output_type": "execute_result"
    }
   ],
   "source": [
    "m.x"
   ]
  },
  {
   "cell_type": "code",
   "execution_count": 55,
   "id": "47de3c93-5228-41c6-a955-d5a283039701",
   "metadata": {},
   "outputs": [
    {
     "data": {
      "text/plain": [
       "'Got __getattr__ with y'"
      ]
     },
     "execution_count": 55,
     "metadata": {},
     "output_type": "execute_result"
    }
   ],
   "source": [
    "m.y"
   ]
  },
  {
   "cell_type": "code",
   "execution_count": 56,
   "id": "00660f07-7331-45c7-a85b-ec6cf17ba20c",
   "metadata": {},
   "outputs": [
    {
     "data": {
      "text/plain": [
       "'<__main__.MyClass object at 0x107c54d50>'"
      ]
     },
     "execution_count": 56,
     "metadata": {},
     "output_type": "execute_result"
    }
   ],
   "source": [
    "m.__str__()"
   ]
  },
  {
   "cell_type": "code",
   "execution_count": 57,
   "id": "d8727b88-bf65-4e0f-ab98-ee20f18eda06",
   "metadata": {},
   "outputs": [
    {
     "data": {
      "text/plain": [
       "['__class__',\n",
       " '__delattr__',\n",
       " '__dict__',\n",
       " '__dir__',\n",
       " '__doc__',\n",
       " '__eq__',\n",
       " '__format__',\n",
       " '__ge__',\n",
       " '__getattr__',\n",
       " '__getattribute__',\n",
       " '__getstate__',\n",
       " '__gt__',\n",
       " '__hash__',\n",
       " '__init__',\n",
       " '__init_subclass__',\n",
       " '__le__',\n",
       " '__lt__',\n",
       " '__module__',\n",
       " '__ne__',\n",
       " '__new__',\n",
       " '__reduce__',\n",
       " '__reduce_ex__',\n",
       " '__repr__',\n",
       " '__setattr__',\n",
       " '__sizeof__',\n",
       " '__str__',\n",
       " '__subclasshook__',\n",
       " '__weakref__',\n",
       " 'x2']"
      ]
     },
     "execution_count": 57,
     "metadata": {},
     "output_type": "execute_result"
    }
   ],
   "source": [
    "dir(MyClass)"
   ]
  },
  {
   "cell_type": "code",
   "execution_count": 58,
   "id": "399d517e-89d4-4329-8116-451334b9d003",
   "metadata": {},
   "outputs": [
    {
     "data": {
      "text/plain": [
       "['__class__',\n",
       " '__delattr__',\n",
       " '__dict__',\n",
       " '__dir__',\n",
       " '__doc__',\n",
       " '__eq__',\n",
       " '__format__',\n",
       " '__ge__',\n",
       " '__getattr__',\n",
       " '__getattribute__',\n",
       " '__getstate__',\n",
       " '__gt__',\n",
       " '__hash__',\n",
       " '__init__',\n",
       " '__init_subclass__',\n",
       " '__le__',\n",
       " '__lt__',\n",
       " '__module__',\n",
       " '__ne__',\n",
       " '__new__',\n",
       " '__reduce__',\n",
       " '__reduce_ex__',\n",
       " '__repr__',\n",
       " '__setattr__',\n",
       " '__sizeof__',\n",
       " '__str__',\n",
       " '__subclasshook__',\n",
       " '__weakref__',\n",
       " 'x',\n",
       " 'x2']"
      ]
     },
     "execution_count": 58,
     "metadata": {},
     "output_type": "execute_result"
    }
   ],
   "source": [
    "dir(m)"
   ]
  },
  {
   "cell_type": "code",
   "execution_count": 59,
   "id": "2cdd2648-a856-4ad7-85f3-eb506309c1ba",
   "metadata": {},
   "outputs": [
    {
     "ename": "TypeError",
     "evalue": "object of type 'MyClass' has no len()",
     "output_type": "error",
     "traceback": [
      "\u001b[1;31m---------------------------------------------------------------------------\u001b[0m",
      "\u001b[1;31mTypeError\u001b[0m                                 Traceback (most recent call last)",
      "Cell \u001b[1;32mIn[59], line 5\u001b[0m\n\u001b[0;32m      2\u001b[0m     \u001b[38;5;28;01mpass\u001b[39;00m\n\u001b[0;32m      4\u001b[0m m \u001b[38;5;241m=\u001b[39m MyClass()\n\u001b[1;32m----> 5\u001b[0m \u001b[38;5;28;43mlen\u001b[39;49m\u001b[43m(\u001b[49m\u001b[43mm\u001b[49m\u001b[43m)\u001b[49m\n",
      "\u001b[1;31mTypeError\u001b[0m: object of type 'MyClass' has no len()"
     ]
    }
   ],
   "source": [
    "class MyClass:\n",
    "    pass\n",
    "\n",
    "m = MyClass()\n",
    "len(m)"
   ]
  },
  {
   "cell_type": "code",
   "execution_count": 60,
   "id": "ef683289-c50e-49cd-9fef-9da5861d96dc",
   "metadata": {},
   "outputs": [
    {
     "data": {
      "text/plain": [
       "['__class__',\n",
       " '__delattr__',\n",
       " '__dict__',\n",
       " '__dir__',\n",
       " '__doc__',\n",
       " '__eq__',\n",
       " '__format__',\n",
       " '__ge__',\n",
       " '__getattribute__',\n",
       " '__getstate__',\n",
       " '__gt__',\n",
       " '__hash__',\n",
       " '__init__',\n",
       " '__init_subclass__',\n",
       " '__le__',\n",
       " '__lt__',\n",
       " '__module__',\n",
       " '__ne__',\n",
       " '__new__',\n",
       " '__reduce__',\n",
       " '__reduce_ex__',\n",
       " '__repr__',\n",
       " '__setattr__',\n",
       " '__sizeof__',\n",
       " '__str__',\n",
       " '__subclasshook__',\n",
       " '__weakref__']"
      ]
     },
     "execution_count": 60,
     "metadata": {},
     "output_type": "execute_result"
    }
   ],
   "source": [
    "dir(m)"
   ]
  },
  {
   "cell_type": "code",
   "execution_count": 61,
   "id": "c25159a8-0aa4-4a54-9dfa-af516bcbe809",
   "metadata": {},
   "outputs": [
    {
     "data": {
      "text/plain": [
       "5"
      ]
     },
     "execution_count": 61,
     "metadata": {},
     "output_type": "execute_result"
    }
   ],
   "source": [
    "class MyClass:\n",
    "    def __len__(self):\n",
    "        return 5\n",
    "\n",
    "m = MyClass()\n",
    "len(m)"
   ]
  },
  {
   "cell_type": "code",
   "execution_count": 62,
   "id": "37655ce9-5427-422c-9efb-bf35832925ca",
   "metadata": {},
   "outputs": [
    {
     "data": {
      "text/plain": [
       "['__class__',\n",
       " '__delattr__',\n",
       " '__dict__',\n",
       " '__dir__',\n",
       " '__doc__',\n",
       " '__eq__',\n",
       " '__format__',\n",
       " '__ge__',\n",
       " '__getattribute__',\n",
       " '__getstate__',\n",
       " '__gt__',\n",
       " '__hash__',\n",
       " '__init__',\n",
       " '__init_subclass__',\n",
       " '__le__',\n",
       " '__len__',\n",
       " '__lt__',\n",
       " '__module__',\n",
       " '__ne__',\n",
       " '__new__',\n",
       " '__reduce__',\n",
       " '__reduce_ex__',\n",
       " '__repr__',\n",
       " '__setattr__',\n",
       " '__sizeof__',\n",
       " '__str__',\n",
       " '__subclasshook__',\n",
       " '__weakref__']"
      ]
     },
     "execution_count": 62,
     "metadata": {},
     "output_type": "execute_result"
    }
   ],
   "source": [
    "dir(m)"
   ]
  },
  {
   "cell_type": "code",
   "execution_count": 63,
   "id": "0be486e8-227d-49c1-9fb5-56b88fcb29ab",
   "metadata": {},
   "outputs": [
    {
     "data": {
      "text/plain": [
       "100"
      ]
     },
     "execution_count": 63,
     "metadata": {},
     "output_type": "execute_result"
    }
   ],
   "source": [
    "class MyClass:\n",
    "    x = 100     # x is a class attribute, its value is an instance of int, aka 100\n",
    "\n",
    "m = MyClass()\n",
    "m.x  \n",
    "\n"
   ]
  },
  {
   "cell_type": "code",
   "execution_count": 64,
   "id": "8db77b85-6ad4-4239-9c43-fff519a933b7",
   "metadata": {},
   "outputs": [
    {
     "name": "stdout",
     "output_type": "stream",
     "text": [
      "In MyDescriptor.__get__\n"
     ]
    },
    {
     "data": {
      "text/plain": [
       "12345"
      ]
     },
     "execution_count": 64,
     "metadata": {},
     "output_type": "execute_result"
    }
   ],
   "source": [
    "class MyDescriptor:\n",
    "    def __get__(self, instance, owner):\n",
    "        print(f'In MyDescriptor.__get__')\n",
    "        return 12345\n",
    "\n",
    "class MyClass:\n",
    "    x = MyDescriptor()   # x is a class attribute, its value is instance of MyDescriptor\n",
    "\n",
    "m = MyClass()\n",
    "m.x   "
   ]
  },
  {
   "cell_type": "code",
   "execution_count": 65,
   "id": "537ad3d9-b8d6-418f-87c9-9b37448315a4",
   "metadata": {},
   "outputs": [],
   "source": [
    "class MyClass:\n",
    "    def hello(self):\n",
    "        return f'Hello!'"
   ]
  },
  {
   "cell_type": "code",
   "execution_count": 66,
   "id": "ab4517f1-95e4-4c51-901a-c0091952ce42",
   "metadata": {},
   "outputs": [
    {
     "data": {
      "text/plain": [
       "<function __main__.MyClass.hello(self)>"
      ]
     },
     "execution_count": 66,
     "metadata": {},
     "output_type": "execute_result"
    }
   ],
   "source": [
    "MyClass.hello"
   ]
  },
  {
   "cell_type": "code",
   "execution_count": 67,
   "id": "c60b0755-4e6f-45a3-898a-1b2e4c259c10",
   "metadata": {},
   "outputs": [
    {
     "data": {
      "text/plain": [
       "<bound method MyClass.hello of <__main__.MyClass object at 0x107c2d4d0>>"
      ]
     },
     "execution_count": 67,
     "metadata": {},
     "output_type": "execute_result"
    }
   ],
   "source": [
    "m = MyClass()\n",
    "m.hello"
   ]
  },
  {
   "cell_type": "code",
   "execution_count": 68,
   "id": "7249d282-eb8c-4b16-8d96-0d8c7c8b21aa",
   "metadata": {},
   "outputs": [
    {
     "data": {
      "text/plain": [
       "'Hello!'"
      ]
     },
     "execution_count": 68,
     "metadata": {},
     "output_type": "execute_result"
    }
   ],
   "source": [
    "m.hello()"
   ]
  },
  {
   "cell_type": "markdown",
   "id": "9309bab0-c7a9-4f37-ae6b-f77d407a4eb4",
   "metadata": {},
   "source": [
    "# Next up:\n",
    "\n",
    "1. Iterators\n",
    "2. Iterators as classes\n",
    "3. Generators\n",
    "\n",
    "Resume at :25"
   ]
  },
  {
   "cell_type": "code",
   "execution_count": 3,
   "id": "6463cc72-2c6a-40cc-adcf-b553ce66f102",
   "metadata": {},
   "outputs": [
    {
     "name": "stdout",
     "output_type": "stream",
     "text": [
      "In MyDescriptor.__init__\n",
      "In MyDescriptor.__get__\n",
      "12345\n",
      "In MyDescriptor.__get__\n",
      "24690\n"
     ]
    }
   ],
   "source": [
    "class MyDescriptor:\n",
    "    def __init__(self):\n",
    "        print(f'In MyDescriptor.__init__')\n",
    "    def __get__(self, instance, owner):\n",
    "        print(f'In MyDescriptor.__get__')\n",
    "        return 12345\n",
    "    def __del__(self):\n",
    "        print(f'Now deleting instance of MyDescriptor')\n",
    "\n",
    "class MyClass:\n",
    "    x = MyDescriptor()   # x is a class attribute, its value is instance of MyDescriptor\n",
    "\n",
    "m = MyClass()\n",
    "print(m.x)\n",
    "print(m.x * 2)"
   ]
  },
  {
   "cell_type": "code",
   "execution_count": 5,
   "id": "92a2cda7-3059-4ff4-bef3-bc923da291a8",
   "metadata": {},
   "outputs": [],
   "source": [
    "del(m)"
   ]
  },
  {
   "cell_type": "code",
   "execution_count": 6,
   "id": "204e6e10-c983-45da-9584-031d4393381e",
   "metadata": {},
   "outputs": [],
   "source": [
    "del(MyClass)"
   ]
  },
  {
   "cell_type": "code",
   "execution_count": 7,
   "id": "8b592354-1265-4eb3-a55b-410d052eeb22",
   "metadata": {},
   "outputs": [],
   "source": [
    "del(MyDescriptor)"
   ]
  },
  {
   "cell_type": "code",
   "execution_count": 8,
   "id": "aa037e35-dc3c-48c8-8b22-0491e45735ae",
   "metadata": {},
   "outputs": [],
   "source": [
    "import gc\n"
   ]
  },
  {
   "cell_type": "code",
   "execution_count": 9,
   "id": "0144fb88-3123-4873-8297-ad8a049fbb2a",
   "metadata": {},
   "outputs": [
    {
     "ename": "NameError",
     "evalue": "name 'MyDescriptor' is not defined",
     "output_type": "error",
     "traceback": [
      "\u001b[1;31m---------------------------------------------------------------------------\u001b[0m",
      "\u001b[1;31mNameError\u001b[0m                                 Traceback (most recent call last)",
      "Cell \u001b[1;32mIn[9], line 1\u001b[0m\n\u001b[1;32m----> 1\u001b[0m gc\u001b[38;5;241m.\u001b[39mget_referrers(\u001b[43mMyDescriptor\u001b[49m)\n",
      "\u001b[1;31mNameError\u001b[0m: name 'MyDescriptor' is not defined"
     ]
    }
   ],
   "source": [
    "gc.get_referrers(MyDescriptor)"
   ]
  },
  {
   "cell_type": "code",
   "execution_count": 12,
   "id": "9aaef6fd-eaed-4e16-8576-972289fb9eba",
   "metadata": {},
   "outputs": [
    {
     "name": "stdout",
     "output_type": "stream",
     "text": [
      "In MyCM.__init__, x=10\n",
      "10\n"
     ]
    }
   ],
   "source": [
    "# context manager\n",
    "\n",
    "class MyCM:\n",
    "    def __init__(self, x):\n",
    "        print(f'In MyCM.__init__, {x=}')\n",
    "        self.x = x\n",
    "\n",
    "    def __enter__(self):\n",
    "        print(f'In MyCM.__enter__')\n",
    "        return self\n",
    "\n",
    "    def __exit__(self, *args):\n",
    "        print(f'In MyCM.__exit__, {args=}')\n",
    "        return True\n",
    "\n",
    "m = MyCM(10)\n",
    "print(m.x)   "
   ]
  },
  {
   "cell_type": "code",
   "execution_count": 13,
   "id": "985be701-7a9a-410b-a0df-50f523a3487b",
   "metadata": {},
   "outputs": [
    {
     "name": "stdout",
     "output_type": "stream",
     "text": [
      "In MyCM.__init__, x=10\n",
      "In MyCM.__enter__\n",
      "Inside\n",
      "In MyCM.__exit__, args=(None, None, None)\n"
     ]
    }
   ],
   "source": [
    "with MyCM(10) as m:\n",
    "    # __enter__\n",
    "    print('Inside')\n",
    "    # __exit__"
   ]
  },
  {
   "cell_type": "markdown",
   "id": "fe2c358c-86ee-4c32-8ff8-2d0b1ba8a87f",
   "metadata": {},
   "source": [
    "# Iteration!\n",
    "\n",
    "How does a `for` loop work in Python?\n",
    "\n",
    "1. `for` turns to the object at the end of the line, and asks if it's iterable.\n",
    "    - If not, then we exit with a `TypeError`\n",
    "2. `for` asks for the next item that the object has to offer\n",
    "    - If there aren't any more, the loop ends\n",
    "3. The next item from the object is assigned to our variable, and the loop body executes.\n",
    "4. Goto 2"
   ]
  },
  {
   "cell_type": "code",
   "execution_count": 14,
   "id": "4995f2df-269f-415e-9428-af80b4799d3b",
   "metadata": {},
   "outputs": [
    {
     "name": "stdout",
     "output_type": "stream",
     "text": [
      "a\n",
      "b\n",
      "c\n",
      "d\n"
     ]
    }
   ],
   "source": [
    "s = 'abcd'\n",
    "\n",
    "for one_character in s:\n",
    "    print(one_character)"
   ]
  },
  {
   "cell_type": "markdown",
   "id": "93ce5049-9e5e-4deb-aa1b-911438adb023",
   "metadata": {},
   "source": [
    "# In more detail:\n",
    "\n",
    "1. `for` turns to the object at the end of the line, and asks if it's iterable, using the builtin `iter` function. We get back an iterator object.\n",
    "    - If not, then we exit with a `TypeError`\n",
    "2. `for` asks the iterator (using `next`) for the next item that the object has to offer\n",
    "    - If there aren't any more, we get `StopIteration`\n",
    "3. The next item from the object is assigned to our variable, and the loop body executes.\n",
    "4. Goto 2"
   ]
  },
  {
   "cell_type": "code",
   "execution_count": 15,
   "id": "fec6c3bc-f391-47b4-b6b9-895483e283e5",
   "metadata": {},
   "outputs": [
    {
     "data": {
      "text/plain": [
       "<str_ascii_iterator at 0x10ced5de0>"
      ]
     },
     "execution_count": 15,
     "metadata": {},
     "output_type": "execute_result"
    }
   ],
   "source": [
    "iter(s)"
   ]
  },
  {
   "cell_type": "code",
   "execution_count": 16,
   "id": "fd7f5788-7ced-48c3-8c53-fda3b8a2bab5",
   "metadata": {},
   "outputs": [
    {
     "data": {
      "text/plain": [
       "<list_iterator at 0x10ced65c0>"
      ]
     },
     "execution_count": 16,
     "metadata": {},
     "output_type": "execute_result"
    }
   ],
   "source": [
    "iter([10, 20, 30])"
   ]
  },
  {
   "cell_type": "code",
   "execution_count": 17,
   "id": "61e57115-b782-4205-9c14-f17ae91c54ff",
   "metadata": {},
   "outputs": [
    {
     "ename": "TypeError",
     "evalue": "'int' object is not iterable",
     "output_type": "error",
     "traceback": [
      "\u001b[1;31m---------------------------------------------------------------------------\u001b[0m",
      "\u001b[1;31mTypeError\u001b[0m                                 Traceback (most recent call last)",
      "Cell \u001b[1;32mIn[17], line 1\u001b[0m\n\u001b[1;32m----> 1\u001b[0m \u001b[38;5;28;43miter\u001b[39;49m\u001b[43m(\u001b[49m\u001b[38;5;241;43m5\u001b[39;49m\u001b[43m)\u001b[49m\n",
      "\u001b[1;31mTypeError\u001b[0m: 'int' object is not iterable"
     ]
    }
   ],
   "source": [
    "iter(5)"
   ]
  },
  {
   "cell_type": "code",
   "execution_count": 18,
   "id": "d25a1089-de8f-4719-8442-087d3e12aea4",
   "metadata": {},
   "outputs": [
    {
     "data": {
      "text/plain": [
       "'a'"
      ]
     },
     "execution_count": 18,
     "metadata": {},
     "output_type": "execute_result"
    }
   ],
   "source": [
    "i = iter(s)\n",
    "\n",
    "next(i)"
   ]
  },
  {
   "cell_type": "code",
   "execution_count": 19,
   "id": "04705b75-327e-4563-b2cd-54911af01e4b",
   "metadata": {},
   "outputs": [
    {
     "data": {
      "text/plain": [
       "'b'"
      ]
     },
     "execution_count": 19,
     "metadata": {},
     "output_type": "execute_result"
    }
   ],
   "source": [
    "next(i)"
   ]
  },
  {
   "cell_type": "code",
   "execution_count": 20,
   "id": "581ff2a6-2cf3-4382-8f16-99c53f0ebcef",
   "metadata": {},
   "outputs": [
    {
     "data": {
      "text/plain": [
       "'c'"
      ]
     },
     "execution_count": 20,
     "metadata": {},
     "output_type": "execute_result"
    }
   ],
   "source": [
    "next(i)"
   ]
  },
  {
   "cell_type": "code",
   "execution_count": 21,
   "id": "b1a36435-ae2d-451d-8068-be914aeec96b",
   "metadata": {},
   "outputs": [
    {
     "data": {
      "text/plain": [
       "'d'"
      ]
     },
     "execution_count": 21,
     "metadata": {},
     "output_type": "execute_result"
    }
   ],
   "source": [
    "next(i)"
   ]
  },
  {
   "cell_type": "code",
   "execution_count": 22,
   "id": "1817d2a6-2cbc-4e82-aa48-701d08a8bca3",
   "metadata": {},
   "outputs": [
    {
     "ename": "StopIteration",
     "evalue": "",
     "output_type": "error",
     "traceback": [
      "\u001b[1;31m---------------------------------------------------------------------------\u001b[0m",
      "\u001b[1;31mStopIteration\u001b[0m                             Traceback (most recent call last)",
      "Cell \u001b[1;32mIn[22], line 1\u001b[0m\n\u001b[1;32m----> 1\u001b[0m \u001b[38;5;28;43mnext\u001b[39;49m\u001b[43m(\u001b[49m\u001b[43mi\u001b[49m\u001b[43m)\u001b[49m\n",
      "\u001b[1;31mStopIteration\u001b[0m: "
     ]
    }
   ],
   "source": [
    "next(i)"
   ]
  },
  {
   "cell_type": "markdown",
   "id": "3a57dcc5-f857-4c39-a473-3ae6cf6d617f",
   "metadata": {},
   "source": [
    "# How can I add this to my classes?\n",
    "\n",
    "1. I need to know how to respond to `iter` -- using a method called `__iter__`, which returns an iterator object, one that knows how to respond to `next`\n",
    "2. I need to know how to respond to `next` -- using a method called `__next__`, which does one of two things:\n",
    "    - returns the next object\n",
    "    - raises `StopIteration`"
   ]
  },
  {
   "cell_type": "code",
   "execution_count": 23,
   "id": "2b95eae6-2d1c-4b53-8002-6d13b77218c0",
   "metadata": {},
   "outputs": [
    {
     "name": "stdout",
     "output_type": "stream",
     "text": [
      "\tIn __init__, data='abcd'\n",
      "\tIn __iter__, vars(self)={'data': 'abcd', 'index': 0}\n",
      "\tIn __next__, vars(self)={'data': 'abcd', 'index': 0}\n",
      "\t\tReturning value='a'\n",
      "a\n",
      "\tIn __next__, vars(self)={'data': 'abcd', 'index': 1}\n",
      "\t\tReturning value='b'\n",
      "b\n",
      "\tIn __next__, vars(self)={'data': 'abcd', 'index': 2}\n",
      "\t\tReturning value='c'\n",
      "c\n",
      "\tIn __next__, vars(self)={'data': 'abcd', 'index': 3}\n",
      "\t\tReturning value='d'\n",
      "d\n",
      "\tIn __next__, vars(self)={'data': 'abcd', 'index': 4}\n",
      "\t\tRaising StopIteration\n"
     ]
    }
   ],
   "source": [
    "class MyIterator:\n",
    "    def __init__(self, data):\n",
    "        print(f'\\tIn __init__, {data=}')\n",
    "        self.data = data\n",
    "        self.index = 0\n",
    "\n",
    "    def __iter__(self):\n",
    "        print(f'\\tIn __iter__, {vars(self)=}')\n",
    "        return self\n",
    "\n",
    "    def __next__(self):\n",
    "        print(f'\\tIn __next__, {vars(self)=}')\n",
    "        if self.index >= len(self.data):\n",
    "            print(f'\\t\\tRaising StopIteration')\n",
    "            raise StopIteration\n",
    "\n",
    "        value = self.data[self.index]\n",
    "        self.index += 1\n",
    "        print(f'\\t\\tReturning {value=}')\n",
    "        return value\n",
    "\n",
    "m = MyIterator('abcd')\n",
    "for one_item in m:\n",
    "    print(one_item)\n",
    "        "
   ]
  },
  {
   "cell_type": "code",
   "execution_count": 24,
   "id": "5e863bd8-f3ab-420f-8658-20aa01568e63",
   "metadata": {},
   "outputs": [
    {
     "ename": "TypeError",
     "evalue": "object of type 'MyIterator' has no len()",
     "output_type": "error",
     "traceback": [
      "\u001b[1;31m---------------------------------------------------------------------------\u001b[0m",
      "\u001b[1;31mTypeError\u001b[0m                                 Traceback (most recent call last)",
      "Cell \u001b[1;32mIn[24], line 1\u001b[0m\n\u001b[1;32m----> 1\u001b[0m \u001b[38;5;28;43mlen\u001b[39;49m\u001b[43m(\u001b[49m\u001b[43mm\u001b[49m\u001b[43m)\u001b[49m\n",
      "\u001b[1;31mTypeError\u001b[0m: object of type 'MyIterator' has no len()"
     ]
    }
   ],
   "source": [
    "len(m)"
   ]
  },
  {
   "cell_type": "markdown",
   "id": "5ed55a1d-0ffb-46ff-a839-0d284d9c3f70",
   "metadata": {},
   "source": [
    "# Exercise: Circle\n",
    "\n",
    "1. Implement `Circle`, a class that takes two arguments:\n",
    "    - First, data that's a sequence (string, list, tuple)\n",
    "    - Second, the number of values we want to get from it when we iterate (`maxtimes`)\n",
    "2. If `maxtimes` is smaller than the length of our sequence, then iterating over our object should give us `maxtimes` values.\n",
    "3. If `maxtimes` is larger than the length of our sequence, then we should go through the values, and then go back to the start as many times as needed to get `maxtimes` values.\n",
    "\n",
    "Example:\n",
    "\n",
    "```python\n",
    "c = Circle('abcd', 9)\n",
    "for one_item in c:\n",
    "    print(one_item)    # a b c d a b c d a\n",
    "```    "
   ]
  },
  {
   "cell_type": "code",
   "execution_count": 26,
   "id": "e5362c16-b64a-4464-9091-930efe2b0d12",
   "metadata": {},
   "outputs": [
    {
     "name": "stdout",
     "output_type": "stream",
     "text": [
      "a\n",
      "b\n",
      "c\n",
      "d\n",
      "a\n"
     ]
    }
   ],
   "source": [
    "class Circle:\n",
    "    def __init__(self, data, maxtimes):\n",
    "        self.data = data\n",
    "        self.maxtimes = maxtimes\n",
    "        self.index = 0\n",
    "\n",
    "    def __iter__(self):\n",
    "        return self\n",
    "\n",
    "    def __next__(self):\n",
    "        if self.index >= self.maxtimes:\n",
    "            raise StopIteration\n",
    "\n",
    "        value = self.data[self.index % len(self.data)]\n",
    "        self.index += 1\n",
    "        return value\n",
    "\n",
    "c = Circle('abcd', 5)\n",
    "for one_item in c:\n",
    "    print(one_item)   "
   ]
  },
  {
   "cell_type": "code",
   "execution_count": 27,
   "id": "0b9a6705-76c5-49da-b51f-8beea8e53684",
   "metadata": {},
   "outputs": [
    {
     "name": "stdout",
     "output_type": "stream",
     "text": [
      "** first time **\n",
      "a\n",
      "b\n",
      "c\n",
      "d\n",
      "** second time **\n",
      "a\n",
      "b\n",
      "c\n",
      "d\n"
     ]
    }
   ],
   "source": [
    "s = 'abcd'\n",
    "\n",
    "print('** first time **')\n",
    "for one_item in s:\n",
    "    print(one_item)\n",
    "\n",
    "print('** second time **')\n",
    "for one_item in s:\n",
    "    print(one_item)\n",
    "    "
   ]
  },
  {
   "cell_type": "code",
   "execution_count": 28,
   "id": "3782219c-8a29-4fe2-8d1f-e8f518397006",
   "metadata": {},
   "outputs": [
    {
     "name": "stdout",
     "output_type": "stream",
     "text": [
      "** first time **\n",
      "a\n",
      "b\n",
      "c\n",
      "d\n",
      "a\n",
      "** second time **\n"
     ]
    }
   ],
   "source": [
    "c = Circle('abcd', 5)\n",
    "\n",
    "print('** first time **')\n",
    "for one_item in c:\n",
    "    print(one_item)\n",
    "\n",
    "print('** second time **')\n",
    "for one_item in c:\n",
    "    print(one_item)"
   ]
  },
  {
   "cell_type": "code",
   "execution_count": 29,
   "id": "16e74c3a-fe09-4dc0-8ea1-e97b15d3c1cd",
   "metadata": {},
   "outputs": [
    {
     "name": "stdout",
     "output_type": "stream",
     "text": [
      "** first time **\n",
      "a\n",
      "b\n",
      "c\n",
      "d\n",
      "a\n",
      "** second time **\n",
      "a\n",
      "b\n",
      "c\n",
      "d\n",
      "a\n"
     ]
    }
   ],
   "source": [
    "class CircleIterator:\n",
    "    def __init__(self, data, maxtimes):\n",
    "        self.data = data\n",
    "        self.maxtimes = maxtimes\n",
    "        self.index = 0\n",
    "\n",
    "    def __next__(self):\n",
    "        if self.index >= self.maxtimes:\n",
    "            raise StopIteration\n",
    "\n",
    "        value = self.data[self.index % len(self.data)]\n",
    "        self.index += 1\n",
    "        return value\n",
    "    \n",
    "\n",
    "class Circle:\n",
    "    def __init__(self, data, maxtimes):\n",
    "        self.data = data\n",
    "        self.maxtimes = maxtimes\n",
    "\n",
    "    def __iter__(self):\n",
    "        return CircleIterator(self.data, self.maxtimes)\n",
    "\n",
    "c = Circle('abcd', 5)\n",
    "\n",
    "print('** first time **')\n",
    "for one_item in c:\n",
    "    print(one_item)\n",
    "\n",
    "print('** second time **')\n",
    "for one_item in c:\n",
    "    print(one_item)"
   ]
  },
  {
   "cell_type": "code",
   "execution_count": 30,
   "id": "b3c54059-e5c1-4e2e-892c-7cb41a9f2a1c",
   "metadata": {},
   "outputs": [],
   "source": [
    "c = Circle('abcd', 5)\n",
    "\n",
    "i1 = iter(c)\n",
    "i2 = iter(c)"
   ]
  },
  {
   "cell_type": "code",
   "execution_count": 31,
   "id": "42c80e95-0819-477a-b0fc-623e2fb15c94",
   "metadata": {},
   "outputs": [
    {
     "data": {
      "text/plain": [
       "'a'"
      ]
     },
     "execution_count": 31,
     "metadata": {},
     "output_type": "execute_result"
    }
   ],
   "source": [
    "next(i1)\n"
   ]
  },
  {
   "cell_type": "code",
   "execution_count": 32,
   "id": "d3d1f51b-7203-41f9-86c7-7fd1b8db432d",
   "metadata": {},
   "outputs": [
    {
     "data": {
      "text/plain": [
       "'b'"
      ]
     },
     "execution_count": 32,
     "metadata": {},
     "output_type": "execute_result"
    }
   ],
   "source": [
    "next(i1)"
   ]
  },
  {
   "cell_type": "code",
   "execution_count": 33,
   "id": "c7a14e19-4096-4cdf-b104-0c237393cd37",
   "metadata": {},
   "outputs": [
    {
     "data": {
      "text/plain": [
       "'c'"
      ]
     },
     "execution_count": 33,
     "metadata": {},
     "output_type": "execute_result"
    }
   ],
   "source": [
    "next(i1)"
   ]
  },
  {
   "cell_type": "code",
   "execution_count": 34,
   "id": "9c057253-d6ca-4df1-9512-b17358d1ea31",
   "metadata": {},
   "outputs": [
    {
     "data": {
      "text/plain": [
       "'a'"
      ]
     },
     "execution_count": 34,
     "metadata": {},
     "output_type": "execute_result"
    }
   ],
   "source": [
    "next(i2)"
   ]
  },
  {
   "cell_type": "markdown",
   "id": "529f85ef-76c2-4ca2-9b22-a5a3bf9bffdf",
   "metadata": {},
   "source": [
    "# Exercise: OnlyVowels\n",
    "\n",
    "1. Define `OnlyVowels`, a class that takes a single string arguments.\n",
    "2. If I iterate with a `for` loop over an instance of `OnlyVowels`, I'll get (one by one) the vowels (a, e, i, o, u) from there.\n",
    "3. Implement this with two classes, rather than one."
   ]
  },
  {
   "cell_type": "code",
   "execution_count": 35,
   "id": "1b0a16a8-b917-478d-82dd-31d99ae16da0",
   "metadata": {},
   "outputs": [
    {
     "name": "stdout",
     "output_type": "stream",
     "text": [
      "i\n",
      "i\n",
      "a\n",
      "e\n"
     ]
    }
   ],
   "source": [
    "class OnlyVowels:\n",
    "    def __init__(self, data):\n",
    "        self.data = data\n",
    "        self.index = 0\n",
    "\n",
    "    def __iter__(self):\n",
    "        return self\n",
    "\n",
    "    def __next__(self):\n",
    "        if self.index >= len(self.data):\n",
    "            raise StopIteration\n",
    "\n",
    "        value = self.data[self.index]\n",
    "        self.index += 1\n",
    "        if value in 'aeiou':\n",
    "            return value\n",
    "        return self.__next__()\n",
    "\n",
    "o = OnlyVowels('this is a test')\n",
    "for one_item in o:\n",
    "    print(one_item)\n",
    "            "
   ]
  },
  {
   "cell_type": "code",
   "execution_count": 38,
   "id": "1be2ef6b-c64a-455c-bfe9-34af099f1406",
   "metadata": {},
   "outputs": [
    {
     "name": "stdout",
     "output_type": "stream",
     "text": [
      "** first time **\n",
      "i\n",
      "i\n",
      "a\n",
      "e\n",
      "** second time **\n",
      "i\n",
      "i\n",
      "a\n",
      "e\n"
     ]
    }
   ],
   "source": [
    "# two-class version\n",
    "\n",
    "class OnlyVowelsIterator:\n",
    "    def __init__(self, ov):\n",
    "        self.only_vowels = ov\n",
    "        self.index = 0\n",
    "\n",
    "    def __next__(self):\n",
    "        if self.index >= len(self.only_vowels.data):\n",
    "            raise StopIteration\n",
    "\n",
    "        value = self.only_vowels.data[self.index]\n",
    "        self.index += 1\n",
    "        if value in 'aeiou':\n",
    "            return value\n",
    "        return self.__next__()\n",
    "\n",
    "class OnlyVowels:\n",
    "    def __init__(self, data):\n",
    "        self.data = data\n",
    "\n",
    "    def __iter__(self):\n",
    "        return OnlyVowelsIterator(self)\n",
    "\n",
    "\n",
    "o = OnlyVowels('this is a test')\n",
    "\n",
    "print('** first time **')\n",
    "for one_item in o:\n",
    "    print(one_item)\n",
    "\n",
    "print('** second time **')\n",
    "for one_item in o:\n",
    "    print(one_item)\n"
   ]
  },
  {
   "cell_type": "code",
   "execution_count": 39,
   "id": "a15f3f34-0fde-42a6-8e35-04dff7c7baef",
   "metadata": {},
   "outputs": [
    {
     "data": {
      "text/plain": [
       "['i', 'i', 'a', 'e']"
      ]
     },
     "execution_count": 39,
     "metadata": {},
     "output_type": "execute_result"
    }
   ],
   "source": [
    "list(o)"
   ]
  },
  {
   "cell_type": "code",
   "execution_count": 41,
   "id": "285fc8a4-7f0f-4af1-8779-25f55edd4eca",
   "metadata": {},
   "outputs": [
    {
     "data": {
      "text/plain": [
       "{'a', 'e', 'i'}"
      ]
     },
     "execution_count": 41,
     "metadata": {},
     "output_type": "execute_result"
    }
   ],
   "source": [
    "{one_item\n",
    "  for one_item in o}"
   ]
  },
  {
   "cell_type": "markdown",
   "id": "884b7794-4dc3-4dc3-8d99-edb2ac29ff1a",
   "metadata": {},
   "source": [
    "# Generators"
   ]
  },
  {
   "cell_type": "code",
   "execution_count": 42,
   "id": "9ec5c21d-877f-4223-84d4-c8be3827605c",
   "metadata": {},
   "outputs": [],
   "source": [
    "def myfunc():\n",
    "    return 1\n",
    "    return 2\n",
    "    return 3"
   ]
  },
  {
   "cell_type": "code",
   "execution_count": 43,
   "id": "1b772b99-07b7-4d4e-9687-e282d7122ef1",
   "metadata": {},
   "outputs": [
    {
     "data": {
      "text/plain": [
       "1"
      ]
     },
     "execution_count": 43,
     "metadata": {},
     "output_type": "execute_result"
    }
   ],
   "source": [
    "myfunc()"
   ]
  },
  {
   "cell_type": "code",
   "execution_count": 44,
   "id": "08bb613e-6f31-4207-9c07-8ea4c6c01ac9",
   "metadata": {},
   "outputs": [],
   "source": [
    "import dis"
   ]
  },
  {
   "cell_type": "code",
   "execution_count": 45,
   "id": "a7c95553-fcff-481e-ac05-a7ce55e98745",
   "metadata": {},
   "outputs": [
    {
     "name": "stdout",
     "output_type": "stream",
     "text": [
      "  1           0 RESUME                   0\n",
      "\n",
      "  2           2 LOAD_CONST               1 (1)\n",
      "              4 RETURN_VALUE\n"
     ]
    }
   ],
   "source": [
    "dis.dis(myfunc)"
   ]
  },
  {
   "cell_type": "code",
   "execution_count": 46,
   "id": "5424c2b6-7278-40bd-ada1-ff76c9b4a64b",
   "metadata": {},
   "outputs": [],
   "source": [
    "def myfunc():\n",
    "    yield 1\n",
    "    yield 2\n",
    "    yield 3\n",
    "    "
   ]
  },
  {
   "cell_type": "code",
   "execution_count": 48,
   "id": "47649e3e-0e45-4d8a-8727-8ea30b3c22cc",
   "metadata": {},
   "outputs": [
    {
     "data": {
      "text/plain": [
       "<generator object myfunc at 0x10ce33e20>"
      ]
     },
     "execution_count": 48,
     "metadata": {},
     "output_type": "execute_result"
    }
   ],
   "source": [
    "# I get a generator object back! \n",
    "# generators implement the iterator protocol\n",
    "myfunc()"
   ]
  },
  {
   "cell_type": "code",
   "execution_count": 49,
   "id": "296000d9-c776-4e6b-b2df-04641d2d0fdc",
   "metadata": {},
   "outputs": [],
   "source": [
    "g = myfunc()"
   ]
  },
  {
   "cell_type": "code",
   "execution_count": 50,
   "id": "0b1bb462-3e87-453e-abc9-86753b5b66a5",
   "metadata": {},
   "outputs": [
    {
     "data": {
      "text/plain": [
       "1"
      ]
     },
     "execution_count": 50,
     "metadata": {},
     "output_type": "execute_result"
    }
   ],
   "source": [
    "next(g)"
   ]
  },
  {
   "cell_type": "code",
   "execution_count": 51,
   "id": "3fbacda0-d67b-4116-915e-acc4fe967939",
   "metadata": {},
   "outputs": [
    {
     "data": {
      "text/plain": [
       "2"
      ]
     },
     "execution_count": 51,
     "metadata": {},
     "output_type": "execute_result"
    }
   ],
   "source": [
    "next(g)"
   ]
  },
  {
   "cell_type": "code",
   "execution_count": 52,
   "id": "80ee7dbd-9e93-4d02-a37c-5eaa1c5dedc6",
   "metadata": {},
   "outputs": [
    {
     "data": {
      "text/plain": [
       "3"
      ]
     },
     "execution_count": 52,
     "metadata": {},
     "output_type": "execute_result"
    }
   ],
   "source": [
    "next(g)"
   ]
  },
  {
   "cell_type": "code",
   "execution_count": 53,
   "id": "83bd6cf0-77d0-4864-a6f8-b0e7ee8a0100",
   "metadata": {},
   "outputs": [
    {
     "ename": "StopIteration",
     "evalue": "",
     "output_type": "error",
     "traceback": [
      "\u001b[1;31m---------------------------------------------------------------------------\u001b[0m",
      "\u001b[1;31mStopIteration\u001b[0m                             Traceback (most recent call last)",
      "Cell \u001b[1;32mIn[53], line 1\u001b[0m\n\u001b[1;32m----> 1\u001b[0m \u001b[38;5;28;43mnext\u001b[39;49m\u001b[43m(\u001b[49m\u001b[43mg\u001b[49m\u001b[43m)\u001b[49m\n",
      "\u001b[1;31mStopIteration\u001b[0m: "
     ]
    }
   ],
   "source": [
    "next(g)"
   ]
  },
  {
   "cell_type": "code",
   "execution_count": 54,
   "id": "18d833d3-087e-4748-9588-849c472aae41",
   "metadata": {},
   "outputs": [],
   "source": [
    "# generator functions have \"yield\" in there somewhere\n",
    "# running a generator function returns a generator object\n"
   ]
  },
  {
   "cell_type": "code",
   "execution_count": 55,
   "id": "f1694ee5-9941-4bac-a4e0-3b153cc95ab4",
   "metadata": {},
   "outputs": [],
   "source": [
    "def fib():\n",
    "    first = 0\n",
    "    second = 1\n",
    "\n",
    "    while True:\n",
    "        yield first\n",
    "        first, second = second, first+second"
   ]
  },
  {
   "cell_type": "code",
   "execution_count": 56,
   "id": "ce54f772-fe91-42d5-900b-504b8a37733a",
   "metadata": {},
   "outputs": [],
   "source": [
    "g = fib()    # create a generator for Fibonacci numbers"
   ]
  },
  {
   "cell_type": "code",
   "execution_count": 57,
   "id": "a217b57d-ace8-4974-80b6-f51113cf7557",
   "metadata": {},
   "outputs": [
    {
     "name": "stdout",
     "output_type": "stream",
     "text": [
      "0 1 1 2 3 5 8 13 21 34 55 89 144 233 377 610 987 1597 2584 4181 6765 10946 17711 28657 46368 75025 121393 196418 317811 514229 832040 1346269 2178309 3524578 5702887 9227465 14930352 24157817 39088169 63245986 "
     ]
    }
   ],
   "source": [
    "for one_item in g:\n",
    "    if one_item > 100_000_000:\n",
    "        break\n",
    "\n",
    "    print(one_item, end=' ')"
   ]
  },
  {
   "cell_type": "code",
   "execution_count": 58,
   "id": "b60ad833-e2d2-43b8-9349-e0600046068c",
   "metadata": {},
   "outputs": [
    {
     "data": {
      "text/plain": [
       "['__class__',\n",
       " '__del__',\n",
       " '__delattr__',\n",
       " '__dir__',\n",
       " '__doc__',\n",
       " '__eq__',\n",
       " '__format__',\n",
       " '__ge__',\n",
       " '__getattribute__',\n",
       " '__getstate__',\n",
       " '__gt__',\n",
       " '__hash__',\n",
       " '__init__',\n",
       " '__init_subclass__',\n",
       " '__iter__',\n",
       " '__le__',\n",
       " '__lt__',\n",
       " '__name__',\n",
       " '__ne__',\n",
       " '__new__',\n",
       " '__next__',\n",
       " '__qualname__',\n",
       " '__reduce__',\n",
       " '__reduce_ex__',\n",
       " '__repr__',\n",
       " '__setattr__',\n",
       " '__sizeof__',\n",
       " '__str__',\n",
       " '__subclasshook__',\n",
       " 'close',\n",
       " 'gi_code',\n",
       " 'gi_frame',\n",
       " 'gi_running',\n",
       " 'gi_suspended',\n",
       " 'gi_yieldfrom',\n",
       " 'send',\n",
       " 'throw']"
      ]
     },
     "execution_count": 58,
     "metadata": {},
     "output_type": "execute_result"
    }
   ],
   "source": [
    "dir(g)"
   ]
  },
  {
   "cell_type": "code",
   "execution_count": 59,
   "id": "9805ddf2-dd2d-4e79-86d5-5f121e689be3",
   "metadata": {},
   "outputs": [
    {
     "data": {
      "text/plain": [
       "['__class__',\n",
       " '__delattr__',\n",
       " '__dir__',\n",
       " '__doc__',\n",
       " '__eq__',\n",
       " '__format__',\n",
       " '__ge__',\n",
       " '__getattribute__',\n",
       " '__getstate__',\n",
       " '__gt__',\n",
       " '__hash__',\n",
       " '__init__',\n",
       " '__init_subclass__',\n",
       " '__le__',\n",
       " '__lt__',\n",
       " '__ne__',\n",
       " '__new__',\n",
       " '__reduce__',\n",
       " '__reduce_ex__',\n",
       " '__repr__',\n",
       " '__setattr__',\n",
       " '__sizeof__',\n",
       " '__str__',\n",
       " '__subclasshook__',\n",
       " 'clear',\n",
       " 'f_back',\n",
       " 'f_builtins',\n",
       " 'f_code',\n",
       " 'f_globals',\n",
       " 'f_lasti',\n",
       " 'f_lineno',\n",
       " 'f_locals',\n",
       " 'f_trace',\n",
       " 'f_trace_lines',\n",
       " 'f_trace_opcodes']"
      ]
     },
     "execution_count": 59,
     "metadata": {},
     "output_type": "execute_result"
    }
   ],
   "source": [
    "dir(g.gi_frame)"
   ]
  },
  {
   "cell_type": "code",
   "execution_count": 60,
   "id": "f57526a4-ffb0-4478-becd-b65e384648f1",
   "metadata": {},
   "outputs": [
    {
     "data": {
      "text/plain": [
       "{'first': 102334155, 'second': 165580141}"
      ]
     },
     "execution_count": 60,
     "metadata": {},
     "output_type": "execute_result"
    }
   ],
   "source": [
    "g.gi_frame.f_locals"
   ]
  },
  {
   "cell_type": "code",
   "execution_count": 61,
   "id": "f5659d8b-0bb5-4dcb-ae3d-6369e11dc726",
   "metadata": {},
   "outputs": [
    {
     "data": {
      "text/plain": [
       "6"
      ]
     },
     "execution_count": 61,
     "metadata": {},
     "output_type": "execute_result"
    }
   ],
   "source": [
    "g.gi_frame.f_lineno"
   ]
  },
  {
   "cell_type": "code",
   "execution_count": null,
   "id": "264c2bf3-5b7d-458d-a050-5ff88a8ebb35",
   "metadata": {},
   "outputs": [],
   "source": []
  }
 ],
 "metadata": {
  "kernelspec": {
   "display_name": "Python 3 (ipykernel)",
   "language": "python",
   "name": "python3"
  },
  "language_info": {
   "codemirror_mode": {
    "name": "ipython",
    "version": 3
   },
   "file_extension": ".py",
   "mimetype": "text/x-python",
   "name": "python",
   "nbconvert_exporter": "python",
   "pygments_lexer": "ipython3",
   "version": "3.11.6"
  }
 },
 "nbformat": 4,
 "nbformat_minor": 5
}
