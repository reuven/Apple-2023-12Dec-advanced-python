{
 "cells": [
  {
   "cell_type": "markdown",
   "id": "0017579f-c71b-470b-8bc4-4c42b40d1d39",
   "metadata": {},
   "source": [
    "# Agenda\n",
    "\n",
    "1. Object system in Python\n",
    "2. Metaclasses\n",
    "3. Iterators\n",
    "    - Iterator protocol\n",
    "    - Adding the iterator protocol to our classes\n",
    "    - Generator functions and generators"
   ]
  },
  {
   "cell_type": "code",
   "execution_count": 1,
   "id": "951b78a9-d0fa-4962-b2de-99140659a0ff",
   "metadata": {},
   "outputs": [],
   "source": [
    "class Bowl:\n",
    "    pass\n",
    "\n",
    "b = Bowl()\n",
    "\n"
   ]
  },
  {
   "cell_type": "code",
   "execution_count": 2,
   "id": "10b14a2e-7c71-4b3f-bfbf-02cbebd8d047",
   "metadata": {},
   "outputs": [
    {
     "data": {
      "text/plain": [
       "__main__.Bowl"
      ]
     },
     "execution_count": 2,
     "metadata": {},
     "output_type": "execute_result"
    }
   ],
   "source": [
    "type(b)"
   ]
  },
  {
   "cell_type": "code",
   "execution_count": 3,
   "id": "948dcaba-ed5c-4f11-9391-554b456df6a8",
   "metadata": {},
   "outputs": [
    {
     "data": {
      "text/plain": [
       "type"
      ]
     },
     "execution_count": 3,
     "metadata": {},
     "output_type": "execute_result"
    }
   ],
   "source": [
    "type(Bowl)"
   ]
  },
  {
   "cell_type": "code",
   "execution_count": 4,
   "id": "fdbe22c2-2b5c-45d3-8231-b80ea74b827e",
   "metadata": {},
   "outputs": [
    {
     "data": {
      "text/plain": [
       "type"
      ]
     },
     "execution_count": 4,
     "metadata": {},
     "output_type": "execute_result"
    }
   ],
   "source": [
    "type(type)"
   ]
  },
  {
   "cell_type": "code",
   "execution_count": 5,
   "id": "7c294856-a5cb-4a82-b9f0-646a3bc93eed",
   "metadata": {},
   "outputs": [
    {
     "data": {
      "text/plain": [
       "__main__.Bowl"
      ]
     },
     "execution_count": 5,
     "metadata": {},
     "output_type": "execute_result"
    }
   ],
   "source": [
    "b.__class__   # this is where type info is stored"
   ]
  },
  {
   "cell_type": "code",
   "execution_count": 6,
   "id": "279e5296-f7d2-4aa0-b9eb-13ae0801f9ca",
   "metadata": {},
   "outputs": [
    {
     "ename": "TypeError",
     "evalue": "__class__ assignment only supported for mutable types or ModuleType subclasses",
     "output_type": "error",
     "traceback": [
      "\u001b[1;31m---------------------------------------------------------------------------\u001b[0m",
      "\u001b[1;31mTypeError\u001b[0m                                 Traceback (most recent call last)",
      "Cell \u001b[1;32mIn[6], line 1\u001b[0m\n\u001b[1;32m----> 1\u001b[0m \u001b[43mb\u001b[49m\u001b[38;5;241;43m.\u001b[39;49m\u001b[38;5;18;43m__class__\u001b[39;49m \u001b[38;5;241m=\u001b[39m \u001b[38;5;28mstr\u001b[39m\n",
      "\u001b[1;31mTypeError\u001b[0m: __class__ assignment only supported for mutable types or ModuleType subclasses"
     ]
    }
   ],
   "source": [
    "b.__class__ = str"
   ]
  },
  {
   "cell_type": "code",
   "execution_count": 7,
   "id": "e0bdbaaf-cb2b-4cf3-8f72-8c621e633aae",
   "metadata": {
    "scrolled": true
   },
   "outputs": [
    {
     "data": {
      "text/plain": [
       "(object,)"
      ]
     },
     "execution_count": 7,
     "metadata": {},
     "output_type": "execute_result"
    }
   ],
   "source": [
    "Bowl.__bases__"
   ]
  },
  {
   "cell_type": "code",
   "execution_count": 8,
   "id": "0209d753-882a-40f0-a3d8-72497eb51c2f",
   "metadata": {},
   "outputs": [
    {
     "data": {
      "text/plain": [
       "type"
      ]
     },
     "execution_count": 8,
     "metadata": {},
     "output_type": "execute_result"
    }
   ],
   "source": [
    "type(object)"
   ]
  },
  {
   "cell_type": "code",
   "execution_count": 9,
   "id": "00656912-e030-4567-850c-049dcef399fc",
   "metadata": {},
   "outputs": [
    {
     "data": {
      "text/plain": [
       "type"
      ]
     },
     "execution_count": 9,
     "metadata": {},
     "output_type": "execute_result"
    }
   ],
   "source": [
    "type(str)"
   ]
  },
  {
   "cell_type": "code",
   "execution_count": 10,
   "id": "263a9388-d4ac-4d8f-883e-324d4a42dbda",
   "metadata": {},
   "outputs": [],
   "source": [
    "from collections import Counter"
   ]
  },
  {
   "cell_type": "code",
   "execution_count": 11,
   "id": "d205c47c-30e8-4ac7-8046-a7a739029b65",
   "metadata": {},
   "outputs": [
    {
     "data": {
      "text/plain": [
       "type"
      ]
     },
     "execution_count": 11,
     "metadata": {},
     "output_type": "execute_result"
    }
   ],
   "source": [
    "type(Counter)"
   ]
  },
  {
   "cell_type": "code",
   "execution_count": 12,
   "id": "ddc63adc-7f70-4867-8780-d477c129a05c",
   "metadata": {},
   "outputs": [
    {
     "data": {
      "text/plain": [
       "()"
      ]
     },
     "execution_count": 12,
     "metadata": {},
     "output_type": "execute_result"
    }
   ],
   "source": [
    "object.__bases__"
   ]
  },
  {
   "cell_type": "code",
   "execution_count": 13,
   "id": "1df2c980-f29c-46ab-bd63-def3f9d27d47",
   "metadata": {},
   "outputs": [
    {
     "data": {
      "text/plain": [
       "'Hello from MyClass'"
      ]
     },
     "execution_count": 13,
     "metadata": {},
     "output_type": "execute_result"
    }
   ],
   "source": [
    "class MyClass:\n",
    "    def __init__(self, x):\n",
    "        self.x = x\n",
    "\n",
    "    # method that doesn't use self\n",
    "    def hello(self):\n",
    "        return f'Hello from MyClass'\n",
    "\n",
    "m = MyClass(10)\n",
    "m.hello()"
   ]
  },
  {
   "cell_type": "code",
   "execution_count": 16,
   "id": "0c87d916-d063-4288-948b-8ce6ec59e9b5",
   "metadata": {},
   "outputs": [
    {
     "ename": "TypeError",
     "evalue": "MyClass.hello() missing 1 required positional argument: 'self'",
     "output_type": "error",
     "traceback": [
      "\u001b[1;31m---------------------------------------------------------------------------\u001b[0m",
      "\u001b[1;31mTypeError\u001b[0m                                 Traceback (most recent call last)",
      "Cell \u001b[1;32mIn[16], line 1\u001b[0m\n\u001b[1;32m----> 1\u001b[0m \u001b[43mMyClass\u001b[49m\u001b[38;5;241;43m.\u001b[39;49m\u001b[43mhello\u001b[49m\u001b[43m(\u001b[49m\u001b[43m)\u001b[49m\n",
      "\u001b[1;31mTypeError\u001b[0m: MyClass.hello() missing 1 required positional argument: 'self'"
     ]
    }
   ],
   "source": [
    "MyClass.hello()"
   ]
  },
  {
   "cell_type": "code",
   "execution_count": 17,
   "id": "38bb4c63-e77e-4cf2-9862-eac4f3ecf19e",
   "metadata": {},
   "outputs": [
    {
     "ename": "TypeError",
     "evalue": "MyClass.hello() takes 0 positional arguments but 1 was given",
     "output_type": "error",
     "traceback": [
      "\u001b[1;31m---------------------------------------------------------------------------\u001b[0m",
      "\u001b[1;31mTypeError\u001b[0m                                 Traceback (most recent call last)",
      "Cell \u001b[1;32mIn[17], line 12\u001b[0m\n\u001b[0;32m      9\u001b[0m         \u001b[38;5;28;01mreturn\u001b[39;00m \u001b[38;5;124mf\u001b[39m\u001b[38;5;124m'\u001b[39m\u001b[38;5;124mHello from MyClass\u001b[39m\u001b[38;5;124m'\u001b[39m\n\u001b[0;32m     11\u001b[0m m \u001b[38;5;241m=\u001b[39m MyClass(\u001b[38;5;241m10\u001b[39m)\n\u001b[1;32m---> 12\u001b[0m \u001b[43mm\u001b[49m\u001b[38;5;241;43m.\u001b[39;49m\u001b[43mhello\u001b[49m\u001b[43m(\u001b[49m\u001b[43m)\u001b[49m\n",
      "\u001b[1;31mTypeError\u001b[0m: MyClass.hello() takes 0 positional arguments but 1 was given"
     ]
    }
   ],
   "source": [
    "# what if I define hello without any arguments?\n",
    "\n",
    "class MyClass:\n",
    "    def __init__(self, x):\n",
    "        self.x = x\n",
    "\n",
    "    # method without any parameters\n",
    "    def hello():\n",
    "        return f'Hello from MyClass'\n",
    "\n",
    "m = MyClass(10)\n",
    "m.hello()"
   ]
  },
  {
   "cell_type": "code",
   "execution_count": 18,
   "id": "f550c6a1-4768-491c-9d77-d63ff4839ea1",
   "metadata": {},
   "outputs": [
    {
     "data": {
      "text/plain": [
       "'Hello from MyClass'"
      ]
     },
     "execution_count": 18,
     "metadata": {},
     "output_type": "execute_result"
    }
   ],
   "source": [
    "MyClass.hello()"
   ]
  },
  {
   "cell_type": "code",
   "execution_count": 19,
   "id": "ada78c59-030e-4418-8ab1-b09be940b0a3",
   "metadata": {},
   "outputs": [
    {
     "data": {
      "text/plain": [
       "'Hello from MyClass'"
      ]
     },
     "execution_count": 19,
     "metadata": {},
     "output_type": "execute_result"
    }
   ],
   "source": [
    "# how can I have a method that works from both the instance and class, but doesn't\n",
    "# require passing an instance?\n",
    "\n",
    "class MyClass:\n",
    "    def __init__(self, x):\n",
    "        self.x = x\n",
    "\n",
    "    @staticmethod\n",
    "    def hello():\n",
    "        return f'Hello from MyClass'\n",
    "\n",
    "m = MyClass(10)\n",
    "m.hello()"
   ]
  },
  {
   "cell_type": "code",
   "execution_count": 20,
   "id": "1d64d5df-d2e9-41bb-a8b8-fb00db32f886",
   "metadata": {},
   "outputs": [
    {
     "data": {
      "text/plain": [
       "'Hello from MyClass'"
      ]
     },
     "execution_count": 20,
     "metadata": {},
     "output_type": "execute_result"
    }
   ],
   "source": [
    "MyClass.hello()"
   ]
  },
  {
   "cell_type": "code",
   "execution_count": 21,
   "id": "b468c141-7cb1-4c92-a72f-f5502ff30012",
   "metadata": {},
   "outputs": [
    {
     "data": {
      "text/plain": [
       "\"Hello from <class '__main__.MyClass'>\""
      ]
     },
     "execution_count": 21,
     "metadata": {},
     "output_type": "execute_result"
    }
   ],
   "source": [
    "# @classmethod \n",
    "\n",
    "\n",
    "class MyClass:\n",
    "    def __init__(self, x):\n",
    "        self.x = x\n",
    "\n",
    "    @classmethod\n",
    "    def hello(cls):    # class methods get the class as an argument\n",
    "        return f'Hello from {cls}'\n",
    "\n",
    "m = MyClass(10)\n",
    "m.hello()"
   ]
  },
  {
   "cell_type": "code",
   "execution_count": 22,
   "id": "bc94e270-1d83-4f6b-b923-f65feb2b3254",
   "metadata": {},
   "outputs": [
    {
     "data": {
      "text/plain": [
       "\"Hello from <class '__main__.MyClass'>\""
      ]
     },
     "execution_count": 22,
     "metadata": {},
     "output_type": "execute_result"
    }
   ],
   "source": [
    "MyClass.hello()"
   ]
  },
  {
   "cell_type": "code",
   "execution_count": 23,
   "id": "2c44ae1e-09b7-4cb7-b274-807813a7b2e6",
   "metadata": {},
   "outputs": [
    {
     "data": {
      "text/plain": [
       "['__class__',\n",
       " '__delattr__',\n",
       " '__dict__',\n",
       " '__dir__',\n",
       " '__doc__',\n",
       " '__eq__',\n",
       " '__format__',\n",
       " '__ge__',\n",
       " '__getattribute__',\n",
       " '__getstate__',\n",
       " '__gt__',\n",
       " '__hash__',\n",
       " '__init__',\n",
       " '__init_subclass__',\n",
       " '__le__',\n",
       " '__lt__',\n",
       " '__module__',\n",
       " '__ne__',\n",
       " '__new__',\n",
       " '__reduce__',\n",
       " '__reduce_ex__',\n",
       " '__repr__',\n",
       " '__setattr__',\n",
       " '__sizeof__',\n",
       " '__str__',\n",
       " '__subclasshook__',\n",
       " '__weakref__',\n",
       " 'hello']"
      ]
     },
     "execution_count": 23,
     "metadata": {},
     "output_type": "execute_result"
    }
   ],
   "source": [
    "dir(MyClass)"
   ]
  },
  {
   "cell_type": "code",
   "execution_count": 24,
   "id": "bf56aaa8-d82c-4877-81bc-97330ce281af",
   "metadata": {},
   "outputs": [
    {
     "data": {
      "text/plain": [
       "mappingproxy({'__module__': '__main__',\n",
       "              '__init__': <function __main__.MyClass.__init__(self, x)>,\n",
       "              'hello': <classmethod(<function MyClass.hello at 0x107b4c2c0>)>,\n",
       "              '__dict__': <attribute '__dict__' of 'MyClass' objects>,\n",
       "              '__weakref__': <attribute '__weakref__' of 'MyClass' objects>,\n",
       "              '__doc__': None})"
      ]
     },
     "execution_count": 24,
     "metadata": {},
     "output_type": "execute_result"
    }
   ],
   "source": [
    "vars(MyClass)"
   ]
  },
  {
   "cell_type": "code",
   "execution_count": 28,
   "id": "0625d452-1836-4241-a254-5021c08f1484",
   "metadata": {},
   "outputs": [],
   "source": [
    "# standard way to do this\n",
    "class ThisType:\n",
    "    x = 100\n",
    "\n",
    "# I could also have said:\n",
    "t = type('ThisType', (object,), {'x':100})"
   ]
  },
  {
   "cell_type": "code",
   "execution_count": 29,
   "id": "c69fc5f3-2ef3-4aa0-b4a1-980a5d3e57af",
   "metadata": {},
   "outputs": [
    {
     "data": {
      "text/plain": [
       "type"
      ]
     },
     "execution_count": 29,
     "metadata": {},
     "output_type": "execute_result"
    }
   ],
   "source": [
    "type(t)"
   ]
  },
  {
   "cell_type": "code",
   "execution_count": 30,
   "id": "500a2d05-fd7a-4c1b-a1b5-603259099391",
   "metadata": {},
   "outputs": [
    {
     "data": {
      "text/plain": [
       "['__class__',\n",
       " '__delattr__',\n",
       " '__dict__',\n",
       " '__dir__',\n",
       " '__doc__',\n",
       " '__eq__',\n",
       " '__format__',\n",
       " '__ge__',\n",
       " '__getattribute__',\n",
       " '__getstate__',\n",
       " '__gt__',\n",
       " '__hash__',\n",
       " '__init__',\n",
       " '__init_subclass__',\n",
       " '__le__',\n",
       " '__lt__',\n",
       " '__module__',\n",
       " '__ne__',\n",
       " '__new__',\n",
       " '__reduce__',\n",
       " '__reduce_ex__',\n",
       " '__repr__',\n",
       " '__setattr__',\n",
       " '__sizeof__',\n",
       " '__str__',\n",
       " '__subclasshook__',\n",
       " '__weakref__',\n",
       " 'x']"
      ]
     },
     "execution_count": 30,
     "metadata": {},
     "output_type": "execute_result"
    }
   ],
   "source": [
    "dir(t)"
   ]
  },
  {
   "cell_type": "code",
   "execution_count": 31,
   "id": "c7652eaf-5c5b-494d-9d79-ad4785609bad",
   "metadata": {},
   "outputs": [
    {
     "data": {
      "text/plain": [
       "100"
      ]
     },
     "execution_count": 31,
     "metadata": {},
     "output_type": "execute_result"
    }
   ],
   "source": [
    "t.x"
   ]
  },
  {
   "cell_type": "code",
   "execution_count": 32,
   "id": "af7f6a8f-a309-47a1-a91a-e3e1462d0aaf",
   "metadata": {},
   "outputs": [],
   "source": [
    "class u(t):\n",
    "    pass"
   ]
  },
  {
   "cell_type": "code",
   "execution_count": 33,
   "id": "ed24856f-46ba-4b96-84e4-16ceb76c4fa3",
   "metadata": {},
   "outputs": [
    {
     "data": {
      "text/plain": [
       "100"
      ]
     },
     "execution_count": 33,
     "metadata": {},
     "output_type": "execute_result"
    }
   ],
   "source": [
    "u.x"
   ]
  },
  {
   "cell_type": "code",
   "execution_count": 36,
   "id": "abca54cd-f06a-456d-8f46-07349562612f",
   "metadata": {},
   "outputs": [
    {
     "name": "stdout",
     "output_type": "stream",
     "text": [
      "<__main__.MyClass object at 0x107bb7c10>\n"
     ]
    }
   ],
   "source": [
    "class MyMeta(type):       # MyMeta inherits from type, and can thus be a metaclass\n",
    "    def __new__(cls, name, bases, attributes):\n",
    "        return super().__new__(cls, name, bases, attributes)\n",
    "\n",
    "class MyClass(metaclass=MyMeta):\n",
    "    pass\n",
    "\n",
    "m = MyClass()\n",
    "print(m)"
   ]
  },
  {
   "cell_type": "code",
   "execution_count": 37,
   "id": "247ca840-a4fd-48e7-9228-c26f82c43a8b",
   "metadata": {},
   "outputs": [
    {
     "data": {
      "text/plain": [
       "__main__.MyMeta"
      ]
     },
     "execution_count": 37,
     "metadata": {},
     "output_type": "execute_result"
    }
   ],
   "source": [
    "type(MyClass)"
   ]
  },
  {
   "cell_type": "code",
   "execution_count": 38,
   "id": "2a86c6c2-f2c3-4af6-9ffe-c49350b2edac",
   "metadata": {},
   "outputs": [
    {
     "data": {
      "text/plain": [
       "True"
      ]
     },
     "execution_count": 38,
     "metadata": {},
     "output_type": "execute_result"
    }
   ],
   "source": [
    "isinstance(MyMeta, type)"
   ]
  },
  {
   "cell_type": "code",
   "execution_count": null,
   "id": "a9c85753-3acb-4366-8ab6-7b8e66b4fbc1",
   "metadata": {},
   "outputs": [],
   "source": [
    "class MyMeta(type):       # MyMeta inherits from type, and can thus be a metaclass\n",
    "    def __new__(cls, name, bases, attributes):\n",
    "        return super().__new__(cls, name, bases, attributes)\n",
    "\n",
    "class MyClass(metaclass=MyMeta):\n",
    "    pass\n",
    "\n",
    "m = MyClass()\n",
    "print(m)"
   ]
  },
  {
   "cell_type": "markdown",
   "id": "be744e91-9a87-47dc-9076-8d71354ac54b",
   "metadata": {},
   "source": [
    "`MyClass`:\n",
    "\n",
    "- `type` is `MyMeta`\n",
    "- inherits from `object`\n",
    "\n",
    "Thus:\n",
    "- If I ask for MyClass.z, Python will look:\n",
    "    - Instance: `MyClass`\n",
    "    - Class: `MyMeta`\n",
    "    - Parent/`object`: `object`\n",
    " \n",
    "- If I ask for m.z, Python will look:\n",
    "    - Instance: `m`\n",
    "    - Class: `MyClass`\n",
    "    - Parent/`object`: `object`    "
   ]
  },
  {
   "cell_type": "code",
   "execution_count": 39,
   "id": "7363fcd5-dc4f-48ca-8cfe-fe4e3d09d59e",
   "metadata": {},
   "outputs": [
    {
     "name": "stdout",
     "output_type": "stream",
     "text": [
      "<__main__.MyClass object at 0x107c09a50>\n"
     ]
    }
   ],
   "source": [
    "# let's add a new attribute\n",
    "\n",
    "class MyMeta(type):       # MyMeta inherits from type, and can thus be a metaclass\n",
    "    def __new__(cls, name, bases, attributes):\n",
    "\n",
    "        attributes['x'] = 100\n",
    "        attributes['y'] = [10, 20, 30]\n",
    "\n",
    "        return super().__new__(cls, name, bases, attributes)\n",
    "\n",
    "class MyClass(metaclass=MyMeta):\n",
    "    pass\n",
    "\n",
    "m = MyClass()  # this runs MyMeta.__new__, which adds to attributes, then runs object.__new__ and object.__init__\n",
    "print(m)"
   ]
  },
  {
   "cell_type": "code",
   "execution_count": 40,
   "id": "bdc72da5-0d22-4efa-a09e-26b3a57798bb",
   "metadata": {},
   "outputs": [
    {
     "data": {
      "text/plain": [
       "100"
      ]
     },
     "execution_count": 40,
     "metadata": {},
     "output_type": "execute_result"
    }
   ],
   "source": [
    "m.x   # does m have x? No. Does m's class (MyClass) have x? Yes, thanks to MyMeta.__new__"
   ]
  },
  {
   "cell_type": "code",
   "execution_count": 42,
   "id": "2c8e2067-0dca-41c0-ad27-1c8d92fcb298",
   "metadata": {},
   "outputs": [
    {
     "data": {
      "text/plain": [
       "[10, 20, 30]"
      ]
     },
     "execution_count": 42,
     "metadata": {},
     "output_type": "execute_result"
    }
   ],
   "source": [
    "m.y    # does m have y? No. Does m's class (MyClass) have y? Yes, thanks to MyMeta.__new__"
   ]
  },
  {
   "cell_type": "code",
   "execution_count": null,
   "id": "c850735f-8582-4c09-aa92-7da7b6774c53",
   "metadata": {},
   "outputs": [],
   "source": []
  }
 ],
 "metadata": {
  "kernelspec": {
   "display_name": "Python 3 (ipykernel)",
   "language": "python",
   "name": "python3"
  },
  "language_info": {
   "codemirror_mode": {
    "name": "ipython",
    "version": 3
   },
   "file_extension": ".py",
   "mimetype": "text/x-python",
   "name": "python",
   "nbconvert_exporter": "python",
   "pygments_lexer": "ipython3",
   "version": "3.11.6"
  }
 },
 "nbformat": 4,
 "nbformat_minor": 5
}
