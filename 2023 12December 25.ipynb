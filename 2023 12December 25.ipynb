{
 "cells": [
  {
   "cell_type": "markdown",
   "id": "0017579f-c71b-470b-8bc4-4c42b40d1d39",
   "metadata": {},
   "source": [
    "# Agenda\n",
    "\n",
    "1. Object system in Python\n",
    "2. Metaclasses\n",
    "3. Iterators\n",
    "    - Iterator protocol\n",
    "    - Adding the iterator protocol to our classes\n",
    "    - Generator functions and generators"
   ]
  },
  {
   "cell_type": "code",
   "execution_count": 1,
   "id": "951b78a9-d0fa-4962-b2de-99140659a0ff",
   "metadata": {},
   "outputs": [],
   "source": [
    "class Bowl:\n",
    "    pass\n",
    "\n",
    "b = Bowl()\n",
    "\n"
   ]
  },
  {
   "cell_type": "code",
   "execution_count": 2,
   "id": "10b14a2e-7c71-4b3f-bfbf-02cbebd8d047",
   "metadata": {},
   "outputs": [
    {
     "data": {
      "text/plain": [
       "__main__.Bowl"
      ]
     },
     "execution_count": 2,
     "metadata": {},
     "output_type": "execute_result"
    }
   ],
   "source": [
    "type(b)"
   ]
  },
  {
   "cell_type": "code",
   "execution_count": 3,
   "id": "948dcaba-ed5c-4f11-9391-554b456df6a8",
   "metadata": {},
   "outputs": [
    {
     "data": {
      "text/plain": [
       "type"
      ]
     },
     "execution_count": 3,
     "metadata": {},
     "output_type": "execute_result"
    }
   ],
   "source": [
    "type(Bowl)"
   ]
  },
  {
   "cell_type": "code",
   "execution_count": null,
   "id": "fdbe22c2-2b5c-45d3-8231-b80ea74b827e",
   "metadata": {},
   "outputs": [],
   "source": []
  }
 ],
 "metadata": {
  "kernelspec": {
   "display_name": "Python 3 (ipykernel)",
   "language": "python",
   "name": "python3"
  },
  "language_info": {
   "codemirror_mode": {
    "name": "ipython",
    "version": 3
   },
   "file_extension": ".py",
   "mimetype": "text/x-python",
   "name": "python",
   "nbconvert_exporter": "python",
   "pygments_lexer": "ipython3",
   "version": "3.11.6"
  }
 },
 "nbformat": 4,
 "nbformat_minor": 5
}
