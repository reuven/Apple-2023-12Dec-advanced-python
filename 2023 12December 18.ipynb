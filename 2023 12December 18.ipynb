{
 "cells": [
  {
   "cell_type": "markdown",
   "metadata": {},
   "source": [
    "# Agenda\n",
    "\n",
    "1. Inheritance\n",
    "2. Magic methods (`__del__`)\n",
    "3. Object system\n",
    "4. Metaclasses\n",
    "5. Iterators etc. "
   ]
  },
  {
   "cell_type": "code",
   "execution_count": 2,
   "metadata": {},
   "outputs": [
    {
     "name": "stdout",
     "output_type": "stream",
     "text": [
      "Hello, name1!\n",
      "Hello, name2!\n",
      "Hello, emp1!\n",
      "Hello, emp2!\n"
     ]
    }
   ],
   "source": [
    "\n",
    "class Person:\n",
    "\n",
    "    def __init__(self, name):\n",
    "        self.name = name\n",
    "        \n",
    "    def greet(self):\n",
    "        return f'Hello, {self.name}!'\n",
    "    \n",
    "p1 = Person('name1')    \n",
    "p2 = Person('name2')\n",
    "\n",
    "print(p1.greet()) \n",
    "print(p2.greet()) \n",
    "\n",
    "class Employee(Person):    # Employee is-a Person, i.e., inherits from Person\n",
    "\n",
    "    def __init__(self, name, id_number):\n",
    "        # Person.__init__(self, name) \n",
    "        super().__init__(name)        # do what my parent does in __init__...\n",
    "        self.id_number = id_number    # add my own things\n",
    "            \n",
    "e1 = Employee('emp1', 1)# e1 has __init__? no. Employee has __init__? Yes \n",
    "e2 = Employee('emp2', 2)\n",
    "\n",
    "print(e1.greet()) # e1 has greet? No. Employee has greet? No. Person has greet? yes\n",
    "print(e2.greet()) \n",
    "     "
   ]
  },
  {
   "cell_type": "markdown",
   "metadata": {},
   "source": [
    "# Inheritance\n",
    "\n",
    "All inheritance is based on the search for attributes. When we look for an attribute in a Python object (an instance, that is), Python searches in the following order:\n",
    "\n",
    "- i -- the instance itself\n",
    "- c -- the class of the instance (`type(i)`)\n",
    "- p -- the parent of the class\n",
    "- o -- `object`, the to o"
   ]
  }
 ],
 "metadata": {
  "kernelspec": {
   "display_name": "Python 3 (ipykernel)",
   "language": "python",
   "name": "python3"
  },
  "language_info": {
   "codemirror_mode": {
    "name": "ipython",
    "version": 3
   },
   "file_extension": ".py",
   "mimetype": "text/x-python",
   "name": "python",
   "nbconvert_exporter": "python",
   "pygments_lexer": "ipython3",
   "version": "3.11.6"
  }
 },
 "nbformat": 4,
 "nbformat_minor": 4
}
