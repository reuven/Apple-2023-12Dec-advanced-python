{
 "cells": [
  {
   "cell_type": "markdown",
   "metadata": {},
   "source": [
    "# Agenda\n",
    "\n",
    "1. Inheritance\n",
    "2. Magic methods (`__del__`)\n",
    "3. Object system\n",
    "4. Metaclasses\n",
    "5. Iterators etc. "
   ]
  },
  {
   "cell_type": "code",
   "execution_count": 2,
   "metadata": {},
   "outputs": [
    {
     "name": "stdout",
     "output_type": "stream",
     "text": [
      "Hello, name1!\n",
      "Hello, name2!\n",
      "Hello, emp1!\n",
      "Hello, emp2!\n"
     ]
    }
   ],
   "source": [
    "\n",
    "class Person:\n",
    "\n",
    "    def __init__(self, name):\n",
    "        self.name = name\n",
    "        \n",
    "    def greet(self):\n",
    "        return f'Hello, {self.name}!'\n",
    "    \n",
    "p1 = Person('name1')    \n",
    "p2 = Person('name2')\n",
    "\n",
    "print(p1.greet()) \n",
    "print(p2.greet()) \n",
    "\n",
    "class Employee(Person):    # Employee is-a Person, i.e., inherits from Person\n",
    "\n",
    "    def __init__(self, name, id_number):\n",
    "        # Person.__init__(self, name) \n",
    "        super().__init__(name)        # do what my parent does in __init__...\n",
    "        self.id_number = id_number    # add my own things\n",
    "            \n",
    "e1 = Employee('emp1', 1)# e1 has __init__? no. Employee has __init__? Yes \n",
    "e2 = Employee('emp2', 2)\n",
    "\n",
    "print(e1.greet()) # e1 has greet? No. Employee has greet? No. Person has greet? yes\n",
    "print(e2.greet()) \n",
    "     "
   ]
  },
  {
   "cell_type": "markdown",
   "metadata": {},
   "source": [
    "# Inheritance\n",
    "\n",
    "All inheritance is based on the search for attributes. When we look for an attribute in a Python object (an instance, that is), Python searches in the following order:\n",
    "\n",
    "- i -- the instance itself\n",
    "- c -- the class of the instance (`type(i)`)\n",
    "- p -- the parent of the class\n",
    "- o -- `object`, the top object in the class\n",
    "\n",
    "This means, in practice:\n",
    "\n",
    "- If we have the same method in both a child class and a parent class, then we can remove the child class implementation, and rely on the parent class\n",
    "- If we write a method in the child class, then that takes priority, and the parent class's method is never run.\n",
    "- If we want to combine the method in the child class with the parent class, then we have a few options:\n",
    "    1. Copy the code from the parent class into the child class. There are a number of problems with doing it this way -- not recommended.\n",
    "    2. Call the parent method explicitly (`Class.method(self, arg1)`). This way, the parent class gets to run first, and then we add functionality in the child class.\n",
    "    3. The most modern way is to use `super`, as in `super().method(arg1)`. We don't need to pass `self` here! Once again, we normally do this at first in the method, and then have more specific instructions in our method.\n",
    " \n"
   ]
  },
  {
   "cell_type": "code",
   "execution_count": 3,
   "metadata": {},
   "outputs": [],
   "source": [
    "class First:\n",
    "    def __init__(self, x):\n",
    "        self.x = x\n",
    "\n",
    "    def x2(self):\n",
    "        return self.x * 2\n",
    "\n",
    "class Second:\n",
    "    def __init__(self, y):\n",
    "        self.y = y\n",
    "\n",
    "    def y3(self):\n",
    "        return self.y * 3\n",
    "\n",
    "class Third(First, Second):\n",
    "    pass"
   ]
  },
  {
   "cell_type": "code",
   "execution_count": 4,
   "metadata": {},
   "outputs": [
    {
     "data": {
      "text/plain": [
       "(object,)"
      ]
     },
     "execution_count": 4,
     "metadata": {},
     "output_type": "execute_result"
    }
   ],
   "source": [
    "# who does Person inherit from?  We can always check __bases__\n",
    "Person.__bases__"
   ]
  },
  {
   "cell_type": "code",
   "execution_count": 5,
   "metadata": {},
   "outputs": [
    {
     "data": {
      "text/plain": [
       "(__main__.Person, object)"
      ]
     },
     "execution_count": 5,
     "metadata": {},
     "output_type": "execute_result"
    }
   ],
   "source": [
    "# What about Person's MRO (method resolution order)\n",
    "Person.__mro__"
   ]
  },
  {
   "cell_type": "code",
   "execution_count": 6,
   "metadata": {},
   "outputs": [
    {
     "data": {
      "text/plain": [
       "(__main__.Person,)"
      ]
     },
     "execution_count": 6,
     "metadata": {},
     "output_type": "execute_result"
    }
   ],
   "source": [
    "Employee.__bases__"
   ]
  },
  {
   "cell_type": "code",
   "execution_count": 7,
   "metadata": {},
   "outputs": [
    {
     "data": {
      "text/plain": [
       "(__main__.Employee, __main__.Person, object)"
      ]
     },
     "execution_count": 7,
     "metadata": {},
     "output_type": "execute_result"
    }
   ],
   "source": [
    "Employee.__mro__"
   ]
  },
  {
   "cell_type": "code",
   "execution_count": 8,
   "metadata": {},
   "outputs": [
    {
     "data": {
      "text/plain": [
       "(object,)"
      ]
     },
     "execution_count": 8,
     "metadata": {},
     "output_type": "execute_result"
    }
   ],
   "source": [
    "First.__bases__"
   ]
  },
  {
   "cell_type": "code",
   "execution_count": 9,
   "metadata": {},
   "outputs": [
    {
     "data": {
      "text/plain": [
       "(__main__.First, object)"
      ]
     },
     "execution_count": 9,
     "metadata": {},
     "output_type": "execute_result"
    }
   ],
   "source": [
    "First.__mro__"
   ]
  },
  {
   "cell_type": "code",
   "execution_count": 10,
   "metadata": {},
   "outputs": [
    {
     "data": {
      "text/plain": [
       "(object,)"
      ]
     },
     "execution_count": 10,
     "metadata": {},
     "output_type": "execute_result"
    }
   ],
   "source": [
    "Second.__bases__"
   ]
  },
  {
   "cell_type": "code",
   "execution_count": 11,
   "metadata": {},
   "outputs": [
    {
     "data": {
      "text/plain": [
       "(__main__.Second, object)"
      ]
     },
     "execution_count": 11,
     "metadata": {},
     "output_type": "execute_result"
    }
   ],
   "source": [
    "Second.__mro__"
   ]
  },
  {
   "cell_type": "code",
   "execution_count": 12,
   "metadata": {},
   "outputs": [
    {
     "data": {
      "text/plain": [
       "(__main__.First, __main__.Second)"
      ]
     },
     "execution_count": 12,
     "metadata": {},
     "output_type": "execute_result"
    }
   ],
   "source": [
    "Third.__bases__"
   ]
  },
  {
   "cell_type": "code",
   "execution_count": 13,
   "metadata": {},
   "outputs": [
    {
     "data": {
      "text/plain": [
       "(__main__.Third, __main__.First, __main__.Second, object)"
      ]
     },
     "execution_count": 13,
     "metadata": {},
     "output_type": "execute_result"
    }
   ],
   "source": [
    "Third.__mro__"
   ]
  },
  {
   "cell_type": "code",
   "execution_count": 14,
   "metadata": {},
   "outputs": [
    {
     "ename": "TypeError",
     "evalue": "First.__init__() missing 1 required positional argument: 'x'",
     "output_type": "error",
     "traceback": [
      "\u001b[1;31m---------------------------------------------------------------------------\u001b[0m",
      "\u001b[1;31mTypeError\u001b[0m                                 Traceback (most recent call last)",
      "Cell \u001b[1;32mIn[14], line 3\u001b[0m\n\u001b[0;32m      1\u001b[0m \u001b[38;5;66;03m# what happens when we create an instance of Third?\u001b[39;00m\n\u001b[1;32m----> 3\u001b[0m t \u001b[38;5;241m=\u001b[39m \u001b[43mThird\u001b[49m\u001b[43m(\u001b[49m\u001b[43m)\u001b[49m\n",
      "\u001b[1;31mTypeError\u001b[0m: First.__init__() missing 1 required positional argument: 'x'"
     ]
    }
   ],
   "source": [
    "# what happens when we create an instance of Third?\n",
    "\n",
    "t = Third()"
   ]
  },
  {
   "cell_type": "code",
   "execution_count": 15,
   "metadata": {},
   "outputs": [],
   "source": [
    "t = Third(10)"
   ]
  },
  {
   "cell_type": "code",
   "execution_count": 16,
   "metadata": {},
   "outputs": [
    {
     "data": {
      "text/plain": [
       "{'x': 10}"
      ]
     },
     "execution_count": 16,
     "metadata": {},
     "output_type": "execute_result"
    }
   ],
   "source": [
    "vars(t)"
   ]
  },
  {
   "cell_type": "code",
   "execution_count": 17,
   "metadata": {},
   "outputs": [
    {
     "data": {
      "text/plain": [
       "20"
      ]
     },
     "execution_count": 17,
     "metadata": {},
     "output_type": "execute_result"
    }
   ],
   "source": [
    "t.x2()  # t has x2? No. Third has x2? No. First has x2? Yes..."
   ]
  },
  {
   "cell_type": "code",
   "execution_count": 18,
   "metadata": {},
   "outputs": [
    {
     "ename": "AttributeError",
     "evalue": "'Third' object has no attribute 'y'",
     "output_type": "error",
     "traceback": [
      "\u001b[1;31m---------------------------------------------------------------------------\u001b[0m",
      "\u001b[1;31mAttributeError\u001b[0m                            Traceback (most recent call last)",
      "Cell \u001b[1;32mIn[18], line 1\u001b[0m\n\u001b[1;32m----> 1\u001b[0m \u001b[43mt\u001b[49m\u001b[38;5;241;43m.\u001b[39;49m\u001b[43my3\u001b[49m\u001b[43m(\u001b[49m\u001b[43m)\u001b[49m  \u001b[38;5;66;03m# t has y3? No. Third has y3? No. First has y3? No. Second has y3? Yes\u001b[39;00m\n",
      "Cell \u001b[1;32mIn[3], line 13\u001b[0m, in \u001b[0;36mSecond.y3\u001b[1;34m(self)\u001b[0m\n\u001b[0;32m     12\u001b[0m \u001b[38;5;28;01mdef\u001b[39;00m \u001b[38;5;21my3\u001b[39m(\u001b[38;5;28mself\u001b[39m):\n\u001b[1;32m---> 13\u001b[0m     \u001b[38;5;28;01mreturn\u001b[39;00m \u001b[38;5;28;43mself\u001b[39;49m\u001b[38;5;241;43m.\u001b[39;49m\u001b[43my\u001b[49m \u001b[38;5;241m*\u001b[39m \u001b[38;5;241m3\u001b[39m\n",
      "\u001b[1;31mAttributeError\u001b[0m: 'Third' object has no attribute 'y'"
     ]
    }
   ],
   "source": [
    "t.y3()  # t has y3? No. Third has y3? No. First has y3? No. Second has y3? Yes"
   ]
  },
  {
   "cell_type": "code",
   "execution_count": 20,
   "metadata": {},
   "outputs": [
    {
     "ename": "TypeError",
     "evalue": "Cannot create a consistent method resolution\norder (MRO) for bases First, Third, Second",
     "output_type": "error",
     "traceback": [
      "\u001b[1;31m---------------------------------------------------------------------------\u001b[0m",
      "\u001b[1;31mTypeError\u001b[0m                                 Traceback (most recent call last)",
      "Cell \u001b[1;32mIn[20], line 1\u001b[0m\n\u001b[1;32m----> 1\u001b[0m \u001b[38;5;28;43;01mclass\u001b[39;49;00m\u001b[43m \u001b[49m\u001b[38;5;21;43;01mBadClass\u001b[39;49;00m\u001b[43m(\u001b[49m\u001b[43mFirst\u001b[49m\u001b[43m,\u001b[49m\u001b[43m \u001b[49m\u001b[43mThird\u001b[49m\u001b[43m,\u001b[49m\u001b[43m \u001b[49m\u001b[43mSecond\u001b[49m\u001b[43m)\u001b[49m\u001b[43m:\u001b[49m\n\u001b[0;32m      2\u001b[0m \u001b[43m    \u001b[49m\u001b[38;5;28;43;01mpass\u001b[39;49;00m\n",
      "\u001b[1;31mTypeError\u001b[0m: Cannot create a consistent method resolution\norder (MRO) for bases First, Third, Second"
     ]
    }
   ],
   "source": [
    "class BadClass(First, Third, Second):\n",
    "    pass"
   ]
  },
  {
   "cell_type": "code",
   "execution_count": null,
   "metadata": {},
   "outputs": [],
   "source": [
    "class First:\n",
    "    def __init__(self, x):\n",
    "        self.x = x\n",
    "\n",
    "    def x2(self):\n",
    "        return self.x * 2\n",
    "\n",
    "class Second:\n",
    "    def __init__(self, y):\n",
    "        self.y = y\n",
    "\n",
    "    def y3(self):\n",
    "        return self.y * 3\n",
    "\n",
    "class Third(First, Second):\n",
    "    def __init__(self, x, y):\n",
    "        super().__init__(self, x)\n",
    "        # First.__init__(self, x)\n",
    "        # Second.__init__(self, y)"
   ]
  },
  {
   "cell_type": "code",
   "execution_count": 21,
   "metadata": {},
   "outputs": [
    {
     "name": "stdout",
     "output_type": "stream",
     "text": [
      "Help on class super in module builtins:\n",
      "\n",
      "class super(object)\n",
      " |  super() -> same as super(__class__, <first argument>)\n",
      " |  super(type) -> unbound super object\n",
      " |  super(type, obj) -> bound super object; requires isinstance(obj, type)\n",
      " |  super(type, type2) -> bound super object; requires issubclass(type2, type)\n",
      " |  Typical use to call a cooperative superclass method:\n",
      " |  class C(B):\n",
      " |      def meth(self, arg):\n",
      " |          super().meth(arg)\n",
      " |  This works for class methods too:\n",
      " |  class C(B):\n",
      " |      @classmethod\n",
      " |      def cmeth(cls, arg):\n",
      " |          super().cmeth(arg)\n",
      " |  \n",
      " |  Methods defined here:\n",
      " |  \n",
      " |  __get__(self, instance, owner=None, /)\n",
      " |      Return an attribute of instance, which is of type owner.\n",
      " |  \n",
      " |  __getattribute__(self, name, /)\n",
      " |      Return getattr(self, name).\n",
      " |  \n",
      " |  __init__(self, /, *args, **kwargs)\n",
      " |      Initialize self.  See help(type(self)) for accurate signature.\n",
      " |  \n",
      " |  __repr__(self, /)\n",
      " |      Return repr(self).\n",
      " |  \n",
      " |  ----------------------------------------------------------------------\n",
      " |  Static methods defined here:\n",
      " |  \n",
      " |  __new__(*args, **kwargs) from builtins.type\n",
      " |      Create and return a new object.  See help(type) for accurate signature.\n",
      " |  \n",
      " |  ----------------------------------------------------------------------\n",
      " |  Data descriptors defined here:\n",
      " |  \n",
      " |  __self__\n",
      " |      the instance invoking super(); may be None\n",
      " |  \n",
      " |  __self_class__\n",
      " |      the type of the instance invoking super(); may be None\n",
      " |  \n",
      " |  __thisclass__\n",
      " |      the class invoking super()\n",
      "\n"
     ]
    }
   ],
   "source": [
    "help(super)"
   ]
  },
  {
   "cell_type": "code",
   "execution_count": 32,
   "metadata": {},
   "outputs": [],
   "source": [
    "class First:\n",
    "    def __init__(self, x):\n",
    "        self.x = x\n",
    "\n",
    "    def x2(self):\n",
    "        return self.x * 2\n",
    "\n",
    "class Second(First):\n",
    "    def __init__(self, y):\n",
    "        super().__init__(y)\n",
    "        self.y = y\n",
    "\n",
    "    def y3(self):\n",
    "        return self.y * 3\n",
    "\n",
    "class Third(Second):\n",
    "    def __init__(self, x):\n",
    "        super().__init__(x)"
   ]
  },
  {
   "cell_type": "code",
   "execution_count": 31,
   "metadata": {},
   "outputs": [],
   "source": [
    "t = Third(17)"
   ]
  },
  {
   "cell_type": "code",
   "execution_count": 33,
   "metadata": {},
   "outputs": [
    {
     "data": {
      "text/plain": [
       "{'x': 17, 'y': 17}"
      ]
     },
     "execution_count": 33,
     "metadata": {},
     "output_type": "execute_result"
    }
   ],
   "source": [
    "vars(t)"
   ]
  },
  {
   "cell_type": "code",
   "execution_count": 34,
   "metadata": {},
   "outputs": [
    {
     "data": {
      "text/plain": [
       "object"
      ]
     },
     "execution_count": 34,
     "metadata": {},
     "output_type": "execute_result"
    }
   ],
   "source": [
    "object"
   ]
  },
  {
   "cell_type": "code",
   "execution_count": 38,
   "metadata": {},
   "outputs": [
    {
     "data": {
      "text/plain": [
       "'<__main__.Third object at 0x11237db10>'"
      ]
     },
     "execution_count": 38,
     "metadata": {},
     "output_type": "execute_result"
    }
   ],
   "source": [
    "str(t) # __str__() on t? No. __str__ on Third? No. __str__ on Second? no. __str__ on First? No.\n",
    "       # ___str__ on object? Yes!"
   ]
  },
  {
   "cell_type": "code",
   "execution_count": 36,
   "metadata": {},
   "outputs": [
    {
     "data": {
      "text/plain": [
       "4600617744"
      ]
     },
     "execution_count": 36,
     "metadata": {},
     "output_type": "execute_result"
    }
   ],
   "source": [
    "0x11237db10"
   ]
  },
  {
   "cell_type": "code",
   "execution_count": 37,
   "metadata": {},
   "outputs": [
    {
     "data": {
      "text/plain": [
       "4600617744"
      ]
     },
     "execution_count": 37,
     "metadata": {},
     "output_type": "execute_result"
    }
   ],
   "source": [
    "id(t)"
   ]
  },
  {
   "cell_type": "code",
   "execution_count": 39,
   "metadata": {},
   "outputs": [
    {
     "data": {
      "text/plain": [
       "'<__main__.Third object at 0x11237db10>'"
      ]
     },
     "execution_count": 39,
     "metadata": {},
     "output_type": "execute_result"
    }
   ],
   "source": [
    "object.__str__(t)"
   ]
  },
  {
   "cell_type": "code",
   "execution_count": 40,
   "metadata": {},
   "outputs": [
    {
     "data": {
      "text/plain": [
       "34"
      ]
     },
     "execution_count": 40,
     "metadata": {},
     "output_type": "execute_result"
    }
   ],
   "source": [
    "t.x2()    # --> Third.x2(t) "
   ]
  },
  {
   "cell_type": "code",
   "execution_count": 42,
   "metadata": {},
   "outputs": [],
   "source": [
    "class First:\n",
    "    def __init__(self, x):\n",
    "        self.x = x\n",
    "\n",
    "    def x2(self):\n",
    "        return self.x * 2\n",
    "\n",
    "class Second(First):\n",
    "    def __init__(self, y):\n",
    "        super().__init__(y)\n",
    "        self.y = y\n",
    "\n",
    "    def y3(self):\n",
    "        return self.y * 3\n",
    "\n",
    "class Third(Second):\n",
    "    def __init__(self, x):\n",
    "        super().__init__(x)\n",
    "    def __str__(self):\n",
    "        return f'My Third has attributes: {vars(self)}'"
   ]
  },
  {
   "cell_type": "code",
   "execution_count": 43,
   "metadata": {},
   "outputs": [],
   "source": [
    "def myfunc():\n",
    "    asdfsadfsafffsa"
   ]
  },
  {
   "cell_type": "code",
   "execution_count": 44,
   "metadata": {},
   "outputs": [],
   "source": [
    "def myfunc():\n",
    "    asdfsadfsafffsa\n",
    "    asdfakjfhskjfshjkfha"
   ]
  },
  {
   "cell_type": "code",
   "execution_count": 46,
   "metadata": {},
   "outputs": [
    {
     "ename": "IndentationError",
     "evalue": "unindent does not match any outer indentation level (<tokenize>, line 3)",
     "output_type": "error",
     "traceback": [
      "\u001b[1;36m  File \u001b[1;32m<tokenize>:3\u001b[1;36m\u001b[0m\n\u001b[1;33m    asdfakjfhskjfshjkfha\u001b[0m\n\u001b[1;37m    ^\u001b[0m\n\u001b[1;31mIndentationError\u001b[0m\u001b[1;31m:\u001b[0m unindent does not match any outer indentation level\n"
     ]
    }
   ],
   "source": [
    "def myfunc():\n",
    "    asdfsadfsafffsa\n",
    "   asdfakjfhskjfshjkfha"
   ]
  },
  {
   "cell_type": "code",
   "execution_count": 47,
   "metadata": {},
   "outputs": [],
   "source": [
    "t = Third(123)"
   ]
  },
  {
   "cell_type": "code",
   "execution_count": 48,
   "metadata": {},
   "outputs": [
    {
     "name": "stdout",
     "output_type": "stream",
     "text": [
      "My Third has attributes: {'x': 123, 'y': 123}\n"
     ]
    }
   ],
   "source": [
    "print(t)  # when I run print, it really runs print(str(ARG)) "
   ]
  },
  {
   "cell_type": "markdown",
   "metadata": {},
   "source": [
    "# Exercise: Big Bowl\n",
    "\n",
    "A big bowl is just like a bowl, but takes up to 5 scoops, not just 3. Define `BigBowl` while making as few changes to `Bowl` as possible, and also writing as little code as possible."
   ]
  },
  {
   "cell_type": "code",
   "execution_count": 78,
   "metadata": {},
   "outputs": [
    {
     "name": "stdout",
     "output_type": "stream",
     "text": [
      "['chocolate', 'vanilla', 'coffee']\n",
      "['chocolate', 'vanilla', 'coffee', 'flavor 4', 'flavor 5']\n"
     ]
    }
   ],
   "source": [
    "class Scoop:\n",
    "    def __init__(self, flavor):\n",
    "        self.flavor = flavor\n",
    "\n",
    "    def __repr__(self):\n",
    "        return f'Scoop of {self.flavor}'\n",
    "        \n",
    "class Bowl:\n",
    "    MAX_SCOOPS = 3\n",
    "    \n",
    "    def __init__(self):\n",
    "        self.scoops = []\n",
    "        \n",
    "    def add_scoops(self, *new_scoops):\n",
    "        for one_scoop in new_scoops:\n",
    "            if len(self.scoops) < self.MAX_SCOOPS:\n",
    "                self.scoops.append(one_scoop)\n",
    "            \n",
    "    def flavors(self):\n",
    "        return [one_scoop.flavor\n",
    "               for one_scoop in self.scoops]\n",
    "\n",
    "    def __repr__(self):\n",
    "        output = 'Bowl of: \\n'\n",
    "\n",
    "        # for index, one_scoop in enumerate(self.scoops, 1):\n",
    "        #     output += f'\\t{index}: {one_scoop}\\n'\n",
    "\n",
    "        # return output\n",
    "\n",
    "        return output + '\\n'.join([f'\\t{index}: {one_scoop}'\n",
    "                                   for index, one_scoop in enumerate(self.scoops, 1)])\n",
    "\n",
    "class BigBowl(Bowl):\n",
    "    MAX_SCOOPS = 5\n",
    "            \n",
    "s1 = Scoop('chocolate')\n",
    "s2 = Scoop('vanilla')\n",
    "s3 = Scoop('coffee')\n",
    "s4 = Scoop('flavor 4')\n",
    "s5 = Scoop('flavor 5')\n",
    "\n",
    "b = Bowl()\n",
    "b.add_scoops(s1, s2)\n",
    "b.add_scoops(s3)\n",
    "b.add_scoops(s4, s5)\n",
    "print(b.flavors()) \n",
    "\n",
    "bb = BigBowl()\n",
    "bb.add_scoops(s1, s2)\n",
    "bb.add_scoops(s3)\n",
    "bb.add_scoops(s4, s5)\n",
    "print(bb.flavors()) "
   ]
  },
  {
   "cell_type": "markdown",
   "metadata": {},
   "source": [
    "# Exercise: Printing our ice cream\n",
    "\n",
    "1. Implement `__str__` on `Scoop` such that printing / calling `str` on an instance of `Scoop` returns a string like \"Scoop of chocolate\".\n",
    "2. Implement `__str__` on `Bowl` such that printing / calling returns a string like:\n",
    "\n",
    "Bowl of:\n",
    "1. Scoop of chocolate\n",
    "2. Scoop of vanilla\n",
    "3. Scoop of coffee\n",
    "\n"
   ]
  },
  {
   "cell_type": "code",
   "execution_count": 79,
   "metadata": {},
   "outputs": [
    {
     "name": "stdout",
     "output_type": "stream",
     "text": [
      "Scoop of chocolate\n"
     ]
    }
   ],
   "source": [
    "print(s1) # print(str(s1)) -> print(s1.__str__()) -> does s1 have __str__? No. Does Scoop have __str__? No.\n",
    "          #         does object have __str__? Yes!"
   ]
  },
  {
   "cell_type": "code",
   "execution_count": 80,
   "metadata": {},
   "outputs": [
    {
     "name": "stdout",
     "output_type": "stream",
     "text": [
      "Bowl of: \n",
      "\t1: Scoop of chocolate\n",
      "\t2: Scoop of vanilla\n",
      "\t3: Scoop of coffee\n"
     ]
    }
   ],
   "source": [
    "print(b)"
   ]
  },
  {
   "cell_type": "code",
   "execution_count": 81,
   "metadata": {},
   "outputs": [
    {
     "data": {
      "text/plain": [
       "Scoop of chocolate"
      ]
     },
     "execution_count": 81,
     "metadata": {},
     "output_type": "execute_result"
    }
   ],
   "source": [
    "s1"
   ]
  },
  {
   "cell_type": "code",
   "execution_count": 82,
   "metadata": {},
   "outputs": [
    {
     "data": {
      "text/plain": [
       "Bowl of: \n",
       "\t1: Scoop of chocolate\n",
       "\t2: Scoop of vanilla\n",
       "\t3: Scoop of coffee"
      ]
     },
     "execution_count": 82,
     "metadata": {},
     "output_type": "execute_result"
    }
   ],
   "source": [
    "b"
   ]
  },
  {
   "cell_type": "markdown",
   "metadata": {},
   "source": [
    "# `__str__` and `__repr__`\n",
    "\n",
    "These two methods both get `self` as an argument, and are both supposed to return a string.\n",
    "\n",
    "`__str__` is meant for end users, `__repr__` is meant for behind-the-scenes debugging and printing.\n",
    "\n",
    "- If I don't define `__repr__`, then I get the default.\n",
    "- If I don't define `__str__`, but `__repr__` is defined, then it is used.\n",
    "\n",
    "I suggest always defining `__repr__`, and only defining `__str__` if and when you need."
   ]
  },
  {
   "cell_type": "code",
   "execution_count": null,
   "metadata": {},
   "outputs": [],
   "source": []
  },
  {
   "cell_type": "code",
   "execution_count": 83,
   "metadata": {},
   "outputs": [
    {
     "data": {
      "text/plain": [
       "'Scoop of chocolate'"
      ]
     },
     "execution_count": 83,
     "metadata": {},
     "output_type": "execute_result"
    }
   ],
   "source": [
    "object.__str__(s1)"
   ]
  },
  {
   "cell_type": "code",
   "execution_count": 84,
   "metadata": {},
   "outputs": [
    {
     "data": {
      "text/plain": [
       "'<__main__.Scoop object at 0x112374910>'"
      ]
     },
     "execution_count": 84,
     "metadata": {},
     "output_type": "execute_result"
    }
   ],
   "source": [
    "object.__repr__(s1)"
   ]
  },
  {
   "cell_type": "markdown",
   "metadata": {},
   "source": [
    "# Next up\n",
    "\n",
    "1. Magic methods + overloading\n",
    "2. `__del__`\n",
    "3. The Python object system\n",
    "4. Metaclasses\n",
    "5. Iteration\n",
    "\n",
    "Resume at :35"
   ]
  },
  {
   "cell_type": "code",
   "execution_count": 86,
   "metadata": {},
   "outputs": [
    {
     "data": {
      "text/plain": [
       "5"
      ]
     },
     "execution_count": 86,
     "metadata": {},
     "output_type": "execute_result"
    }
   ],
   "source": [
    "class MyClass:\n",
    "    def __init__(self, x):\n",
    "        self.x = x\n",
    "\n",
    "    def __len__(self):\n",
    "        return len(self.x)\n",
    "\n",
    "m1 = MyClass('abcde')\n",
    "\n",
    "len(m1)  # this actually calls m1.__len__()  -> len('abcde') --> 'abcde'.__len__()"
   ]
  },
  {
   "cell_type": "code",
   "execution_count": 87,
   "metadata": {},
   "outputs": [
    {
     "ename": "TypeError",
     "evalue": "object of type 'int' has no len()",
     "output_type": "error",
     "traceback": [
      "\u001b[1;31m---------------------------------------------------------------------------\u001b[0m",
      "\u001b[1;31mTypeError\u001b[0m                                 Traceback (most recent call last)",
      "Cell \u001b[1;32mIn[87], line 2\u001b[0m\n\u001b[0;32m      1\u001b[0m m2 \u001b[38;5;241m=\u001b[39m MyClass(\u001b[38;5;241m100\u001b[39m)\n\u001b[1;32m----> 2\u001b[0m \u001b[38;5;28;43mlen\u001b[39;49m\u001b[43m(\u001b[49m\u001b[43mm2\u001b[49m\u001b[43m)\u001b[49m\n",
      "Cell \u001b[1;32mIn[86], line 6\u001b[0m, in \u001b[0;36mMyClass.__len__\u001b[1;34m(self)\u001b[0m\n\u001b[0;32m      5\u001b[0m \u001b[38;5;28;01mdef\u001b[39;00m \u001b[38;5;21m__len__\u001b[39m(\u001b[38;5;28mself\u001b[39m):\n\u001b[1;32m----> 6\u001b[0m     \u001b[38;5;28;01mreturn\u001b[39;00m \u001b[38;5;28;43mlen\u001b[39;49m\u001b[43m(\u001b[49m\u001b[38;5;28;43mself\u001b[39;49m\u001b[38;5;241;43m.\u001b[39;49m\u001b[43mx\u001b[49m\u001b[43m)\u001b[49m\n",
      "\u001b[1;31mTypeError\u001b[0m: object of type 'int' has no len()"
     ]
    }
   ],
   "source": [
    "m2 = MyClass(100)\n",
    "len(m2)"
   ]
  },
  {
   "cell_type": "code",
   "execution_count": 88,
   "metadata": {},
   "outputs": [
    {
     "data": {
      "text/plain": [
       "5"
      ]
     },
     "execution_count": 88,
     "metadata": {},
     "output_type": "execute_result"
    }
   ],
   "source": [
    "'abcde'.__len__()"
   ]
  },
  {
   "cell_type": "code",
   "execution_count": 89,
   "metadata": {},
   "outputs": [
    {
     "ename": "AttributeError",
     "evalue": "'int' object has no attribute '__len__'",
     "output_type": "error",
     "traceback": [
      "\u001b[1;31m---------------------------------------------------------------------------\u001b[0m",
      "\u001b[1;31mAttributeError\u001b[0m                            Traceback (most recent call last)",
      "Cell \u001b[1;32mIn[89], line 1\u001b[0m\n\u001b[1;32m----> 1\u001b[0m \u001b[43mm2\u001b[49m\u001b[38;5;241;43m.\u001b[39;49m\u001b[43mx\u001b[49m\u001b[38;5;241;43m.\u001b[39;49m\u001b[38;5;21;43m__len__\u001b[39;49m()\n",
      "\u001b[1;31mAttributeError\u001b[0m: 'int' object has no attribute '__len__'"
     ]
    }
   ],
   "source": [
    "m2.x.__len__()"
   ]
  },
  {
   "cell_type": "code",
   "execution_count": 90,
   "metadata": {},
   "outputs": [
    {
     "data": {
      "text/plain": [
       "False"
      ]
     },
     "execution_count": 90,
     "metadata": {},
     "output_type": "execute_result"
    }
   ],
   "source": [
    "m1 = MyClass('abcde')\n",
    "m2 = MyClass('abcde')\n",
    "\n",
    "m1 == m2"
   ]
  },
  {
   "cell_type": "code",
   "execution_count": 91,
   "metadata": {},
   "outputs": [
    {
     "data": {
      "text/plain": [
       "NotImplemented"
      ]
     },
     "execution_count": 91,
     "metadata": {},
     "output_type": "execute_result"
    }
   ],
   "source": [
    "# when we run ==, Python runs the __eq__ method\n",
    "# it runs the method on the left-side argument\n",
    "\n",
    "m1.__eq__(m2)"
   ]
  },
  {
   "cell_type": "code",
   "execution_count": 92,
   "metadata": {},
   "outputs": [
    {
     "data": {
      "text/plain": [
       "NotImplementedType"
      ]
     },
     "execution_count": 92,
     "metadata": {},
     "output_type": "execute_result"
    }
   ],
   "source": [
    "type(NotImplemented)"
   ]
  },
  {
   "cell_type": "code",
   "execution_count": 105,
   "metadata": {},
   "outputs": [
    {
     "data": {
      "text/plain": [
       "True"
      ]
     },
     "execution_count": 105,
     "metadata": {},
     "output_type": "execute_result"
    }
   ],
   "source": [
    "from functools import total_ordering\n",
    "\n",
    "@total_ordering    \n",
    "class MyClass:\n",
    "    def __init__(self, x):\n",
    "        self.x = x\n",
    "\n",
    "    def __len__(self):\n",
    "        return len(self.x)\n",
    "\n",
    "    def __eq__(self, other):\n",
    "        # return vars(self) == vars(other)\n",
    "        if hasattr(other, 'x'):\n",
    "            return self.x == other.x\n",
    "        return False\n",
    "\n",
    "    def __lt__(self, other):\n",
    "        if hasattr(other, 'x'):\n",
    "            return self.x < other.x\n",
    "        return False\n",
    "        \n",
    "m1 = MyClass('abcde')\n",
    "m2 = MyClass('abcde')\n",
    "\n",
    "m1 == m2"
   ]
  },
  {
   "cell_type": "code",
   "execution_count": 106,
   "metadata": {},
   "outputs": [
    {
     "data": {
      "text/plain": [
       "False"
      ]
     },
     "execution_count": 106,
     "metadata": {},
     "output_type": "execute_result"
    }
   ],
   "source": [
    "m1 == 100"
   ]
  },
  {
   "cell_type": "code",
   "execution_count": 107,
   "metadata": {},
   "outputs": [
    {
     "data": {
      "text/plain": [
       "False"
      ]
     },
     "execution_count": 107,
     "metadata": {},
     "output_type": "execute_result"
    }
   ],
   "source": [
    "100 == m1"
   ]
  },
  {
   "cell_type": "code",
   "execution_count": 108,
   "metadata": {},
   "outputs": [
    {
     "data": {
      "text/plain": [
       "True"
      ]
     },
     "execution_count": 108,
     "metadata": {},
     "output_type": "execute_result"
    }
   ],
   "source": [
    "m3 = MyClass('bcdef')\n",
    "\n",
    "m1 < m3"
   ]
  },
  {
   "cell_type": "code",
   "execution_count": 109,
   "metadata": {},
   "outputs": [
    {
     "data": {
      "text/plain": [
       "False"
      ]
     },
     "execution_count": 109,
     "metadata": {},
     "output_type": "execute_result"
    }
   ],
   "source": [
    "m1 >= m3"
   ]
  },
  {
   "cell_type": "code",
   "execution_count": 110,
   "metadata": {},
   "outputs": [
    {
     "ename": "TypeError",
     "evalue": "unsupported operand type(s) for +: 'MyClass' and 'MyClass'",
     "output_type": "error",
     "traceback": [
      "\u001b[1;31m---------------------------------------------------------------------------\u001b[0m",
      "\u001b[1;31mTypeError\u001b[0m                                 Traceback (most recent call last)",
      "Cell \u001b[1;32mIn[110], line 3\u001b[0m\n\u001b[0;32m      1\u001b[0m \u001b[38;5;66;03m# let's try addition!\u001b[39;00m\n\u001b[1;32m----> 3\u001b[0m \u001b[43mm1\u001b[49m\u001b[43m \u001b[49m\u001b[38;5;241;43m+\u001b[39;49m\u001b[43m \u001b[49m\u001b[43mm2\u001b[49m\n",
      "\u001b[1;31mTypeError\u001b[0m: unsupported operand type(s) for +: 'MyClass' and 'MyClass'"
     ]
    }
   ],
   "source": [
    "# let's try addition!\n",
    "\n",
    "m1 + m2"
   ]
  },
  {
   "cell_type": "code",
   "execution_count": 111,
   "metadata": {},
   "outputs": [
    {
     "ename": "TypeError",
     "evalue": "unsupported operand type(s) for +: 'int' and 'str'",
     "output_type": "error",
     "traceback": [
      "\u001b[1;31m---------------------------------------------------------------------------\u001b[0m",
      "\u001b[1;31mTypeError\u001b[0m                                 Traceback (most recent call last)",
      "Cell \u001b[1;32mIn[111], line 1\u001b[0m\n\u001b[1;32m----> 1\u001b[0m \u001b[38;5;241;43m10\u001b[39;49m\u001b[43m \u001b[49m\u001b[38;5;241;43m+\u001b[39;49m\u001b[43m \u001b[49m\u001b[38;5;124;43m'\u001b[39;49m\u001b[38;5;124;43m20\u001b[39;49m\u001b[38;5;124;43m'\u001b[39;49m\n",
      "\u001b[1;31mTypeError\u001b[0m: unsupported operand type(s) for +: 'int' and 'str'"
     ]
    }
   ],
   "source": [
    "10 + '20'"
   ]
  },
  {
   "cell_type": "code",
   "execution_count": 112,
   "metadata": {},
   "outputs": [
    {
     "ename": "TypeError",
     "evalue": "can only concatenate str (not \"int\") to str",
     "output_type": "error",
     "traceback": [
      "\u001b[1;31m---------------------------------------------------------------------------\u001b[0m",
      "\u001b[1;31mTypeError\u001b[0m                                 Traceback (most recent call last)",
      "Cell \u001b[1;32mIn[112], line 1\u001b[0m\n\u001b[1;32m----> 1\u001b[0m \u001b[38;5;124;43m'\u001b[39;49m\u001b[38;5;124;43m10\u001b[39;49m\u001b[38;5;124;43m'\u001b[39;49m\u001b[43m \u001b[49m\u001b[38;5;241;43m+\u001b[39;49m\u001b[43m \u001b[49m\u001b[38;5;241;43m20\u001b[39;49m\n",
      "\u001b[1;31mTypeError\u001b[0m: can only concatenate str (not \"int\") to str"
     ]
    }
   ],
   "source": [
    "'10' + 20"
   ]
  },
  {
   "cell_type": "code",
   "execution_count": 135,
   "metadata": {},
   "outputs": [
    {
     "data": {
      "text/plain": [
       "Person with self.x='abcdefghij'"
      ]
     },
     "execution_count": 135,
     "metadata": {},
     "output_type": "execute_result"
    }
   ],
   "source": [
    "from functools import total_ordering\n",
    "\n",
    "@total_ordering    \n",
    "class MyClass:\n",
    "    def __init__(self, x):\n",
    "        self.x = x\n",
    "\n",
    "    def __len__(self):\n",
    "        return len(self.x)\n",
    "\n",
    "    def __eq__(self, other):\n",
    "        # return vars(self) == vars(other)\n",
    "        if hasattr(other, 'x'):\n",
    "            return self.x == other.x\n",
    "        return False\n",
    "\n",
    "    def __lt__(self, other):\n",
    "        if hasattr(other, 'x'):\n",
    "            return self.x < other.x\n",
    "        return False\n",
    "\n",
    "    def __add__(self, other):        # self + other\n",
    "        if hasattr(other, 'x'):      # does other even have an 'x' attribute?\n",
    "            return MyClass(self.x + other.x)\n",
    "        return MyClass(self.x + str(other))\n",
    "\n",
    "    def __radd__(self, other):   # reverse add!\n",
    "        if hasattr(other, 'x'):\n",
    "            return MyClass(other.x + self.x)\n",
    "        return MyClass(str(other) + self.x)\n",
    "\n",
    "    def __iadd__(self, other):   # in-place add, +=\n",
    "        if hasattr(other, 'x'):\n",
    "            self.x += other.x\n",
    "        self.x = self.x + str(other)\n",
    "        return self\n",
    "\n",
    "    def __repr__(self):\n",
    "        return f'Person with {self.x=}'\n",
    "        \n",
    "m1 = MyClass('abcde')\n",
    "m2 = MyClass('fghij')\n",
    "\n",
    "m1 + m2"
   ]
  },
  {
   "cell_type": "code",
   "execution_count": 136,
   "metadata": {},
   "outputs": [
    {
     "data": {
      "text/plain": [
       "Person with self.x='abcde100'"
      ]
     },
     "execution_count": 136,
     "metadata": {},
     "output_type": "execute_result"
    }
   ],
   "source": [
    "m1 + 100"
   ]
  },
  {
   "cell_type": "markdown",
   "metadata": {},
   "source": [
    "Other methods for operators:\n",
    "\n",
    "- `+` -- `__add__`\n",
    "- `-` -- `__sub__`\n",
    "- `*` -- `__mul__`\n",
    "- `/` -- `__truediv__`\n",
    "- `//` -- `__floordiv__`\n",
    "- `**` -- `__exp__`\n",
    "- `%` -- `__mod__`"
   ]
  },
  {
   "cell_type": "code",
   "execution_count": 137,
   "metadata": {},
   "outputs": [
    {
     "data": {
      "text/plain": [
       "[10, 20, 30, 40, 50, 60]"
      ]
     },
     "execution_count": 137,
     "metadata": {},
     "output_type": "execute_result"
    }
   ],
   "source": [
    "[10, 20, 30] + [40, 50, 60]"
   ]
  },
  {
   "cell_type": "code",
   "execution_count": 138,
   "metadata": {},
   "outputs": [
    {
     "data": {
      "text/plain": [
       "Person with self.x='abcde100'"
      ]
     },
     "execution_count": 138,
     "metadata": {},
     "output_type": "execute_result"
    }
   ],
   "source": [
    "m1 + 100"
   ]
  },
  {
   "cell_type": "code",
   "execution_count": 139,
   "metadata": {},
   "outputs": [
    {
     "data": {
      "text/plain": [
       "Person with self.x='100abcde'"
      ]
     },
     "execution_count": 139,
     "metadata": {},
     "output_type": "execute_result"
    }
   ],
   "source": [
    "100 + m1"
   ]
  },
  {
   "cell_type": "code",
   "execution_count": 140,
   "metadata": {},
   "outputs": [
    {
     "name": "stdout",
     "output_type": "stream",
     "text": [
      "4609949072\n",
      "4609949072\n"
     ]
    }
   ],
   "source": [
    "# what's going to happen here? \n",
    "\n",
    "print(id(m1))\n",
    "m1 += 'xyz'    # m1 = m1 + 'xyz'\n",
    "print(id(m1))"
   ]
  },
  {
   "cell_type": "code",
   "execution_count": 141,
   "metadata": {},
   "outputs": [
    {
     "name": "stdout",
     "output_type": "stream",
     "text": [
      "Person with self.x='abcdexyz'\n"
     ]
    }
   ],
   "source": [
    "print(m1)"
   ]
  },
  {
   "cell_type": "code",
   "execution_count": null,
   "metadata": {},
   "outputs": [],
   "source": []
  },
  {
   "cell_type": "code",
   "execution_count": 142,
   "metadata": {},
   "outputs": [
    {
     "data": {
      "text/plain": [
       "['__abs__',\n",
       " '__add__',\n",
       " '__and__',\n",
       " '__bool__',\n",
       " '__ceil__',\n",
       " '__class__',\n",
       " '__delattr__',\n",
       " '__dir__',\n",
       " '__divmod__',\n",
       " '__doc__',\n",
       " '__eq__',\n",
       " '__float__',\n",
       " '__floor__',\n",
       " '__floordiv__',\n",
       " '__format__',\n",
       " '__ge__',\n",
       " '__getattribute__',\n",
       " '__getnewargs__',\n",
       " '__getstate__',\n",
       " '__gt__',\n",
       " '__hash__',\n",
       " '__index__',\n",
       " '__init__',\n",
       " '__init_subclass__',\n",
       " '__int__',\n",
       " '__invert__',\n",
       " '__le__',\n",
       " '__lshift__',\n",
       " '__lt__',\n",
       " '__mod__',\n",
       " '__mul__',\n",
       " '__ne__',\n",
       " '__neg__',\n",
       " '__new__',\n",
       " '__or__',\n",
       " '__pos__',\n",
       " '__pow__',\n",
       " '__radd__',\n",
       " '__rand__',\n",
       " '__rdivmod__',\n",
       " '__reduce__',\n",
       " '__reduce_ex__',\n",
       " '__repr__',\n",
       " '__rfloordiv__',\n",
       " '__rlshift__',\n",
       " '__rmod__',\n",
       " '__rmul__',\n",
       " '__ror__',\n",
       " '__round__',\n",
       " '__rpow__',\n",
       " '__rrshift__',\n",
       " '__rshift__',\n",
       " '__rsub__',\n",
       " '__rtruediv__',\n",
       " '__rxor__',\n",
       " '__setattr__',\n",
       " '__sizeof__',\n",
       " '__str__',\n",
       " '__sub__',\n",
       " '__subclasshook__',\n",
       " '__truediv__',\n",
       " '__trunc__',\n",
       " '__xor__',\n",
       " 'as_integer_ratio',\n",
       " 'bit_count',\n",
       " 'bit_length',\n",
       " 'conjugate',\n",
       " 'denominator',\n",
       " 'from_bytes',\n",
       " 'imag',\n",
       " 'numerator',\n",
       " 'real',\n",
       " 'to_bytes']"
      ]
     },
     "execution_count": 142,
     "metadata": {},
     "output_type": "execute_result"
    }
   ],
   "source": [
    "dir(5)"
   ]
  },
  {
   "cell_type": "code",
   "execution_count": 144,
   "metadata": {},
   "outputs": [
    {
     "name": "stdout",
     "output_type": "stream",
     "text": [
      "x = 123, y = [10, 20, 30]\n"
     ]
    }
   ],
   "source": [
    "x = 123\n",
    "y = [10, 20, 30]\n",
    "\n",
    "# if I want to debug\n",
    "print(f'x = {x}, y = {y}')"
   ]
  },
  {
   "cell_type": "code",
   "execution_count": 145,
   "metadata": {},
   "outputs": [
    {
     "name": "stdout",
     "output_type": "stream",
     "text": [
      "x=123, y=[10, 20, 30]\n"
     ]
    }
   ],
   "source": [
    "# as of Python 3.10\n",
    "print(f'{x=}, {y=}')"
   ]
  },
  {
   "cell_type": "code",
   "execution_count": 146,
   "metadata": {},
   "outputs": [
    {
     "name": "stdout",
     "output_type": "stream",
     "text": [
      "len(y)=3\n"
     ]
    }
   ],
   "source": [
    "print(f'{len(y)=}')"
   ]
  },
  {
   "cell_type": "code",
   "execution_count": 147,
   "metadata": {},
   "outputs": [
    {
     "data": {
      "text/plain": [
       "'d'"
      ]
     },
     "execution_count": 147,
     "metadata": {},
     "output_type": "execute_result"
    }
   ],
   "source": [
    "# have you noticed that all of these types use []\n",
    "s = 'abcde'\n",
    "s[3]\n"
   ]
  },
  {
   "cell_type": "code",
   "execution_count": 148,
   "metadata": {},
   "outputs": [
    {
     "data": {
      "text/plain": [
       "40"
      ]
     },
     "execution_count": 148,
     "metadata": {},
     "output_type": "execute_result"
    }
   ],
   "source": [
    "mylist = [10, 20, 30, 40, 50]\n",
    "mylist[3]"
   ]
  },
  {
   "cell_type": "code",
   "execution_count": 149,
   "metadata": {},
   "outputs": [
    {
     "data": {
      "text/plain": [
       "20"
      ]
     },
     "execution_count": 149,
     "metadata": {},
     "output_type": "execute_result"
    }
   ],
   "source": [
    "d = {'a':10, 'b':20, 'c':30}\n",
    "d['b']"
   ]
  },
  {
   "cell_type": "code",
   "execution_count": 150,
   "metadata": {},
   "outputs": [
    {
     "data": {
      "text/plain": [
       "'d'"
      ]
     },
     "execution_count": 150,
     "metadata": {},
     "output_type": "execute_result"
    }
   ],
   "source": [
    "# all of these implement __getitem__, that take self and the index\n",
    "\n",
    "class MyClass:\n",
    "    def __init__(self, x):\n",
    "        self.x = x\n",
    "\n",
    "    def __repr__(self):\n",
    "        return f'Person with {self.x=}'\n",
    "\n",
    "    def __getitem__(self, index):\n",
    "        return self.x[index]\n",
    "        \n",
    "m = MyClass('abcde')\n",
    "m[3]"
   ]
  },
  {
   "cell_type": "markdown",
   "metadata": {},
   "source": [
    "# Exercise: Magic methods and bowls\n",
    "\n",
    "1. Make it possible to use `len` on an instance of `Bowl`, getting the number of scoops.\n",
    "2. Make it possible to use `[]` on a `Bowl` instance, getting back one scoops.\n",
    "3. Make it possible to use `+` on two `Bowl` instances, getting back one with the scoops from both."
   ]
  },
  {
   "cell_type": "code",
   "execution_count": 170,
   "metadata": {},
   "outputs": [
    {
     "name": "stdout",
     "output_type": "stream",
     "text": [
      "['chocolate', 'vanilla', 'coffee']\n",
      "3\n"
     ]
    },
    {
     "data": {
      "text/plain": [
       "Scoop of vanilla"
      ]
     },
     "execution_count": 170,
     "metadata": {},
     "output_type": "execute_result"
    }
   ],
   "source": [
    "class Scoop:\n",
    "    def __init__(self, flavor):\n",
    "        self.flavor = flavor\n",
    "\n",
    "    def __repr__(self):\n",
    "        return f'Scoop of {self.flavor}'\n",
    "        \n",
    "class Bowl:\n",
    "    MAX_SCOOPS = 3\n",
    "    \n",
    "    def __init__(self):\n",
    "        self.scoops = []\n",
    "        \n",
    "    def add_scoops(self, *new_scoops):\n",
    "        for one_scoop in new_scoops:\n",
    "            if len(self.scoops) < self.MAX_SCOOPS:\n",
    "                self.scoops.append(one_scoop)\n",
    "            \n",
    "    def flavors(self):\n",
    "        return [one_scoop.flavor\n",
    "               for one_scoop in self.scoops]\n",
    "\n",
    "    def __repr__(self):\n",
    "        output = 'Bowl of: \\n'\n",
    "\n",
    "        return output + '\\n'.join([f'\\t{index}: {one_scoop}'\n",
    "                                   for index, one_scoop in enumerate(self.scoops, 1)])\n",
    "\n",
    "    def __len__(self):\n",
    "        return len(self.scoops)\n",
    "\n",
    "    def __getitem__(self, index):\n",
    "        if isinstance(index, slice):\n",
    "            b = Bowl()\n",
    "            b.scoops = self.scoops[index]   # index is a slice, get that part of self.scoops\n",
    "            return b\n",
    "        return self.scoops[index]   # index is an integer (we hope), and return that scoop\n",
    "\n",
    "    def __add__(self, other):\n",
    "        if not isinstance(other, Bowl):\n",
    "            raise TypeError('Can only add bowls to other bowls')\n",
    "\n",
    "        b = Bowl()\n",
    "        b.add_scoops(*(self.scoops + other.scoops))\n",
    "        return b\n",
    "\n",
    "s1 = Scoop('chocolate')\n",
    "s2 = Scoop('vanilla')\n",
    "s3 = Scoop('coffee')\n",
    "s4 = Scoop('flavor 4')\n",
    "s5 = Scoop('flavor 5')\n",
    "\n",
    "b = Bowl()\n",
    "b.add_scoops(s1, s2)\n",
    "b.add_scoops(s3)\n",
    "b.add_scoops(s4, s5)\n",
    "print(b.flavors()) \n",
    "\n",
    "print(len(b))\n",
    "b[1]"
   ]
  },
  {
   "cell_type": "code",
   "execution_count": 171,
   "metadata": {},
   "outputs": [
    {
     "data": {
      "text/plain": [
       "Bowl of: \n",
       "\t1: Scoop of chocolate\n",
       "\t2: Scoop of vanilla"
      ]
     },
     "execution_count": 171,
     "metadata": {},
     "output_type": "execute_result"
    }
   ],
   "source": [
    "b[:2]"
   ]
  },
  {
   "cell_type": "code",
   "execution_count": 172,
   "metadata": {},
   "outputs": [
    {
     "data": {
      "text/plain": [
       "Bowl of: \n",
       "\t1: Scoop of chocolate\n",
       "\t2: Scoop of vanilla\n",
       "\t3: Scoop of coffee"
      ]
     },
     "execution_count": 172,
     "metadata": {},
     "output_type": "execute_result"
    }
   ],
   "source": [
    "b1 = Bowl()\n",
    "b1.add_scoops(s1)\n",
    "\n",
    "b2 = Bowl()\n",
    "b2.add_scoops(s2, s3, s4)\n",
    "\n",
    "b1 + b2"
   ]
  },
  {
   "cell_type": "code",
   "execution_count": 173,
   "metadata": {},
   "outputs": [],
   "source": [
    "# __del__\n",
    "\n",
    "# this method runs when the reference count drops to zero\n",
    "\n",
    "x = [10, 20, 30]   # refcount to [10, 20, 30] is 1\n",
    "y = x     # refcount is 2\n",
    "z = x     # refcount is 3"
   ]
  },
  {
   "cell_type": "code",
   "execution_count": 174,
   "metadata": {},
   "outputs": [],
   "source": [
    "x = None\n",
    "y = None\n",
    "z = None\n",
    "\n",
    "# what is the refcount of [10, 20, 30]?  0\n",
    "# when it goes to 0, the object is deleted and the memory is freed"
   ]
  },
  {
   "cell_type": "code",
   "execution_count": 175,
   "metadata": {},
   "outputs": [],
   "source": [
    "class MyClass:\n",
    "    def __init__(self, x):\n",
    "        self.x = x\n",
    "\n",
    "    def __del__(self):\n",
    "        print(f'__del__ ran; {self.x=}')\n",
    "\n",
    "m1 = MyClass(10)\n",
    "m2 = MyClass(20)\n",
    "m3 = MyClass(30)"
   ]
  },
  {
   "cell_type": "code",
   "execution_count": 176,
   "metadata": {},
   "outputs": [
    {
     "name": "stdout",
     "output_type": "stream",
     "text": [
      "__del__ ran; self.x=10\n"
     ]
    }
   ],
   "source": [
    "m1 = MyClass(40) "
   ]
  },
  {
   "cell_type": "markdown",
   "metadata": {},
   "source": [
    "# Who does use `__del__`?\n",
    "\n",
    "1. Files -- when they are freed, they are flushed and closed\n",
    "2. NumPy arrays -- when their refcount goes to 0, they free the C part of the memory usage\n",
    "3. TempFile -- erases the tempfile when the refcount goes to 0\n",
    "\n"
   ]
  },
  {
   "cell_type": "code",
   "execution_count": 177,
   "metadata": {},
   "outputs": [],
   "source": [
    "import gc"
   ]
  },
  {
   "cell_type": "code",
   "execution_count": 179,
   "metadata": {},
   "outputs": [
    {
     "data": {
      "text/plain": [
       "[{'__name__': '__main__',\n",
       "  '__doc__': 'Automatically created module for IPython interactive environment',\n",
       "  '__package__': None,\n",
       "  '__loader__': None,\n",
       "  '__spec__': None,\n",
       "  '__builtin__': <module 'builtins' (built-in)>,\n",
       "  '__builtins__': <module 'builtins' (built-in)>,\n",
       "  '_ih': ['',\n",
       "   '# Agenda\\n\\n1. Inheritance\\n2. Magic methods (`__del__`)\\n3. Object system\\n4. Metaclasses\\n5. Iterators etc. ',\n",
       "   \"class Person:\\n\\n    def __init__(self, name):\\n        self.name = name\\n        \\n    def greet(self):\\n        return f'Hello, {self.name}!'\\n    \\np1 = Person('name1')    \\np2 = Person('name2')\\n\\nprint(p1.greet()) \\nprint(p2.greet()) \\n\\nclass Employee(Person):    # Employee is-a Person, i.e., inherits from Person\\n\\n    def __init__(self, name, id_number):\\n        super().__init__(name)        # do what my parent does in __init__...\\n        self.id_number = id_number    # add my own things\\n            \\ne1 = Employee('emp1', 1)# e1 has __init__? no. Empoyee has __init__? Yes \\ne2 = Employee('emp2', 2)\\n\\nprint(e1.greet()) # e1 has greet? No. Employee has greet? No. Person has greet? yes\\nprint(e2.greet()) \\n     \",\n",
       "   'class First:\\n    def __init__(self, x):\\n        self.x = x\\n\\n    def x2(self):\\n        return self.x * 2\\n\\nclass Second:\\n    def __init__(self, y):\\n        self.y = y\\n\\n    def y3(self):\\n        return self.y * 3\\n\\nclass Third(First, Second):\\n    pass',\n",
       "   '# who does Person inherit from?  We can always check __bases__\\nPerson.__bases__',\n",
       "   \"# What about Person's MRO (method resolution order)\\nPerson.__mro__\",\n",
       "   'Employee.__bases__',\n",
       "   'Employee.__mro__',\n",
       "   'First.__bases__',\n",
       "   'First.__mro__',\n",
       "   'Second.__bases__',\n",
       "   'Second.__mro__',\n",
       "   'Third.__bases__',\n",
       "   'Third.__mro__',\n",
       "   '# what happens when we create an instance of Third?\\n\\nt = Third()',\n",
       "   't = Third(10)',\n",
       "   'vars(t)',\n",
       "   't.x2()  # t has x2? No. Third has x2? No. First has x2? Yes...',\n",
       "   't.y3()  # t has y3? No. Third has y3? No. First has y3? No. Second has y3? Yes',\n",
       "   'class BadClass(Third, First, Second):\\n    pass',\n",
       "   'class BadClass(First, Third, Second):\\n    pass',\n",
       "   'help(super)',\n",
       "   'class First:\\n    def __init__(self, x):\\n        self.x = x\\n\\n    def x2(self):\\n        return self.x * 2\\n\\nclass Second(First):\\n    def __init__(self, y):\\n        self.y = y\\n\\n    def y3(self):\\n        return self.y * 3\\n\\nclass Third(First, Second):\\n    def __init__(self, x, y):\\n        super().__init__(self, x)',\n",
       "   'class First:\\n    def __init__(self, x):\\n        self.x = x\\n\\n    def x2(self):\\n        return self.x * 2\\n\\nclass Second(First):\\n    def __init__(self, y):\\n        self.y = y\\n\\n    def y3(self):\\n        return self.y * 3\\n\\nclass Third(Second):\\n    def __init__(self, x, y):\\n        super().__init__(self, x)',\n",
       "   'Third.__mro__',\n",
       "   'class First:\\n    def __init__(self, x):\\n        self.x = x\\n\\n    def x2(self):\\n        return self.x * 2\\n\\nclass Second(First):\\n    def __init__(self, y):\\n        super().__init__(y)\\n        self.y = y\\n\\n    def y3(self):\\n        return self.y * 3\\n\\nclass Third(Second):\\n    def __init__(self, x, y):\\n        super().__init__(self, x)',\n",
       "   't = Third(17)',\n",
       "   'class First:\\n    def __init__(self, x):\\n        self.x = x\\n\\n    def x2(self):\\n        return self.x * 2\\n\\nclass Second(First):\\n    def __init__(self, y):\\n        super().__init__(y)\\n        self.y = y\\n\\n    def y3(self):\\n        return self.y * 3\\n\\nclass Third(Second):\\n    def __init__(self, x):\\n        super().__init__(self, x)',\n",
       "   't = Third(17)',\n",
       "   'class First:\\n    def __init__(self, x):\\n        self.x = x\\n\\n    def x2(self):\\n        return self.x * 2\\n\\nclass Second(First):\\n    def __init__(self, y):\\n        super().__init__(y)\\n        self.y = y\\n\\n    def y3(self):\\n        return self.y * 3\\n\\nclass Third(Second):\\n    def __init__(self, x):\\n        super().__init__(x)',\n",
       "   'class First:\\n    def __init__(self, x):\\n        self.x = x\\n\\n    def x2(self):\\n        return self.x * 2\\n\\nclass Second(First):\\n    def __init__(self, y):\\n        super().__init__(y)\\n        self.y = y\\n\\n    def y3(self):\\n        return self.y * 3\\n\\nclass Third(Second):\\n    def __init__(self, x):\\n        super().__init__(x)',\n",
       "   't = Third(17)',\n",
       "   'class First:\\n    def __init__(self, x):\\n        self.x = x\\n\\n    def x2(self):\\n        return self.x * 2\\n\\nclass Second(First):\\n    def __init__(self, y):\\n        super().__init__(y)\\n        self.y = y\\n\\n    def y3(self):\\n        return self.y * 3\\n\\nclass Third(Second):\\n    def __init__(self, x):\\n        super().__init__(x)',\n",
       "   'vars(t)',\n",
       "   'object',\n",
       "   'str(t)',\n",
       "   '0x11237db10',\n",
       "   'id(t)',\n",
       "   'str(t) # __str__() on t? No. __str__ on Third? No. __str__ on Second? no. __str__ on First? No.\\n       # ___str__ on object? Yes!',\n",
       "   'object.__str__(t)',\n",
       "   't.x2()',\n",
       "   \"class First:\\n    def __init__(self, x):\\n        self.x = x\\n\\n    def x2(self):\\n        return self.x * 2\\n\\nclass Second(First):\\n    def __init__(self, y):\\n        super().__init__(y)\\n        self.y = y\\n\\n    def y3(self):\\n        return self.y * 3\\n\\nclass Third(Second):\\n    def __init__(self, x):\\n        super().__init__(x)\\n    def __str__(self):\\n        return f'My Third has attributes: {vars(self}}'\",\n",
       "   \"class First:\\n    def __init__(self, x):\\n        self.x = x\\n\\n    def x2(self):\\n        return self.x * 2\\n\\nclass Second(First):\\n    def __init__(self, y):\\n        super().__init__(y)\\n        self.y = y\\n\\n    def y3(self):\\n        return self.y * 3\\n\\nclass Third(Second):\\n    def __init__(self, x):\\n        super().__init__(x)\\n    def __str__(self):\\n        return f'My Third has attributes: {vars(self)}'\",\n",
       "   'def myfunc():\\n    asdfsadfsafffsa',\n",
       "   'def myfunc():\\n    asdfsadfsafffsa\\n    asdfakjfhskjfshjkfha',\n",
       "   'def myfunc():\\n    asdfsadfsafffsa\\n   asdfakjfhskjfshjkfha',\n",
       "   't = Third(123)',\n",
       "   'print(t)',\n",
       "   \"class Scoop:\\n    def __init__(self, flavor):\\n        self.flavor = flavor\\n        \\nclass Bowl:\\n    MAX_SCOOPS = 3\\n    \\n    def __init__(self):\\n        self.scoops = []\\n        \\n    def add_scoops(self, *new_scoops):\\n        for one_scoop in new_scoops:\\n            if len(self.scoops) < Bowl.MAX_SCOOPS:\\n                self.scoops.append(one_scoop)\\n            \\n    def flavors(self):\\n        \\n        return [one_scoop.flavor\\n               for one_scoop in self.scoops]\\n\\ns1 = Scoop('chocolate')\\ns2 = Scoop('vanilla')\\ns3 = Scoop('coffee')\\ns4 = Scoop('flavor 4')\\ns5 = Scoop('flavor 5')\\n\\nb = Bowl()\\nb.add_scoops(s1, s2)\\nb.add_scoops(s3)\\nb.add_scoops(s4, s5)\\nprint(b.flavors()) \",\n",
       "   \"class Scoop:\\n    def __init__(self, flavor):\\n        self.flavor = flavor\\n        \\nclass Bowl:\\n    MAX_SCOOPS = 3\\n    \\n    def __init__(self):\\n        self.scoops = []\\n        \\n    def add_scoops(self, *new_scoops):\\n        for one_scoop in new_scoops:\\n            if len(self.scoops) < Bowl.MAX_SCOOPS:\\n                self.scoops.append(one_scoop)\\n            \\n    def flavors(self):\\n        \\n        return [one_scoop.flavor\\n               for one_scoop in self.scoops]\\n\\ns1 = Scoop('chocolate')\\ns2 = Scoop('vanilla')\\ns3 = Scoop('coffee')\\ns4 = Scoop('flavor 4')\\ns5 = Scoop('flavor 5')\\n\\nb = Bowl()\\nb.add_scoops(s1, s2)\\nb.add_scoops(s3)\\nb.add_scoops(s4, s5)\\nprint(b.flavors()) \",\n",
       "   \"class Scoop:\\n    def __init__(self, flavor):\\n        self.flavor = flavor\\n        \\nclass Bowl:\\n    MAX_SCOOPS = 3\\n    \\n    def __init__(self):\\n        self.scoops = []\\n        \\n    def add_scoops(self, *new_scoops):\\n        for one_scoop in new_scoops:\\n            if len(self.scoops) < Bowl.MAX_SCOOPS:\\n                self.scoops.append(one_scoop)\\n            \\n    def flavors(self):\\n        \\n        return [one_scoop.flavor\\n               for one_scoop in self.scoops]\\n\\nclass BigBowl:\\n    MAX_SCOOPS = 5\\n    \\n    def __init__(self):\\n        self.scoops = []\\n        \\n    def add_scoops(self, *new_scoops):\\n        for one_scoop in new_scoops:\\n            if len(self.scoops) < BigBowl.MAX_SCOOPS:\\n                self.scoops.append(one_scoop)\\n            \\n    def flavors(self):\\n        \\n        return [one_scoop.flavor\\n               for one_scoop in self.scoops]\\n\\ns1 = Scoop('chocolate')\\ns2 = Scoop('vanilla')\\ns3 = Scoop('coffee')\\ns4 = Scoop('flavor 4')\\ns5 = Scoop('flavor 5')\\n\\nb = Bowl()\\nb.add_scoops(s1, s2)\\nb.add_scoops(s3)\\nb.add_scoops(s4, s5)\\nprint(b.flavors()) \\n\\nbb = BigBowl()\\nbb.add_scoops(s1, s2)\\nbb.add_scoops(s3)\\nbb.add_scoops(s4, s5)\\nprint(bb.flavors()) \",\n",
       "   \"class Scoop:\\n    def __init__(self, flavor):\\n        self.flavor = flavor\\n        \\nclass Bowl:\\n    MAX_SCOOPS = 3\\n    \\n    def __init__(self):\\n        self.scoops = []\\n        \\n    def add_scoops(self, *new_scoops):\\n        for one_scoop in new_scoops:\\n            if len(self.scoops) < Bowl.MAX_SCOOPS:\\n                self.scoops.append(one_scoop)\\n            \\n    def flavors(self):\\n        \\n        return [one_scoop.flavor\\n               for one_scoop in self.scoops]\\n\\nclass BigBowl(Bowl):\\n    MAX_SCOOPS = 5\\n    \\n    def __init__(self):\\n        self.scoops = []\\n        \\n    def add_scoops(self, *new_scoops):\\n        for one_scoop in new_scoops:\\n            if len(self.scoops) < BigBowl.MAX_SCOOPS:\\n                self.scoops.append(one_scoop)\\n            \\ns1 = Scoop('chocolate')\\ns2 = Scoop('vanilla')\\ns3 = Scoop('coffee')\\ns4 = Scoop('flavor 4')\\ns5 = Scoop('flavor 5')\\n\\nb = Bowl()\\nb.add_scoops(s1, s2)\\nb.add_scoops(s3)\\nb.add_scoops(s4, s5)\\nprint(b.flavors()) \\n\\nbb = BigBowl()\\nbb.add_scoops(s1, s2)\\nbb.add_scoops(s3)\\nbb.add_scoops(s4, s5)\\nprint(bb.flavors()) \",\n",
       "   \"class Scoop:\\n    def __init__(self, flavor):\\n        self.flavor = flavor\\n        \\nclass Bowl:\\n    MAX_SCOOPS = 3\\n    \\n    def __init__(self):\\n        self.scoops = []\\n        \\n    def add_scoops(self, *new_scoops):\\n        for one_scoop in new_scoops:\\n            if len(self.scoops) < Bowl.MAX_SCOOPS:\\n                self.scoops.append(one_scoop)\\n            \\n    def flavors(self):\\n        return [one_scoop.flavor\\n               for one_scoop in self.scoops]\\n\\nclass BigBowl(Bowl):\\n    MAX_SCOOPS = 5\\n    \\n    def add_scoops(self, *new_scoops):\\n        for one_scoop in new_scoops:\\n            if len(self.scoops) < BigBowl.MAX_SCOOPS:\\n                self.scoops.append(one_scoop)\\n            \\ns1 = Scoop('chocolate')\\ns2 = Scoop('vanilla')\\ns3 = Scoop('coffee')\\ns4 = Scoop('flavor 4')\\ns5 = Scoop('flavor 5')\\n\\nb = Bowl()\\nb.add_scoops(s1, s2)\\nb.add_scoops(s3)\\nb.add_scoops(s4, s5)\\nprint(b.flavors()) \\n\\nbb = BigBowl()\\nbb.add_scoops(s1, s2)\\nbb.add_scoops(s3)\\nbb.add_scoops(s4, s5)\\nprint(bb.flavors()) \",\n",
       "   \"class Scoop:\\n    def __init__(self, flavor):\\n        self.flavor = flavor\\n        \\nclass Bowl:\\n    MAX_SCOOPS = 3\\n    \\n    def __init__(self):\\n        self.scoops = []\\n        \\n    def add_scoops(self, *new_scoops):\\n        for one_scoop in new_scoops:\\n            if len(self.scoops) < self.MAX_SCOOPS:\\n                self.scoops.append(one_scoop)\\n            \\n    def flavors(self):\\n        return [one_scoop.flavor\\n               for one_scoop in self.scoops]\\n\\nclass BigBowl(Bowl):\\n    MAX_SCOOPS = 5\\n            \\ns1 = Scoop('chocolate')\\ns2 = Scoop('vanilla')\\ns3 = Scoop('coffee')\\ns4 = Scoop('flavor 4')\\ns5 = Scoop('flavor 5')\\n\\nb = Bowl()\\nb.add_scoops(s1, s2)\\nb.add_scoops(s3)\\nb.add_scoops(s4, s5)\\nprint(b.flavors()) \\n\\nbb = BigBowl()\\nbb.add_scoops(s1, s2)\\nbb.add_scoops(s3)\\nbb.add_scoops(s4, s5)\\nprint(bb.flavors()) \",\n",
       "   \"class Scoop:\\n    def __init__(self, flavor):\\n        self.flavor = flavor\\n        \\nclass Bowl:\\n    MAX_SCOOPS = 3\\n    \\n    def __init__(self):\\n        self.scoops = []\\n        \\n    def add_scoops(self, *new_scoops):\\n        for one_scoop in new_scoops:\\n            if len(self.scoops) < self.MAX_SCOOPS:\\n                self.scoops.append(one_scoop)\\n            \\n    def flavors(self):\\n        return [one_scoop.flavor\\n               for one_scoop in self.scoops]\\n\\nclass BigBowl(Bowl):\\n    Bowl.MAX_SCOOPS = 5\\n            \\ns1 = Scoop('chocolate')\\ns2 = Scoop('vanilla')\\ns3 = Scoop('coffee')\\ns4 = Scoop('flavor 4')\\ns5 = Scoop('flavor 5')\\n\\nb = Bowl()\\nb.add_scoops(s1, s2)\\nb.add_scoops(s3)\\nb.add_scoops(s4, s5)\\nprint(b.flavors()) \\n\\nbb = BigBowl()\\nbb.add_scoops(s1, s2)\\nbb.add_scoops(s3)\\nbb.add_scoops(s4, s5)\\nprint(bb.flavors()) \",\n",
       "   \"class Scoop:\\n    def __init__(self, flavor):\\n        self.flavor = flavor\\n        \\nclass Bowl:\\n    MAX_SCOOPS = 3\\n    \\n    def __init__(self):\\n        self.scoops = []\\n        \\n    def add_scoops(self, *new_scoops):\\n        for one_scoop in new_scoops:\\n            if len(self.scoops) < self.MAX_SCOOPS:\\n                self.scoops.append(one_scoop)\\n            \\n    def flavors(self):\\n        return [one_scoop.flavor\\n               for one_scoop in self.scoops]\\n\\nclass BigBowl(Bowl):\\n    MAX_SCOOPS = 5\\n            \\ns1 = Scoop('chocolate')\\ns2 = Scoop('vanilla')\\ns3 = Scoop('coffee')\\ns4 = Scoop('flavor 4')\\ns5 = Scoop('flavor 5')\\n\\nb = Bowl()\\nb.add_scoops(s1, s2)\\nb.add_scoops(s3)\\nb.add_scoops(s4, s5)\\nprint(b.flavors()) \\n\\nbb = BigBowl()\\nbb.add_scoops(s1, s2)\\nbb.add_scoops(s3)\\nbb.add_scoops(s4, s5)\\nprint(bb.flavors()) \",\n",
       "   'print(s1)',\n",
       "   'print(s1) # print(str(s1)) -> print(s1.__str__()) -> does s1 have __str__? No. Does Scoop have __str__? No.\\n          #         does object have __str__? Yes!',\n",
       "   'print(s1) # print(str(s1)) -> print(s1.__str__()) -> does s1 have __str__? No. Does Scoop have __str__? No.\\n          #         does object have __str__? Yes!',\n",
       "   \"class Scoop:\\n    def __init__(self, flavor):\\n        self.flavor = flavor\\n\\n    def __str__(self):\\n        return f'Scoop of {self.flavor}'\\n        \\nclass Bowl:\\n    MAX_SCOOPS = 3\\n    \\n    def __init__(self):\\n        self.scoops = []\\n        \\n    def add_scoops(self, *new_scoops):\\n        for one_scoop in new_scoops:\\n            if len(self.scoops) < self.MAX_SCOOPS:\\n                self.scoops.append(one_scoop)\\n            \\n    def flavors(self):\\n        return [one_scoop.flavor\\n               for one_scoop in self.scoops]\\n\\nclass BigBowl(Bowl):\\n    MAX_SCOOPS = 5\\n            \\ns1 = Scoop('chocolate')\\ns2 = Scoop('vanilla')\\ns3 = Scoop('coffee')\\ns4 = Scoop('flavor 4')\\ns5 = Scoop('flavor 5')\\n\\nb = Bowl()\\nb.add_scoops(s1, s2)\\nb.add_scoops(s3)\\nb.add_scoops(s4, s5)\\nprint(b.flavors()) \\n\\nbb = BigBowl()\\nbb.add_scoops(s1, s2)\\nbb.add_scoops(s3)\\nbb.add_scoops(s4, s5)\\nprint(bb.flavors()) \",\n",
       "   'print(s1) # print(str(s1)) -> print(s1.__str__()) -> does s1 have __str__? No. Does Scoop have __str__? No.\\n          #         does object have __str__? Yes!',\n",
       "   'print(b)',\n",
       "   \"class Scoop:\\n    def __init__(self, flavor):\\n        self.flavor = flavor\\n\\n    def __str__(self):\\n        return f'Scoop of {self.flavor}'\\n        \\nclass Bowl:\\n    MAX_SCOOPS = 3\\n    \\n    def __init__(self):\\n        self.scoops = []\\n        \\n    def add_scoops(self, *new_scoops):\\n        for one_scoop in new_scoops:\\n            if len(self.scoops) < self.MAX_SCOOPS:\\n                self.scoops.append(one_scoop)\\n            \\n    def flavors(self):\\n        return [one_scoop.flavor\\n               for one_scoop in self.scoops]\\n\\n    def __str__(self):\\n        output = 'Bowl of: \\\\n'\\n\\n        for one_scoop in self.scoops:\\n            output += f'\\\\t{one_scoop}\\\\n'\\n\\n        return output\\n\\nclass BigBowl(Bowl):\\n    MAX_SCOOPS = 5\\n            \\ns1 = Scoop('chocolate')\\ns2 = Scoop('vanilla')\\ns3 = Scoop('coffee')\\ns4 = Scoop('flavor 4')\\ns5 = Scoop('flavor 5')\\n\\nb = Bowl()\\nb.add_scoops(s1, s2)\\nb.add_scoops(s3)\\nb.add_scoops(s4, s5)\\nprint(b.flavors()) \\n\\nbb = BigBowl()\\nbb.add_scoops(s1, s2)\\nbb.add_scoops(s3)\\nbb.add_scoops(s4, s5)\\nprint(bb.flavors()) \",\n",
       "   'print(s1) # print(str(s1)) -> print(s1.__str__()) -> does s1 have __str__? No. Does Scoop have __str__? No.\\n          #         does object have __str__? Yes!',\n",
       "   'print(b)',\n",
       "   \"class Scoop:\\n    def __init__(self, flavor):\\n        self.flavor = flavor\\n\\n    def __str__(self):\\n        return f'Scoop of {self.flavor}'\\n        \\nclass Bowl:\\n    MAX_SCOOPS = 3\\n    \\n    def __init__(self):\\n        self.scoops = []\\n        \\n    def add_scoops(self, *new_scoops):\\n        for one_scoop in new_scoops:\\n            if len(self.scoops) < self.MAX_SCOOPS:\\n                self.scoops.append(one_scoop)\\n            \\n    def flavors(self):\\n        return [one_scoop.flavor\\n               for one_scoop in self.scoops]\\n\\n    def __str__(self):\\n        output = 'Bowl of: \\\\n'\\n\\n        for index, one_scoop in enumerate(self.scoops):\\n            output += f'\\\\t{index}: {one_scoop}\\\\n'\\n\\n        return output\\n\\nclass BigBowl(Bowl):\\n    MAX_SCOOPS = 5\\n            \\ns1 = Scoop('chocolate')\\ns2 = Scoop('vanilla')\\ns3 = Scoop('coffee')\\ns4 = Scoop('flavor 4')\\ns5 = Scoop('flavor 5')\\n\\nb = Bowl()\\nb.add_scoops(s1, s2)\\nb.add_scoops(s3)\\nb.add_scoops(s4, s5)\\nprint(b.flavors()) \\n\\nbb = BigBowl()\\nbb.add_scoops(s1, s2)\\nbb.add_scoops(s3)\\nbb.add_scoops(s4, s5)\\nprint(bb.flavors()) \",\n",
       "   'print(s1) # print(str(s1)) -> print(s1.__str__()) -> does s1 have __str__? No. Does Scoop have __str__? No.\\n          #         does object have __str__? Yes!',\n",
       "   'print(b)',\n",
       "   \"class Scoop:\\n    def __init__(self, flavor):\\n        self.flavor = flavor\\n\\n    def __str__(self):\\n        return f'Scoop of {self.flavor}'\\n        \\nclass Bowl:\\n    MAX_SCOOPS = 3\\n    \\n    def __init__(self):\\n        self.scoops = []\\n        \\n    def add_scoops(self, *new_scoops):\\n        for one_scoop in new_scoops:\\n            if len(self.scoops) < self.MAX_SCOOPS:\\n                self.scoops.append(one_scoop)\\n            \\n    def flavors(self):\\n        return [one_scoop.flavor\\n               for one_scoop in self.scoops]\\n\\n    def __str__(self):\\n        output = 'Bowl of: \\\\n'\\n\\n        for index, one_scoop in enumerate(self.scoops, 1):\\n            output += f'\\\\t{index}: {one_scoop}\\\\n'\\n\\n        return output\\n\\nclass BigBowl(Bowl):\\n    MAX_SCOOPS = 5\\n            \\ns1 = Scoop('chocolate')\\ns2 = Scoop('vanilla')\\ns3 = Scoop('coffee')\\ns4 = Scoop('flavor 4')\\ns5 = Scoop('flavor 5')\\n\\nb = Bowl()\\nb.add_scoops(s1, s2)\\nb.add_scoops(s3)\\nb.add_scoops(s4, s5)\\nprint(b.flavors()) \\n\\nbb = BigBowl()\\nbb.add_scoops(s1, s2)\\nbb.add_scoops(s3)\\nbb.add_scoops(s4, s5)\\nprint(bb.flavors()) \",\n",
       "   'print(s1) # print(str(s1)) -> print(s1.__str__()) -> does s1 have __str__? No. Does Scoop have __str__? No.\\n          #         does object have __str__? Yes!',\n",
       "   'print(b)',\n",
       "   \"class Scoop:\\n    def __init__(self, flavor):\\n        self.flavor = flavor\\n\\n    def __str__(self):\\n        return f'Scoop of {self.flavor}'\\n        \\nclass Bowl:\\n    MAX_SCOOPS = 3\\n    \\n    def __init__(self):\\n        self.scoops = []\\n        \\n    def add_scoops(self, *new_scoops):\\n        for one_scoop in new_scoops:\\n            if len(self.scoops) < self.MAX_SCOOPS:\\n                self.scoops.append(one_scoop)\\n            \\n    def flavors(self):\\n        return [one_scoop.flavor\\n               for one_scoop in self.scoops]\\n\\n    def __str__(self):\\n        output = 'Bowl of: \\\\n'\\n\\n        # for index, one_scoop in enumerate(self.scoops, 1):\\n        #     output += f'\\\\t{index}: {one_scoop}\\\\n'\\n\\n        # return output\\n\\n        return output + '\\\\n'.join([f'\\\\t{index}: {one_scoop}'\\n                                   for index, one_scoop in enumerate(self.scoops, 1)])\\n\\nclass BigBowl(Bowl):\\n    MAX_SCOOPS = 5\\n            \\ns1 = Scoop('chocolate')\\ns2 = Scoop('vanilla')\\ns3 = Scoop('coffee')\\ns4 = Scoop('flavor 4')\\ns5 = Scoop('flavor 5')\\n\\nb = Bowl()\\nb.add_scoops(s1, s2)\\nb.add_scoops(s3)\\nb.add_scoops(s4, s5)\\nprint(b.flavors()) \\n\\nbb = BigBowl()\\nbb.add_scoops(s1, s2)\\nbb.add_scoops(s3)\\nbb.add_scoops(s4, s5)\\nprint(bb.flavors()) \",\n",
       "   'print(s1) # print(str(s1)) -> print(s1.__str__()) -> does s1 have __str__? No. Does Scoop have __str__? No.\\n          #         does object have __str__? Yes!',\n",
       "   'print(b)',\n",
       "   'print(s1)',\n",
       "   's1',\n",
       "   'b',\n",
       "   \"class Scoop:\\n    def __init__(self, flavor):\\n        self.flavor = flavor\\n\\n    def __repr__(self):\\n        return f'Scoop of {self.flavor}'\\n        \\nclass Bowl:\\n    MAX_SCOOPS = 3\\n    \\n    def __init__(self):\\n        self.scoops = []\\n        \\n    def add_scoops(self, *new_scoops):\\n        for one_scoop in new_scoops:\\n            if len(self.scoops) < self.MAX_SCOOPS:\\n                self.scoops.append(one_scoop)\\n            \\n    def flavors(self):\\n        return [one_scoop.flavor\\n               for one_scoop in self.scoops]\\n\\n    def __repr__(self):\\n        output = 'Bowl of: \\\\n'\\n\\n        # for index, one_scoop in enumerate(self.scoops, 1):\\n        #     output += f'\\\\t{index}: {one_scoop}\\\\n'\\n\\n        # return output\\n\\n        return output + '\\\\n'.join([f'\\\\t{index}: {one_scoop}'\\n                                   for index, one_scoop in enumerate(self.scoops, 1)])\\n\\nclass BigBowl(Bowl):\\n    MAX_SCOOPS = 5\\n            \\ns1 = Scoop('chocolate')\\ns2 = Scoop('vanilla')\\ns3 = Scoop('coffee')\\ns4 = Scoop('flavor 4')\\ns5 = Scoop('flavor 5')\\n\\nb = Bowl()\\nb.add_scoops(s1, s2)\\nb.add_scoops(s3)\\nb.add_scoops(s4, s5)\\nprint(b.flavors()) \\n\\nbb = BigBowl()\\nbb.add_scoops(s1, s2)\\nbb.add_scoops(s3)\\nbb.add_scoops(s4, s5)\\nprint(bb.flavors()) \",\n",
       "   'print(s1) # print(str(s1)) -> print(s1.__str__()) -> does s1 have __str__? No. Does Scoop have __str__? No.\\n          #         does object have __str__? Yes!',\n",
       "   'print(b)',\n",
       "   's1',\n",
       "   'b',\n",
       "   'object.__str__(s1)',\n",
       "   'object.__repr__(s1)',\n",
       "   \"class MyClass:\\n    def __init__(self, x):\\n        self.x = x\\n\\nm1 = MyClass('abcde')\\n\\nlen(m1)\",\n",
       "   \"class MyClass:\\n    def __init__(self, x):\\n        self.x = x\\n\\n    def __len__(self):\\n        return len(self.x)\\n\\nm1 = MyClass('abcde')\\n\\nlen(m1)  # this actually calls m1.__len__()\",\n",
       "   'm2 = MyClass(100)\\nlen(m2)',\n",
       "   \"'abcde'.__len__()\",\n",
       "   'm2.x.__len__()',\n",
       "   \"m1 = MyClass('abcde')\\nm2 = MyClass('abcde')\\n\\nm1 == m2\",\n",
       "   '# when we run ==, Python runs the __eq__ method\\n# it runs the method on the left-side argument\\n\\nm1.__eq__(m2)',\n",
       "   'type(NotImplemented)',\n",
       "   \"class MyClass:\\n    def __init__(self, x):\\n        self.x = x\\n\\n    def __len__(self):\\n        return len(self.x)\\n\\n    def __eq__(self, other):\\n        return vars(self) == vars(other)\\n\\nm1 = MyClass('abcde')\\nm2 = MyClass('abcde')\\n\\nm1 == m2\",\n",
       "   \"class MyClass:\\n    def __init__(self, x):\\n        self.x = x\\n\\n    def __len__(self):\\n        return len(self.x)\\n\\n    def __eq__(self, other):\\n        # return vars(self) == vars(other)\\n        return self.x == other.x\\n\\nm1 = MyClass('abcde')\\nm2 = MyClass('abcde')\\n\\nm1 == m2\",\n",
       "   'm1 == 100',\n",
       "   \"class MyClass:\\n    def __init__(self, x):\\n        self.x = x\\n\\n    def __len__(self):\\n        return len(self.x)\\n\\n    def __eq__(self, other):\\n        # return vars(self) == vars(other)\\n        if hasattr(other, 'x'):\\n            return self.x == other.x\\n        return False\\n\\nm1 = MyClass('abcde')\\nm2 = MyClass('abcde')\\n\\nm1 == m2\",\n",
       "   'm1 == 100',\n",
       "   '100 == m1',\n",
       "   \"class MyClass:\\n    def __init__(self, x):\\n        self.x = x\\n\\n    def __len__(self):\\n        return len(self.x)\\n\\n    def __eq__(self, other):\\n        # return vars(self) == vars(other)\\n        if hasattr(other, 'x'):\\n            return self.x == other.x\\n        return False\\n\\n    def __lt__(self, other):\\n        if hasattr(other, 'x'):\\n            return self.x < other.x\\n        return False\\n        \\nm1 = MyClass('abcde')\\nm2 = MyClass('abcde')\\n\\nm1 == m2\",\n",
       "   'm1 == 100',\n",
       "   '100 == m1',\n",
       "   \"m3 = MyClass('bcdef')\\n\\nm1 < m3\",\n",
       "   'm1 >= m3',\n",
       "   \"from functools import total_ordering\\n\\n@total_ordering    \\nclass MyClass:\\n    def __init__(self, x):\\n        self.x = x\\n\\n    def __len__(self):\\n        return len(self.x)\\n\\n    def __eq__(self, other):\\n        # return vars(self) == vars(other)\\n        if hasattr(other, 'x'):\\n            return self.x == other.x\\n        return False\\n\\n    def __lt__(self, other):\\n        if hasattr(other, 'x'):\\n            return self.x < other.x\\n        return False\\n        \\nm1 = MyClass('abcde')\\nm2 = MyClass('abcde')\\n\\nm1 == m2\",\n",
       "   \"from functools import total_ordering\\n\\n@total_ordering    \\nclass MyClass:\\n    def __init__(self, x):\\n        self.x = x\\n\\n    def __len__(self):\\n        return len(self.x)\\n\\n    def __eq__(self, other):\\n        # return vars(self) == vars(other)\\n        if hasattr(other, 'x'):\\n            return self.x == other.x\\n        return False\\n\\n    def __lt__(self, other):\\n        if hasattr(other, 'x'):\\n            return self.x < other.x\\n        return False\\n        \\nm1 = MyClass('abcde')\\nm2 = MyClass('abcde')\\n\\nm1 == m2\",\n",
       "   'm1 == 100',\n",
       "   '100 == m1',\n",
       "   \"m3 = MyClass('bcdef')\\n\\nm1 < m3\",\n",
       "   'm1 >= m3',\n",
       "   \"# let's try addition!\\n\\nm1 + m2\",\n",
       "   \"10 + '20'\",\n",
       "   \"'10' + 20\",\n",
       "   \"from functools import total_ordering\\n\\n@total_ordering    \\nclass MyClass:\\n    def __init__(self, x):\\n        self.x = x\\n\\n    def __len__(self):\\n        return len(self.x)\\n\\n    def __eq__(self, other):\\n        # return vars(self) == vars(other)\\n        if hasattr(other, 'x'):\\n            return self.x == other.x\\n        return False\\n\\n    def __lt__(self, other):\\n        if hasattr(other, 'x'):\\n            return self.x < other.x\\n        return False\\n\\n    def __add__(self, other):\\n        if hasattr(other, 'x'):\\n            return MyClass(self.x + other.x)\\n        \\nm1 = MyClass('abcde')\\nm2 = MyClass('fghij')\\n\\nm1 + m2\",\n",
       "   \"from functools import total_ordering\\n\\n@total_ordering    \\nclass MyClass:\\n    def __init__(self, x):\\n        self.x = x\\n\\n    def __len__(self):\\n        return len(self.x)\\n\\n    def __eq__(self, other):\\n        # return vars(self) == vars(other)\\n        if hasattr(other, 'x'):\\n            return self.x == other.x\\n        return False\\n\\n    def __lt__(self, other):\\n        if hasattr(other, 'x'):\\n            return self.x < other.x\\n        return False\\n\\n    def __add__(self, other):\\n        if hasattr(other, 'x'):\\n            return MyClass(self.x + other.x)\\n\\n    def __repr__(self):\\n        return f'Person with {self.x=}'\\n        \\nm1 = MyClass('abcde')\\nm2 = MyClass('fghij')\\n\\nm1 + m2\",\n",
       "   'm1 + 100',\n",
       "   \"from functools import total_ordering\\n\\n@total_ordering    \\nclass MyClass:\\n    def __init__(self, x):\\n        self.x = x\\n\\n    def __len__(self):\\n        return len(self.x)\\n\\n    def __eq__(self, other):\\n        # return vars(self) == vars(other)\\n        if hasattr(other, 'x'):\\n            return self.x == other.x\\n        return False\\n\\n    def __lt__(self, other):\\n        if hasattr(other, 'x'):\\n            return self.x < other.x\\n        return False\\n\\n    def __add__(self, other):\\n        if hasattr(other, 'x'):\\n            return MyClass(self.x + other.x)\\n        return MyClass(self.x + str(other))\\n\\n    def __repr__(self):\\n        return f'Person with {self.x=}'\\n        \\nm1 = MyClass('abcde')\\nm2 = MyClass('fghij')\\n\\nm1 + m2\",\n",
       "   'm1 + 100',\n",
       "   '[10, 20, 30] + [40, 50, 60]',\n",
       "   'm1 + 100',\n",
       "   '100 + m1',\n",
       "   \"from functools import total_ordering\\n\\n@total_ordering    \\nclass MyClass:\\n    def __init__(self, x):\\n        self.x = x\\n\\n    def __len__(self):\\n        return len(self.x)\\n\\n    def __eq__(self, other):\\n        # return vars(self) == vars(other)\\n        if hasattr(other, 'x'):\\n            return self.x == other.x\\n        return False\\n\\n    def __lt__(self, other):\\n        if hasattr(other, 'x'):\\n            return self.x < other.x\\n        return False\\n\\n    def __add__(self, other):\\n        if hasattr(other, 'x'):\\n            return MyClass(self.x + other.x)\\n        return MyClass(self.x + str(other))\\n\\n    def __radd__(self, other):   # reverse add!\\n        if hasattr(other, 'x'):\\n            return MyClass(other.x + self.x)\\n        return MyClass(str(other) + self.x)\\n\\n    def __repr__(self):\\n        return f'Person with {self.x=}'\\n        \\nm1 = MyClass('abcde')\\nm2 = MyClass('fghij')\\n\\nm1 + m2\",\n",
       "   'm1 + 100',\n",
       "   '[10, 20, 30] + [40, 50, 60]',\n",
       "   'm1 + 100',\n",
       "   '100 + m1',\n",
       "   \"# what's going to happen here? \\n\\nprint(id(m1))\\nm1 += 'xyz'    # m1 = m1 + 'xyz'\\nprint(id(m1))\",\n",
       "   'print(m1)',\n",
       "   \"from functools import total_ordering\\n\\n@total_ordering    \\nclass MyClass:\\n    def __init__(self, x):\\n        self.x = x\\n\\n    def __len__(self):\\n        return len(self.x)\\n\\n    def __eq__(self, other):\\n        # return vars(self) == vars(other)\\n        if hasattr(other, 'x'):\\n            return self.x == other.x\\n        return False\\n\\n    def __lt__(self, other):\\n        if hasattr(other, 'x'):\\n            return self.x < other.x\\n        return False\\n\\n    def __add__(self, other):\\n        if hasattr(other, 'x'):\\n            return MyClass(self.x + other.x)\\n        return MyClass(self.x + str(other))\\n\\n    def __radd__(self, other):   # reverse add!\\n        if hasattr(other, 'x'):\\n            return MyClass(other.x + self.x)\\n        return MyClass(str(other) + self.x)\\n\\n    def __iadd__(self, other):   # in-place add, +=\\n        if hasattr(other, 'x'):\\n            self.x += other.x\\n        self.x = str(other) + self.x\\n        return self\\n\\n    def __repr__(self):\\n        return f'Person with {self.x=}'\\n        \\nm1 = MyClass('abcde')\\nm2 = MyClass('fghij')\\n\\nm1 + m2\",\n",
       "   'm1 + 100',\n",
       "   '[10, 20, 30] + [40, 50, 60]',\n",
       "   'm1 + 100',\n",
       "   '100 + m1',\n",
       "   \"# what's going to happen here? \\n\\nprint(id(m1))\\nm1 += 'xyz'    # m1 = m1 + 'xyz'\\nprint(id(m1))\",\n",
       "   'print(m1)',\n",
       "   \"from functools import total_ordering\\n\\n@total_ordering    \\nclass MyClass:\\n    def __init__(self, x):\\n        self.x = x\\n\\n    def __len__(self):\\n        return len(self.x)\\n\\n    def __eq__(self, other):\\n        # return vars(self) == vars(other)\\n        if hasattr(other, 'x'):\\n            return self.x == other.x\\n        return False\\n\\n    def __lt__(self, other):\\n        if hasattr(other, 'x'):\\n            return self.x < other.x\\n        return False\\n\\n    def __add__(self, other):\\n        if hasattr(other, 'x'):\\n            return MyClass(self.x + other.x)\\n        return MyClass(self.x + str(other))\\n\\n    def __radd__(self, other):   # reverse add!\\n        if hasattr(other, 'x'):\\n            return MyClass(other.x + self.x)\\n        return MyClass(str(other) + self.x)\\n\\n    def __iadd__(self, other):   # in-place add, +=\\n        if hasattr(other, 'x'):\\n            self.x += other.x\\n        self.x = self.x + str(other)\\n        return self\\n\\n    def __repr__(self):\\n        return f'Person with {self.x=}'\\n        \\nm1 = MyClass('abcde')\\nm2 = MyClass('fghij')\\n\\nm1 + m2\",\n",
       "   'm1 + 100',\n",
       "   '[10, 20, 30] + [40, 50, 60]',\n",
       "   'm1 + 100',\n",
       "   '100 + m1',\n",
       "   \"# what's going to happen here? \\n\\nprint(id(m1))\\nm1 += 'xyz'    # m1 = m1 + 'xyz'\\nprint(id(m1))\",\n",
       "   'print(m1)',\n",
       "   'dir(5)',\n",
       "   \"x = 123\\ny = [10, 20, 30]\\n\\n# if I want to debug\\nprint(f'x = {x}, y = {y}'\",\n",
       "   \"x = 123\\ny = [10, 20, 30]\\n\\n# if I want to debug\\nprint(f'x = {x}, y = {y}')\",\n",
       "   \"# as of Python 3.10\\nprint(f'{x=}, {y=}')\",\n",
       "   \"print(f'{len(y)=}')\",\n",
       "   \"# have you noticed that all of these types use []\\ns = 'abcde'\\ns[3]\",\n",
       "   'mylist = [10, 20, 30, 40, 50]\\nmylist[3]',\n",
       "   \"d = {'a':10, 'b':20, 'c':30}\\nd['b']\",\n",
       "   \"# all of these implement __getitem__, that take self and the index\\n\\nclass MyClass:\\n    def __init__(self, x):\\n        self.x = x\\n\\n    def __repr__(self):\\n        return f'Person with {self.x=}'\\n\\n    def __getitem__(self, index):\\n        return self.x[index]\\n        \\nm = MyClass('abcde')\\nm[3]\",\n",
       "   \"class Scoop:\\n    def __init__(self, flavor):\\n        self.flavor = flavor\\n\\n    def __repr__(self):\\n        return f'Scoop of {self.flavor}'\\n        \\nclass Bowl:\\n    MAX_SCOOPS = 3\\n    \\n    def __init__(self):\\n        self.scoops = []\\n        \\n    def add_scoops(self, *new_scoops):\\n        for one_scoop in new_scoops:\\n            if len(self.scoops) < self.MAX_SCOOPS:\\n                self.scoops.append(one_scoop)\\n            \\n    def flavors(self):\\n        return [one_scoop.flavor\\n               for one_scoop in self.scoops]\\n\\n    def __repr__(self):\\n        output = 'Bowl of: \\\\n'\\n\\n        return output + '\\\\n'.join([f'\\\\t{index}: {one_scoop}'\\n                                   for index, one_scoop in enumerate(self.scoops, 1)])\\n\\ns1 = Scoop('chocolate')\\ns2 = Scoop('vanilla')\\ns3 = Scoop('coffee')\\ns4 = Scoop('flavor 4')\\ns5 = Scoop('flavor 5')\\n\\nb = Bowl()\\nb.add_scoops(s1, s2)\\nb.add_scoops(s3)\\nb.add_scoops(s4, s5)\\nprint(b.flavors()) \\n\\nprint(len(b))\",\n",
       "   \"class Scoop:\\n    def __init__(self, flavor):\\n        self.flavor = flavor\\n\\n    def __repr__(self):\\n        return f'Scoop of {self.flavor}'\\n        \\nclass Bowl:\\n    MAX_SCOOPS = 3\\n    \\n    def __init__(self):\\n        self.scoops = []\\n        \\n    def add_scoops(self, *new_scoops):\\n        for one_scoop in new_scoops:\\n            if len(self.scoops) < self.MAX_SCOOPS:\\n                self.scoops.append(one_scoop)\\n            \\n    def flavors(self):\\n        return [one_scoop.flavor\\n               for one_scoop in self.scoops]\\n\\n    def __repr__(self):\\n        output = 'Bowl of: \\\\n'\\n\\n        return output + '\\\\n'.join([f'\\\\t{index}: {one_scoop}'\\n                                   for index, one_scoop in enumerate(self.scoops, 1)])\\n\\n    def __len__(self):\\n        return len(self.scoops))\\n\\ns1 = Scoop('chocolate')\\ns2 = Scoop('vanilla')\\ns3 = Scoop('coffee')\\ns4 = Scoop('flavor 4')\\ns5 = Scoop('flavor 5')\\n\\nb = Bowl()\\nb.add_scoops(s1, s2)\\nb.add_scoops(s3)\\nb.add_scoops(s4, s5)\\nprint(b.flavors()) \\n\\nprint(len(b))\",\n",
       "   \"class Scoop:\\n    def __init__(self, flavor):\\n        self.flavor = flavor\\n\\n    def __repr__(self):\\n        return f'Scoop of {self.flavor}'\\n        \\nclass Bowl:\\n    MAX_SCOOPS = 3\\n    \\n    def __init__(self):\\n        self.scoops = []\\n        \\n    def add_scoops(self, *new_scoops):\\n        for one_scoop in new_scoops:\\n            if len(self.scoops) < self.MAX_SCOOPS:\\n                self.scoops.append(one_scoop)\\n            \\n    def flavors(self):\\n        return [one_scoop.flavor\\n               for one_scoop in self.scoops]\\n\\n    def __repr__(self):\\n        output = 'Bowl of: \\\\n'\\n\\n        return output + '\\\\n'.join([f'\\\\t{index}: {one_scoop}'\\n                                   for index, one_scoop in enumerate(self.scoops, 1)])\\n\\n    def __len__(self):\\n        return len(self.scoops)\\n\\ns1 = Scoop('chocolate')\\ns2 = Scoop('vanilla')\\ns3 = Scoop('coffee')\\ns4 = Scoop('flavor 4')\\ns5 = Scoop('flavor 5')\\n\\nb = Bowl()\\nb.add_scoops(s1, s2)\\nb.add_scoops(s3)\\nb.add_scoops(s4, s5)\\nprint(b.flavors()) \\n\\nprint(len(b))\",\n",
       "   \"class Scoop:\\n    def __init__(self, flavor):\\n        self.flavor = flavor\\n\\n    def __repr__(self):\\n        return f'Scoop of {self.flavor}'\\n        \\nclass Bowl:\\n    MAX_SCOOPS = 3\\n    \\n    def __init__(self):\\n        self.scoops = []\\n        \\n    def add_scoops(self, *new_scoops):\\n        for one_scoop in new_scoops:\\n            if len(self.scoops) < self.MAX_SCOOPS:\\n                self.scoops.append(one_scoop)\\n            \\n    def flavors(self):\\n        return [one_scoop.flavor\\n               for one_scoop in self.scoops]\\n\\n    def __repr__(self):\\n        output = 'Bowl of: \\\\n'\\n\\n        return output + '\\\\n'.join([f'\\\\t{index}: {one_scoop}'\\n                                   for index, one_scoop in enumerate(self.scoops, 1)])\\n\\n    def __len__(self):\\n        return len(self.scoops)\\n\\ns1 = Scoop('chocolate')\\ns2 = Scoop('vanilla')\\ns3 = Scoop('coffee')\\ns4 = Scoop('flavor 4')\\ns5 = Scoop('flavor 5')\\n\\nb = Bowl()\\nb.add_scoops(s1, s2)\\nb.add_scoops(s3)\\nb.add_scoops(s4, s5)\\nprint(b.flavors()) \\n\\nprint(len(b))\\nb[1]\",\n",
       "   \"class Scoop:\\n    def __init__(self, flavor):\\n        self.flavor = flavor\\n\\n    def __repr__(self):\\n        return f'Scoop of {self.flavor}'\\n        \\nclass Bowl:\\n    MAX_SCOOPS = 3\\n    \\n    def __init__(self):\\n        self.scoops = []\\n        \\n    def add_scoops(self, *new_scoops):\\n        for one_scoop in new_scoops:\\n            if len(self.scoops) < self.MAX_SCOOPS:\\n                self.scoops.append(one_scoop)\\n            \\n    def flavors(self):\\n        return [one_scoop.flavor\\n               for one_scoop in self.scoops]\\n\\n    def __repr__(self):\\n        output = 'Bowl of: \\\\n'\\n\\n        return output + '\\\\n'.join([f'\\\\t{index}: {one_scoop}'\\n                                   for index, one_scoop in enumerate(self.scoops, 1)])\\n\\n    def __len__(self):\\n        return len(self.scoops)\\n\\n    def __getitem__(self, index):\\n        return self.scoops[index]\\n\\ns1 = Scoop('chocolate')\\ns2 = Scoop('vanilla')\\ns3 = Scoop('coffee')\\ns4 = Scoop('flavor 4')\\ns5 = Scoop('flavor 5')\\n\\nb = Bowl()\\nb.add_scoops(s1, s2)\\nb.add_scoops(s3)\\nb.add_scoops(s4, s5)\\nprint(b.flavors()) \\n\\nprint(len(b))\\nb[1]\",\n",
       "   'b[:2',\n",
       "   'b[:2]',\n",
       "   'slice(None, 2)',\n",
       "   'b[slice(None, 2)]',\n",
       "   \"class Scoop:\\n    def __init__(self, flavor):\\n        self.flavor = flavor\\n\\n    def __repr__(self):\\n        return f'Scoop of {self.flavor}'\\n        \\nclass Bowl:\\n    MAX_SCOOPS = 3\\n    \\n    def __init__(self):\\n        self.scoops = []\\n        \\n    def add_scoops(self, *new_scoops):\\n        for one_scoop in new_scoops:\\n            if len(self.scoops) < self.MAX_SCOOPS:\\n                self.scoops.append(one_scoop)\\n            \\n    def flavors(self):\\n        return [one_scoop.flavor\\n               for one_scoop in self.scoops]\\n\\n    def __repr__(self):\\n        output = 'Bowl of: \\\\n'\\n\\n        return output + '\\\\n'.join([f'\\\\t{index}: {one_scoop}'\\n                                   for index, one_scoop in enumerate(self.scoops, 1)])\\n\\n    def __len__(self):\\n        return len(self.scoops)\\n\\n    def __getitem__(self, index):\\n        if isinstance(index, slice):\\n            b = Bowl()\\n            b.scoops = self.scoops[index]   # index is a slice, get that part of self.scoops\\n            return b\\n        return self.scoops[index]   # index is an integer (we hope), and return that scoop\\n\\ns1 = Scoop('chocolate')\\ns2 = Scoop('vanilla')\\ns3 = Scoop('coffee')\\ns4 = Scoop('flavor 4')\\ns5 = Scoop('flavor 5')\\n\\nb = Bowl()\\nb.add_scoops(s1, s2)\\nb.add_scoops(s3)\\nb.add_scoops(s4, s5)\\nprint(b.flavors()) \\n\\nprint(len(b))\\nb[1]\",\n",
       "   'b[:2]',\n",
       "   'b1 = Bowl()\\nb1.add_scoops(s1)\\n\\nb2 = Bowl()\\nb2.add_scoops(s2, s3)\\n\\nb1 + b2',\n",
       "   \"class Scoop:\\n    def __init__(self, flavor):\\n        self.flavor = flavor\\n\\n    def __repr__(self):\\n        return f'Scoop of {self.flavor}'\\n        \\nclass Bowl:\\n    MAX_SCOOPS = 3\\n    \\n    def __init__(self):\\n        self.scoops = []\\n        \\n    def add_scoops(self, *new_scoops):\\n        for one_scoop in new_scoops:\\n            if len(self.scoops) < self.MAX_SCOOPS:\\n                self.scoops.append(one_scoop)\\n            \\n    def flavors(self):\\n        return [one_scoop.flavor\\n               for one_scoop in self.scoops]\\n\\n    def __repr__(self):\\n        output = 'Bowl of: \\\\n'\\n\\n        return output + '\\\\n'.join([f'\\\\t{index}: {one_scoop}'\\n                                   for index, one_scoop in enumerate(self.scoops, 1)])\\n\\n    def __len__(self):\\n        return len(self.scoops)\\n\\n    def __getitem__(self, index):\\n        if isinstance(index, slice):\\n            b = Bowl()\\n            b.scoops = self.scoops[index]   # index is a slice, get that part of self.scoops\\n            return b\\n        return self.scoops[index]   # index is an integer (we hope), and return that scoop\\n\\n    def __add__(self, other):\\n        if not isinstance(other, Bowl):\\n            raise TypeError('Can only add bowls to other bowls')\\n\\n        b = Bowl()\\n        b.scoops = self.scoops + other.scoops\\n        return b\\n\\ns1 = Scoop('chocolate')\\ns2 = Scoop('vanilla')\\ns3 = Scoop('coffee')\\ns4 = Scoop('flavor 4')\\ns5 = Scoop('flavor 5')\\n\\nb = Bowl()\\nb.add_scoops(s1, s2)\\nb.add_scoops(s3)\\nb.add_scoops(s4, s5)\\nprint(b.flavors()) \\n\\nprint(len(b))\\nb[1]\",\n",
       "   'b[:2]',\n",
       "   'b1 = Bowl()\\nb1.add_scoops(s1)\\n\\nb2 = Bowl()\\nb2.add_scoops(s2, s3)\\n\\nb1 + b2',\n",
       "   \"class Scoop:\\n    def __init__(self, flavor):\\n        self.flavor = flavor\\n\\n    def __repr__(self):\\n        return f'Scoop of {self.flavor}'\\n        \\nclass Bowl:\\n    MAX_SCOOPS = 3\\n    \\n    def __init__(self):\\n        self.scoops = []\\n        \\n    def add_scoops(self, *new_scoops):\\n        for one_scoop in new_scoops:\\n            if len(self.scoops) < self.MAX_SCOOPS:\\n                self.scoops.append(one_scoop)\\n            \\n    def flavors(self):\\n        return [one_scoop.flavor\\n               for one_scoop in self.scoops]\\n\\n    def __repr__(self):\\n        output = 'Bowl of: \\\\n'\\n\\n        return output + '\\\\n'.join([f'\\\\t{index}: {one_scoop}'\\n                                   for index, one_scoop in enumerate(self.scoops, 1)])\\n\\n    def __len__(self):\\n        return len(self.scoops)\\n\\n    def __getitem__(self, index):\\n        if isinstance(index, slice):\\n            b = Bowl()\\n            b.scoops = self.scoops[index]   # index is a slice, get that part of self.scoops\\n            return b\\n        return self.scoops[index]   # index is an integer (we hope), and return that scoop\\n\\n    def __add__(self, other):\\n        if not isinstance(other, Bowl):\\n            raise TypeError('Can only add bowls to other bowls')\\n\\n        b = Bowl()\\n        b.add_scoops(*self.scoops)  \\n        b.add_scoops(*other.scoops)\\n        return b\\n\\ns1 = Scoop('chocolate')\\ns2 = Scoop('vanilla')\\ns3 = Scoop('coffee')\\ns4 = Scoop('flavor 4')\\ns5 = Scoop('flavor 5')\\n\\nb = Bowl()\\nb.add_scoops(s1, s2)\\nb.add_scoops(s3)\\nb.add_scoops(s4, s5)\\nprint(b.flavors()) \\n\\nprint(len(b))\\nb[1]\",\n",
       "   'b[:2]',\n",
       "   'b1 = Bowl()\\nb1.add_scoops(s1)\\n\\nb2 = Bowl()\\nb2.add_scoops(s2, s3)\\n\\nb1 + b2',\n",
       "   'b1 = Bowl()\\nb1.add_scoops(s1)\\n\\nb2 = Bowl()\\nb2.add_scoops(s2, s3, s4)\\n\\nb1 + b2',\n",
       "   \"class Scoop:\\n    def __init__(self, flavor):\\n        self.flavor = flavor\\n\\n    def __repr__(self):\\n        return f'Scoop of {self.flavor}'\\n        \\nclass Bowl:\\n    MAX_SCOOPS = 3\\n    \\n    def __init__(self):\\n        self.scoops = []\\n        \\n    def add_scoops(self, *new_scoops):\\n        for one_scoop in new_scoops:\\n            if len(self.scoops) < self.MAX_SCOOPS:\\n                self.scoops.append(one_scoop)\\n            \\n    def flavors(self):\\n        return [one_scoop.flavor\\n               for one_scoop in self.scoops]\\n\\n    def __repr__(self):\\n        output = 'Bowl of: \\\\n'\\n\\n        return output + '\\\\n'.join([f'\\\\t{index}: {one_scoop}'\\n                                   for index, one_scoop in enumerate(self.scoops, 1)])\\n\\n    def __len__(self):\\n        return len(self.scoops)\\n\\n    def __getitem__(self, index):\\n        if isinstance(index, slice):\\n            b = Bowl()\\n            b.scoops = self.scoops[index]   # index is a slice, get that part of self.scoops\\n            return b\\n        return self.scoops[index]   # index is an integer (we hope), and return that scoop\\n\\n    def __add__(self, other):\\n        if not isinstance(other, Bowl):\\n            raise TypeError('Can only add bowls to other bowls')\\n\\n        b = Bowl()\\n        b.add_scoops(*(self.scoops + other.scoops))\\n        return b\\n\\ns1 = Scoop('chocolate')\\ns2 = Scoop('vanilla')\\ns3 = Scoop('coffee')\\ns4 = Scoop('flavor 4')\\ns5 = Scoop('flavor 5')\\n\\nb = Bowl()\\nb.add_scoops(s1, s2)\\nb.add_scoops(s3)\\nb.add_scoops(s4, s5)\\nprint(b.flavors()) \\n\\nprint(len(b))\\nb[1]\",\n",
       "   'b[:2]',\n",
       "   'b1 = Bowl()\\nb1.add_scoops(s1)\\n\\nb2 = Bowl()\\nb2.add_scoops(s2, s3, s4)\\n\\nb1 + b2',\n",
       "   '# __del__\\n\\n# this method runs when the reference count drops to zero\\n\\nx = [10, 20, 30]   # refcount to [10, 20, 30] is 1\\ny = x     # refcount is 2\\nz = x     # refcount is 3',\n",
       "   'x = None\\ny = None\\nz = None\\n\\n# what is the refcount of [10, 20, 30]?  0\\n# when it goes to 0, the object is deleted and the memory is freed',\n",
       "   \"class MyClass:\\n    def __init__(self, x):\\n        self.x = x\\n\\n    def __del__(self):\\n        print(f'__del__ ran; {self.x=}')\\n\\nm1 = MyClass(10)\\nm2 = MyClass(20)\\nm3 = MyClass(30)\",\n",
       "   'm1 = MyClass(40) ',\n",
       "   'import gc',\n",
       "   'x = [10, 20, 30, 40, 50]\\ngc.get_count(x)',\n",
       "   'x = [10, 20, 30, 40, 50]\\ngc.get_referrers(x)'],\n",
       "  '_oh': {4: (object,),\n",
       "   5: (__main__.Person, object),\n",
       "   6: (__main__.Person,),\n",
       "   7: (__main__.Employee, __main__.Person, object),\n",
       "   8: (object,),\n",
       "   9: (__main__.First, object),\n",
       "   10: (object,),\n",
       "   11: (__main__.Second, object),\n",
       "   12: (__main__.First, __main__.Second),\n",
       "   13: (__main__.Third, __main__.First, __main__.Second, object),\n",
       "   16: {'x': 10},\n",
       "   17: 20,\n",
       "   24: (__main__.Third, __main__.Second, __main__.First, object),\n",
       "   33: {'x': 17, 'y': 17},\n",
       "   34: object,\n",
       "   35: '<__main__.Third object at 0x11237db10>',\n",
       "   36: 4600617744,\n",
       "   37: 4600617744,\n",
       "   38: '<__main__.Third object at 0x11237db10>',\n",
       "   39: '<__main__.Third object at 0x11237db10>',\n",
       "   40: 34,\n",
       "   76: <__main__.Scoop at 0x112359410>,\n",
       "   77: <__main__.Bowl at 0x1123587d0>,\n",
       "   81: Scoop of chocolate,\n",
       "   82: Bowl of: \n",
       "   \t1: Scoop of chocolate\n",
       "   \t2: Scoop of vanilla\n",
       "   \t3: Scoop of coffee,\n",
       "   83: 'Scoop of chocolate',\n",
       "   84: '<__main__.Scoop object at 0x112374910>',\n",
       "   86: 5,\n",
       "   88: 5,\n",
       "   90: False,\n",
       "   91: NotImplemented,\n",
       "   92: NotImplementedType,\n",
       "   93: True,\n",
       "   94: True,\n",
       "   96: True,\n",
       "   97: False,\n",
       "   98: False,\n",
       "   99: True,\n",
       "   100: False,\n",
       "   101: False,\n",
       "   102: True,\n",
       "   104: True,\n",
       "   105: True,\n",
       "   106: False,\n",
       "   107: False,\n",
       "   108: True,\n",
       "   109: False,\n",
       "   113: <__main__.MyClass at 0x112885790>,\n",
       "   114: Person with self.x='abcdefghij',\n",
       "   116: Person with self.x='abcdefghij',\n",
       "   117: Person with self.x='abcde100',\n",
       "   118: [10, 20, 30, 40, 50, 60],\n",
       "   119: Person with self.x='abcde100',\n",
       "   121: Person with self.x='abcdefghij',\n",
       "   122: Person with self.x='abcde100',\n",
       "   123: [10, 20, 30, 40, 50, 60],\n",
       "   124: Person with self.x='abcde100',\n",
       "   125: Person with self.x='100abcde',\n",
       "   128: Person with self.x='abcdefghij',\n",
       "   129: Person with self.x='abcde100',\n",
       "   130: [10, 20, 30, 40, 50, 60],\n",
       "   131: Person with self.x='abcde100',\n",
       "   132: Person with self.x='100abcde',\n",
       "   135: Person with self.x='abcdefghij',\n",
       "   136: Person with self.x='abcde100',\n",
       "   137: [10, 20, 30, 40, 50, 60],\n",
       "   138: Person with self.x='abcde100',\n",
       "   139: Person with self.x='100abcde',\n",
       "   142: ['__abs__',\n",
       "    '__add__',\n",
       "    '__and__',\n",
       "    '__bool__',\n",
       "    '__ceil__',\n",
       "    '__class__',\n",
       "    '__delattr__',\n",
       "    '__dir__',\n",
       "    '__divmod__',\n",
       "    '__doc__',\n",
       "    '__eq__',\n",
       "    '__float__',\n",
       "    '__floor__',\n",
       "    '__floordiv__',\n",
       "    '__format__',\n",
       "    '__ge__',\n",
       "    '__getattribute__',\n",
       "    '__getnewargs__',\n",
       "    '__getstate__',\n",
       "    '__gt__',\n",
       "    '__hash__',\n",
       "    '__index__',\n",
       "    '__init__',\n",
       "    '__init_subclass__',\n",
       "    '__int__',\n",
       "    '__invert__',\n",
       "    '__le__',\n",
       "    '__lshift__',\n",
       "    '__lt__',\n",
       "    '__mod__',\n",
       "    '__mul__',\n",
       "    '__ne__',\n",
       "    '__neg__',\n",
       "    '__new__',\n",
       "    '__or__',\n",
       "    '__pos__',\n",
       "    '__pow__',\n",
       "    '__radd__',\n",
       "    '__rand__',\n",
       "    '__rdivmod__',\n",
       "    '__reduce__',\n",
       "    '__reduce_ex__',\n",
       "    '__repr__',\n",
       "    '__rfloordiv__',\n",
       "    '__rlshift__',\n",
       "    '__rmod__',\n",
       "    '__rmul__',\n",
       "    '__ror__',\n",
       "    '__round__',\n",
       "    '__rpow__',\n",
       "    '__rrshift__',\n",
       "    '__rshift__',\n",
       "    '__rsub__',\n",
       "    '__rtruediv__',\n",
       "    '__rxor__',\n",
       "    '__setattr__',\n",
       "    '__sizeof__',\n",
       "    '__str__',\n",
       "    '__sub__',\n",
       "    '__subclasshook__',\n",
       "    '__truediv__',\n",
       "    '__trunc__',\n",
       "    '__xor__',\n",
       "    'as_integer_ratio',\n",
       "    'bit_count',\n",
       "    'bit_length',\n",
       "    'conjugate',\n",
       "    'denominator',\n",
       "    'from_bytes',\n",
       "    'imag',\n",
       "    'numerator',\n",
       "    'real',\n",
       "    'to_bytes'],\n",
       "   147: 'd',\n",
       "   148: 40,\n",
       "   149: 20,\n",
       "   150: 'd',\n",
       "   155: Scoop of vanilla,\n",
       "   157: [Scoop of chocolate, Scoop of vanilla],\n",
       "   158: slice(None, 2, None),\n",
       "   159: [Scoop of chocolate, Scoop of vanilla],\n",
       "   160: Scoop of vanilla,\n",
       "   161: Bowl of: \n",
       "   \t1: Scoop of chocolate\n",
       "   \t2: Scoop of vanilla,\n",
       "   163: Scoop of vanilla,\n",
       "   164: Bowl of: \n",
       "   \t1: Scoop of chocolate\n",
       "   \t2: Scoop of vanilla,\n",
       "   165: Bowl of: \n",
       "   \t1: Scoop of chocolate\n",
       "   \t2: Scoop of vanilla\n",
       "   \t3: Scoop of coffee,\n",
       "   166: Scoop of vanilla,\n",
       "   167: Bowl of: \n",
       "   \t1: Scoop of chocolate\n",
       "   \t2: Scoop of vanilla,\n",
       "   168: Bowl of: \n",
       "   \t1: Scoop of chocolate\n",
       "   \t2: Scoop of vanilla\n",
       "   \t3: Scoop of coffee,\n",
       "   169: Bowl of: \n",
       "   \t1: Scoop of chocolate\n",
       "   \t2: Scoop of vanilla\n",
       "   \t3: Scoop of coffee,\n",
       "   170: Scoop of vanilla,\n",
       "   171: Bowl of: \n",
       "   \t1: Scoop of chocolate\n",
       "   \t2: Scoop of vanilla,\n",
       "   172: Bowl of: \n",
       "   \t1: Scoop of chocolate\n",
       "   \t2: Scoop of vanilla\n",
       "   \t3: Scoop of coffee},\n",
       "  '_dh': [PosixPath('/Users/reuven/Courses/Current/Apple-2023-advanced-python')],\n",
       "  'In': ['',\n",
       "   '# Agenda\\n\\n1. Inheritance\\n2. Magic methods (`__del__`)\\n3. Object system\\n4. Metaclasses\\n5. Iterators etc. ',\n",
       "   \"class Person:\\n\\n    def __init__(self, name):\\n        self.name = name\\n        \\n    def greet(self):\\n        return f'Hello, {self.name}!'\\n    \\np1 = Person('name1')    \\np2 = Person('name2')\\n\\nprint(p1.greet()) \\nprint(p2.greet()) \\n\\nclass Employee(Person):    # Employee is-a Person, i.e., inherits from Person\\n\\n    def __init__(self, name, id_number):\\n        super().__init__(name)        # do what my parent does in __init__...\\n        self.id_number = id_number    # add my own things\\n            \\ne1 = Employee('emp1', 1)# e1 has __init__? no. Empoyee has __init__? Yes \\ne2 = Employee('emp2', 2)\\n\\nprint(e1.greet()) # e1 has greet? No. Employee has greet? No. Person has greet? yes\\nprint(e2.greet()) \\n     \",\n",
       "   'class First:\\n    def __init__(self, x):\\n        self.x = x\\n\\n    def x2(self):\\n        return self.x * 2\\n\\nclass Second:\\n    def __init__(self, y):\\n        self.y = y\\n\\n    def y3(self):\\n        return self.y * 3\\n\\nclass Third(First, Second):\\n    pass',\n",
       "   '# who does Person inherit from?  We can always check __bases__\\nPerson.__bases__',\n",
       "   \"# What about Person's MRO (method resolution order)\\nPerson.__mro__\",\n",
       "   'Employee.__bases__',\n",
       "   'Employee.__mro__',\n",
       "   'First.__bases__',\n",
       "   'First.__mro__',\n",
       "   'Second.__bases__',\n",
       "   'Second.__mro__',\n",
       "   'Third.__bases__',\n",
       "   'Third.__mro__',\n",
       "   '# what happens when we create an instance of Third?\\n\\nt = Third()',\n",
       "   't = Third(10)',\n",
       "   'vars(t)',\n",
       "   't.x2()  # t has x2? No. Third has x2? No. First has x2? Yes...',\n",
       "   't.y3()  # t has y3? No. Third has y3? No. First has y3? No. Second has y3? Yes',\n",
       "   'class BadClass(Third, First, Second):\\n    pass',\n",
       "   'class BadClass(First, Third, Second):\\n    pass',\n",
       "   'help(super)',\n",
       "   'class First:\\n    def __init__(self, x):\\n        self.x = x\\n\\n    def x2(self):\\n        return self.x * 2\\n\\nclass Second(First):\\n    def __init__(self, y):\\n        self.y = y\\n\\n    def y3(self):\\n        return self.y * 3\\n\\nclass Third(First, Second):\\n    def __init__(self, x, y):\\n        super().__init__(self, x)',\n",
       "   'class First:\\n    def __init__(self, x):\\n        self.x = x\\n\\n    def x2(self):\\n        return self.x * 2\\n\\nclass Second(First):\\n    def __init__(self, y):\\n        self.y = y\\n\\n    def y3(self):\\n        return self.y * 3\\n\\nclass Third(Second):\\n    def __init__(self, x, y):\\n        super().__init__(self, x)',\n",
       "   'Third.__mro__',\n",
       "   'class First:\\n    def __init__(self, x):\\n        self.x = x\\n\\n    def x2(self):\\n        return self.x * 2\\n\\nclass Second(First):\\n    def __init__(self, y):\\n        super().__init__(y)\\n        self.y = y\\n\\n    def y3(self):\\n        return self.y * 3\\n\\nclass Third(Second):\\n    def __init__(self, x, y):\\n        super().__init__(self, x)',\n",
       "   't = Third(17)',\n",
       "   'class First:\\n    def __init__(self, x):\\n        self.x = x\\n\\n    def x2(self):\\n        return self.x * 2\\n\\nclass Second(First):\\n    def __init__(self, y):\\n        super().__init__(y)\\n        self.y = y\\n\\n    def y3(self):\\n        return self.y * 3\\n\\nclass Third(Second):\\n    def __init__(self, x):\\n        super().__init__(self, x)',\n",
       "   't = Third(17)',\n",
       "   'class First:\\n    def __init__(self, x):\\n        self.x = x\\n\\n    def x2(self):\\n        return self.x * 2\\n\\nclass Second(First):\\n    def __init__(self, y):\\n        super().__init__(y)\\n        self.y = y\\n\\n    def y3(self):\\n        return self.y * 3\\n\\nclass Third(Second):\\n    def __init__(self, x):\\n        super().__init__(x)',\n",
       "   'class First:\\n    def __init__(self, x):\\n        self.x = x\\n\\n    def x2(self):\\n        return self.x * 2\\n\\nclass Second(First):\\n    def __init__(self, y):\\n        super().__init__(y)\\n        self.y = y\\n\\n    def y3(self):\\n        return self.y * 3\\n\\nclass Third(Second):\\n    def __init__(self, x):\\n        super().__init__(x)',\n",
       "   't = Third(17)',\n",
       "   'class First:\\n    def __init__(self, x):\\n        self.x = x\\n\\n    def x2(self):\\n        return self.x * 2\\n\\nclass Second(First):\\n    def __init__(self, y):\\n        super().__init__(y)\\n        self.y = y\\n\\n    def y3(self):\\n        return self.y * 3\\n\\nclass Third(Second):\\n    def __init__(self, x):\\n        super().__init__(x)',\n",
       "   'vars(t)',\n",
       "   'object',\n",
       "   'str(t)',\n",
       "   '0x11237db10',\n",
       "   'id(t)',\n",
       "   'str(t) # __str__() on t? No. __str__ on Third? No. __str__ on Second? no. __str__ on First? No.\\n       # ___str__ on object? Yes!',\n",
       "   'object.__str__(t)',\n",
       "   't.x2()',\n",
       "   \"class First:\\n    def __init__(self, x):\\n        self.x = x\\n\\n    def x2(self):\\n        return self.x * 2\\n\\nclass Second(First):\\n    def __init__(self, y):\\n        super().__init__(y)\\n        self.y = y\\n\\n    def y3(self):\\n        return self.y * 3\\n\\nclass Third(Second):\\n    def __init__(self, x):\\n        super().__init__(x)\\n    def __str__(self):\\n        return f'My Third has attributes: {vars(self}}'\",\n",
       "   \"class First:\\n    def __init__(self, x):\\n        self.x = x\\n\\n    def x2(self):\\n        return self.x * 2\\n\\nclass Second(First):\\n    def __init__(self, y):\\n        super().__init__(y)\\n        self.y = y\\n\\n    def y3(self):\\n        return self.y * 3\\n\\nclass Third(Second):\\n    def __init__(self, x):\\n        super().__init__(x)\\n    def __str__(self):\\n        return f'My Third has attributes: {vars(self)}'\",\n",
       "   'def myfunc():\\n    asdfsadfsafffsa',\n",
       "   'def myfunc():\\n    asdfsadfsafffsa\\n    asdfakjfhskjfshjkfha',\n",
       "   'def myfunc():\\n    asdfsadfsafffsa\\n   asdfakjfhskjfshjkfha',\n",
       "   't = Third(123)',\n",
       "   'print(t)',\n",
       "   \"class Scoop:\\n    def __init__(self, flavor):\\n        self.flavor = flavor\\n        \\nclass Bowl:\\n    MAX_SCOOPS = 3\\n    \\n    def __init__(self):\\n        self.scoops = []\\n        \\n    def add_scoops(self, *new_scoops):\\n        for one_scoop in new_scoops:\\n            if len(self.scoops) < Bowl.MAX_SCOOPS:\\n                self.scoops.append(one_scoop)\\n            \\n    def flavors(self):\\n        \\n        return [one_scoop.flavor\\n               for one_scoop in self.scoops]\\n\\ns1 = Scoop('chocolate')\\ns2 = Scoop('vanilla')\\ns3 = Scoop('coffee')\\ns4 = Scoop('flavor 4')\\ns5 = Scoop('flavor 5')\\n\\nb = Bowl()\\nb.add_scoops(s1, s2)\\nb.add_scoops(s3)\\nb.add_scoops(s4, s5)\\nprint(b.flavors()) \",\n",
       "   \"class Scoop:\\n    def __init__(self, flavor):\\n        self.flavor = flavor\\n        \\nclass Bowl:\\n    MAX_SCOOPS = 3\\n    \\n    def __init__(self):\\n        self.scoops = []\\n        \\n    def add_scoops(self, *new_scoops):\\n        for one_scoop in new_scoops:\\n            if len(self.scoops) < Bowl.MAX_SCOOPS:\\n                self.scoops.append(one_scoop)\\n            \\n    def flavors(self):\\n        \\n        return [one_scoop.flavor\\n               for one_scoop in self.scoops]\\n\\ns1 = Scoop('chocolate')\\ns2 = Scoop('vanilla')\\ns3 = Scoop('coffee')\\ns4 = Scoop('flavor 4')\\ns5 = Scoop('flavor 5')\\n\\nb = Bowl()\\nb.add_scoops(s1, s2)\\nb.add_scoops(s3)\\nb.add_scoops(s4, s5)\\nprint(b.flavors()) \",\n",
       "   \"class Scoop:\\n    def __init__(self, flavor):\\n        self.flavor = flavor\\n        \\nclass Bowl:\\n    MAX_SCOOPS = 3\\n    \\n    def __init__(self):\\n        self.scoops = []\\n        \\n    def add_scoops(self, *new_scoops):\\n        for one_scoop in new_scoops:\\n            if len(self.scoops) < Bowl.MAX_SCOOPS:\\n                self.scoops.append(one_scoop)\\n            \\n    def flavors(self):\\n        \\n        return [one_scoop.flavor\\n               for one_scoop in self.scoops]\\n\\nclass BigBowl:\\n    MAX_SCOOPS = 5\\n    \\n    def __init__(self):\\n        self.scoops = []\\n        \\n    def add_scoops(self, *new_scoops):\\n        for one_scoop in new_scoops:\\n            if len(self.scoops) < BigBowl.MAX_SCOOPS:\\n                self.scoops.append(one_scoop)\\n            \\n    def flavors(self):\\n        \\n        return [one_scoop.flavor\\n               for one_scoop in self.scoops]\\n\\ns1 = Scoop('chocolate')\\ns2 = Scoop('vanilla')\\ns3 = Scoop('coffee')\\ns4 = Scoop('flavor 4')\\ns5 = Scoop('flavor 5')\\n\\nb = Bowl()\\nb.add_scoops(s1, s2)\\nb.add_scoops(s3)\\nb.add_scoops(s4, s5)\\nprint(b.flavors()) \\n\\nbb = BigBowl()\\nbb.add_scoops(s1, s2)\\nbb.add_scoops(s3)\\nbb.add_scoops(s4, s5)\\nprint(bb.flavors()) \",\n",
       "   \"class Scoop:\\n    def __init__(self, flavor):\\n        self.flavor = flavor\\n        \\nclass Bowl:\\n    MAX_SCOOPS = 3\\n    \\n    def __init__(self):\\n        self.scoops = []\\n        \\n    def add_scoops(self, *new_scoops):\\n        for one_scoop in new_scoops:\\n            if len(self.scoops) < Bowl.MAX_SCOOPS:\\n                self.scoops.append(one_scoop)\\n            \\n    def flavors(self):\\n        \\n        return [one_scoop.flavor\\n               for one_scoop in self.scoops]\\n\\nclass BigBowl(Bowl):\\n    MAX_SCOOPS = 5\\n    \\n    def __init__(self):\\n        self.scoops = []\\n        \\n    def add_scoops(self, *new_scoops):\\n        for one_scoop in new_scoops:\\n            if len(self.scoops) < BigBowl.MAX_SCOOPS:\\n                self.scoops.append(one_scoop)\\n            \\ns1 = Scoop('chocolate')\\ns2 = Scoop('vanilla')\\ns3 = Scoop('coffee')\\ns4 = Scoop('flavor 4')\\ns5 = Scoop('flavor 5')\\n\\nb = Bowl()\\nb.add_scoops(s1, s2)\\nb.add_scoops(s3)\\nb.add_scoops(s4, s5)\\nprint(b.flavors()) \\n\\nbb = BigBowl()\\nbb.add_scoops(s1, s2)\\nbb.add_scoops(s3)\\nbb.add_scoops(s4, s5)\\nprint(bb.flavors()) \",\n",
       "   \"class Scoop:\\n    def __init__(self, flavor):\\n        self.flavor = flavor\\n        \\nclass Bowl:\\n    MAX_SCOOPS = 3\\n    \\n    def __init__(self):\\n        self.scoops = []\\n        \\n    def add_scoops(self, *new_scoops):\\n        for one_scoop in new_scoops:\\n            if len(self.scoops) < Bowl.MAX_SCOOPS:\\n                self.scoops.append(one_scoop)\\n            \\n    def flavors(self):\\n        return [one_scoop.flavor\\n               for one_scoop in self.scoops]\\n\\nclass BigBowl(Bowl):\\n    MAX_SCOOPS = 5\\n    \\n    def add_scoops(self, *new_scoops):\\n        for one_scoop in new_scoops:\\n            if len(self.scoops) < BigBowl.MAX_SCOOPS:\\n                self.scoops.append(one_scoop)\\n            \\ns1 = Scoop('chocolate')\\ns2 = Scoop('vanilla')\\ns3 = Scoop('coffee')\\ns4 = Scoop('flavor 4')\\ns5 = Scoop('flavor 5')\\n\\nb = Bowl()\\nb.add_scoops(s1, s2)\\nb.add_scoops(s3)\\nb.add_scoops(s4, s5)\\nprint(b.flavors()) \\n\\nbb = BigBowl()\\nbb.add_scoops(s1, s2)\\nbb.add_scoops(s3)\\nbb.add_scoops(s4, s5)\\nprint(bb.flavors()) \",\n",
       "   \"class Scoop:\\n    def __init__(self, flavor):\\n        self.flavor = flavor\\n        \\nclass Bowl:\\n    MAX_SCOOPS = 3\\n    \\n    def __init__(self):\\n        self.scoops = []\\n        \\n    def add_scoops(self, *new_scoops):\\n        for one_scoop in new_scoops:\\n            if len(self.scoops) < self.MAX_SCOOPS:\\n                self.scoops.append(one_scoop)\\n            \\n    def flavors(self):\\n        return [one_scoop.flavor\\n               for one_scoop in self.scoops]\\n\\nclass BigBowl(Bowl):\\n    MAX_SCOOPS = 5\\n            \\ns1 = Scoop('chocolate')\\ns2 = Scoop('vanilla')\\ns3 = Scoop('coffee')\\ns4 = Scoop('flavor 4')\\ns5 = Scoop('flavor 5')\\n\\nb = Bowl()\\nb.add_scoops(s1, s2)\\nb.add_scoops(s3)\\nb.add_scoops(s4, s5)\\nprint(b.flavors()) \\n\\nbb = BigBowl()\\nbb.add_scoops(s1, s2)\\nbb.add_scoops(s3)\\nbb.add_scoops(s4, s5)\\nprint(bb.flavors()) \",\n",
       "   \"class Scoop:\\n    def __init__(self, flavor):\\n        self.flavor = flavor\\n        \\nclass Bowl:\\n    MAX_SCOOPS = 3\\n    \\n    def __init__(self):\\n        self.scoops = []\\n        \\n    def add_scoops(self, *new_scoops):\\n        for one_scoop in new_scoops:\\n            if len(self.scoops) < self.MAX_SCOOPS:\\n                self.scoops.append(one_scoop)\\n            \\n    def flavors(self):\\n        return [one_scoop.flavor\\n               for one_scoop in self.scoops]\\n\\nclass BigBowl(Bowl):\\n    Bowl.MAX_SCOOPS = 5\\n            \\ns1 = Scoop('chocolate')\\ns2 = Scoop('vanilla')\\ns3 = Scoop('coffee')\\ns4 = Scoop('flavor 4')\\ns5 = Scoop('flavor 5')\\n\\nb = Bowl()\\nb.add_scoops(s1, s2)\\nb.add_scoops(s3)\\nb.add_scoops(s4, s5)\\nprint(b.flavors()) \\n\\nbb = BigBowl()\\nbb.add_scoops(s1, s2)\\nbb.add_scoops(s3)\\nbb.add_scoops(s4, s5)\\nprint(bb.flavors()) \",\n",
       "   \"class Scoop:\\n    def __init__(self, flavor):\\n        self.flavor = flavor\\n        \\nclass Bowl:\\n    MAX_SCOOPS = 3\\n    \\n    def __init__(self):\\n        self.scoops = []\\n        \\n    def add_scoops(self, *new_scoops):\\n        for one_scoop in new_scoops:\\n            if len(self.scoops) < self.MAX_SCOOPS:\\n                self.scoops.append(one_scoop)\\n            \\n    def flavors(self):\\n        return [one_scoop.flavor\\n               for one_scoop in self.scoops]\\n\\nclass BigBowl(Bowl):\\n    MAX_SCOOPS = 5\\n            \\ns1 = Scoop('chocolate')\\ns2 = Scoop('vanilla')\\ns3 = Scoop('coffee')\\ns4 = Scoop('flavor 4')\\ns5 = Scoop('flavor 5')\\n\\nb = Bowl()\\nb.add_scoops(s1, s2)\\nb.add_scoops(s3)\\nb.add_scoops(s4, s5)\\nprint(b.flavors()) \\n\\nbb = BigBowl()\\nbb.add_scoops(s1, s2)\\nbb.add_scoops(s3)\\nbb.add_scoops(s4, s5)\\nprint(bb.flavors()) \",\n",
       "   'print(s1)',\n",
       "   'print(s1) # print(str(s1)) -> print(s1.__str__()) -> does s1 have __str__? No. Does Scoop have __str__? No.\\n          #         does object have __str__? Yes!',\n",
       "   'print(s1) # print(str(s1)) -> print(s1.__str__()) -> does s1 have __str__? No. Does Scoop have __str__? No.\\n          #         does object have __str__? Yes!',\n",
       "   \"class Scoop:\\n    def __init__(self, flavor):\\n        self.flavor = flavor\\n\\n    def __str__(self):\\n        return f'Scoop of {self.flavor}'\\n        \\nclass Bowl:\\n    MAX_SCOOPS = 3\\n    \\n    def __init__(self):\\n        self.scoops = []\\n        \\n    def add_scoops(self, *new_scoops):\\n        for one_scoop in new_scoops:\\n            if len(self.scoops) < self.MAX_SCOOPS:\\n                self.scoops.append(one_scoop)\\n            \\n    def flavors(self):\\n        return [one_scoop.flavor\\n               for one_scoop in self.scoops]\\n\\nclass BigBowl(Bowl):\\n    MAX_SCOOPS = 5\\n            \\ns1 = Scoop('chocolate')\\ns2 = Scoop('vanilla')\\ns3 = Scoop('coffee')\\ns4 = Scoop('flavor 4')\\ns5 = Scoop('flavor 5')\\n\\nb = Bowl()\\nb.add_scoops(s1, s2)\\nb.add_scoops(s3)\\nb.add_scoops(s4, s5)\\nprint(b.flavors()) \\n\\nbb = BigBowl()\\nbb.add_scoops(s1, s2)\\nbb.add_scoops(s3)\\nbb.add_scoops(s4, s5)\\nprint(bb.flavors()) \",\n",
       "   'print(s1) # print(str(s1)) -> print(s1.__str__()) -> does s1 have __str__? No. Does Scoop have __str__? No.\\n          #         does object have __str__? Yes!',\n",
       "   'print(b)',\n",
       "   \"class Scoop:\\n    def __init__(self, flavor):\\n        self.flavor = flavor\\n\\n    def __str__(self):\\n        return f'Scoop of {self.flavor}'\\n        \\nclass Bowl:\\n    MAX_SCOOPS = 3\\n    \\n    def __init__(self):\\n        self.scoops = []\\n        \\n    def add_scoops(self, *new_scoops):\\n        for one_scoop in new_scoops:\\n            if len(self.scoops) < self.MAX_SCOOPS:\\n                self.scoops.append(one_scoop)\\n            \\n    def flavors(self):\\n        return [one_scoop.flavor\\n               for one_scoop in self.scoops]\\n\\n    def __str__(self):\\n        output = 'Bowl of: \\\\n'\\n\\n        for one_scoop in self.scoops:\\n            output += f'\\\\t{one_scoop}\\\\n'\\n\\n        return output\\n\\nclass BigBowl(Bowl):\\n    MAX_SCOOPS = 5\\n            \\ns1 = Scoop('chocolate')\\ns2 = Scoop('vanilla')\\ns3 = Scoop('coffee')\\ns4 = Scoop('flavor 4')\\ns5 = Scoop('flavor 5')\\n\\nb = Bowl()\\nb.add_scoops(s1, s2)\\nb.add_scoops(s3)\\nb.add_scoops(s4, s5)\\nprint(b.flavors()) \\n\\nbb = BigBowl()\\nbb.add_scoops(s1, s2)\\nbb.add_scoops(s3)\\nbb.add_scoops(s4, s5)\\nprint(bb.flavors()) \",\n",
       "   'print(s1) # print(str(s1)) -> print(s1.__str__()) -> does s1 have __str__? No. Does Scoop have __str__? No.\\n          #         does object have __str__? Yes!',\n",
       "   'print(b)',\n",
       "   \"class Scoop:\\n    def __init__(self, flavor):\\n        self.flavor = flavor\\n\\n    def __str__(self):\\n        return f'Scoop of {self.flavor}'\\n        \\nclass Bowl:\\n    MAX_SCOOPS = 3\\n    \\n    def __init__(self):\\n        self.scoops = []\\n        \\n    def add_scoops(self, *new_scoops):\\n        for one_scoop in new_scoops:\\n            if len(self.scoops) < self.MAX_SCOOPS:\\n                self.scoops.append(one_scoop)\\n            \\n    def flavors(self):\\n        return [one_scoop.flavor\\n               for one_scoop in self.scoops]\\n\\n    def __str__(self):\\n        output = 'Bowl of: \\\\n'\\n\\n        for index, one_scoop in enumerate(self.scoops):\\n            output += f'\\\\t{index}: {one_scoop}\\\\n'\\n\\n        return output\\n\\nclass BigBowl(Bowl):\\n    MAX_SCOOPS = 5\\n            \\ns1 = Scoop('chocolate')\\ns2 = Scoop('vanilla')\\ns3 = Scoop('coffee')\\ns4 = Scoop('flavor 4')\\ns5 = Scoop('flavor 5')\\n\\nb = Bowl()\\nb.add_scoops(s1, s2)\\nb.add_scoops(s3)\\nb.add_scoops(s4, s5)\\nprint(b.flavors()) \\n\\nbb = BigBowl()\\nbb.add_scoops(s1, s2)\\nbb.add_scoops(s3)\\nbb.add_scoops(s4, s5)\\nprint(bb.flavors()) \",\n",
       "   'print(s1) # print(str(s1)) -> print(s1.__str__()) -> does s1 have __str__? No. Does Scoop have __str__? No.\\n          #         does object have __str__? Yes!',\n",
       "   'print(b)',\n",
       "   \"class Scoop:\\n    def __init__(self, flavor):\\n        self.flavor = flavor\\n\\n    def __str__(self):\\n        return f'Scoop of {self.flavor}'\\n        \\nclass Bowl:\\n    MAX_SCOOPS = 3\\n    \\n    def __init__(self):\\n        self.scoops = []\\n        \\n    def add_scoops(self, *new_scoops):\\n        for one_scoop in new_scoops:\\n            if len(self.scoops) < self.MAX_SCOOPS:\\n                self.scoops.append(one_scoop)\\n            \\n    def flavors(self):\\n        return [one_scoop.flavor\\n               for one_scoop in self.scoops]\\n\\n    def __str__(self):\\n        output = 'Bowl of: \\\\n'\\n\\n        for index, one_scoop in enumerate(self.scoops, 1):\\n            output += f'\\\\t{index}: {one_scoop}\\\\n'\\n\\n        return output\\n\\nclass BigBowl(Bowl):\\n    MAX_SCOOPS = 5\\n            \\ns1 = Scoop('chocolate')\\ns2 = Scoop('vanilla')\\ns3 = Scoop('coffee')\\ns4 = Scoop('flavor 4')\\ns5 = Scoop('flavor 5')\\n\\nb = Bowl()\\nb.add_scoops(s1, s2)\\nb.add_scoops(s3)\\nb.add_scoops(s4, s5)\\nprint(b.flavors()) \\n\\nbb = BigBowl()\\nbb.add_scoops(s1, s2)\\nbb.add_scoops(s3)\\nbb.add_scoops(s4, s5)\\nprint(bb.flavors()) \",\n",
       "   'print(s1) # print(str(s1)) -> print(s1.__str__()) -> does s1 have __str__? No. Does Scoop have __str__? No.\\n          #         does object have __str__? Yes!',\n",
       "   'print(b)',\n",
       "   \"class Scoop:\\n    def __init__(self, flavor):\\n        self.flavor = flavor\\n\\n    def __str__(self):\\n        return f'Scoop of {self.flavor}'\\n        \\nclass Bowl:\\n    MAX_SCOOPS = 3\\n    \\n    def __init__(self):\\n        self.scoops = []\\n        \\n    def add_scoops(self, *new_scoops):\\n        for one_scoop in new_scoops:\\n            if len(self.scoops) < self.MAX_SCOOPS:\\n                self.scoops.append(one_scoop)\\n            \\n    def flavors(self):\\n        return [one_scoop.flavor\\n               for one_scoop in self.scoops]\\n\\n    def __str__(self):\\n        output = 'Bowl of: \\\\n'\\n\\n        # for index, one_scoop in enumerate(self.scoops, 1):\\n        #     output += f'\\\\t{index}: {one_scoop}\\\\n'\\n\\n        # return output\\n\\n        return output + '\\\\n'.join([f'\\\\t{index}: {one_scoop}'\\n                                   for index, one_scoop in enumerate(self.scoops, 1)])\\n\\nclass BigBowl(Bowl):\\n    MAX_SCOOPS = 5\\n            \\ns1 = Scoop('chocolate')\\ns2 = Scoop('vanilla')\\ns3 = Scoop('coffee')\\ns4 = Scoop('flavor 4')\\ns5 = Scoop('flavor 5')\\n\\nb = Bowl()\\nb.add_scoops(s1, s2)\\nb.add_scoops(s3)\\nb.add_scoops(s4, s5)\\nprint(b.flavors()) \\n\\nbb = BigBowl()\\nbb.add_scoops(s1, s2)\\nbb.add_scoops(s3)\\nbb.add_scoops(s4, s5)\\nprint(bb.flavors()) \",\n",
       "   'print(s1) # print(str(s1)) -> print(s1.__str__()) -> does s1 have __str__? No. Does Scoop have __str__? No.\\n          #         does object have __str__? Yes!',\n",
       "   'print(b)',\n",
       "   'print(s1)',\n",
       "   's1',\n",
       "   'b',\n",
       "   \"class Scoop:\\n    def __init__(self, flavor):\\n        self.flavor = flavor\\n\\n    def __repr__(self):\\n        return f'Scoop of {self.flavor}'\\n        \\nclass Bowl:\\n    MAX_SCOOPS = 3\\n    \\n    def __init__(self):\\n        self.scoops = []\\n        \\n    def add_scoops(self, *new_scoops):\\n        for one_scoop in new_scoops:\\n            if len(self.scoops) < self.MAX_SCOOPS:\\n                self.scoops.append(one_scoop)\\n            \\n    def flavors(self):\\n        return [one_scoop.flavor\\n               for one_scoop in self.scoops]\\n\\n    def __repr__(self):\\n        output = 'Bowl of: \\\\n'\\n\\n        # for index, one_scoop in enumerate(self.scoops, 1):\\n        #     output += f'\\\\t{index}: {one_scoop}\\\\n'\\n\\n        # return output\\n\\n        return output + '\\\\n'.join([f'\\\\t{index}: {one_scoop}'\\n                                   for index, one_scoop in enumerate(self.scoops, 1)])\\n\\nclass BigBowl(Bowl):\\n    MAX_SCOOPS = 5\\n            \\ns1 = Scoop('chocolate')\\ns2 = Scoop('vanilla')\\ns3 = Scoop('coffee')\\ns4 = Scoop('flavor 4')\\ns5 = Scoop('flavor 5')\\n\\nb = Bowl()\\nb.add_scoops(s1, s2)\\nb.add_scoops(s3)\\nb.add_scoops(s4, s5)\\nprint(b.flavors()) \\n\\nbb = BigBowl()\\nbb.add_scoops(s1, s2)\\nbb.add_scoops(s3)\\nbb.add_scoops(s4, s5)\\nprint(bb.flavors()) \",\n",
       "   'print(s1) # print(str(s1)) -> print(s1.__str__()) -> does s1 have __str__? No. Does Scoop have __str__? No.\\n          #         does object have __str__? Yes!',\n",
       "   'print(b)',\n",
       "   's1',\n",
       "   'b',\n",
       "   'object.__str__(s1)',\n",
       "   'object.__repr__(s1)',\n",
       "   \"class MyClass:\\n    def __init__(self, x):\\n        self.x = x\\n\\nm1 = MyClass('abcde')\\n\\nlen(m1)\",\n",
       "   \"class MyClass:\\n    def __init__(self, x):\\n        self.x = x\\n\\n    def __len__(self):\\n        return len(self.x)\\n\\nm1 = MyClass('abcde')\\n\\nlen(m1)  # this actually calls m1.__len__()\",\n",
       "   'm2 = MyClass(100)\\nlen(m2)',\n",
       "   \"'abcde'.__len__()\",\n",
       "   'm2.x.__len__()',\n",
       "   \"m1 = MyClass('abcde')\\nm2 = MyClass('abcde')\\n\\nm1 == m2\",\n",
       "   '# when we run ==, Python runs the __eq__ method\\n# it runs the method on the left-side argument\\n\\nm1.__eq__(m2)',\n",
       "   'type(NotImplemented)',\n",
       "   \"class MyClass:\\n    def __init__(self, x):\\n        self.x = x\\n\\n    def __len__(self):\\n        return len(self.x)\\n\\n    def __eq__(self, other):\\n        return vars(self) == vars(other)\\n\\nm1 = MyClass('abcde')\\nm2 = MyClass('abcde')\\n\\nm1 == m2\",\n",
       "   \"class MyClass:\\n    def __init__(self, x):\\n        self.x = x\\n\\n    def __len__(self):\\n        return len(self.x)\\n\\n    def __eq__(self, other):\\n        # return vars(self) == vars(other)\\n        return self.x == other.x\\n\\nm1 = MyClass('abcde')\\nm2 = MyClass('abcde')\\n\\nm1 == m2\",\n",
       "   'm1 == 100',\n",
       "   \"class MyClass:\\n    def __init__(self, x):\\n        self.x = x\\n\\n    def __len__(self):\\n        return len(self.x)\\n\\n    def __eq__(self, other):\\n        # return vars(self) == vars(other)\\n        if hasattr(other, 'x'):\\n            return self.x == other.x\\n        return False\\n\\nm1 = MyClass('abcde')\\nm2 = MyClass('abcde')\\n\\nm1 == m2\",\n",
       "   'm1 == 100',\n",
       "   '100 == m1',\n",
       "   \"class MyClass:\\n    def __init__(self, x):\\n        self.x = x\\n\\n    def __len__(self):\\n        return len(self.x)\\n\\n    def __eq__(self, other):\\n        # return vars(self) == vars(other)\\n        if hasattr(other, 'x'):\\n            return self.x == other.x\\n        return False\\n\\n    def __lt__(self, other):\\n        if hasattr(other, 'x'):\\n            return self.x < other.x\\n        return False\\n        \\nm1 = MyClass('abcde')\\nm2 = MyClass('abcde')\\n\\nm1 == m2\",\n",
       "   'm1 == 100',\n",
       "   '100 == m1',\n",
       "   \"m3 = MyClass('bcdef')\\n\\nm1 < m3\",\n",
       "   'm1 >= m3',\n",
       "   \"from functools import total_ordering\\n\\n@total_ordering    \\nclass MyClass:\\n    def __init__(self, x):\\n        self.x = x\\n\\n    def __len__(self):\\n        return len(self.x)\\n\\n    def __eq__(self, other):\\n        # return vars(self) == vars(other)\\n        if hasattr(other, 'x'):\\n            return self.x == other.x\\n        return False\\n\\n    def __lt__(self, other):\\n        if hasattr(other, 'x'):\\n            return self.x < other.x\\n        return False\\n        \\nm1 = MyClass('abcde')\\nm2 = MyClass('abcde')\\n\\nm1 == m2\",\n",
       "   \"from functools import total_ordering\\n\\n@total_ordering    \\nclass MyClass:\\n    def __init__(self, x):\\n        self.x = x\\n\\n    def __len__(self):\\n        return len(self.x)\\n\\n    def __eq__(self, other):\\n        # return vars(self) == vars(other)\\n        if hasattr(other, 'x'):\\n            return self.x == other.x\\n        return False\\n\\n    def __lt__(self, other):\\n        if hasattr(other, 'x'):\\n            return self.x < other.x\\n        return False\\n        \\nm1 = MyClass('abcde')\\nm2 = MyClass('abcde')\\n\\nm1 == m2\",\n",
       "   'm1 == 100',\n",
       "   '100 == m1',\n",
       "   \"m3 = MyClass('bcdef')\\n\\nm1 < m3\",\n",
       "   'm1 >= m3',\n",
       "   \"# let's try addition!\\n\\nm1 + m2\",\n",
       "   \"10 + '20'\",\n",
       "   \"'10' + 20\",\n",
       "   \"from functools import total_ordering\\n\\n@total_ordering    \\nclass MyClass:\\n    def __init__(self, x):\\n        self.x = x\\n\\n    def __len__(self):\\n        return len(self.x)\\n\\n    def __eq__(self, other):\\n        # return vars(self) == vars(other)\\n        if hasattr(other, 'x'):\\n            return self.x == other.x\\n        return False\\n\\n    def __lt__(self, other):\\n        if hasattr(other, 'x'):\\n            return self.x < other.x\\n        return False\\n\\n    def __add__(self, other):\\n        if hasattr(other, 'x'):\\n            return MyClass(self.x + other.x)\\n        \\nm1 = MyClass('abcde')\\nm2 = MyClass('fghij')\\n\\nm1 + m2\",\n",
       "   \"from functools import total_ordering\\n\\n@total_ordering    \\nclass MyClass:\\n    def __init__(self, x):\\n        self.x = x\\n\\n    def __len__(self):\\n        return len(self.x)\\n\\n    def __eq__(self, other):\\n        # return vars(self) == vars(other)\\n        if hasattr(other, 'x'):\\n            return self.x == other.x\\n        return False\\n\\n    def __lt__(self, other):\\n        if hasattr(other, 'x'):\\n            return self.x < other.x\\n        return False\\n\\n    def __add__(self, other):\\n        if hasattr(other, 'x'):\\n            return MyClass(self.x + other.x)\\n\\n    def __repr__(self):\\n        return f'Person with {self.x=}'\\n        \\nm1 = MyClass('abcde')\\nm2 = MyClass('fghij')\\n\\nm1 + m2\",\n",
       "   'm1 + 100',\n",
       "   \"from functools import total_ordering\\n\\n@total_ordering    \\nclass MyClass:\\n    def __init__(self, x):\\n        self.x = x\\n\\n    def __len__(self):\\n        return len(self.x)\\n\\n    def __eq__(self, other):\\n        # return vars(self) == vars(other)\\n        if hasattr(other, 'x'):\\n            return self.x == other.x\\n        return False\\n\\n    def __lt__(self, other):\\n        if hasattr(other, 'x'):\\n            return self.x < other.x\\n        return False\\n\\n    def __add__(self, other):\\n        if hasattr(other, 'x'):\\n            return MyClass(self.x + other.x)\\n        return MyClass(self.x + str(other))\\n\\n    def __repr__(self):\\n        return f'Person with {self.x=}'\\n        \\nm1 = MyClass('abcde')\\nm2 = MyClass('fghij')\\n\\nm1 + m2\",\n",
       "   'm1 + 100',\n",
       "   '[10, 20, 30] + [40, 50, 60]',\n",
       "   'm1 + 100',\n",
       "   '100 + m1',\n",
       "   \"from functools import total_ordering\\n\\n@total_ordering    \\nclass MyClass:\\n    def __init__(self, x):\\n        self.x = x\\n\\n    def __len__(self):\\n        return len(self.x)\\n\\n    def __eq__(self, other):\\n        # return vars(self) == vars(other)\\n        if hasattr(other, 'x'):\\n            return self.x == other.x\\n        return False\\n\\n    def __lt__(self, other):\\n        if hasattr(other, 'x'):\\n            return self.x < other.x\\n        return False\\n\\n    def __add__(self, other):\\n        if hasattr(other, 'x'):\\n            return MyClass(self.x + other.x)\\n        return MyClass(self.x + str(other))\\n\\n    def __radd__(self, other):   # reverse add!\\n        if hasattr(other, 'x'):\\n            return MyClass(other.x + self.x)\\n        return MyClass(str(other) + self.x)\\n\\n    def __repr__(self):\\n        return f'Person with {self.x=}'\\n        \\nm1 = MyClass('abcde')\\nm2 = MyClass('fghij')\\n\\nm1 + m2\",\n",
       "   'm1 + 100',\n",
       "   '[10, 20, 30] + [40, 50, 60]',\n",
       "   'm1 + 100',\n",
       "   '100 + m1',\n",
       "   \"# what's going to happen here? \\n\\nprint(id(m1))\\nm1 += 'xyz'    # m1 = m1 + 'xyz'\\nprint(id(m1))\",\n",
       "   'print(m1)',\n",
       "   \"from functools import total_ordering\\n\\n@total_ordering    \\nclass MyClass:\\n    def __init__(self, x):\\n        self.x = x\\n\\n    def __len__(self):\\n        return len(self.x)\\n\\n    def __eq__(self, other):\\n        # return vars(self) == vars(other)\\n        if hasattr(other, 'x'):\\n            return self.x == other.x\\n        return False\\n\\n    def __lt__(self, other):\\n        if hasattr(other, 'x'):\\n            return self.x < other.x\\n        return False\\n\\n    def __add__(self, other):\\n        if hasattr(other, 'x'):\\n            return MyClass(self.x + other.x)\\n        return MyClass(self.x + str(other))\\n\\n    def __radd__(self, other):   # reverse add!\\n        if hasattr(other, 'x'):\\n            return MyClass(other.x + self.x)\\n        return MyClass(str(other) + self.x)\\n\\n    def __iadd__(self, other):   # in-place add, +=\\n        if hasattr(other, 'x'):\\n            self.x += other.x\\n        self.x = str(other) + self.x\\n        return self\\n\\n    def __repr__(self):\\n        return f'Person with {self.x=}'\\n        \\nm1 = MyClass('abcde')\\nm2 = MyClass('fghij')\\n\\nm1 + m2\",\n",
       "   'm1 + 100',\n",
       "   '[10, 20, 30] + [40, 50, 60]',\n",
       "   'm1 + 100',\n",
       "   '100 + m1',\n",
       "   \"# what's going to happen here? \\n\\nprint(id(m1))\\nm1 += 'xyz'    # m1 = m1 + 'xyz'\\nprint(id(m1))\",\n",
       "   'print(m1)',\n",
       "   \"from functools import total_ordering\\n\\n@total_ordering    \\nclass MyClass:\\n    def __init__(self, x):\\n        self.x = x\\n\\n    def __len__(self):\\n        return len(self.x)\\n\\n    def __eq__(self, other):\\n        # return vars(self) == vars(other)\\n        if hasattr(other, 'x'):\\n            return self.x == other.x\\n        return False\\n\\n    def __lt__(self, other):\\n        if hasattr(other, 'x'):\\n            return self.x < other.x\\n        return False\\n\\n    def __add__(self, other):\\n        if hasattr(other, 'x'):\\n            return MyClass(self.x + other.x)\\n        return MyClass(self.x + str(other))\\n\\n    def __radd__(self, other):   # reverse add!\\n        if hasattr(other, 'x'):\\n            return MyClass(other.x + self.x)\\n        return MyClass(str(other) + self.x)\\n\\n    def __iadd__(self, other):   # in-place add, +=\\n        if hasattr(other, 'x'):\\n            self.x += other.x\\n        self.x = self.x + str(other)\\n        return self\\n\\n    def __repr__(self):\\n        return f'Person with {self.x=}'\\n        \\nm1 = MyClass('abcde')\\nm2 = MyClass('fghij')\\n\\nm1 + m2\",\n",
       "   'm1 + 100',\n",
       "   '[10, 20, 30] + [40, 50, 60]',\n",
       "   'm1 + 100',\n",
       "   '100 + m1',\n",
       "   \"# what's going to happen here? \\n\\nprint(id(m1))\\nm1 += 'xyz'    # m1 = m1 + 'xyz'\\nprint(id(m1))\",\n",
       "   'print(m1)',\n",
       "   'dir(5)',\n",
       "   \"x = 123\\ny = [10, 20, 30]\\n\\n# if I want to debug\\nprint(f'x = {x}, y = {y}'\",\n",
       "   \"x = 123\\ny = [10, 20, 30]\\n\\n# if I want to debug\\nprint(f'x = {x}, y = {y}')\",\n",
       "   \"# as of Python 3.10\\nprint(f'{x=}, {y=}')\",\n",
       "   \"print(f'{len(y)=}')\",\n",
       "   \"# have you noticed that all of these types use []\\ns = 'abcde'\\ns[3]\",\n",
       "   'mylist = [10, 20, 30, 40, 50]\\nmylist[3]',\n",
       "   \"d = {'a':10, 'b':20, 'c':30}\\nd['b']\",\n",
       "   \"# all of these implement __getitem__, that take self and the index\\n\\nclass MyClass:\\n    def __init__(self, x):\\n        self.x = x\\n\\n    def __repr__(self):\\n        return f'Person with {self.x=}'\\n\\n    def __getitem__(self, index):\\n        return self.x[index]\\n        \\nm = MyClass('abcde')\\nm[3]\",\n",
       "   \"class Scoop:\\n    def __init__(self, flavor):\\n        self.flavor = flavor\\n\\n    def __repr__(self):\\n        return f'Scoop of {self.flavor}'\\n        \\nclass Bowl:\\n    MAX_SCOOPS = 3\\n    \\n    def __init__(self):\\n        self.scoops = []\\n        \\n    def add_scoops(self, *new_scoops):\\n        for one_scoop in new_scoops:\\n            if len(self.scoops) < self.MAX_SCOOPS:\\n                self.scoops.append(one_scoop)\\n            \\n    def flavors(self):\\n        return [one_scoop.flavor\\n               for one_scoop in self.scoops]\\n\\n    def __repr__(self):\\n        output = 'Bowl of: \\\\n'\\n\\n        return output + '\\\\n'.join([f'\\\\t{index}: {one_scoop}'\\n                                   for index, one_scoop in enumerate(self.scoops, 1)])\\n\\ns1 = Scoop('chocolate')\\ns2 = Scoop('vanilla')\\ns3 = Scoop('coffee')\\ns4 = Scoop('flavor 4')\\ns5 = Scoop('flavor 5')\\n\\nb = Bowl()\\nb.add_scoops(s1, s2)\\nb.add_scoops(s3)\\nb.add_scoops(s4, s5)\\nprint(b.flavors()) \\n\\nprint(len(b))\",\n",
       "   \"class Scoop:\\n    def __init__(self, flavor):\\n        self.flavor = flavor\\n\\n    def __repr__(self):\\n        return f'Scoop of {self.flavor}'\\n        \\nclass Bowl:\\n    MAX_SCOOPS = 3\\n    \\n    def __init__(self):\\n        self.scoops = []\\n        \\n    def add_scoops(self, *new_scoops):\\n        for one_scoop in new_scoops:\\n            if len(self.scoops) < self.MAX_SCOOPS:\\n                self.scoops.append(one_scoop)\\n            \\n    def flavors(self):\\n        return [one_scoop.flavor\\n               for one_scoop in self.scoops]\\n\\n    def __repr__(self):\\n        output = 'Bowl of: \\\\n'\\n\\n        return output + '\\\\n'.join([f'\\\\t{index}: {one_scoop}'\\n                                   for index, one_scoop in enumerate(self.scoops, 1)])\\n\\n    def __len__(self):\\n        return len(self.scoops))\\n\\ns1 = Scoop('chocolate')\\ns2 = Scoop('vanilla')\\ns3 = Scoop('coffee')\\ns4 = Scoop('flavor 4')\\ns5 = Scoop('flavor 5')\\n\\nb = Bowl()\\nb.add_scoops(s1, s2)\\nb.add_scoops(s3)\\nb.add_scoops(s4, s5)\\nprint(b.flavors()) \\n\\nprint(len(b))\",\n",
       "   \"class Scoop:\\n    def __init__(self, flavor):\\n        self.flavor = flavor\\n\\n    def __repr__(self):\\n        return f'Scoop of {self.flavor}'\\n        \\nclass Bowl:\\n    MAX_SCOOPS = 3\\n    \\n    def __init__(self):\\n        self.scoops = []\\n        \\n    def add_scoops(self, *new_scoops):\\n        for one_scoop in new_scoops:\\n            if len(self.scoops) < self.MAX_SCOOPS:\\n                self.scoops.append(one_scoop)\\n            \\n    def flavors(self):\\n        return [one_scoop.flavor\\n               for one_scoop in self.scoops]\\n\\n    def __repr__(self):\\n        output = 'Bowl of: \\\\n'\\n\\n        return output + '\\\\n'.join([f'\\\\t{index}: {one_scoop}'\\n                                   for index, one_scoop in enumerate(self.scoops, 1)])\\n\\n    def __len__(self):\\n        return len(self.scoops)\\n\\ns1 = Scoop('chocolate')\\ns2 = Scoop('vanilla')\\ns3 = Scoop('coffee')\\ns4 = Scoop('flavor 4')\\ns5 = Scoop('flavor 5')\\n\\nb = Bowl()\\nb.add_scoops(s1, s2)\\nb.add_scoops(s3)\\nb.add_scoops(s4, s5)\\nprint(b.flavors()) \\n\\nprint(len(b))\",\n",
       "   \"class Scoop:\\n    def __init__(self, flavor):\\n        self.flavor = flavor\\n\\n    def __repr__(self):\\n        return f'Scoop of {self.flavor}'\\n        \\nclass Bowl:\\n    MAX_SCOOPS = 3\\n    \\n    def __init__(self):\\n        self.scoops = []\\n        \\n    def add_scoops(self, *new_scoops):\\n        for one_scoop in new_scoops:\\n            if len(self.scoops) < self.MAX_SCOOPS:\\n                self.scoops.append(one_scoop)\\n            \\n    def flavors(self):\\n        return [one_scoop.flavor\\n               for one_scoop in self.scoops]\\n\\n    def __repr__(self):\\n        output = 'Bowl of: \\\\n'\\n\\n        return output + '\\\\n'.join([f'\\\\t{index}: {one_scoop}'\\n                                   for index, one_scoop in enumerate(self.scoops, 1)])\\n\\n    def __len__(self):\\n        return len(self.scoops)\\n\\ns1 = Scoop('chocolate')\\ns2 = Scoop('vanilla')\\ns3 = Scoop('coffee')\\ns4 = Scoop('flavor 4')\\ns5 = Scoop('flavor 5')\\n\\nb = Bowl()\\nb.add_scoops(s1, s2)\\nb.add_scoops(s3)\\nb.add_scoops(s4, s5)\\nprint(b.flavors()) \\n\\nprint(len(b))\\nb[1]\",\n",
       "   \"class Scoop:\\n    def __init__(self, flavor):\\n        self.flavor = flavor\\n\\n    def __repr__(self):\\n        return f'Scoop of {self.flavor}'\\n        \\nclass Bowl:\\n    MAX_SCOOPS = 3\\n    \\n    def __init__(self):\\n        self.scoops = []\\n        \\n    def add_scoops(self, *new_scoops):\\n        for one_scoop in new_scoops:\\n            if len(self.scoops) < self.MAX_SCOOPS:\\n                self.scoops.append(one_scoop)\\n            \\n    def flavors(self):\\n        return [one_scoop.flavor\\n               for one_scoop in self.scoops]\\n\\n    def __repr__(self):\\n        output = 'Bowl of: \\\\n'\\n\\n        return output + '\\\\n'.join([f'\\\\t{index}: {one_scoop}'\\n                                   for index, one_scoop in enumerate(self.scoops, 1)])\\n\\n    def __len__(self):\\n        return len(self.scoops)\\n\\n    def __getitem__(self, index):\\n        return self.scoops[index]\\n\\ns1 = Scoop('chocolate')\\ns2 = Scoop('vanilla')\\ns3 = Scoop('coffee')\\ns4 = Scoop('flavor 4')\\ns5 = Scoop('flavor 5')\\n\\nb = Bowl()\\nb.add_scoops(s1, s2)\\nb.add_scoops(s3)\\nb.add_scoops(s4, s5)\\nprint(b.flavors()) \\n\\nprint(len(b))\\nb[1]\",\n",
       "   'b[:2',\n",
       "   'b[:2]',\n",
       "   'slice(None, 2)',\n",
       "   'b[slice(None, 2)]',\n",
       "   \"class Scoop:\\n    def __init__(self, flavor):\\n        self.flavor = flavor\\n\\n    def __repr__(self):\\n        return f'Scoop of {self.flavor}'\\n        \\nclass Bowl:\\n    MAX_SCOOPS = 3\\n    \\n    def __init__(self):\\n        self.scoops = []\\n        \\n    def add_scoops(self, *new_scoops):\\n        for one_scoop in new_scoops:\\n            if len(self.scoops) < self.MAX_SCOOPS:\\n                self.scoops.append(one_scoop)\\n            \\n    def flavors(self):\\n        return [one_scoop.flavor\\n               for one_scoop in self.scoops]\\n\\n    def __repr__(self):\\n        output = 'Bowl of: \\\\n'\\n\\n        return output + '\\\\n'.join([f'\\\\t{index}: {one_scoop}'\\n                                   for index, one_scoop in enumerate(self.scoops, 1)])\\n\\n    def __len__(self):\\n        return len(self.scoops)\\n\\n    def __getitem__(self, index):\\n        if isinstance(index, slice):\\n            b = Bowl()\\n            b.scoops = self.scoops[index]   # index is a slice, get that part of self.scoops\\n            return b\\n        return self.scoops[index]   # index is an integer (we hope), and return that scoop\\n\\ns1 = Scoop('chocolate')\\ns2 = Scoop('vanilla')\\ns3 = Scoop('coffee')\\ns4 = Scoop('flavor 4')\\ns5 = Scoop('flavor 5')\\n\\nb = Bowl()\\nb.add_scoops(s1, s2)\\nb.add_scoops(s3)\\nb.add_scoops(s4, s5)\\nprint(b.flavors()) \\n\\nprint(len(b))\\nb[1]\",\n",
       "   'b[:2]',\n",
       "   'b1 = Bowl()\\nb1.add_scoops(s1)\\n\\nb2 = Bowl()\\nb2.add_scoops(s2, s3)\\n\\nb1 + b2',\n",
       "   \"class Scoop:\\n    def __init__(self, flavor):\\n        self.flavor = flavor\\n\\n    def __repr__(self):\\n        return f'Scoop of {self.flavor}'\\n        \\nclass Bowl:\\n    MAX_SCOOPS = 3\\n    \\n    def __init__(self):\\n        self.scoops = []\\n        \\n    def add_scoops(self, *new_scoops):\\n        for one_scoop in new_scoops:\\n            if len(self.scoops) < self.MAX_SCOOPS:\\n                self.scoops.append(one_scoop)\\n            \\n    def flavors(self):\\n        return [one_scoop.flavor\\n               for one_scoop in self.scoops]\\n\\n    def __repr__(self):\\n        output = 'Bowl of: \\\\n'\\n\\n        return output + '\\\\n'.join([f'\\\\t{index}: {one_scoop}'\\n                                   for index, one_scoop in enumerate(self.scoops, 1)])\\n\\n    def __len__(self):\\n        return len(self.scoops)\\n\\n    def __getitem__(self, index):\\n        if isinstance(index, slice):\\n            b = Bowl()\\n            b.scoops = self.scoops[index]   # index is a slice, get that part of self.scoops\\n            return b\\n        return self.scoops[index]   # index is an integer (we hope), and return that scoop\\n\\n    def __add__(self, other):\\n        if not isinstance(other, Bowl):\\n            raise TypeError('Can only add bowls to other bowls')\\n\\n        b = Bowl()\\n        b.scoops = self.scoops + other.scoops\\n        return b\\n\\ns1 = Scoop('chocolate')\\ns2 = Scoop('vanilla')\\ns3 = Scoop('coffee')\\ns4 = Scoop('flavor 4')\\ns5 = Scoop('flavor 5')\\n\\nb = Bowl()\\nb.add_scoops(s1, s2)\\nb.add_scoops(s3)\\nb.add_scoops(s4, s5)\\nprint(b.flavors()) \\n\\nprint(len(b))\\nb[1]\",\n",
       "   'b[:2]',\n",
       "   'b1 = Bowl()\\nb1.add_scoops(s1)\\n\\nb2 = Bowl()\\nb2.add_scoops(s2, s3)\\n\\nb1 + b2',\n",
       "   \"class Scoop:\\n    def __init__(self, flavor):\\n        self.flavor = flavor\\n\\n    def __repr__(self):\\n        return f'Scoop of {self.flavor}'\\n        \\nclass Bowl:\\n    MAX_SCOOPS = 3\\n    \\n    def __init__(self):\\n        self.scoops = []\\n        \\n    def add_scoops(self, *new_scoops):\\n        for one_scoop in new_scoops:\\n            if len(self.scoops) < self.MAX_SCOOPS:\\n                self.scoops.append(one_scoop)\\n            \\n    def flavors(self):\\n        return [one_scoop.flavor\\n               for one_scoop in self.scoops]\\n\\n    def __repr__(self):\\n        output = 'Bowl of: \\\\n'\\n\\n        return output + '\\\\n'.join([f'\\\\t{index}: {one_scoop}'\\n                                   for index, one_scoop in enumerate(self.scoops, 1)])\\n\\n    def __len__(self):\\n        return len(self.scoops)\\n\\n    def __getitem__(self, index):\\n        if isinstance(index, slice):\\n            b = Bowl()\\n            b.scoops = self.scoops[index]   # index is a slice, get that part of self.scoops\\n            return b\\n        return self.scoops[index]   # index is an integer (we hope), and return that scoop\\n\\n    def __add__(self, other):\\n        if not isinstance(other, Bowl):\\n            raise TypeError('Can only add bowls to other bowls')\\n\\n        b = Bowl()\\n        b.add_scoops(*self.scoops)  \\n        b.add_scoops(*other.scoops)\\n        return b\\n\\ns1 = Scoop('chocolate')\\ns2 = Scoop('vanilla')\\ns3 = Scoop('coffee')\\ns4 = Scoop('flavor 4')\\ns5 = Scoop('flavor 5')\\n\\nb = Bowl()\\nb.add_scoops(s1, s2)\\nb.add_scoops(s3)\\nb.add_scoops(s4, s5)\\nprint(b.flavors()) \\n\\nprint(len(b))\\nb[1]\",\n",
       "   'b[:2]',\n",
       "   'b1 = Bowl()\\nb1.add_scoops(s1)\\n\\nb2 = Bowl()\\nb2.add_scoops(s2, s3)\\n\\nb1 + b2',\n",
       "   'b1 = Bowl()\\nb1.add_scoops(s1)\\n\\nb2 = Bowl()\\nb2.add_scoops(s2, s3, s4)\\n\\nb1 + b2',\n",
       "   \"class Scoop:\\n    def __init__(self, flavor):\\n        self.flavor = flavor\\n\\n    def __repr__(self):\\n        return f'Scoop of {self.flavor}'\\n        \\nclass Bowl:\\n    MAX_SCOOPS = 3\\n    \\n    def __init__(self):\\n        self.scoops = []\\n        \\n    def add_scoops(self, *new_scoops):\\n        for one_scoop in new_scoops:\\n            if len(self.scoops) < self.MAX_SCOOPS:\\n                self.scoops.append(one_scoop)\\n            \\n    def flavors(self):\\n        return [one_scoop.flavor\\n               for one_scoop in self.scoops]\\n\\n    def __repr__(self):\\n        output = 'Bowl of: \\\\n'\\n\\n        return output + '\\\\n'.join([f'\\\\t{index}: {one_scoop}'\\n                                   for index, one_scoop in enumerate(self.scoops, 1)])\\n\\n    def __len__(self):\\n        return len(self.scoops)\\n\\n    def __getitem__(self, index):\\n        if isinstance(index, slice):\\n            b = Bowl()\\n            b.scoops = self.scoops[index]   # index is a slice, get that part of self.scoops\\n            return b\\n        return self.scoops[index]   # index is an integer (we hope), and return that scoop\\n\\n    def __add__(self, other):\\n        if not isinstance(other, Bowl):\\n            raise TypeError('Can only add bowls to other bowls')\\n\\n        b = Bowl()\\n        b.add_scoops(*(self.scoops + other.scoops))\\n        return b\\n\\ns1 = Scoop('chocolate')\\ns2 = Scoop('vanilla')\\ns3 = Scoop('coffee')\\ns4 = Scoop('flavor 4')\\ns5 = Scoop('flavor 5')\\n\\nb = Bowl()\\nb.add_scoops(s1, s2)\\nb.add_scoops(s3)\\nb.add_scoops(s4, s5)\\nprint(b.flavors()) \\n\\nprint(len(b))\\nb[1]\",\n",
       "   'b[:2]',\n",
       "   'b1 = Bowl()\\nb1.add_scoops(s1)\\n\\nb2 = Bowl()\\nb2.add_scoops(s2, s3, s4)\\n\\nb1 + b2',\n",
       "   '# __del__\\n\\n# this method runs when the reference count drops to zero\\n\\nx = [10, 20, 30]   # refcount to [10, 20, 30] is 1\\ny = x     # refcount is 2\\nz = x     # refcount is 3',\n",
       "   'x = None\\ny = None\\nz = None\\n\\n# what is the refcount of [10, 20, 30]?  0\\n# when it goes to 0, the object is deleted and the memory is freed',\n",
       "   \"class MyClass:\\n    def __init__(self, x):\\n        self.x = x\\n\\n    def __del__(self):\\n        print(f'__del__ ran; {self.x=}')\\n\\nm1 = MyClass(10)\\nm2 = MyClass(20)\\nm3 = MyClass(30)\",\n",
       "   'm1 = MyClass(40) ',\n",
       "   'import gc',\n",
       "   'x = [10, 20, 30, 40, 50]\\ngc.get_count(x)',\n",
       "   'x = [10, 20, 30, 40, 50]\\ngc.get_referrers(x)'],\n",
       "  'Out': {4: (object,),\n",
       "   5: (__main__.Person, object),\n",
       "   6: (__main__.Person,),\n",
       "   7: (__main__.Employee, __main__.Person, object),\n",
       "   8: (object,),\n",
       "   9: (__main__.First, object),\n",
       "   10: (object,),\n",
       "   11: (__main__.Second, object),\n",
       "   12: (__main__.First, __main__.Second),\n",
       "   13: (__main__.Third, __main__.First, __main__.Second, object),\n",
       "   16: {'x': 10},\n",
       "   17: 20,\n",
       "   24: (__main__.Third, __main__.Second, __main__.First, object),\n",
       "   33: {'x': 17, 'y': 17},\n",
       "   34: object,\n",
       "   35: '<__main__.Third object at 0x11237db10>',\n",
       "   36: 4600617744,\n",
       "   37: 4600617744,\n",
       "   38: '<__main__.Third object at 0x11237db10>',\n",
       "   39: '<__main__.Third object at 0x11237db10>',\n",
       "   40: 34,\n",
       "   76: <__main__.Scoop at 0x112359410>,\n",
       "   77: <__main__.Bowl at 0x1123587d0>,\n",
       "   81: Scoop of chocolate,\n",
       "   82: Bowl of: \n",
       "   \t1: Scoop of chocolate\n",
       "   \t2: Scoop of vanilla\n",
       "   \t3: Scoop of coffee,\n",
       "   83: 'Scoop of chocolate',\n",
       "   84: '<__main__.Scoop object at 0x112374910>',\n",
       "   86: 5,\n",
       "   88: 5,\n",
       "   90: False,\n",
       "   91: NotImplemented,\n",
       "   92: NotImplementedType,\n",
       "   93: True,\n",
       "   94: True,\n",
       "   96: True,\n",
       "   97: False,\n",
       "   98: False,\n",
       "   99: True,\n",
       "   100: False,\n",
       "   101: False,\n",
       "   102: True,\n",
       "   104: True,\n",
       "   105: True,\n",
       "   106: False,\n",
       "   107: False,\n",
       "   108: True,\n",
       "   109: False,\n",
       "   113: <__main__.MyClass at 0x112885790>,\n",
       "   114: Person with self.x='abcdefghij',\n",
       "   116: Person with self.x='abcdefghij',\n",
       "   117: Person with self.x='abcde100',\n",
       "   118: [10, 20, 30, 40, 50, 60],\n",
       "   119: Person with self.x='abcde100',\n",
       "   121: Person with self.x='abcdefghij',\n",
       "   122: Person with self.x='abcde100',\n",
       "   123: [10, 20, 30, 40, 50, 60],\n",
       "   124: Person with self.x='abcde100',\n",
       "   125: Person with self.x='100abcde',\n",
       "   128: Person with self.x='abcdefghij',\n",
       "   129: Person with self.x='abcde100',\n",
       "   130: [10, 20, 30, 40, 50, 60],\n",
       "   131: Person with self.x='abcde100',\n",
       "   132: Person with self.x='100abcde',\n",
       "   135: Person with self.x='abcdefghij',\n",
       "   136: Person with self.x='abcde100',\n",
       "   137: [10, 20, 30, 40, 50, 60],\n",
       "   138: Person with self.x='abcde100',\n",
       "   139: Person with self.x='100abcde',\n",
       "   142: ['__abs__',\n",
       "    '__add__',\n",
       "    '__and__',\n",
       "    '__bool__',\n",
       "    '__ceil__',\n",
       "    '__class__',\n",
       "    '__delattr__',\n",
       "    '__dir__',\n",
       "    '__divmod__',\n",
       "    '__doc__',\n",
       "    '__eq__',\n",
       "    '__float__',\n",
       "    '__floor__',\n",
       "    '__floordiv__',\n",
       "    '__format__',\n",
       "    '__ge__',\n",
       "    '__getattribute__',\n",
       "    '__getnewargs__',\n",
       "    '__getstate__',\n",
       "    '__gt__',\n",
       "    '__hash__',\n",
       "    '__index__',\n",
       "    '__init__',\n",
       "    '__init_subclass__',\n",
       "    '__int__',\n",
       "    '__invert__',\n",
       "    '__le__',\n",
       "    '__lshift__',\n",
       "    '__lt__',\n",
       "    '__mod__',\n",
       "    '__mul__',\n",
       "    '__ne__',\n",
       "    '__neg__',\n",
       "    '__new__',\n",
       "    '__or__',\n",
       "    '__pos__',\n",
       "    '__pow__',\n",
       "    '__radd__',\n",
       "    '__rand__',\n",
       "    '__rdivmod__',\n",
       "    '__reduce__',\n",
       "    '__reduce_ex__',\n",
       "    '__repr__',\n",
       "    '__rfloordiv__',\n",
       "    '__rlshift__',\n",
       "    '__rmod__',\n",
       "    '__rmul__',\n",
       "    '__ror__',\n",
       "    '__round__',\n",
       "    '__rpow__',\n",
       "    '__rrshift__',\n",
       "    '__rshift__',\n",
       "    '__rsub__',\n",
       "    '__rtruediv__',\n",
       "    '__rxor__',\n",
       "    '__setattr__',\n",
       "    '__sizeof__',\n",
       "    '__str__',\n",
       "    '__sub__',\n",
       "    '__subclasshook__',\n",
       "    '__truediv__',\n",
       "    '__trunc__',\n",
       "    '__xor__',\n",
       "    'as_integer_ratio',\n",
       "    'bit_count',\n",
       "    'bit_length',\n",
       "    'conjugate',\n",
       "    'denominator',\n",
       "    'from_bytes',\n",
       "    'imag',\n",
       "    'numerator',\n",
       "    'real',\n",
       "    'to_bytes'],\n",
       "   147: 'd',\n",
       "   148: 40,\n",
       "   149: 20,\n",
       "   150: 'd',\n",
       "   155: Scoop of vanilla,\n",
       "   157: [Scoop of chocolate, Scoop of vanilla],\n",
       "   158: slice(None, 2, None),\n",
       "   159: [Scoop of chocolate, Scoop of vanilla],\n",
       "   160: Scoop of vanilla,\n",
       "   161: Bowl of: \n",
       "   \t1: Scoop of chocolate\n",
       "   \t2: Scoop of vanilla,\n",
       "   163: Scoop of vanilla,\n",
       "   164: Bowl of: \n",
       "   \t1: Scoop of chocolate\n",
       "   \t2: Scoop of vanilla,\n",
       "   165: Bowl of: \n",
       "   \t1: Scoop of chocolate\n",
       "   \t2: Scoop of vanilla\n",
       "   \t3: Scoop of coffee,\n",
       "   166: Scoop of vanilla,\n",
       "   167: Bowl of: \n",
       "   \t1: Scoop of chocolate\n",
       "   \t2: Scoop of vanilla,\n",
       "   168: Bowl of: \n",
       "   \t1: Scoop of chocolate\n",
       "   \t2: Scoop of vanilla\n",
       "   \t3: Scoop of coffee,\n",
       "   169: Bowl of: \n",
       "   \t1: Scoop of chocolate\n",
       "   \t2: Scoop of vanilla\n",
       "   \t3: Scoop of coffee,\n",
       "   170: Scoop of vanilla,\n",
       "   171: Bowl of: \n",
       "   \t1: Scoop of chocolate\n",
       "   \t2: Scoop of vanilla,\n",
       "   172: Bowl of: \n",
       "   \t1: Scoop of chocolate\n",
       "   \t2: Scoop of vanilla\n",
       "   \t3: Scoop of coffee},\n",
       "  'get_ipython': <bound method InteractiveShell.get_ipython of <ipykernel.zmqshell.ZMQInteractiveShell object at 0x111d26f10>>,\n",
       "  'exit': <IPython.core.autocall.ZMQExitAutocall at 0x111d2bc50>,\n",
       "  'quit': <IPython.core.autocall.ZMQExitAutocall at 0x111d2bc50>,\n",
       "  'open': <function io.open(file, mode='r', buffering=-1, encoding=None, errors=None, newline=None, closefd=True, opener=None)>,\n",
       "  '_': Bowl of: \n",
       "  \t1: Scoop of chocolate\n",
       "  \t2: Scoop of vanilla\n",
       "  \t3: Scoop of coffee,\n",
       "  '__': Bowl of: \n",
       "  \t1: Scoop of chocolate\n",
       "  \t2: Scoop of vanilla,\n",
       "  '___': Scoop of vanilla,\n",
       "  '__session__': '/Users/reuven/Courses/Current/Apple-2023-advanced-python/2023 12December 18.ipynb',\n",
       "  'hello': <function __main__.hello(name)>,\n",
       "  'random': <module 'random' from '/usr/local/Cellar/python@3.11/3.11.6_1/Frameworks/Python.framework/Versions/3.11/lib/python3.11/random.py'>,\n",
       "  'surprise': <function __main__.surprise(text)>,\n",
       "  '_i': 'x = [10, 20, 30, 40, 50]\\ngc.get_count(x)',\n",
       "  '_ii': 'import gc',\n",
       "  '_iii': 'm1 = MyClass(40) ',\n",
       "  '_i1': '# Agenda\\n\\n1. Inheritance\\n2. Magic methods (`__del__`)\\n3. Object system\\n4. Metaclasses\\n5. Iterators etc. ',\n",
       "  '_i2': \"\\nclass Person:\\n\\n    def __init__(self, name):\\n        self.name = name\\n        \\n    def greet(self):\\n        return f'Hello, {self.name}!'\\n    \\np1 = Person('name1')    \\np2 = Person('name2')\\n\\nprint(p1.greet()) \\nprint(p2.greet()) \\n\\nclass Employee(Person):    # Employee is-a Person, i.e., inherits from Person\\n\\n    def __init__(self, name, id_number):\\n        super().__init__(name)        # do what my parent does in __init__...\\n        self.id_number = id_number    # add my own things\\n            \\ne1 = Employee('emp1', 1)# e1 has __init__? no. Empoyee has __init__? Yes \\ne2 = Employee('emp2', 2)\\n\\nprint(e1.greet()) # e1 has greet? No. Employee has greet? No. Person has greet? yes\\nprint(e2.greet()) \\n     \",\n",
       "  'Person': __main__.Person,\n",
       "  'p1': <__main__.Person at 0x111d7af50>,\n",
       "  'p2': <__main__.Person at 0x111d79d10>,\n",
       "  'Employee': __main__.Employee,\n",
       "  'e1': <__main__.Employee at 0x111d6bc50>,\n",
       "  'e2': <__main__.Employee at 0x111d79790>,\n",
       "  '_i3': 'class First:\\n    def __init__(self, x):\\n        self.x = x\\n\\n    def x2(self):\\n        return self.x * 2\\n\\nclass Second:\\n    def __init__(self, y):\\n        self.y = y\\n\\n    def y3(self):\\n        return self.y * 3\\n\\nclass Third(First, Second):\\n    pass',\n",
       "  'First': __main__.First,\n",
       "  'Second': __main__.Second,\n",
       "  'Third': __main__.Third,\n",
       "  '_i4': '# who does Person inherit from?  We can always check __bases__\\nPerson.__bases__',\n",
       "  '_4': (object,),\n",
       "  '_i5': \"# What about Person's MRO (method resolution order)\\nPerson.__mro__\",\n",
       "  '_5': (__main__.Person, object),\n",
       "  '_i6': 'Employee.__bases__',\n",
       "  '_6': (__main__.Person,),\n",
       "  '_i7': 'Employee.__mro__',\n",
       "  '_7': (__main__.Employee, __main__.Person, object),\n",
       "  '_i8': 'First.__bases__',\n",
       "  '_8': (object,),\n",
       "  '_i9': 'First.__mro__',\n",
       "  '_9': (__main__.First, object),\n",
       "  '_i10': 'Second.__bases__',\n",
       "  '_10': (object,),\n",
       "  '_i11': 'Second.__mro__',\n",
       "  '_11': (__main__.Second, object),\n",
       "  '_i12': 'Third.__bases__',\n",
       "  '_12': (__main__.First, __main__.Second),\n",
       "  '_i13': 'Third.__mro__',\n",
       "  '_13': (__main__.Third, __main__.First, __main__.Second, object),\n",
       "  '_i14': '# what happens when we create an instance of Third?\\n\\nt = Third()',\n",
       "  '_i15': 't = Third(10)',\n",
       "  't': <__main__.Third at 0x112390d50>,\n",
       "  '_i16': 'vars(t)',\n",
       "  '_16': {'x': 10},\n",
       "  '_i17': 't.x2()  # t has x2? No. Third has x2? No. First has x2? Yes...',\n",
       "  '_17': 20,\n",
       "  '_i18': 't.y3()  # t has y3? No. Third has y3? No. First has y3? No. Second has y3? Yes',\n",
       "  '_i19': 'class BadClass(Third, First, Second):\\n    pass',\n",
       "  'BadClass': __main__.BadClass,\n",
       "  '_i20': 'class BadClass(First, Third, Second):\\n    pass',\n",
       "  '_i21': 'help(super)',\n",
       "  '_i22': 'class First:\\n    def __init__(self, x):\\n        self.x = x\\n\\n    def x2(self):\\n        return self.x * 2\\n\\nclass Second(First):\\n    def __init__(self, y):\\n        self.y = y\\n\\n    def y3(self):\\n        return self.y * 3\\n\\nclass Third(First, Second):\\n    def __init__(self, x, y):\\n        super().__init__(self, x)',\n",
       "  '_i23': 'class First:\\n    def __init__(self, x):\\n        self.x = x\\n\\n    def x2(self):\\n        return self.x * 2\\n\\nclass Second(First):\\n    def __init__(self, y):\\n        self.y = y\\n\\n    def y3(self):\\n        return self.y * 3\\n\\nclass Third(Second):\\n    def __init__(self, x, y):\\n        super().__init__(self, x)',\n",
       "  '_i24': 'Third.__mro__',\n",
       "  '_24': (__main__.Third, __main__.Second, __main__.First, object),\n",
       "  '_i25': 'class First:\\n    def __init__(self, x):\\n        self.x = x\\n\\n    def x2(self):\\n        return self.x * 2\\n\\nclass Second(First):\\n    def __init__(self, y):\\n        super().__init__(y)\\n        self.y = y\\n\\n    def y3(self):\\n        return self.y * 3\\n\\nclass Third(Second):\\n    def __init__(self, x, y):\\n        super().__init__(self, x)',\n",
       "  '_i26': 't = Third(17)',\n",
       "  '_i27': 'class First:\\n    def __init__(self, x):\\n        self.x = x\\n\\n    def x2(self):\\n        return self.x * 2\\n\\nclass Second(First):\\n    def __init__(self, y):\\n        super().__init__(y)\\n        self.y = y\\n\\n    def y3(self):\\n        return self.y * 3\\n\\nclass Third(Second):\\n    def __init__(self, x):\\n        super().__init__(self, x)',\n",
       "  '_i28': 't = Third(17)',\n",
       "  '_i29': 'class First:\\n    def __init__(self, x):\\n        self.x = x\\n\\n    def x2(self):\\n        return self.x * 2\\n\\nclass Second(First):\\n    def __init__(self, y):\\n        super().__init__(y)\\n        self.y = y\\n\\n    def y3(self):\\n        return self.y * 3\\n\\nclass Third(Second):\\n    def __init__(self, x):\\n        super().__init__(x)',\n",
       "  '_i30': 'class First:\\n    def __init__(self, x):\\n        self.x = x\\n\\n    def x2(self):\\n        return self.x * 2\\n\\nclass Second(First):\\n    def __init__(self, y):\\n        super().__init__(y)\\n        self.y = y\\n\\n    def y3(self):\\n        return self.y * 3\\n\\nclass Third(Second):\\n    def __init__(self, x):\\n        super().__init__(x)',\n",
       "  '_i31': 't = Third(17)',\n",
       "  '_i32': 'class First:\\n    def __init__(self, x):\\n        self.x = x\\n\\n    def x2(self):\\n        return self.x * 2\\n\\nclass Second(First):\\n    def __init__(self, y):\\n        super().__init__(y)\\n        self.y = y\\n\\n    def y3(self):\\n        return self.y * 3\\n\\nclass Third(Second):\\n    def __init__(self, x):\\n        super().__init__(x)',\n",
       "  '_i33': 'vars(t)',\n",
       "  '_33': {'x': 17, 'y': 17},\n",
       "  '_i34': 'object',\n",
       "  '_34': object,\n",
       "  '_i35': 'str(t)',\n",
       "  '_35': '<__main__.Third object at 0x11237db10>',\n",
       "  '_i36': '0x11237db10',\n",
       "  '_36': 4600617744,\n",
       "  '_i37': 'id(t)',\n",
       "  '_37': 4600617744,\n",
       "  '_i38': 'str(t) # __str__() on t? No. __str__ on Third? No. __str__ on Second? no. __str__ on First? No.\\n       # ___str__ on object? Yes!',\n",
       "  '_38': '<__main__.Third object at 0x11237db10>',\n",
       "  '_i39': 'object.__str__(t)',\n",
       "  '_39': '<__main__.Third object at 0x11237db10>',\n",
       "  '_i40': 't.x2()',\n",
       "  '_40': 34,\n",
       "  '_i41': \"class First:\\n    def __init__(self, x):\\n        self.x = x\\n\\n    def x2(self):\\n        return self.x * 2\\n\\nclass Second(First):\\n    def __init__(self, y):\\n        super().__init__(y)\\n        self.y = y\\n\\n    def y3(self):\\n        return self.y * 3\\n\\nclass Third(Second):\\n    def __init__(self, x):\\n        super().__init__(x)\\n    def __str__(self):\\n        return f'My Third has attributes: {vars(self}}'\",\n",
       "  '_i42': \"class First:\\n    def __init__(self, x):\\n        self.x = x\\n\\n    def x2(self):\\n        return self.x * 2\\n\\nclass Second(First):\\n    def __init__(self, y):\\n        super().__init__(y)\\n        self.y = y\\n\\n    def y3(self):\\n        return self.y * 3\\n\\nclass Third(Second):\\n    def __init__(self, x):\\n        super().__init__(x)\\n    def __str__(self):\\n        return f'My Third has attributes: {vars(self)}'\",\n",
       "  '_i43': 'def myfunc():\\n    asdfsadfsafffsa',\n",
       "  'myfunc': <function __main__.myfunc()>,\n",
       "  '_i44': 'def myfunc():\\n    asdfsadfsafffsa\\n    asdfakjfhskjfshjkfha',\n",
       "  '_i45': 'def myfunc():\\n    asdfsadfsafffsa\\n   asdfakjfhskjfshjkfha',\n",
       "  '_i47': 't = Third(123)',\n",
       "  '_i48': 'print(t)',\n",
       "  '_i49': \"class Scoop:\\n    def __init__(self, flavor):\\n        self.flavor = flavor\\n        \\nclass Bowl:\\n    MAX_SCOOPS = 3\\n    \\n    def __init__(self):\\n        self.scoops = []\\n        \\n    def add_scoops(self, *new_scoops):\\n        for one_scoop in new_scoops:\\n            if len(self.scoops) < Bowl.MAX_SCOOPS:\\n                self.scoops.append(one_scoop)\\n            \\n    def flavors(self):\\n        \\n        return [one_scoop.flavor\\n               for one_scoop in self.scoops]\\n\\ns1 = Scoop('chocolate')\\ns2 = Scoop('vanilla')\\ns3 = Scoop('coffee')\\ns4 = Scoop('flavor 4')\\ns5 = Scoop('flavor 5')\\n\\nb = Bowl()\\nb.add_scoops(s1, s2)\\nb.add_scoops(s3)\\nb.add_scoops(s4, s5)\\nprint(b.flavors()) \",\n",
       "  'Scoop': __main__.Scoop,\n",
       "  'Bowl': __main__.Bowl,\n",
       "  's1': Scoop of chocolate,\n",
       "  's2': Scoop of vanilla,\n",
       "  's3': Scoop of coffee,\n",
       "  's4': Scoop of flavor 4,\n",
       "  's5': Scoop of flavor 5,\n",
       "  'b': Bowl of: \n",
       "  \t1: Scoop of chocolate\n",
       "  \t2: Scoop of vanilla\n",
       "  \t3: Scoop of coffee,\n",
       "  '_i50': \"class Scoop:\\n    def __init__(self, flavor):\\n        self.flavor = flavor\\n        \\nclass Bowl:\\n    MAX_SCOOPS = 3\\n    \\n    def __init__(self):\\n        self.scoops = []\\n        \\n    def add_scoops(self, *new_scoops):\\n        for one_scoop in new_scoops:\\n            if len(self.scoops) < Bowl.MAX_SCOOPS:\\n                self.scoops.append(one_scoop)\\n            \\n    def flavors(self):\\n        \\n        return [one_scoop.flavor\\n               for one_scoop in self.scoops]\\n\\ns1 = Scoop('chocolate')\\ns2 = Scoop('vanilla')\\ns3 = Scoop('coffee')\\ns4 = Scoop('flavor 4')\\ns5 = Scoop('flavor 5')\\n\\nb = Bowl()\\nb.add_scoops(s1, s2)\\nb.add_scoops(s3)\\nb.add_scoops(s4, s5)\\nprint(b.flavors()) \",\n",
       "  '_i51': \"class Scoop:\\n    def __init__(self, flavor):\\n        self.flavor = flavor\\n        \\nclass Bowl:\\n    MAX_SCOOPS = 3\\n    \\n    def __init__(self):\\n        self.scoops = []\\n        \\n    def add_scoops(self, *new_scoops):\\n        for one_scoop in new_scoops:\\n            if len(self.scoops) < Bowl.MAX_SCOOPS:\\n                self.scoops.append(one_scoop)\\n            \\n    def flavors(self):\\n        \\n        return [one_scoop.flavor\\n               for one_scoop in self.scoops]\\n\\nclass BigBowl:\\n    MAX_SCOOPS = 5\\n    \\n    def __init__(self):\\n        self.scoops = []\\n        \\n    def add_scoops(self, *new_scoops):\\n        for one_scoop in new_scoops:\\n            if len(self.scoops) < BigBowl.MAX_SCOOPS:\\n                self.scoops.append(one_scoop)\\n            \\n    def flavors(self):\\n        \\n        return [one_scoop.flavor\\n               for one_scoop in self.scoops]\\n\\ns1 = Scoop('chocolate')\\ns2 = Scoop('vanilla')\\ns3 = Scoop('coffee')\\ns4 = Scoop('flavor 4')\\ns5 = Scoop('flavor 5')\\n\\nb = Bowl()\\nb.add_scoops(s1, s2)\\nb.add_scoops(s3)\\nb.add_scoops(s4, s5)\\nprint(b.flavors()) \\n\\nbb = BigBowl()\\nbb.add_scoops(s1, s2)\\nbb.add_scoops(s3)\\nbb.add_scoops(s4, s5)\\nprint(bb.flavors()) \",\n",
       "  'BigBowl': __main__.BigBowl,\n",
       "  'bb': Bowl of: \n",
       "  \t1: Scoop of chocolate\n",
       "  \t2: Scoop of vanilla\n",
       "  \t3: Scoop of coffee\n",
       "  \t4: Scoop of flavor 4\n",
       "  \t5: Scoop of flavor 5,\n",
       "  '_i52': \"class Scoop:\\n    def __init__(self, flavor):\\n        self.flavor = flavor\\n        \\nclass Bowl:\\n    MAX_SCOOPS = 3\\n    \\n    def __init__(self):\\n        self.scoops = []\\n        \\n    def add_scoops(self, *new_scoops):\\n        for one_scoop in new_scoops:\\n            if len(self.scoops) < Bowl.MAX_SCOOPS:\\n                self.scoops.append(one_scoop)\\n            \\n    def flavors(self):\\n        \\n        return [one_scoop.flavor\\n               for one_scoop in self.scoops]\\n\\nclass BigBowl(Bowl):\\n    MAX_SCOOPS = 5\\n    \\n    def __init__(self):\\n        self.scoops = []\\n        \\n    def add_scoops(self, *new_scoops):\\n        for one_scoop in new_scoops:\\n            if len(self.scoops) < BigBowl.MAX_SCOOPS:\\n                self.scoops.append(one_scoop)\\n            \\ns1 = Scoop('chocolate')\\ns2 = Scoop('vanilla')\\ns3 = Scoop('coffee')\\ns4 = Scoop('flavor 4')\\ns5 = Scoop('flavor 5')\\n\\nb = Bowl()\\nb.add_scoops(s1, s2)\\nb.add_scoops(s3)\\nb.add_scoops(s4, s5)\\nprint(b.flavors()) \\n\\nbb = BigBowl()\\nbb.add_scoops(s1, s2)\\nbb.add_scoops(s3)\\nbb.add_scoops(s4, s5)\\nprint(bb.flavors()) \",\n",
       "  '_i53': \"class Scoop:\\n    def __init__(self, flavor):\\n        self.flavor = flavor\\n        \\nclass Bowl:\\n    MAX_SCOOPS = 3\\n    \\n    def __init__(self):\\n        self.scoops = []\\n        \\n    def add_scoops(self, *new_scoops):\\n        for one_scoop in new_scoops:\\n            if len(self.scoops) < Bowl.MAX_SCOOPS:\\n                self.scoops.append(one_scoop)\\n            \\n    def flavors(self):\\n        return [one_scoop.flavor\\n               for one_scoop in self.scoops]\\n\\nclass BigBowl(Bowl):\\n    MAX_SCOOPS = 5\\n    \\n    def add_scoops(self, *new_scoops):\\n        for one_scoop in new_scoops:\\n            if len(self.scoops) < BigBowl.MAX_SCOOPS:\\n                self.scoops.append(one_scoop)\\n            \\ns1 = Scoop('chocolate')\\ns2 = Scoop('vanilla')\\ns3 = Scoop('coffee')\\ns4 = Scoop('flavor 4')\\ns5 = Scoop('flavor 5')\\n\\nb = Bowl()\\nb.add_scoops(s1, s2)\\nb.add_scoops(s3)\\nb.add_scoops(s4, s5)\\nprint(b.flavors()) \\n\\nbb = BigBowl()\\nbb.add_scoops(s1, s2)\\nbb.add_scoops(s3)\\nbb.add_scoops(s4, s5)\\nprint(bb.flavors()) \",\n",
       "  '_i54': \"class Scoop:\\n    def __init__(self, flavor):\\n        self.flavor = flavor\\n        \\nclass Bowl:\\n    MAX_SCOOPS = 3\\n    \\n    def __init__(self):\\n        self.scoops = []\\n        \\n    def add_scoops(self, *new_scoops):\\n        for one_scoop in new_scoops:\\n            if len(self.scoops) < self.MAX_SCOOPS:\\n                self.scoops.append(one_scoop)\\n            \\n    def flavors(self):\\n        return [one_scoop.flavor\\n               for one_scoop in self.scoops]\\n\\nclass BigBowl(Bowl):\\n    MAX_SCOOPS = 5\\n            \\ns1 = Scoop('chocolate')\\ns2 = Scoop('vanilla')\\ns3 = Scoop('coffee')\\ns4 = Scoop('flavor 4')\\ns5 = Scoop('flavor 5')\\n\\nb = Bowl()\\nb.add_scoops(s1, s2)\\nb.add_scoops(s3)\\nb.add_scoops(s4, s5)\\nprint(b.flavors()) \\n\\nbb = BigBowl()\\nbb.add_scoops(s1, s2)\\nbb.add_scoops(s3)\\nbb.add_scoops(s4, s5)\\nprint(bb.flavors()) \",\n",
       "  '_i55': \"class Scoop:\\n    def __init__(self, flavor):\\n        self.flavor = flavor\\n        \\nclass Bowl:\\n    MAX_SCOOPS = 3\\n    \\n    def __init__(self):\\n        self.scoops = []\\n        \\n    def add_scoops(self, *new_scoops):\\n        for one_scoop in new_scoops:\\n            if len(self.scoops) < self.MAX_SCOOPS:\\n                self.scoops.append(one_scoop)\\n            \\n    def flavors(self):\\n        return [one_scoop.flavor\\n               for one_scoop in self.scoops]\\n\\nclass BigBowl(Bowl):\\n    Bowl.MAX_SCOOPS = 5\\n            \\ns1 = Scoop('chocolate')\\ns2 = Scoop('vanilla')\\ns3 = Scoop('coffee')\\ns4 = Scoop('flavor 4')\\ns5 = Scoop('flavor 5')\\n\\nb = Bowl()\\nb.add_scoops(s1, s2)\\nb.add_scoops(s3)\\nb.add_scoops(s4, s5)\\nprint(b.flavors()) \\n\\nbb = BigBowl()\\nbb.add_scoops(s1, s2)\\nbb.add_scoops(s3)\\nbb.add_scoops(s4, s5)\\nprint(bb.flavors()) \",\n",
       "  '_i56': \"class Scoop:\\n    def __init__(self, flavor):\\n        self.flavor = flavor\\n        \\nclass Bowl:\\n    MAX_SCOOPS = 3\\n    \\n    def __init__(self):\\n        self.scoops = []\\n        \\n    def add_scoops(self, *new_scoops):\\n        for one_scoop in new_scoops:\\n            if len(self.scoops) < self.MAX_SCOOPS:\\n                self.scoops.append(one_scoop)\\n            \\n    def flavors(self):\\n        return [one_scoop.flavor\\n               for one_scoop in self.scoops]\\n\\nclass BigBowl(Bowl):\\n    MAX_SCOOPS = 5\\n            \\ns1 = Scoop('chocolate')\\ns2 = Scoop('vanilla')\\ns3 = Scoop('coffee')\\ns4 = Scoop('flavor 4')\\ns5 = Scoop('flavor 5')\\n\\nb = Bowl()\\nb.add_scoops(s1, s2)\\nb.add_scoops(s3)\\nb.add_scoops(s4, s5)\\nprint(b.flavors()) \\n\\nbb = BigBowl()\\nbb.add_scoops(s1, s2)\\nbb.add_scoops(s3)\\nbb.add_scoops(s4, s5)\\nprint(bb.flavors()) \",\n",
       "  '_i57': 'print(s1)',\n",
       "  '_i58': 'print(s1) # print(str(s1)) -> print(s1.__str__()) -> does s1 have __str__? No. Does Scoop have __str__? No.\\n          #         does object have __str__? Yes!',\n",
       "  '_i59': 'print(s1) # print(str(s1)) -> print(s1.__str__()) -> does s1 have __str__? No. Does Scoop have __str__? No.\\n          #         does object have __str__? Yes!',\n",
       "  '_i60': \"class Scoop:\\n    def __init__(self, flavor):\\n        self.flavor = flavor\\n\\n    def __str__(self):\\n        return f'Scoop of {self.flavor}'\\n        \\nclass Bowl:\\n    MAX_SCOOPS = 3\\n    \\n    def __init__(self):\\n        self.scoops = []\\n        \\n    def add_scoops(self, *new_scoops):\\n        for one_scoop in new_scoops:\\n            if len(self.scoops) < self.MAX_SCOOPS:\\n                self.scoops.append(one_scoop)\\n            \\n    def flavors(self):\\n        return [one_scoop.flavor\\n               for one_scoop in self.scoops]\\n\\nclass BigBowl(Bowl):\\n    MAX_SCOOPS = 5\\n            \\ns1 = Scoop('chocolate')\\ns2 = Scoop('vanilla')\\ns3 = Scoop('coffee')\\ns4 = Scoop('flavor 4')\\ns5 = Scoop('flavor 5')\\n\\nb = Bowl()\\nb.add_scoops(s1, s2)\\nb.add_scoops(s3)\\nb.add_scoops(s4, s5)\\nprint(b.flavors()) \\n\\nbb = BigBowl()\\nbb.add_scoops(s1, s2)\\nbb.add_scoops(s3)\\nbb.add_scoops(s4, s5)\\nprint(bb.flavors()) \",\n",
       "  '_i61': 'print(s1) # print(str(s1)) -> print(s1.__str__()) -> does s1 have __str__? No. Does Scoop have __str__? No.\\n          #         does object have __str__? Yes!',\n",
       "  '_i62': 'print(b)',\n",
       "  '_i63': \"class Scoop:\\n    def __init__(self, flavor):\\n        self.flavor = flavor\\n\\n    def __str__(self):\\n        return f'Scoop of {self.flavor}'\\n        \\nclass Bowl:\\n    MAX_SCOOPS = 3\\n    \\n    def __init__(self):\\n        self.scoops = []\\n        \\n    def add_scoops(self, *new_scoops):\\n        for one_scoop in new_scoops:\\n            if len(self.scoops) < self.MAX_SCOOPS:\\n                self.scoops.append(one_scoop)\\n            \\n    def flavors(self):\\n        return [one_scoop.flavor\\n               for one_scoop in self.scoops]\\n\\n    def __str__(self):\\n        output = 'Bowl of: \\\\n'\\n\\n        for one_scoop in self.scoops:\\n            output += f'\\\\t{one_scoop}\\\\n'\\n\\n        return output\\n\\nclass BigBowl(Bowl):\\n    MAX_SCOOPS = 5\\n            \\ns1 = Scoop('chocolate')\\ns2 = Scoop('vanilla')\\ns3 = Scoop('coffee')\\ns4 = Scoop('flavor 4')\\ns5 = Scoop('flavor 5')\\n\\nb = Bowl()\\nb.add_scoops(s1, s2)\\nb.add_scoops(s3)\\nb.add_scoops(s4, s5)\\nprint(b.flavors()) \\n\\nbb = BigBowl()\\nbb.add_scoops(s1, s2)\\nbb.add_scoops(s3)\\nbb.add_scoops(s4, s5)\\nprint(bb.flavors()) \",\n",
       "  '_i64': 'print(s1) # print(str(s1)) -> print(s1.__str__()) -> does s1 have __str__? No. Does Scoop have __str__? No.\\n          #         does object have __str__? Yes!',\n",
       "  '_i65': 'print(b)',\n",
       "  '_i66': \"class Scoop:\\n    def __init__(self, flavor):\\n        self.flavor = flavor\\n\\n    def __str__(self):\\n        return f'Scoop of {self.flavor}'\\n        \\nclass Bowl:\\n    MAX_SCOOPS = 3\\n    \\n    def __init__(self):\\n        self.scoops = []\\n        \\n    def add_scoops(self, *new_scoops):\\n        for one_scoop in new_scoops:\\n            if len(self.scoops) < self.MAX_SCOOPS:\\n                self.scoops.append(one_scoop)\\n            \\n    def flavors(self):\\n        return [one_scoop.flavor\\n               for one_scoop in self.scoops]\\n\\n    def __str__(self):\\n        output = 'Bowl of: \\\\n'\\n\\n        for index, one_scoop in enumerate(self.scoops):\\n            output += f'\\\\t{index}: {one_scoop}\\\\n'\\n\\n        return output\\n\\nclass BigBowl(Bowl):\\n    MAX_SCOOPS = 5\\n            \\ns1 = Scoop('chocolate')\\ns2 = Scoop('vanilla')\\ns3 = Scoop('coffee')\\ns4 = Scoop('flavor 4')\\ns5 = Scoop('flavor 5')\\n\\nb = Bowl()\\nb.add_scoops(s1, s2)\\nb.add_scoops(s3)\\nb.add_scoops(s4, s5)\\nprint(b.flavors()) \\n\\nbb = BigBowl()\\nbb.add_scoops(s1, s2)\\nbb.add_scoops(s3)\\nbb.add_scoops(s4, s5)\\nprint(bb.flavors()) \",\n",
       "  '_i67': 'print(s1) # print(str(s1)) -> print(s1.__str__()) -> does s1 have __str__? No. Does Scoop have __str__? No.\\n          #         does object have __str__? Yes!',\n",
       "  '_i68': 'print(b)',\n",
       "  '_i69': \"class Scoop:\\n    def __init__(self, flavor):\\n        self.flavor = flavor\\n\\n    def __str__(self):\\n        return f'Scoop of {self.flavor}'\\n        \\nclass Bowl:\\n    MAX_SCOOPS = 3\\n    \\n    def __init__(self):\\n        self.scoops = []\\n        \\n    def add_scoops(self, *new_scoops):\\n        for one_scoop in new_scoops:\\n            if len(self.scoops) < self.MAX_SCOOPS:\\n                self.scoops.append(one_scoop)\\n            \\n    def flavors(self):\\n        return [one_scoop.flavor\\n               for one_scoop in self.scoops]\\n\\n    def __str__(self):\\n        output = 'Bowl of: \\\\n'\\n\\n        for index, one_scoop in enumerate(self.scoops, 1):\\n            output += f'\\\\t{index}: {one_scoop}\\\\n'\\n\\n        return output\\n\\nclass BigBowl(Bowl):\\n    MAX_SCOOPS = 5\\n            \\ns1 = Scoop('chocolate')\\ns2 = Scoop('vanilla')\\ns3 = Scoop('coffee')\\ns4 = Scoop('flavor 4')\\ns5 = Scoop('flavor 5')\\n\\nb = Bowl()\\nb.add_scoops(s1, s2)\\nb.add_scoops(s3)\\nb.add_scoops(s4, s5)\\nprint(b.flavors()) \\n\\nbb = BigBowl()\\nbb.add_scoops(s1, s2)\\nbb.add_scoops(s3)\\nbb.add_scoops(s4, s5)\\nprint(bb.flavors()) \",\n",
       "  '_i70': 'print(s1) # print(str(s1)) -> print(s1.__str__()) -> does s1 have __str__? No. Does Scoop have __str__? No.\\n          #         does object have __str__? Yes!',\n",
       "  '_i71': 'print(b)',\n",
       "  '_i72': \"class Scoop:\\n    def __init__(self, flavor):\\n        self.flavor = flavor\\n\\n    def __str__(self):\\n        return f'Scoop of {self.flavor}'\\n        \\nclass Bowl:\\n    MAX_SCOOPS = 3\\n    \\n    def __init__(self):\\n        self.scoops = []\\n        \\n    def add_scoops(self, *new_scoops):\\n        for one_scoop in new_scoops:\\n            if len(self.scoops) < self.MAX_SCOOPS:\\n                self.scoops.append(one_scoop)\\n            \\n    def flavors(self):\\n        return [one_scoop.flavor\\n               for one_scoop in self.scoops]\\n\\n    def __str__(self):\\n        output = 'Bowl of: \\\\n'\\n\\n        # for index, one_scoop in enumerate(self.scoops, 1):\\n        #     output += f'\\\\t{index}: {one_scoop}\\\\n'\\n\\n        # return output\\n\\n        return output + '\\\\n'.join([f'\\\\t{index}: {one_scoop}'\\n                                   for index, one_scoop in enumerate(self.scoops, 1)])\\n\\nclass BigBowl(Bowl):\\n    MAX_SCOOPS = 5\\n            \\ns1 = Scoop('chocolate')\\ns2 = Scoop('vanilla')\\ns3 = Scoop('coffee')\\ns4 = Scoop('flavor 4')\\ns5 = Scoop('flavor 5')\\n\\nb = Bowl()\\nb.add_scoops(s1, s2)\\nb.add_scoops(s3)\\nb.add_scoops(s4, s5)\\nprint(b.flavors()) \\n\\nbb = BigBowl()\\nbb.add_scoops(s1, s2)\\nbb.add_scoops(s3)\\nbb.add_scoops(s4, s5)\\nprint(bb.flavors()) \",\n",
       "  '_i73': 'print(s1) # print(str(s1)) -> print(s1.__str__()) -> does s1 have __str__? No. Does Scoop have __str__? No.\\n          #         does object have __str__? Yes!',\n",
       "  '_i74': 'print(b)',\n",
       "  '_i75': 'print(s1)',\n",
       "  '_i76': 's1',\n",
       "  '_76': <__main__.Scoop at 0x112359410>,\n",
       "  '_i77': 'b',\n",
       "  '_77': <__main__.Bowl at 0x1123587d0>,\n",
       "  '_i78': \"class Scoop:\\n    def __init__(self, flavor):\\n        self.flavor = flavor\\n\\n    def __repr__(self):\\n        return f'Scoop of {self.flavor}'\\n        \\nclass Bowl:\\n    MAX_SCOOPS = 3\\n    \\n    def __init__(self):\\n        self.scoops = []\\n        \\n    def add_scoops(self, *new_scoops):\\n        for one_scoop in new_scoops:\\n            if len(self.scoops) < self.MAX_SCOOPS:\\n                self.scoops.append(one_scoop)\\n            \\n    def flavors(self):\\n        return [one_scoop.flavor\\n               for one_scoop in self.scoops]\\n\\n    def __repr__(self):\\n        output = 'Bowl of: \\\\n'\\n\\n        # for index, one_scoop in enumerate(self.scoops, 1):\\n        #     output += f'\\\\t{index}: {one_scoop}\\\\n'\\n\\n        # return output\\n\\n        return output + '\\\\n'.join([f'\\\\t{index}: {one_scoop}'\\n                                   for index, one_scoop in enumerate(self.scoops, 1)])\\n\\nclass BigBowl(Bowl):\\n    MAX_SCOOPS = 5\\n            \\ns1 = Scoop('chocolate')\\ns2 = Scoop('vanilla')\\ns3 = Scoop('coffee')\\ns4 = Scoop('flavor 4')\\ns5 = Scoop('flavor 5')\\n\\nb = Bowl()\\nb.add_scoops(s1, s2)\\nb.add_scoops(s3)\\nb.add_scoops(s4, s5)\\nprint(b.flavors()) \\n\\nbb = BigBowl()\\nbb.add_scoops(s1, s2)\\nbb.add_scoops(s3)\\nbb.add_scoops(s4, s5)\\nprint(bb.flavors()) \",\n",
       "  '_i79': 'print(s1) # print(str(s1)) -> print(s1.__str__()) -> does s1 have __str__? No. Does Scoop have __str__? No.\\n          #         does object have __str__? Yes!',\n",
       "  '_i80': 'print(b)',\n",
       "  '_i81': 's1',\n",
       "  '_81': Scoop of chocolate,\n",
       "  '_i82': 'b',\n",
       "  '_82': Bowl of: \n",
       "  \t1: Scoop of chocolate\n",
       "  \t2: Scoop of vanilla\n",
       "  \t3: Scoop of coffee,\n",
       "  '_i83': 'object.__str__(s1)',\n",
       "  '_83': 'Scoop of chocolate',\n",
       "  '_i84': 'object.__repr__(s1)',\n",
       "  '_84': '<__main__.Scoop object at 0x112374910>',\n",
       "  '_i85': \"class MyClass:\\n    def __init__(self, x):\\n        self.x = x\\n\\nm1 = MyClass('abcde')\\n\\nlen(m1)\",\n",
       "  'MyClass': __main__.MyClass,\n",
       "  'm1': <__main__.MyClass at 0x112850e90>,\n",
       "  '_i86': \"class MyClass:\\n    def __init__(self, x):\\n        self.x = x\\n\\n    def __len__(self):\\n        return len(self.x)\\n\\nm1 = MyClass('abcde')\\n\\nlen(m1)  # this actually calls m1.__len__()\",\n",
       "  '_86': 5,\n",
       "  '_i87': 'm2 = MyClass(100)\\nlen(m2)',\n",
       "  'm2': <__main__.MyClass at 0x111d8e710>,\n",
       "  '_i88': \"'abcde'.__len__()\",\n",
       "  '_88': 5,\n",
       "  '_i89': 'm2.x.__len__()',\n",
       "  '_i90': \"m1 = MyClass('abcde')\\nm2 = MyClass('abcde')\\n\\nm1 == m2\",\n",
       "  '_90': False,\n",
       "  '_i91': '# when we run ==, Python runs the __eq__ method\\n# it runs the method on the left-side argument\\n\\nm1.__eq__(m2)',\n",
       "  '_91': NotImplemented,\n",
       "  '_i92': 'type(NotImplemented)',\n",
       "  '_92': NotImplementedType,\n",
       "  '_i93': \"class MyClass:\\n    def __init__(self, x):\\n        self.x = x\\n\\n    def __len__(self):\\n        return len(self.x)\\n\\n    def __eq__(self, other):\\n        return vars(self) == vars(other)\\n\\nm1 = MyClass('abcde')\\nm2 = MyClass('abcde')\\n\\nm1 == m2\",\n",
       "  '_93': True,\n",
       "  '_i94': \"class MyClass:\\n    def __init__(self, x):\\n        self.x = x\\n\\n    def __len__(self):\\n        return len(self.x)\\n\\n    def __eq__(self, other):\\n        # return vars(self) == vars(other)\\n        return self.x == other.x\\n\\nm1 = MyClass('abcde')\\nm2 = MyClass('abcde')\\n\\nm1 == m2\",\n",
       "  '_94': True,\n",
       "  '_i95': 'm1 == 100',\n",
       "  '_i96': \"class MyClass:\\n    def __init__(self, x):\\n        self.x = x\\n\\n    def __len__(self):\\n        return len(self.x)\\n\\n    def __eq__(self, other):\\n        # return vars(self) == vars(other)\\n        if hasattr(other, 'x'):\\n            return self.x == other.x\\n        return False\\n\\nm1 = MyClass('abcde')\\nm2 = MyClass('abcde')\\n\\nm1 == m2\",\n",
       "  '_96': True,\n",
       "  '_i97': 'm1 == 100',\n",
       "  '_97': False,\n",
       "  '_i98': '100 == m1',\n",
       "  '_98': False,\n",
       "  '_i99': \"class MyClass:\\n    def __init__(self, x):\\n        self.x = x\\n\\n    def __len__(self):\\n        return len(self.x)\\n\\n    def __eq__(self, other):\\n        # return vars(self) == vars(other)\\n        if hasattr(other, 'x'):\\n            return self.x == other.x\\n        return False\\n\\n    def __lt__(self, other):\\n        if hasattr(other, 'x'):\\n            return self.x < other.x\\n        return False\\n        \\nm1 = MyClass('abcde')\\nm2 = MyClass('abcde')\\n\\nm1 == m2\",\n",
       "  '_99': True,\n",
       "  '_i100': 'm1 == 100',\n",
       "  '_100': False,\n",
       "  '_i101': '100 == m1',\n",
       "  '_101': False,\n",
       "  '_i102': \"m3 = MyClass('bcdef')\\n\\nm1 < m3\",\n",
       "  'm3': <__main__.MyClass at 0x111d99090>,\n",
       "  '_102': True,\n",
       "  '_i103': 'm1 >= m3',\n",
       "  '_i104': \"from functools import total_ordering\\n\\n@total_ordering    \\nclass MyClass:\\n    def __init__(self, x):\\n        self.x = x\\n\\n    def __len__(self):\\n        return len(self.x)\\n\\n    def __eq__(self, other):\\n        # return vars(self) == vars(other)\\n        if hasattr(other, 'x'):\\n            return self.x == other.x\\n        return False\\n\\n    def __lt__(self, other):\\n        if hasattr(other, 'x'):\\n            return self.x < other.x\\n        return False\\n        \\nm1 = MyClass('abcde')\\nm2 = MyClass('abcde')\\n\\nm1 == m2\",\n",
       "  'total_ordering': <function functools.total_ordering(cls)>,\n",
       "  '_104': True,\n",
       "  '_i105': \"from functools import total_ordering\\n\\n@total_ordering    \\nclass MyClass:\\n    def __init__(self, x):\\n        self.x = x\\n\\n    def __len__(self):\\n        return len(self.x)\\n\\n    def __eq__(self, other):\\n        # return vars(self) == vars(other)\\n        if hasattr(other, 'x'):\\n            return self.x == other.x\\n        return False\\n\\n    def __lt__(self, other):\\n        if hasattr(other, 'x'):\\n            return self.x < other.x\\n        return False\\n        \\nm1 = MyClass('abcde')\\nm2 = MyClass('abcde')\\n\\nm1 == m2\",\n",
       "  '_105': True,\n",
       "  '_i106': 'm1 == 100',\n",
       "  '_106': False,\n",
       "  '_i107': '100 == m1',\n",
       "  '_107': False,\n",
       "  '_i108': \"m3 = MyClass('bcdef')\\n\\nm1 < m3\",\n",
       "  '_108': True,\n",
       "  '_i109': 'm1 >= m3',\n",
       "  '_109': False,\n",
       "  '_i110': \"# let's try addition!\\n\\nm1 + m2\",\n",
       "  '_i111': \"10 + '20'\",\n",
       "  '_i112': \"'10' + 20\",\n",
       "  '_i113': \"from functools import total_ordering\\n\\n@total_ordering    \\nclass MyClass:\\n    def __init__(self, x):\\n        self.x = x\\n\\n    def __len__(self):\\n        return len(self.x)\\n\\n    def __eq__(self, other):\\n        # return vars(self) == vars(other)\\n        if hasattr(other, 'x'):\\n            return self.x == other.x\\n        return False\\n\\n    def __lt__(self, other):\\n        if hasattr(other, 'x'):\\n            return self.x < other.x\\n        return False\\n\\n    def __add__(self, other):\\n        if hasattr(other, 'x'):\\n            return MyClass(self.x + other.x)\\n        \\nm1 = MyClass('abcde')\\nm2 = MyClass('fghij')\\n\\nm1 + m2\",\n",
       "  '_113': <__main__.MyClass at 0x112885790>,\n",
       "  '_i114': \"from functools import total_ordering\\n\\n@total_ordering    \\nclass MyClass:\\n    def __init__(self, x):\\n        self.x = x\\n\\n    def __len__(self):\\n        return len(self.x)\\n\\n    def __eq__(self, other):\\n        # return vars(self) == vars(other)\\n        if hasattr(other, 'x'):\\n            return self.x == other.x\\n        return False\\n\\n    def __lt__(self, other):\\n        if hasattr(other, 'x'):\\n            return self.x < other.x\\n        return False\\n\\n    def __add__(self, other):\\n        if hasattr(other, 'x'):\\n            return MyClass(self.x + other.x)\\n\\n    def __repr__(self):\\n        return f'Person with {self.x=}'\\n        \\nm1 = MyClass('abcde')\\nm2 = MyClass('fghij')\\n\\nm1 + m2\",\n",
       "  '_114': Person with self.x='abcdefghij',\n",
       "  '_i115': 'm1 + 100',\n",
       "  '_i116': \"from functools import total_ordering\\n\\n@total_ordering    \\nclass MyClass:\\n    def __init__(self, x):\\n        self.x = x\\n\\n    def __len__(self):\\n        return len(self.x)\\n\\n    def __eq__(self, other):\\n        # return vars(self) == vars(other)\\n        if hasattr(other, 'x'):\\n            return self.x == other.x\\n        return False\\n\\n    def __lt__(self, other):\\n        if hasattr(other, 'x'):\\n            return self.x < other.x\\n        return False\\n\\n    def __add__(self, other):\\n        if hasattr(other, 'x'):\\n            return MyClass(self.x + other.x)\\n        return MyClass(self.x + str(other))\\n\\n    def __repr__(self):\\n        return f'Person with {self.x=}'\\n        \\nm1 = MyClass('abcde')\\nm2 = MyClass('fghij')\\n\\nm1 + m2\",\n",
       "  '_116': Person with self.x='abcdefghij',\n",
       "  '_i117': 'm1 + 100',\n",
       "  '_117': Person with self.x='abcde100',\n",
       "  '_i118': '[10, 20, 30] + [40, 50, 60]',\n",
       "  '_118': [10, 20, 30, 40, 50, 60],\n",
       "  '_i119': 'm1 + 100',\n",
       "  '_119': Person with self.x='abcde100',\n",
       "  '_i120': '100 + m1',\n",
       "  '_i121': \"from functools import total_ordering\\n\\n@total_ordering    \\nclass MyClass:\\n    def __init__(self, x):\\n        self.x = x\\n\\n    def __len__(self):\\n        return len(self.x)\\n\\n    def __eq__(self, other):\\n        # return vars(self) == vars(other)\\n        if hasattr(other, 'x'):\\n            return self.x == other.x\\n        return False\\n\\n    def __lt__(self, other):\\n        if hasattr(other, 'x'):\\n            return self.x < other.x\\n        return False\\n\\n    def __add__(self, other):\\n        if hasattr(other, 'x'):\\n            return MyClass(self.x + other.x)\\n        return MyClass(self.x + str(other))\\n\\n    def __radd__(self, other):   # reverse add!\\n        if hasattr(other, 'x'):\\n            return MyClass(other.x + self.x)\\n        return MyClass(str(other) + self.x)\\n\\n    def __repr__(self):\\n        return f'Person with {self.x=}'\\n        \\nm1 = MyClass('abcde')\\nm2 = MyClass('fghij')\\n\\nm1 + m2\",\n",
       "  '_121': Person with self.x='abcdefghij',\n",
       "  '_i122': 'm1 + 100',\n",
       "  '_122': Person with self.x='abcde100',\n",
       "  '_i123': '[10, 20, 30] + [40, 50, 60]',\n",
       "  '_123': [10, 20, 30, 40, 50, 60],\n",
       "  '_i124': 'm1 + 100',\n",
       "  '_124': Person with self.x='abcde100',\n",
       "  '_i125': '100 + m1',\n",
       "  '_125': Person with self.x='100abcde',\n",
       "  '_i126': \"# what's going to happen here? \\n\\nprint(id(m1))\\nm1 += 'xyz'    # m1 = m1 + 'xyz'\\nprint(id(m1))\",\n",
       "  '_i127': 'print(m1)',\n",
       "  '_i128': \"from functools import total_ordering\\n\\n@total_ordering    \\nclass MyClass:\\n    def __init__(self, x):\\n        self.x = x\\n\\n    def __len__(self):\\n        return len(self.x)\\n\\n    def __eq__(self, other):\\n        # return vars(self) == vars(other)\\n        if hasattr(other, 'x'):\\n            return self.x == other.x\\n        return False\\n\\n    def __lt__(self, other):\\n        if hasattr(other, 'x'):\\n            return self.x < other.x\\n        return False\\n\\n    def __add__(self, other):\\n        if hasattr(other, 'x'):\\n            return MyClass(self.x + other.x)\\n        return MyClass(self.x + str(other))\\n\\n    def __radd__(self, other):   # reverse add!\\n        if hasattr(other, 'x'):\\n            return MyClass(other.x + self.x)\\n        return MyClass(str(other) + self.x)\\n\\n    def __iadd__(self, other):   # in-place add, +=\\n        if hasattr(other, 'x'):\\n            self.x += other.x\\n        self.x = str(other) + self.x\\n        return self\\n\\n    def __repr__(self):\\n        return f'Person with {self.x=}'\\n        \\nm1 = MyClass('abcde')\\nm2 = MyClass('fghij')\\n\\nm1 + m2\",\n",
       "  '_128': Person with self.x='abcdefghij',\n",
       "  '_i129': 'm1 + 100',\n",
       "  '_129': Person with self.x='abcde100',\n",
       "  '_i130': '[10, 20, 30] + [40, 50, 60]',\n",
       "  '_130': [10, 20, 30, 40, 50, 60],\n",
       "  '_i131': 'm1 + 100',\n",
       "  '_131': Person with self.x='abcde100',\n",
       "  '_i132': '100 + m1',\n",
       "  '_132': Person with self.x='100abcde',\n",
       "  '_i133': \"# what's going to happen here? \\n\\nprint(id(m1))\\nm1 += 'xyz'    # m1 = m1 + 'xyz'\\nprint(id(m1))\",\n",
       "  '_i134': 'print(m1)',\n",
       "  '_i135': \"from functools import total_ordering\\n\\n@total_ordering    \\nclass MyClass:\\n    def __init__(self, x):\\n        self.x = x\\n\\n    def __len__(self):\\n        return len(self.x)\\n\\n    def __eq__(self, other):\\n        # return vars(self) == vars(other)\\n        if hasattr(other, 'x'):\\n            return self.x == other.x\\n        return False\\n\\n    def __lt__(self, other):\\n        if hasattr(other, 'x'):\\n            return self.x < other.x\\n        return False\\n\\n    def __add__(self, other):\\n        if hasattr(other, 'x'):\\n            return MyClass(self.x + other.x)\\n        return MyClass(self.x + str(other))\\n\\n    def __radd__(self, other):   # reverse add!\\n        if hasattr(other, 'x'):\\n            return MyClass(other.x + self.x)\\n        return MyClass(str(other) + self.x)\\n\\n    def __iadd__(self, other):   # in-place add, +=\\n        if hasattr(other, 'x'):\\n            self.x += other.x\\n        self.x = self.x + str(other)\\n        return self\\n\\n    def __repr__(self):\\n        return f'Person with {self.x=}'\\n        \\nm1 = MyClass('abcde')\\nm2 = MyClass('fghij')\\n\\nm1 + m2\",\n",
       "  '_135': Person with self.x='abcdefghij',\n",
       "  '_i136': 'm1 + 100',\n",
       "  '_136': Person with self.x='abcde100',\n",
       "  '_i137': '[10, 20, 30] + [40, 50, 60]',\n",
       "  '_137': [10, 20, 30, 40, 50, 60],\n",
       "  '_i138': 'm1 + 100',\n",
       "  '_138': Person with self.x='abcde100',\n",
       "  '_i139': '100 + m1',\n",
       "  '_139': Person with self.x='100abcde',\n",
       "  '_i140': \"# what's going to happen here? \\n\\nprint(id(m1))\\nm1 += 'xyz'    # m1 = m1 + 'xyz'\\nprint(id(m1))\",\n",
       "  '_i141': 'print(m1)',\n",
       "  '_i142': 'dir(5)',\n",
       "  '_142': ['__abs__',\n",
       "   '__add__',\n",
       "   '__and__',\n",
       "   '__bool__',\n",
       "   '__ceil__',\n",
       "   '__class__',\n",
       "   '__delattr__',\n",
       "   '__dir__',\n",
       "   '__divmod__',\n",
       "   '__doc__',\n",
       "   '__eq__',\n",
       "   '__float__',\n",
       "   '__floor__',\n",
       "   '__floordiv__',\n",
       "   '__format__',\n",
       "   '__ge__',\n",
       "   '__getattribute__',\n",
       "   '__getnewargs__',\n",
       "   '__getstate__',\n",
       "   '__gt__',\n",
       "   '__hash__',\n",
       "   '__index__',\n",
       "   '__init__',\n",
       "   '__init_subclass__',\n",
       "   '__int__',\n",
       "   '__invert__',\n",
       "   '__le__',\n",
       "   '__lshift__',\n",
       "   '__lt__',\n",
       "   '__mod__',\n",
       "   '__mul__',\n",
       "   '__ne__',\n",
       "   '__neg__',\n",
       "   '__new__',\n",
       "   '__or__',\n",
       "   '__pos__',\n",
       "   '__pow__',\n",
       "   '__radd__',\n",
       "   '__rand__',\n",
       "   '__rdivmod__',\n",
       "   '__reduce__',\n",
       "   '__reduce_ex__',\n",
       "   '__repr__',\n",
       "   '__rfloordiv__',\n",
       "   '__rlshift__',\n",
       "   '__rmod__',\n",
       "   '__rmul__',\n",
       "   '__ror__',\n",
       "   '__round__',\n",
       "   '__rpow__',\n",
       "   '__rrshift__',\n",
       "   '__rshift__',\n",
       "   '__rsub__',\n",
       "   '__rtruediv__',\n",
       "   '__rxor__',\n",
       "   '__setattr__',\n",
       "   '__sizeof__',\n",
       "   '__str__',\n",
       "   '__sub__',\n",
       "   '__subclasshook__',\n",
       "   '__truediv__',\n",
       "   '__trunc__',\n",
       "   '__xor__',\n",
       "   'as_integer_ratio',\n",
       "   'bit_count',\n",
       "   'bit_length',\n",
       "   'conjugate',\n",
       "   'denominator',\n",
       "   'from_bytes',\n",
       "   'imag',\n",
       "   'numerator',\n",
       "   'real',\n",
       "   'to_bytes'],\n",
       "  '_i143': \"x = 123\\ny = [10, 20, 30]\\n\\n# if I want to debug\\nprint(f'x = {x}, y = {y}'\",\n",
       "  '_i144': \"x = 123\\ny = [10, 20, 30]\\n\\n# if I want to debug\\nprint(f'x = {x}, y = {y}')\",\n",
       "  'x': [10, 20, 30, 40, 50],\n",
       "  'y': None,\n",
       "  '_i145': \"# as of Python 3.10\\nprint(f'{x=}, {y=}')\",\n",
       "  '_i146': \"print(f'{len(y)=}')\",\n",
       "  '_i147': \"# have you noticed that all of these types use []\\ns = 'abcde'\\ns[3]\",\n",
       "  's': 'abcde',\n",
       "  '_147': 'd',\n",
       "  '_i148': 'mylist = [10, 20, 30, 40, 50]\\nmylist[3]',\n",
       "  'mylist': [10, 20, 30, 40, 50],\n",
       "  '_148': 40,\n",
       "  '_i149': \"d = {'a':10, 'b':20, 'c':30}\\nd['b']\",\n",
       "  'd': {'a': 10, 'b': 20, 'c': 30},\n",
       "  '_149': 20,\n",
       "  '_i150': \"# all of these implement __getitem__, that take self and the index\\n\\nclass MyClass:\\n    def __init__(self, x):\\n        self.x = x\\n\\n    def __repr__(self):\\n        return f'Person with {self.x=}'\\n\\n    def __getitem__(self, index):\\n        return self.x[index]\\n        \\nm = MyClass('abcde')\\nm[3]\",\n",
       "  'm': Person with self.x='abcde',\n",
       "  '_150': 'd',\n",
       "  '_i151': \"class Scoop:\\n    def __init__(self, flavor):\\n        self.flavor = flavor\\n\\n    def __repr__(self):\\n        return f'Scoop of {self.flavor}'\\n        \\nclass Bowl:\\n    MAX_SCOOPS = 3\\n    \\n    def __init__(self):\\n        self.scoops = []\\n        \\n    def add_scoops(self, *new_scoops):\\n        for one_scoop in new_scoops:\\n            if len(self.scoops) < self.MAX_SCOOPS:\\n                self.scoops.append(one_scoop)\\n            \\n    def flavors(self):\\n        return [one_scoop.flavor\\n               for one_scoop in self.scoops]\\n\\n    def __repr__(self):\\n        output = 'Bowl of: \\\\n'\\n\\n        return output + '\\\\n'.join([f'\\\\t{index}: {one_scoop}'\\n                                   for index, one_scoop in enumerate(self.scoops, 1)])\\n\\ns1 = Scoop('chocolate')\\ns2 = Scoop('vanilla')\\ns3 = Scoop('coffee')\\ns4 = Scoop('flavor 4')\\ns5 = Scoop('flavor 5')\\n\\nb = Bowl()\\nb.add_scoops(s1, s2)\\nb.add_scoops(s3)\\nb.add_scoops(s4, s5)\\nprint(b.flavors()) \\n\\nprint(len(b))\",\n",
       "  '_i152': \"class Scoop:\\n    def __init__(self, flavor):\\n        self.flavor = flavor\\n\\n    def __repr__(self):\\n        return f'Scoop of {self.flavor}'\\n        \\nclass Bowl:\\n    MAX_SCOOPS = 3\\n    \\n    def __init__(self):\\n        self.scoops = []\\n        \\n    def add_scoops(self, *new_scoops):\\n        for one_scoop in new_scoops:\\n            if len(self.scoops) < self.MAX_SCOOPS:\\n                self.scoops.append(one_scoop)\\n            \\n    def flavors(self):\\n        return [one_scoop.flavor\\n               for one_scoop in self.scoops]\\n\\n    def __repr__(self):\\n        output = 'Bowl of: \\\\n'\\n\\n        return output + '\\\\n'.join([f'\\\\t{index}: {one_scoop}'\\n                                   for index, one_scoop in enumerate(self.scoops, 1)])\\n\\n    def __len__(self):\\n        return len(self.scoops))\\n\\ns1 = Scoop('chocolate')\\ns2 = Scoop('vanilla')\\ns3 = Scoop('coffee')\\ns4 = Scoop('flavor 4')\\ns5 = Scoop('flavor 5')\\n\\nb = Bowl()\\nb.add_scoops(s1, s2)\\nb.add_scoops(s3)\\nb.add_scoops(s4, s5)\\nprint(b.flavors()) \\n\\nprint(len(b))\",\n",
       "  '_i153': \"class Scoop:\\n    def __init__(self, flavor):\\n        self.flavor = flavor\\n\\n    def __repr__(self):\\n        return f'Scoop of {self.flavor}'\\n        \\nclass Bowl:\\n    MAX_SCOOPS = 3\\n    \\n    def __init__(self):\\n        self.scoops = []\\n        \\n    def add_scoops(self, *new_scoops):\\n        for one_scoop in new_scoops:\\n            if len(self.scoops) < self.MAX_SCOOPS:\\n                self.scoops.append(one_scoop)\\n            \\n    def flavors(self):\\n        return [one_scoop.flavor\\n               for one_scoop in self.scoops]\\n\\n    def __repr__(self):\\n        output = 'Bowl of: \\\\n'\\n\\n        return output + '\\\\n'.join([f'\\\\t{index}: {one_scoop}'\\n                                   for index, one_scoop in enumerate(self.scoops, 1)])\\n\\n    def __len__(self):\\n        return len(self.scoops)\\n\\ns1 = Scoop('chocolate')\\ns2 = Scoop('vanilla')\\ns3 = Scoop('coffee')\\ns4 = Scoop('flavor 4')\\ns5 = Scoop('flavor 5')\\n\\nb = Bowl()\\nb.add_scoops(s1, s2)\\nb.add_scoops(s3)\\nb.add_scoops(s4, s5)\\nprint(b.flavors()) \\n\\nprint(len(b))\",\n",
       "  '_i154': \"class Scoop:\\n    def __init__(self, flavor):\\n        self.flavor = flavor\\n\\n    def __repr__(self):\\n        return f'Scoop of {self.flavor}'\\n        \\nclass Bowl:\\n    MAX_SCOOPS = 3\\n    \\n    def __init__(self):\\n        self.scoops = []\\n        \\n    def add_scoops(self, *new_scoops):\\n        for one_scoop in new_scoops:\\n            if len(self.scoops) < self.MAX_SCOOPS:\\n                self.scoops.append(one_scoop)\\n            \\n    def flavors(self):\\n        return [one_scoop.flavor\\n               for one_scoop in self.scoops]\\n\\n    def __repr__(self):\\n        output = 'Bowl of: \\\\n'\\n\\n        return output + '\\\\n'.join([f'\\\\t{index}: {one_scoop}'\\n                                   for index, one_scoop in enumerate(self.scoops, 1)])\\n\\n    def __len__(self):\\n        return len(self.scoops)\\n\\ns1 = Scoop('chocolate')\\ns2 = Scoop('vanilla')\\ns3 = Scoop('coffee')\\ns4 = Scoop('flavor 4')\\ns5 = Scoop('flavor 5')\\n\\nb = Bowl()\\nb.add_scoops(s1, s2)\\nb.add_scoops(s3)\\nb.add_scoops(s4, s5)\\nprint(b.flavors()) \\n\\nprint(len(b))\\nb[1]\",\n",
       "  '_i155': \"class Scoop:\\n    def __init__(self, flavor):\\n        self.flavor = flavor\\n\\n    def __repr__(self):\\n        return f'Scoop of {self.flavor}'\\n        \\nclass Bowl:\\n    MAX_SCOOPS = 3\\n    \\n    def __init__(self):\\n        self.scoops = []\\n        \\n    def add_scoops(self, *new_scoops):\\n        for one_scoop in new_scoops:\\n            if len(self.scoops) < self.MAX_SCOOPS:\\n                self.scoops.append(one_scoop)\\n            \\n    def flavors(self):\\n        return [one_scoop.flavor\\n               for one_scoop in self.scoops]\\n\\n    def __repr__(self):\\n        output = 'Bowl of: \\\\n'\\n\\n        return output + '\\\\n'.join([f'\\\\t{index}: {one_scoop}'\\n                                   for index, one_scoop in enumerate(self.scoops, 1)])\\n\\n    def __len__(self):\\n        return len(self.scoops)\\n\\n    def __getitem__(self, index):\\n        return self.scoops[index]\\n\\ns1 = Scoop('chocolate')\\ns2 = Scoop('vanilla')\\ns3 = Scoop('coffee')\\ns4 = Scoop('flavor 4')\\ns5 = Scoop('flavor 5')\\n\\nb = Bowl()\\nb.add_scoops(s1, s2)\\nb.add_scoops(s3)\\nb.add_scoops(s4, s5)\\nprint(b.flavors()) \\n\\nprint(len(b))\\nb[1]\",\n",
       "  '_155': Scoop of vanilla,\n",
       "  '_i156': 'b[:2',\n",
       "  '_i157': 'b[:2]',\n",
       "  '_157': [Scoop of chocolate, Scoop of vanilla],\n",
       "  '_i158': 'slice(None, 2)',\n",
       "  '_158': slice(None, 2, None),\n",
       "  '_i159': 'b[slice(None, 2)]',\n",
       "  '_159': [Scoop of chocolate, Scoop of vanilla],\n",
       "  '_i160': \"class Scoop:\\n    def __init__(self, flavor):\\n        self.flavor = flavor\\n\\n    def __repr__(self):\\n        return f'Scoop of {self.flavor}'\\n        \\nclass Bowl:\\n    MAX_SCOOPS = 3\\n    \\n    def __init__(self):\\n        self.scoops = []\\n        \\n    def add_scoops(self, *new_scoops):\\n        for one_scoop in new_scoops:\\n            if len(self.scoops) < self.MAX_SCOOPS:\\n                self.scoops.append(one_scoop)\\n            \\n    def flavors(self):\\n        return [one_scoop.flavor\\n               for one_scoop in self.scoops]\\n\\n    def __repr__(self):\\n        output = 'Bowl of: \\\\n'\\n\\n        return output + '\\\\n'.join([f'\\\\t{index}: {one_scoop}'\\n                                   for index, one_scoop in enumerate(self.scoops, 1)])\\n\\n    def __len__(self):\\n        return len(self.scoops)\\n\\n    def __getitem__(self, index):\\n        if isinstance(index, slice):\\n            b = Bowl()\\n            b.scoops = self.scoops[index]   # index is a slice, get that part of self.scoops\\n            return b\\n        return self.scoops[index]   # index is an integer (we hope), and return that scoop\\n\\ns1 = Scoop('chocolate')\\ns2 = Scoop('vanilla')\\ns3 = Scoop('coffee')\\ns4 = Scoop('flavor 4')\\ns5 = Scoop('flavor 5')\\n\\nb = Bowl()\\nb.add_scoops(s1, s2)\\nb.add_scoops(s3)\\nb.add_scoops(s4, s5)\\nprint(b.flavors()) \\n\\nprint(len(b))\\nb[1]\",\n",
       "  '_160': Scoop of vanilla,\n",
       "  '_i161': 'b[:2]',\n",
       "  '_161': Bowl of: \n",
       "  \t1: Scoop of chocolate\n",
       "  \t2: Scoop of vanilla,\n",
       "  '_i162': 'b1 = Bowl()\\nb1.add_scoops(s1)\\n\\nb2 = Bowl()\\nb2.add_scoops(s2, s3)\\n\\nb1 + b2',\n",
       "  'b1': Bowl of: \n",
       "  \t1: Scoop of chocolate,\n",
       "  'b2': Bowl of: \n",
       "  \t1: Scoop of vanilla\n",
       "  \t2: Scoop of coffee\n",
       "  \t3: Scoop of flavor 4,\n",
       "  '_i163': \"class Scoop:\\n    def __init__(self, flavor):\\n        self.flavor = flavor\\n\\n    def __repr__(self):\\n        return f'Scoop of {self.flavor}'\\n        \\nclass Bowl:\\n    MAX_SCOOPS = 3\\n    \\n    def __init__(self):\\n        self.scoops = []\\n        \\n    def add_scoops(self, *new_scoops):\\n        for one_scoop in new_scoops:\\n            if len(self.scoops) < self.MAX_SCOOPS:\\n                self.scoops.append(one_scoop)\\n            \\n    def flavors(self):\\n        return [one_scoop.flavor\\n               for one_scoop in self.scoops]\\n\\n    def __repr__(self):\\n        output = 'Bowl of: \\\\n'\\n\\n        return output + '\\\\n'.join([f'\\\\t{index}: {one_scoop}'\\n                                   for index, one_scoop in enumerate(self.scoops, 1)])\\n\\n    def __len__(self):\\n        return len(self.scoops)\\n\\n    def __getitem__(self, index):\\n        if isinstance(index, slice):\\n            b = Bowl()\\n            b.scoops = self.scoops[index]   # index is a slice, get that part of self.scoops\\n            return b\\n        return self.scoops[index]   # index is an integer (we hope), and return that scoop\\n\\n    def __add__(self, other):\\n        if not isinstance(other, Bowl):\\n            raise TypeError('Can only add bowls to other bowls')\\n\\n        b = Bowl()\\n        b.scoops = self.scoops + other.scoops\\n        return b\\n\\ns1 = Scoop('chocolate')\\ns2 = Scoop('vanilla')\\ns3 = Scoop('coffee')\\ns4 = Scoop('flavor 4')\\ns5 = Scoop('flavor 5')\\n\\nb = Bowl()\\nb.add_scoops(s1, s2)\\nb.add_scoops(s3)\\nb.add_scoops(s4, s5)\\nprint(b.flavors()) \\n\\nprint(len(b))\\nb[1]\",\n",
       "  '_163': Scoop of vanilla,\n",
       "  '_i164': 'b[:2]',\n",
       "  '_164': Bowl of: \n",
       "  \t1: Scoop of chocolate\n",
       "  \t2: Scoop of vanilla,\n",
       "  '_i165': 'b1 = Bowl()\\nb1.add_scoops(s1)\\n\\nb2 = Bowl()\\nb2.add_scoops(s2, s3)\\n\\nb1 + b2',\n",
       "  '_165': Bowl of: \n",
       "  \t1: Scoop of chocolate\n",
       "  \t2: Scoop of vanilla\n",
       "  \t3: Scoop of coffee,\n",
       "  '_i166': \"class Scoop:\\n    def __init__(self, flavor):\\n        self.flavor = flavor\\n\\n    def __repr__(self):\\n        return f'Scoop of {self.flavor}'\\n        \\nclass Bowl:\\n    MAX_SCOOPS = 3\\n    \\n    def __init__(self):\\n        self.scoops = []\\n        \\n    def add_scoops(self, *new_scoops):\\n        for one_scoop in new_scoops:\\n            if len(self.scoops) < self.MAX_SCOOPS:\\n                self.scoops.append(one_scoop)\\n            \\n    def flavors(self):\\n        return [one_scoop.flavor\\n               for one_scoop in self.scoops]\\n\\n    def __repr__(self):\\n        output = 'Bowl of: \\\\n'\\n\\n        return output + '\\\\n'.join([f'\\\\t{index}: {one_scoop}'\\n                                   for index, one_scoop in enumerate(self.scoops, 1)])\\n\\n    def __len__(self):\\n        return len(self.scoops)\\n\\n    def __getitem__(self, index):\\n        if isinstance(index, slice):\\n            b = Bowl()\\n            b.scoops = self.scoops[index]   # index is a slice, get that part of self.scoops\\n            return b\\n        return self.scoops[index]   # index is an integer (we hope), and return that scoop\\n\\n    def __add__(self, other):\\n        if not isinstance(other, Bowl):\\n            raise TypeError('Can only add bowls to other bowls')\\n\\n        b = Bowl()\\n        b.add_scoops(*self.scoops)  \\n        b.add_scoops(*other.scoops)\\n        return b\\n\\ns1 = Scoop('chocolate')\\ns2 = Scoop('vanilla')\\ns3 = Scoop('coffee')\\ns4 = Scoop('flavor 4')\\ns5 = Scoop('flavor 5')\\n\\nb = Bowl()\\nb.add_scoops(s1, s2)\\nb.add_scoops(s3)\\nb.add_scoops(s4, s5)\\nprint(b.flavors()) \\n\\nprint(len(b))\\nb[1]\",\n",
       "  '_166': Scoop of vanilla,\n",
       "  '_i167': 'b[:2]',\n",
       "  '_167': Bowl of: \n",
       "  \t1: Scoop of chocolate\n",
       "  \t2: Scoop of vanilla,\n",
       "  '_i168': 'b1 = Bowl()\\nb1.add_scoops(s1)\\n\\nb2 = Bowl()\\nb2.add_scoops(s2, s3)\\n\\nb1 + b2',\n",
       "  '_168': Bowl of: \n",
       "  \t1: Scoop of chocolate\n",
       "  \t2: Scoop of vanilla\n",
       "  \t3: Scoop of coffee,\n",
       "  '_i169': 'b1 = Bowl()\\nb1.add_scoops(s1)\\n\\nb2 = Bowl()\\nb2.add_scoops(s2, s3, s4)\\n\\nb1 + b2',\n",
       "  '_169': Bowl of: \n",
       "  \t1: Scoop of chocolate\n",
       "  \t2: Scoop of vanilla\n",
       "  \t3: Scoop of coffee,\n",
       "  '_i170': \"class Scoop:\\n    def __init__(self, flavor):\\n        self.flavor = flavor\\n\\n    def __repr__(self):\\n        return f'Scoop of {self.flavor}'\\n        \\nclass Bowl:\\n    MAX_SCOOPS = 3\\n    \\n    def __init__(self):\\n        self.scoops = []\\n        \\n    def add_scoops(self, *new_scoops):\\n        for one_scoop in new_scoops:\\n            if len(self.scoops) < self.MAX_SCOOPS:\\n                self.scoops.append(one_scoop)\\n            \\n    def flavors(self):\\n        return [one_scoop.flavor\\n               for one_scoop in self.scoops]\\n\\n    def __repr__(self):\\n        output = 'Bowl of: \\\\n'\\n\\n        return output + '\\\\n'.join([f'\\\\t{index}: {one_scoop}'\\n                                   for index, one_scoop in enumerate(self.scoops, 1)])\\n\\n    def __len__(self):\\n        return len(self.scoops)\\n\\n    def __getitem__(self, index):\\n        if isinstance(index, slice):\\n            b = Bowl()\\n            b.scoops = self.scoops[index]   # index is a slice, get that part of self.scoops\\n            return b\\n        return self.scoops[index]   # index is an integer (we hope), and return that scoop\\n\\n    def __add__(self, other):\\n        if not isinstance(other, Bowl):\\n            raise TypeError('Can only add bowls to other bowls')\\n\\n        b = Bowl()\\n        b.add_scoops(*(self.scoops + other.scoops))\\n        return b\\n\\ns1 = Scoop('chocolate')\\ns2 = Scoop('vanilla')\\ns3 = Scoop('coffee')\\ns4 = Scoop('flavor 4')\\ns5 = Scoop('flavor 5')\\n\\nb = Bowl()\\nb.add_scoops(s1, s2)\\nb.add_scoops(s3)\\nb.add_scoops(s4, s5)\\nprint(b.flavors()) \\n\\nprint(len(b))\\nb[1]\",\n",
       "  '_170': Scoop of vanilla,\n",
       "  '_i171': 'b[:2]',\n",
       "  '_171': Bowl of: \n",
       "  \t1: Scoop of chocolate\n",
       "  \t2: Scoop of vanilla,\n",
       "  '_i172': 'b1 = Bowl()\\nb1.add_scoops(s1)\\n\\nb2 = Bowl()\\nb2.add_scoops(s2, s3, s4)\\n\\nb1 + b2',\n",
       "  '_172': Bowl of: \n",
       "  \t1: Scoop of chocolate\n",
       "  \t2: Scoop of vanilla\n",
       "  \t3: Scoop of coffee,\n",
       "  '_i173': '# __del__\\n\\n# this method runs when the reference count drops to zero\\n\\nx = [10, 20, 30]   # refcount to [10, 20, 30] is 1\\ny = x     # refcount is 2\\nz = x     # refcount is 3',\n",
       "  'z': None,\n",
       "  '_i174': 'x = None\\ny = None\\nz = None\\n\\n# what is the refcount of [10, 20, 30]?  0\\n# when it goes to 0, the object is deleted and the memory is freed',\n",
       "  '_i175': \"class MyClass:\\n    def __init__(self, x):\\n        self.x = x\\n\\n    def __del__(self):\\n        print(f'__del__ ran; {self.x=}')\\n\\nm1 = MyClass(10)\\nm2 = MyClass(20)\\nm3 = MyClass(30)\",\n",
       "  '_i176': 'm1 = MyClass(40) ',\n",
       "  '_i177': 'import gc',\n",
       "  'gc': <module 'gc' (built-in)>,\n",
       "  '_i178': 'x = [10, 20, 30, 40, 50]\\ngc.get_count(x)',\n",
       "  '_i179': 'x = [10, 20, 30, 40, 50]\\ngc.get_referrers(x)'}]"
      ]
     },
     "execution_count": 179,
     "metadata": {},
     "output_type": "execute_result"
    }
   ],
   "source": [
    "x = [10, 20, 30, 40, 50]\n",
    "gc.get_referrers(x)"
   ]
  },
  {
   "cell_type": "code",
   "execution_count": null,
   "metadata": {},
   "outputs": [],
   "source": []
  }
 ],
 "metadata": {
  "kernelspec": {
   "display_name": "Python 3 (ipykernel)",
   "language": "python",
   "name": "python3"
  },
  "language_info": {
   "codemirror_mode": {
    "name": "ipython",
    "version": 3
   },
   "file_extension": ".py",
   "mimetype": "text/x-python",
   "name": "python",
   "nbconvert_exporter": "python",
   "pygments_lexer": "ipython3",
   "version": "3.11.6"
  }
 },
 "nbformat": 4,
 "nbformat_minor": 4
}
