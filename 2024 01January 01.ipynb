{
 "cells": [
  {
   "cell_type": "markdown",
   "id": "e779c4ef-413e-4c82-8a4f-9fc7d2a722fd",
   "metadata": {},
   "source": [
    "# Agenda\n",
    "\n",
    "- Generator functions\n",
    "- Generator comprehensions\n",
    "- Concurrency\n",
    "    - Threads\n",
    "    - Multiprocessing\n",
    "    - `asyncio`"
   ]
  },
  {
   "cell_type": "code",
   "execution_count": 1,
   "id": "38d6bdd7-ddf4-4d98-8930-2da9a9ab36a8",
   "metadata": {},
   "outputs": [],
   "source": [
    "def myfunc(x, y):\n",
    "    for one_number in range(x, y):\n",
    "        yield one_number"
   ]
  },
  {
   "cell_type": "code",
   "execution_count": null,
   "id": "5644bf4d-7cf3-46ea-b3d5-b5009e6f566a",
   "metadata": {},
   "outputs": [],
   "source": []
  },
  {
   "cell_type": "code",
   "execution_count": 2,
   "id": "3e85c896-b0fa-461c-b8c8-32ffbcd89ab7",
   "metadata": {},
   "outputs": [
    {
     "data": {
      "text/plain": [
       "<generator object myfunc at 0x10ce49700>"
      ]
     },
     "execution_count": 2,
     "metadata": {},
     "output_type": "execute_result"
    }
   ],
   "source": [
    "myfunc(10, 20)"
   ]
  },
  {
   "cell_type": "code",
   "execution_count": 3,
   "id": "0f14a946-756b-49ba-bc0c-3e30b48fbbe5",
   "metadata": {},
   "outputs": [
    {
     "name": "stdout",
     "output_type": "stream",
     "text": [
      "10\n",
      "11\n",
      "12\n",
      "13\n",
      "14\n",
      "15\n",
      "16\n",
      "17\n",
      "18\n",
      "19\n"
     ]
    }
   ],
   "source": [
    "for one_item in myfunc(10, 20):\n",
    "    print(one_item)"
   ]
  },
  {
   "cell_type": "code",
   "execution_count": 4,
   "id": "82ffb63d-e6d8-4c07-9985-12c028f9a473",
   "metadata": {},
   "outputs": [],
   "source": [
    "def evenrange(start, finish):\n",
    "    for one_number in range(start, finish):\n",
    "        if one_number % 2:\n",
    "            continue\n",
    "        yield one_number"
   ]
  },
  {
   "cell_type": "code",
   "execution_count": null,
   "id": "6a890f6a-f8e4-4fd4-8f7e-5356989e61b1",
   "metadata": {},
   "outputs": [],
   "source": []
  },
  {
   "cell_type": "code",
   "execution_count": 5,
   "id": "d7b486aa-6d9d-488d-bc0f-d0ccfbef6d45",
   "metadata": {},
   "outputs": [
    {
     "name": "stdout",
     "output_type": "stream",
     "text": [
      "10\n",
      "12\n",
      "14\n",
      "16\n",
      "18\n"
     ]
    }
   ],
   "source": [
    "for one_item in evenrange(10, 20):\n",
    "    print(one_item)"
   ]
  },
  {
   "cell_type": "markdown",
   "id": "70d2f47b-38f8-4fae-bd83-63f5647a7915",
   "metadata": {},
   "source": [
    "# Things to remember about generators\n",
    "\n",
    "- `yield` means: return the value (in the iteration/loop), and go to sleep right after\n",
    "- if we use `return` without an argument, we effectively raise `StopIteration`\n",
    "- Also when the function exits normally/naturally, we effectively raise `StopIteration`\n",
    "- Don't raise `StopIteration` in a generator function! Let the system do it for you\n",
    "- Local variables retain their values between invocations of `yield`"
   ]
  },
  {
   "cell_type": "code",
   "execution_count": 6,
   "id": "21e83773-c535-4e67-b2e4-b1b60bb6b71f",
   "metadata": {},
   "outputs": [],
   "source": [
    "def myfunc():\n",
    "    return f'Hello, world!'"
   ]
  },
  {
   "cell_type": "code",
   "execution_count": 7,
   "id": "4080a207-92a1-4413-9942-1d87c9aac14e",
   "metadata": {},
   "outputs": [],
   "source": [
    "def mygen():\n",
    "    yield f'Hello, world!'"
   ]
  },
  {
   "cell_type": "code",
   "execution_count": 9,
   "id": "c5e65b55-8f97-40a2-9016-ee57bd0dcf66",
   "metadata": {},
   "outputs": [
    {
     "data": {
      "text/plain": [
       "'Hello, world!'"
      ]
     },
     "execution_count": 9,
     "metadata": {},
     "output_type": "execute_result"
    }
   ],
   "source": [
    "myfunc()"
   ]
  },
  {
   "cell_type": "code",
   "execution_count": 10,
   "id": "f50e1d3f-210d-4283-98d4-9ee286a6ff72",
   "metadata": {},
   "outputs": [
    {
     "data": {
      "text/plain": [
       "<generator object mygen at 0x10cebfd70>"
      ]
     },
     "execution_count": 10,
     "metadata": {},
     "output_type": "execute_result"
    }
   ],
   "source": [
    "mygen()"
   ]
  },
  {
   "cell_type": "code",
   "execution_count": 11,
   "id": "bd4f15ec-c17f-4412-8ec9-d834c9e52522",
   "metadata": {},
   "outputs": [
    {
     "data": {
      "text/plain": [
       "function"
      ]
     },
     "execution_count": 11,
     "metadata": {},
     "output_type": "execute_result"
    }
   ],
   "source": [
    "type(myfunc)"
   ]
  },
  {
   "cell_type": "code",
   "execution_count": 12,
   "id": "0ad5ccc8-84f0-4941-8699-dac6642ab709",
   "metadata": {},
   "outputs": [
    {
     "data": {
      "text/plain": [
       "function"
      ]
     },
     "execution_count": 12,
     "metadata": {},
     "output_type": "execute_result"
    }
   ],
   "source": [
    "type(mygen)"
   ]
  },
  {
   "cell_type": "code",
   "execution_count": 13,
   "id": "fe298b6b-6f6f-4410-93bd-e12f32d6eb0b",
   "metadata": {},
   "outputs": [
    {
     "data": {
      "text/plain": [
       "(None, 'Hello, world!')"
      ]
     },
     "execution_count": 13,
     "metadata": {},
     "output_type": "execute_result"
    }
   ],
   "source": [
    "myfunc.__code__.co_consts"
   ]
  },
  {
   "cell_type": "code",
   "execution_count": 14,
   "id": "a067110b-31ef-4c0e-9237-42a1592dba68",
   "metadata": {},
   "outputs": [
    {
     "data": {
      "text/plain": [
       "3"
      ]
     },
     "execution_count": 14,
     "metadata": {},
     "output_type": "execute_result"
    }
   ],
   "source": [
    "myfunc.__code__.co_flags"
   ]
  },
  {
   "cell_type": "code",
   "execution_count": 16,
   "id": "06eda0a1-7dae-4b91-af17-0a0c0a541a5e",
   "metadata": {},
   "outputs": [
    {
     "data": {
      "text/plain": [
       "'0b11'"
      ]
     },
     "execution_count": 16,
     "metadata": {},
     "output_type": "execute_result"
    }
   ],
   "source": [
    "bin(myfunc.__code__.co_flags)"
   ]
  },
  {
   "cell_type": "code",
   "execution_count": 17,
   "id": "b93492b2-a099-49a7-a6d4-05371d304901",
   "metadata": {},
   "outputs": [
    {
     "data": {
      "text/plain": [
       "'0b100011'"
      ]
     },
     "execution_count": 17,
     "metadata": {},
     "output_type": "execute_result"
    }
   ],
   "source": [
    "bin(mygen.__code__.co_flags)"
   ]
  },
  {
   "cell_type": "code",
   "execution_count": 18,
   "id": "b359c147-d68e-4458-a3c3-1619ae4642ef",
   "metadata": {},
   "outputs": [],
   "source": [
    "import dis"
   ]
  },
  {
   "cell_type": "code",
   "execution_count": 19,
   "id": "7070c16d-ae1c-4a2a-92fa-0c8c86a3e3a1",
   "metadata": {},
   "outputs": [
    {
     "name": "stdout",
     "output_type": "stream",
     "text": [
      "Name:              myfunc\n",
      "Filename:          /var/folders/rr/0mnyyv811fs5vyp22gf4fxk00000gn/T/ipykernel_76740/2896535200.py\n",
      "Argument count:    0\n",
      "Positional-only arguments: 0\n",
      "Kw-only arguments: 0\n",
      "Number of locals:  0\n",
      "Stack size:        1\n",
      "Flags:             OPTIMIZED, NEWLOCALS\n",
      "Constants:\n",
      "   0: None\n",
      "   1: 'Hello, world!'\n"
     ]
    }
   ],
   "source": [
    "dis.show_code(myfunc)"
   ]
  },
  {
   "cell_type": "code",
   "execution_count": 20,
   "id": "88550d42-1fe5-4a21-888a-f1f4face2511",
   "metadata": {},
   "outputs": [
    {
     "name": "stdout",
     "output_type": "stream",
     "text": [
      "Name:              mygen\n",
      "Filename:          /var/folders/rr/0mnyyv811fs5vyp22gf4fxk00000gn/T/ipykernel_76740/3368138942.py\n",
      "Argument count:    0\n",
      "Positional-only arguments: 0\n",
      "Kw-only arguments: 0\n",
      "Number of locals:  0\n",
      "Stack size:        1\n",
      "Flags:             OPTIMIZED, NEWLOCALS, GENERATOR\n",
      "Constants:\n",
      "   0: None\n",
      "   1: 'Hello, world!'\n"
     ]
    }
   ],
   "source": [
    "dis.show_code(mygen)"
   ]
  },
  {
   "cell_type": "code",
   "execution_count": 21,
   "id": "1dd40447-a6b9-4e9f-993b-72d1e6d32412",
   "metadata": {},
   "outputs": [],
   "source": [
    "def myfunc():\n",
    "    return 1\n",
    "    return 2\n",
    "    return 3"
   ]
  },
  {
   "cell_type": "code",
   "execution_count": 22,
   "id": "cf77bb23-8dfe-4103-b1fc-89a0097ca658",
   "metadata": {},
   "outputs": [
    {
     "name": "stdout",
     "output_type": "stream",
     "text": [
      "  1           0 RESUME                   0\n",
      "\n",
      "  2           2 LOAD_CONST               1 (1)\n",
      "              4 RETURN_VALUE\n"
     ]
    }
   ],
   "source": [
    "dis.dis(myfunc)"
   ]
  },
  {
   "cell_type": "code",
   "execution_count": 23,
   "id": "d57ad1ba-2d3f-4428-b095-dfb668d934d1",
   "metadata": {},
   "outputs": [],
   "source": [
    "def myfunc():\n",
    "    if False:\n",
    "        yield 'Hello'\n",
    "    "
   ]
  },
  {
   "cell_type": "code",
   "execution_count": 24,
   "id": "c71dd1ed-a48a-4967-9d1c-b84cfe4f14f0",
   "metadata": {},
   "outputs": [
    {
     "name": "stdout",
     "output_type": "stream",
     "text": [
      "Name:              myfunc\n",
      "Filename:          /var/folders/rr/0mnyyv811fs5vyp22gf4fxk00000gn/T/ipykernel_76740/1059155119.py\n",
      "Argument count:    0\n",
      "Positional-only arguments: 0\n",
      "Kw-only arguments: 0\n",
      "Number of locals:  0\n",
      "Stack size:        1\n",
      "Flags:             OPTIMIZED, NEWLOCALS, GENERATOR\n",
      "Constants:\n",
      "   0: None\n"
     ]
    }
   ],
   "source": [
    "dis.show_code(myfunc)"
   ]
  },
  {
   "cell_type": "code",
   "execution_count": 25,
   "id": "492e9047-fc80-45b2-a842-f85553367831",
   "metadata": {},
   "outputs": [],
   "source": [
    "g1 = evenrange(10, 20)\n",
    "g2 = evenrange(10, 20)\n",
    "g3 = evenrange(10, 20)\n"
   ]
  },
  {
   "cell_type": "code",
   "execution_count": 26,
   "id": "e9021140-5ede-4bd2-a33c-ef10d33cbdf2",
   "metadata": {},
   "outputs": [
    {
     "data": {
      "text/plain": [
       "10"
      ]
     },
     "execution_count": 26,
     "metadata": {},
     "output_type": "execute_result"
    }
   ],
   "source": [
    "next(g1)"
   ]
  },
  {
   "cell_type": "code",
   "execution_count": 27,
   "id": "535547f0-3d05-4911-864e-d6900b7a5dda",
   "metadata": {},
   "outputs": [
    {
     "data": {
      "text/plain": [
       "12"
      ]
     },
     "execution_count": 27,
     "metadata": {},
     "output_type": "execute_result"
    }
   ],
   "source": [
    "next(g1)\n",
    "\n"
   ]
  },
  {
   "cell_type": "code",
   "execution_count": 28,
   "id": "93450d64-ee0b-426d-a185-fa8a75ae48e4",
   "metadata": {},
   "outputs": [
    {
     "data": {
      "text/plain": [
       "14"
      ]
     },
     "execution_count": 28,
     "metadata": {},
     "output_type": "execute_result"
    }
   ],
   "source": [
    "next(g1)"
   ]
  },
  {
   "cell_type": "code",
   "execution_count": 29,
   "id": "d79f7dc8-7b68-4859-b7c4-3e1c2ee34798",
   "metadata": {},
   "outputs": [
    {
     "data": {
      "text/plain": [
       "5"
      ]
     },
     "execution_count": 29,
     "metadata": {},
     "output_type": "execute_result"
    }
   ],
   "source": [
    "g1.gi_frame.f_lineno"
   ]
  },
  {
   "cell_type": "code",
   "execution_count": 30,
   "id": "6f2c1316-6fe3-4208-be58-fa008f995d0a",
   "metadata": {},
   "outputs": [
    {
     "data": {
      "text/plain": [
       "1"
      ]
     },
     "execution_count": 30,
     "metadata": {},
     "output_type": "execute_result"
    }
   ],
   "source": [
    "g2.gi_frame.f_lineno"
   ]
  },
  {
   "cell_type": "markdown",
   "id": "5c9f0e9f-59d4-472d-a7e1-bdcadb198e4a",
   "metadata": {},
   "source": [
    "# Exercise: `read_n`\n",
    "\n",
    "When we iterate over a file, each iteration gives us the next line, up to and including `\\n`. Sometimes, though, we want to read a file in chunks of 2, 5, or 10 lines.\n",
    "\n",
    "1. Write `read_n`, that takes two arguments:\n",
    "    - The name of a file\n",
    "    - The number of lines we want to get back in each iteration\n",
    "2. With each iteration, we should get that number of lines back, as a single string.\n",
    "3. The final iteration can give us fewer lines.\n",
    "\n",
    "Example:\n",
    "\n",
    "```python\n",
    "for one_chunk in read_n('/etc/passwd', 5):\n",
    "     print(one_chunk) \n",
    "```"
   ]
  },
  {
   "cell_type": "code",
   "execution_count": null,
   "id": "e4546766-12ab-4f0e-8da6-cfc41bdccee6",
   "metadata": {},
   "outputs": [],
   "source": [
    "def read_n(filename, n):\n",
    "    "
   ]
  }
 ],
 "metadata": {
  "kernelspec": {
   "display_name": "Python 3 (ipykernel)",
   "language": "python",
   "name": "python3"
  },
  "language_info": {
   "codemirror_mode": {
    "name": "ipython",
    "version": 3
   },
   "file_extension": ".py",
   "mimetype": "text/x-python",
   "name": "python",
   "nbconvert_exporter": "python",
   "pygments_lexer": "ipython3",
   "version": "3.11.6"
  }
 },
 "nbformat": 4,
 "nbformat_minor": 5
}
