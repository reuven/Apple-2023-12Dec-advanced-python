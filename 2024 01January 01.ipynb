{
 "cells": [
  {
   "cell_type": "markdown",
   "id": "e779c4ef-413e-4c82-8a4f-9fc7d2a722fd",
   "metadata": {},
   "source": [
    "# Agenda\n",
    "\n",
    "- Generator functions\n",
    "- Generator comprehensions\n",
    "- Concurrency\n",
    "    - Threads\n",
    "    - Multiprocessing\n",
    "    - `asyncio`"
   ]
  },
  {
   "cell_type": "code",
   "execution_count": 1,
   "id": "38d6bdd7-ddf4-4d98-8930-2da9a9ab36a8",
   "metadata": {},
   "outputs": [],
   "source": [
    "def myfunc(x, y):\n",
    "    for one_number in range(x, y):\n",
    "        yield one_number"
   ]
  },
  {
   "cell_type": "code",
   "execution_count": null,
   "id": "5644bf4d-7cf3-46ea-b3d5-b5009e6f566a",
   "metadata": {},
   "outputs": [],
   "source": []
  },
  {
   "cell_type": "code",
   "execution_count": 2,
   "id": "3e85c896-b0fa-461c-b8c8-32ffbcd89ab7",
   "metadata": {},
   "outputs": [
    {
     "data": {
      "text/plain": [
       "<generator object myfunc at 0x10ce49700>"
      ]
     },
     "execution_count": 2,
     "metadata": {},
     "output_type": "execute_result"
    }
   ],
   "source": [
    "myfunc(10, 20)"
   ]
  },
  {
   "cell_type": "code",
   "execution_count": 3,
   "id": "0f14a946-756b-49ba-bc0c-3e30b48fbbe5",
   "metadata": {},
   "outputs": [
    {
     "name": "stdout",
     "output_type": "stream",
     "text": [
      "10\n",
      "11\n",
      "12\n",
      "13\n",
      "14\n",
      "15\n",
      "16\n",
      "17\n",
      "18\n",
      "19\n"
     ]
    }
   ],
   "source": [
    "for one_item in myfunc(10, 20):\n",
    "    print(one_item)"
   ]
  },
  {
   "cell_type": "code",
   "execution_count": 4,
   "id": "82ffb63d-e6d8-4c07-9985-12c028f9a473",
   "metadata": {},
   "outputs": [],
   "source": [
    "def evenrange(start, finish):\n",
    "    for one_number in range(start, finish):\n",
    "        if one_number % 2:\n",
    "            continue\n",
    "        yield one_number"
   ]
  },
  {
   "cell_type": "code",
   "execution_count": null,
   "id": "6a890f6a-f8e4-4fd4-8f7e-5356989e61b1",
   "metadata": {},
   "outputs": [],
   "source": []
  },
  {
   "cell_type": "code",
   "execution_count": 5,
   "id": "d7b486aa-6d9d-488d-bc0f-d0ccfbef6d45",
   "metadata": {},
   "outputs": [
    {
     "name": "stdout",
     "output_type": "stream",
     "text": [
      "10\n",
      "12\n",
      "14\n",
      "16\n",
      "18\n"
     ]
    }
   ],
   "source": [
    "for one_item in evenrange(10, 20):\n",
    "    print(one_item)"
   ]
  },
  {
   "cell_type": "markdown",
   "id": "70d2f47b-38f8-4fae-bd83-63f5647a7915",
   "metadata": {},
   "source": [
    "# "
   ]
  }
 ],
 "metadata": {
  "kernelspec": {
   "display_name": "Python 3 (ipykernel)",
   "language": "python",
   "name": "python3"
  },
  "language_info": {
   "codemirror_mode": {
    "name": "ipython",
    "version": 3
   },
   "file_extension": ".py",
   "mimetype": "text/x-python",
   "name": "python",
   "nbconvert_exporter": "python",
   "pygments_lexer": "ipython3",
   "version": "3.11.6"
  }
 },
 "nbformat": 4,
 "nbformat_minor": 5
}
