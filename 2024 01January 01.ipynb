{
 "cells": [
  {
   "cell_type": "markdown",
   "id": "e779c4ef-413e-4c82-8a4f-9fc7d2a722fd",
   "metadata": {},
   "source": [
    "# Agenda\n",
    "\n",
    "- Generator functions\n",
    "- Generator comprehensions\n",
    "- Concurrency"
   ]
  },
  {
   "cell_type": "code",
   "execution_count": null,
   "id": "38d6bdd7-ddf4-4d98-8930-2da9a9ab36a8",
   "metadata": {},
   "outputs": [],
   "source": []
  }
 ],
 "metadata": {
  "kernelspec": {
   "display_name": "Python 3 (ipykernel)",
   "language": "python",
   "name": "python3"
  },
  "language_info": {
   "codemirror_mode": {
    "name": "ipython",
    "version": 3
   },
   "file_extension": ".py",
   "mimetype": "text/x-python",
   "name": "python",
   "nbconvert_exporter": "python",
   "pygments_lexer": "ipython3",
   "version": "3.11.6"
  }
 },
 "nbformat": 4,
 "nbformat_minor": 5
}
