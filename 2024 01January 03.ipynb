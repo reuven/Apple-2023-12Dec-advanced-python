{
 "cells": [
  {
   "cell_type": "markdown",
   "id": "053255ba-5e5e-425b-a388-d059edb715be",
   "metadata": {},
   "source": [
    "# Agenda\n",
    "\n",
    "1. Threads + multiprocessing with `map`\n",
    "2. `asyncio`\n",
    "3. NumPy"
   ]
  },
  {
   "cell_type": "code",
   "execution_count": 1,
   "id": "30f83435-5a3f-44ea-b9db-f4ee32091eca",
   "metadata": {},
   "outputs": [
    {
     "data": {
      "text/plain": [
       "[0, 1, 4, 9, 16, 25, 36, 49, 64, 81]"
      ]
     },
     "execution_count": 1,
     "metadata": {},
     "output_type": "execute_result"
    }
   ],
   "source": [
    "# list comprehension\n",
    "\n",
    "numbers = range(10)\n",
    "\n",
    "[one_number ** 2\n",
    " for one_number in numbers]"
   ]
  },
  {
   "cell_type": "code",
   "execution_count": 2,
   "id": "44a12c14-e7bd-42c2-a4cd-9c8669cd3413",
   "metadata": {},
   "outputs": [
    {
     "data": {
      "text/plain": [
       "[1, 9, 25, 49, 81]"
      ]
     },
     "execution_count": 2,
     "metadata": {},
     "output_type": "execute_result"
    }
   ],
   "source": [
    "\n",
    "numbers = range(10)\n",
    "\n",
    "[one_number ** 2               # expression ... what we used to use \"map\" for\n",
    " for one_number in numbers\n",
    " if one_number % 2]            # condition ... what we used to use \"filter\" for"
   ]
  },
  {
   "cell_type": "code",
   "execution_count": 5,
   "id": "014a3c4d-c727-400b-9bff-b85623f33238",
   "metadata": {},
   "outputs": [
    {
     "data": {
      "text/plain": [
       "[4, 2, 1, 5, 2, 5]"
      ]
     },
     "execution_count": 5,
     "metadata": {},
     "output_type": "execute_result"
    }
   ],
   "source": [
    "# how does map work?\n",
    "\n",
    "# we pass map two arguments:\n",
    "# 1. a function that takes one argument\n",
    "# 2. an iterable of data\n",
    "\n",
    "words = 'this is a bunch of words'.split()\n",
    "\n",
    "list(map(len, words))"
   ]
  },
  {
   "cell_type": "code",
   "execution_count": 7,
   "id": "041a99dc-3f89-49ae-bed1-9ea42771e73c",
   "metadata": {},
   "outputs": [
    {
     "data": {
      "text/plain": [
       "[1, 1, 1, 3, 1, 3, 1, 6, 3]"
      ]
     },
     "execution_count": 7,
     "metadata": {},
     "output_type": "execute_result"
    }
   ],
   "source": [
    "def count_vowels(s):\n",
    "    total = 0\n",
    "\n",
    "    for one_character in s:\n",
    "        if one_character in 'aeiou':\n",
    "            total += 1\n",
    "\n",
    "    return total\n",
    "\n",
    "words = 'this is a fantastic and enticing and superfabulous sentence'.split()\n",
    "\n",
    "list(map(count_vowels, words))"
   ]
  },
  {
   "cell_type": "code",
   "execution_count": 9,
   "id": "86ebca8f-ec50-452b-9a59-072a696358ac",
   "metadata": {},
   "outputs": [
    {
     "name": "stdout",
     "output_type": "stream",
     "text": [
      "1 1 1 3 1 3 1 6 3\n"
     ]
    }
   ],
   "source": [
    "print(*map(count_vowels, words))"
   ]
  },
  {
   "cell_type": "markdown",
   "id": "f6771dce-8481-4efd-9058-1a1f7b826638",
   "metadata": {},
   "source": [
    "# Exercise: Longest words\n",
    "\n",
    "1. Write a function that takes a filename (string) as an argument, and returns the longest word found in that file.\n",
    "2. Use the Executor.map functions (for threads and processes) to call this function on a list of filenames.\n",
    "3. Print the longest words that you found.\n",
    "4. Also: How much time does it take to run these? (You can use `time.time` to get the number of seconds since 1.1.70.)"
   ]
  },
  {
   "cell_type": "code",
   "execution_count": 10,
   "id": "918d56d5-66e8-4685-9f98-aca8fa6bca86",
   "metadata": {},
   "outputs": [
    {
     "data": {
      "text/plain": [
       "1704269326.356544"
      ]
     },
     "execution_count": 10,
     "metadata": {},
     "output_type": "execute_result"
    }
   ],
   "source": [
    "import time\n",
    "time.time()"
   ]
  },
  {
   "cell_type": "markdown",
   "id": "e6cf5a22-ca12-4627-8d6a-aca7b72f1aab",
   "metadata": {},
   "source": [
    "# `asyncio`\n",
    "\n",
    "Reactor model -- one process and one thread.\n",
    "\n",
    "The way it works:\n",
    "- We put all of our tasks (functions, basically) as elements on a list\n",
    "- We run a `for` loop on the list, and let each function run a little bit\n",
    "- When the function ends, we remove it from our list\n",
    "- We can always add new functions\n",
    "- So long as there are tasks on the list, we re-run our `for` loop from the start\n",
    "\n",
    "## Advantages\n",
    "- Many more items can run\n",
    "- We don't have to worry about thread safety\n",
    "- We know exactly when a function might be stopped\n",
    "- We have access to global variables\n",
    "\n",
    "## Disadvantages\n",
    "- No real I/O\n",
    "- We don't really, directly run our function\n",
    "- We add two words to Python's vocabulary:\n",
    "    - `async` -- `async def` creates a function that can be run via the event loop\n",
    "    - `await` -- very similiar to `yield`, in that it says: Whatever is to my right will take a long time, so I'll go to sleep waiting for it"
   ]
  },
  {
   "cell_type": "markdown",
   "id": "04051c9f-bef8-4a4b-bba7-29c34127c44d",
   "metadata": {},
   "source": [
    "# Next up:\n",
    "\n",
    "- More `asyncio`\n",
    "- NumPy"
   ]
  }
 ],
 "metadata": {
  "kernelspec": {
   "display_name": "Python 3 (ipykernel)",
   "language": "python",
   "name": "python3"
  },
  "language_info": {
   "codemirror_mode": {
    "name": "ipython",
    "version": 3
   },
   "file_extension": ".py",
   "mimetype": "text/x-python",
   "name": "python",
   "nbconvert_exporter": "python",
   "pygments_lexer": "ipython3",
   "version": "3.11.7"
  }
 },
 "nbformat": 4,
 "nbformat_minor": 5
}
