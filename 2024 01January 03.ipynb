{
 "cells": [
  {
   "cell_type": "markdown",
   "id": "053255ba-5e5e-425b-a388-d059edb715be",
   "metadata": {},
   "source": [
    "# Agenda"
   ]
  },
  {
   "cell_type": "code",
   "execution_count": null,
   "id": "30f83435-5a3f-44ea-b9db-f4ee32091eca",
   "metadata": {},
   "outputs": [],
   "source": []
  }
 ],
 "metadata": {
  "kernelspec": {
   "display_name": "Python 3 (ipykernel)",
   "language": "python",
   "name": "python3"
  },
  "language_info": {
   "codemirror_mode": {
    "name": "ipython",
    "version": 3
   },
   "file_extension": ".py",
   "mimetype": "text/x-python",
   "name": "python",
   "nbconvert_exporter": "python",
   "pygments_lexer": "ipython3",
   "version": "3.11.7"
  }
 },
 "nbformat": 4,
 "nbformat_minor": 5
}
