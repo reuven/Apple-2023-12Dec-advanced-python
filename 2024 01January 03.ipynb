{
 "cells": [
  {
   "cell_type": "markdown",
   "id": "053255ba-5e5e-425b-a388-d059edb715be",
   "metadata": {},
   "source": [
    "# Agenda\n",
    "\n",
    "1. Threads + multiprocessing with `map`\n",
    "2. `asyncio`\n",
    "3. NumPy"
   ]
  },
  {
   "cell_type": "code",
   "execution_count": 1,
   "id": "30f83435-5a3f-44ea-b9db-f4ee32091eca",
   "metadata": {},
   "outputs": [
    {
     "data": {
      "text/plain": [
       "[0, 1, 4, 9, 16, 25, 36, 49, 64, 81]"
      ]
     },
     "execution_count": 1,
     "metadata": {},
     "output_type": "execute_result"
    }
   ],
   "source": [
    "# list comprehension\n",
    "\n",
    "numbers = range(10)\n",
    "\n",
    "[one_number ** 2\n",
    " for one_number in numbers]"
   ]
  },
  {
   "cell_type": "code",
   "execution_count": 2,
   "id": "44a12c14-e7bd-42c2-a4cd-9c8669cd3413",
   "metadata": {},
   "outputs": [
    {
     "data": {
      "text/plain": [
       "[1, 9, 25, 49, 81]"
      ]
     },
     "execution_count": 2,
     "metadata": {},
     "output_type": "execute_result"
    }
   ],
   "source": [
    "\n",
    "numbers = range(10)\n",
    "\n",
    "[one_number ** 2               # expression ... what we used to use \"map\" for\n",
    " for one_number in numbers\n",
    " if one_number % 2]            # condition ... what we used to use \"filter\" for"
   ]
  },
  {
   "cell_type": "code",
   "execution_count": 5,
   "id": "014a3c4d-c727-400b-9bff-b85623f33238",
   "metadata": {},
   "outputs": [
    {
     "data": {
      "text/plain": [
       "[4, 2, 1, 5, 2, 5]"
      ]
     },
     "execution_count": 5,
     "metadata": {},
     "output_type": "execute_result"
    }
   ],
   "source": [
    "# how does map work?\n",
    "\n",
    "# we pass map two arguments:\n",
    "# 1. a function that takes one argument\n",
    "# 2. an iterable of data\n",
    "\n",
    "words = 'this is a bunch of words'.split()\n",
    "\n",
    "list(map(len, words))"
   ]
  },
  {
   "cell_type": "code",
   "execution_count": 7,
   "id": "041a99dc-3f89-49ae-bed1-9ea42771e73c",
   "metadata": {},
   "outputs": [
    {
     "data": {
      "text/plain": [
       "[1, 1, 1, 3, 1, 3, 1, 6, 3]"
      ]
     },
     "execution_count": 7,
     "metadata": {},
     "output_type": "execute_result"
    }
   ],
   "source": [
    "def count_vowels(s):\n",
    "    total = 0\n",
    "\n",
    "    for one_character in s:\n",
    "        if one_character in 'aeiou':\n",
    "            total += 1\n",
    "\n",
    "    return total\n",
    "\n",
    "words = 'this is a fantastic and enticing and superfabulous sentence'.split()\n",
    "\n",
    "list(map(count_vowels, words))"
   ]
  },
  {
   "cell_type": "code",
   "execution_count": 9,
   "id": "86ebca8f-ec50-452b-9a59-072a696358ac",
   "metadata": {},
   "outputs": [
    {
     "name": "stdout",
     "output_type": "stream",
     "text": [
      "1 1 1 3 1 3 1 6 3\n"
     ]
    }
   ],
   "source": [
    "print(*map(count_vowels, words))"
   ]
  },
  {
   "cell_type": "markdown",
   "id": "f6771dce-8481-4efd-9058-1a1f7b826638",
   "metadata": {},
   "source": [
    "# Exercise: Longest words\n",
    "\n",
    "1. Write a function that takes a filename (string) as an argument, and returns the longest word found in that file.\n",
    "2. Use the Executor.map functions (for threads and processes) to call this function on a list of filenames.\n",
    "3. Print the longest words that you found.\n",
    "4. Also: How much time does it take to run these? (You can use `time.time` to get the number of seconds since 1.1.70.)"
   ]
  },
  {
   "cell_type": "code",
   "execution_count": 10,
   "id": "918d56d5-66e8-4685-9f98-aca8fa6bca86",
   "metadata": {},
   "outputs": [
    {
     "data": {
      "text/plain": [
       "1704269326.356544"
      ]
     },
     "execution_count": 10,
     "metadata": {},
     "output_type": "execute_result"
    }
   ],
   "source": [
    "import time\n",
    "time.time()"
   ]
  },
  {
   "cell_type": "markdown",
   "id": "e6cf5a22-ca12-4627-8d6a-aca7b72f1aab",
   "metadata": {},
   "source": [
    "# `asyncio`\n",
    "\n",
    "Reactor model -- one process and one thread.\n",
    "\n",
    "The way it works:\n",
    "- We put all of our tasks (functions, basically) as elements on a list\n",
    "- We run a `for` loop on the list, and let each function run a little bit\n",
    "- When the function ends, we remove it from our list\n",
    "- We can always add new functions\n",
    "- So long as there are tasks on the list, we re-run our `for` loop from the start\n",
    "\n",
    "## Advantages\n",
    "- Many more items can run\n",
    "- We don't have to worry about thread safety\n",
    "- We know exactly when a function might be stopped\n",
    "- We have access to global variables\n",
    "\n",
    "## Disadvantages\n",
    "- No real I/O\n",
    "- We don't really, directly run our function\n",
    "- We add two words to Python's vocabulary:\n",
    "    - `async` -- `async def` creates a function that can be run via the event loop\n",
    "    - `await` -- very similiar to `yield`, in that it says: Whatever is to my right will take a long time, so I'll go to sleep waiting for it"
   ]
  },
  {
   "cell_type": "markdown",
   "id": "04051c9f-bef8-4a4b-bba7-29c34127c44d",
   "metadata": {},
   "source": [
    "# Next up:\n",
    "\n",
    "- More `asyncio`\n",
    "- NumPy\n",
    "\n",
    "Resume at 11:20"
   ]
  },
  {
   "cell_type": "markdown",
   "id": "84a6b71c-fd0b-4429-b97b-24964e82f562",
   "metadata": {},
   "source": [
    "# Terms\n",
    "\n",
    "- `async def` -- syntax used in Python to create a function that, when run, gives us a coroutine back\n",
    "- coroutine -- the body of a function, along with its stack frame, that we get back from running an `async def`. We can run a coroutine directly with `asyncio.run` or by putting it to the right of `await`.\n",
    "- task -- a wrapper for a coroutine, placed on the event loop, and executed whenever the event loop wants.\n",
    "\n",
    "If I really want to see things run concurrently, then I need to:\n",
    "- Create several tasks, based on coroutines\n",
    "- Run all of the tasks as a group\n",
    "\n"
   ]
  },
  {
   "cell_type": "markdown",
   "id": "e027e16a-912d-4aa8-b8a3-302c08462b3c",
   "metadata": {},
   "source": [
    "# NumPy\n",
    "\n",
    "NumPy array:\n",
    "- Python API\n",
    "- C implementation\n",
    "\n"
   ]
  },
  {
   "cell_type": "code",
   "execution_count": 11,
   "id": "bde860e8-d6ae-48eb-90b3-4b5f23221a06",
   "metadata": {},
   "outputs": [],
   "source": [
    "import numpy as np"
   ]
  },
  {
   "cell_type": "code",
   "execution_count": 12,
   "id": "9d4c9326-ea12-4685-bac9-7ed8d76e5a6a",
   "metadata": {},
   "outputs": [
    {
     "data": {
      "text/plain": [
       "array([10, 20, 30, 40, 50, 60])"
      ]
     },
     "execution_count": 12,
     "metadata": {},
     "output_type": "execute_result"
    }
   ],
   "source": [
    "# np.nparray is the data structure we want\n",
    "# but we'll build it with np.array, passing it a list\n",
    "\n",
    "a = np.array([10, 20, 30, 40, 50, 60])\n",
    "a"
   ]
  },
  {
   "cell_type": "code",
   "execution_count": 13,
   "id": "742c4db0-79b1-4769-9939-985a0c445899",
   "metadata": {},
   "outputs": [
    {
     "data": {
      "text/plain": [
       "10"
      ]
     },
     "execution_count": 13,
     "metadata": {},
     "output_type": "execute_result"
    }
   ],
   "source": [
    "# many standard Python things work with a NumPy array\n",
    "\n",
    "a[0]"
   ]
  },
  {
   "cell_type": "code",
   "execution_count": 14,
   "id": "056698b5-b4f3-4289-983d-800813feb5aa",
   "metadata": {},
   "outputs": [
    {
     "data": {
      "text/plain": [
       "20"
      ]
     },
     "execution_count": 14,
     "metadata": {},
     "output_type": "execute_result"
    }
   ],
   "source": [
    "a[1]"
   ]
  },
  {
   "cell_type": "code",
   "execution_count": 15,
   "id": "91bde412-7b7a-4f74-9ded-171b5ff20273",
   "metadata": {},
   "outputs": [
    {
     "data": {
      "text/plain": [
       "60"
      ]
     },
     "execution_count": 15,
     "metadata": {},
     "output_type": "execute_result"
    }
   ],
   "source": [
    "a[-1]"
   ]
  },
  {
   "cell_type": "code",
   "execution_count": 17,
   "id": "de361577-156a-4ade-b75a-36571d0d0e8c",
   "metadata": {},
   "outputs": [
    {
     "data": {
      "text/plain": [
       "array([30, 40, 50])"
      ]
     },
     "execution_count": 17,
     "metadata": {},
     "output_type": "execute_result"
    }
   ],
   "source": [
    "a[2:5]"
   ]
  },
  {
   "cell_type": "code",
   "execution_count": 18,
   "id": "02f1a185-c26c-4e04-ae3b-f8a280afd85e",
   "metadata": {},
   "outputs": [
    {
     "name": "stdout",
     "output_type": "stream",
     "text": [
      "10\n",
      "20\n",
      "30\n",
      "40\n",
      "50\n",
      "60\n"
     ]
    }
   ],
   "source": [
    "for one_item in a:\n",
    "    print(one_item)"
   ]
  },
  {
   "cell_type": "code",
   "execution_count": 19,
   "id": "f513807e-6a8b-41de-b0a4-d2071df1525b",
   "metadata": {},
   "outputs": [
    {
     "data": {
      "text/plain": [
       "array([12, 25, 33, 61, 32, 52, 97, 91, 40, 66])"
      ]
     },
     "execution_count": 19,
     "metadata": {},
     "output_type": "execute_result"
    }
   ],
   "source": [
    "# some other ways to create NumPy arrays\n",
    "\n",
    "a = np.random.randint(0, 100, 10)    # 10 ints from 0-100\n",
    "a"
   ]
  },
  {
   "cell_type": "code",
   "execution_count": 20,
   "id": "e4f4d815-8b00-46de-a400-e08084236536",
   "metadata": {},
   "outputs": [
    {
     "data": {
      "text/plain": [
       "array([0.29683241, 0.93433433, 0.84712284, 0.47561611, 0.74451551,\n",
       "       0.85910408, 0.86507627, 0.50345427, 0.43890329, 0.6056343 ])"
      ]
     },
     "execution_count": 20,
     "metadata": {},
     "output_type": "execute_result"
    }
   ],
   "source": [
    "a = np.random.rand(10)   # 10 floats from 0-1\n",
    "a"
   ]
  },
  {
   "cell_type": "code",
   "execution_count": 21,
   "id": "0ac7a764-a8e6-42e2-9ff0-7c2313dfb466",
   "metadata": {},
   "outputs": [
    {
     "data": {
      "text/plain": [
       "array([ 0,  1,  2,  3,  4,  5,  6,  7,  8,  9, 10, 11, 12, 13, 14, 15, 16,\n",
       "       17, 18, 19])"
      ]
     },
     "execution_count": 21,
     "metadata": {},
     "output_type": "execute_result"
    }
   ],
   "source": [
    "a = np.arange(20)   # all numbers from 0-19\n",
    "a"
   ]
  },
  {
   "cell_type": "code",
   "execution_count": 22,
   "id": "f19605fb-31e1-455e-8204-f63f707400ff",
   "metadata": {},
   "outputs": [
    {
     "data": {
      "text/plain": [
       "array([44, 47, 64, 67, 67,  9, 83, 21, 36, 87])"
      ]
     },
     "execution_count": 22,
     "metadata": {},
     "output_type": "execute_result"
    }
   ],
   "source": [
    "# fancy indexing -- I can request multiple indexes\n",
    "\n",
    "np.random.seed(0)   \n",
    "a = np.random.randint(0, 100, 10)\n",
    "a"
   ]
  },
  {
   "cell_type": "code",
   "execution_count": 23,
   "id": "9286a0da-ac06-42d4-9f24-edd114bc5603",
   "metadata": {},
   "outputs": [
    {
     "data": {
      "text/plain": [
       "array([67,  9, 64])"
      ]
     },
     "execution_count": 23,
     "metadata": {},
     "output_type": "execute_result"
    }
   ],
   "source": [
    "a[  [3, 5, 2]  ]"
   ]
  },
  {
   "cell_type": "code",
   "execution_count": 24,
   "id": "81ff79ae-1915-49d5-8053-6ad74fd76c6e",
   "metadata": {},
   "outputs": [
    {
     "data": {
      "text/plain": [
       "525"
      ]
     },
     "execution_count": 24,
     "metadata": {},
     "output_type": "execute_result"
    }
   ],
   "source": [
    "# methods on our NumPy array\n",
    "\n",
    "a.sum()"
   ]
  },
  {
   "cell_type": "code",
   "execution_count": 25,
   "id": "91248648-fd24-490e-8d6c-99a9d5691bbf",
   "metadata": {},
   "outputs": [
    {
     "data": {
      "text/plain": [
       "9"
      ]
     },
     "execution_count": 25,
     "metadata": {},
     "output_type": "execute_result"
    }
   ],
   "source": [
    "a.min()"
   ]
  },
  {
   "cell_type": "code",
   "execution_count": 26,
   "id": "680f078a-84bf-4de1-bb2d-3f4560ecf673",
   "metadata": {},
   "outputs": [
    {
     "data": {
      "text/plain": [
       "87"
      ]
     },
     "execution_count": 26,
     "metadata": {},
     "output_type": "execute_result"
    }
   ],
   "source": [
    "a.max()"
   ]
  },
  {
   "cell_type": "code",
   "execution_count": 27,
   "id": "c62302fa-d405-4841-9ec0-df09a7ae3b3f",
   "metadata": {},
   "outputs": [
    {
     "data": {
      "text/plain": [
       "52.5"
      ]
     },
     "execution_count": 27,
     "metadata": {},
     "output_type": "execute_result"
    }
   ],
   "source": [
    "a.mean()"
   ]
  },
  {
   "cell_type": "code",
   "execution_count": 28,
   "id": "ca9abb08-d259-47ea-bd0a-de7bf14eca55",
   "metadata": {},
   "outputs": [
    {
     "data": {
      "text/plain": [
       "24.3567239176372"
      ]
     },
     "execution_count": 28,
     "metadata": {},
     "output_type": "execute_result"
    }
   ],
   "source": [
    "a.std()"
   ]
  },
  {
   "cell_type": "code",
   "execution_count": 29,
   "id": "0097c0b8-1cd9-4e71-b2e7-16deaa1ee5f9",
   "metadata": {},
   "outputs": [
    {
     "data": {
      "text/plain": [
       "10"
      ]
     },
     "execution_count": 29,
     "metadata": {},
     "output_type": "execute_result"
    }
   ],
   "source": [
    "a.size   # not a method!"
   ]
  },
  {
   "cell_type": "code",
   "execution_count": 30,
   "id": "7c1ac8c2-abda-4b64-8838-31ce7c36a075",
   "metadata": {},
   "outputs": [
    {
     "data": {
      "text/plain": [
       "array([44, 47, 64, 67, 67,  9, 83, 21, 36, 87])"
      ]
     },
     "execution_count": 30,
     "metadata": {},
     "output_type": "execute_result"
    }
   ],
   "source": [
    "a"
   ]
  },
  {
   "cell_type": "code",
   "execution_count": 31,
   "id": "addd5d00-5f8d-4eee-bac0-3a84e3450aa8",
   "metadata": {},
   "outputs": [
    {
     "data": {
      "text/plain": [
       "array([ 88,  94, 128, 134, 134,  18, 166,  42,  72, 174])"
      ]
     },
     "execution_count": 31,
     "metadata": {},
     "output_type": "execute_result"
    }
   ],
   "source": [
    "# what happens when I add a to itself?\n",
    "a + a"
   ]
  },
  {
   "cell_type": "code",
   "execution_count": 32,
   "id": "1080802a-0b84-4b4c-8e31-0963a945fc37",
   "metadata": {},
   "outputs": [
    {
     "ename": "ValueError",
     "evalue": "operands could not be broadcast together with shapes (5,) (3,) ",
     "output_type": "error",
     "traceback": [
      "\u001b[1;31m---------------------------------------------------------------------------\u001b[0m",
      "\u001b[1;31mValueError\u001b[0m                                Traceback (most recent call last)",
      "Cell \u001b[1;32mIn[32], line 5\u001b[0m\n\u001b[0;32m      2\u001b[0m a2 \u001b[38;5;241m=\u001b[39m np\u001b[38;5;241m.\u001b[39marray([\u001b[38;5;241m100\u001b[39m, \u001b[38;5;241m200\u001b[39m, \u001b[38;5;241m300\u001b[39m, \u001b[38;5;241m400\u001b[39m, \u001b[38;5;241m500\u001b[39m])\n\u001b[0;32m      3\u001b[0m a3 \u001b[38;5;241m=\u001b[39m np\u001b[38;5;241m.\u001b[39marray([\u001b[38;5;241m25\u001b[39m, \u001b[38;5;241m50\u001b[39m, \u001b[38;5;241m75\u001b[39m])\n\u001b[1;32m----> 5\u001b[0m \u001b[43ma1\u001b[49m\u001b[43m \u001b[49m\u001b[38;5;241;43m+\u001b[39;49m\u001b[43m \u001b[49m\u001b[43ma3\u001b[49m\n",
      "\u001b[1;31mValueError\u001b[0m: operands could not be broadcast together with shapes (5,) (3,) "
     ]
    }
   ],
   "source": [
    "a1 = np.array([10, 20, 30, 40, 50])\n",
    "a2 = np.array([100, 200, 300, 400, 500])\n",
    "a3 = np.array([25, 50, 75])\n",
    "\n",
    "a1 + a3"
   ]
  },
  {
   "cell_type": "code",
   "execution_count": 33,
   "id": "ceced471-08ff-48d4-b52d-f6b59367568e",
   "metadata": {},
   "outputs": [
    {
     "data": {
      "text/plain": [
       "array([0.1, 0.1, 0.1, 0.1, 0.1])"
      ]
     },
     "execution_count": 33,
     "metadata": {},
     "output_type": "execute_result"
    }
   ],
   "source": [
    "a1 / a2"
   ]
  },
  {
   "cell_type": "code",
   "execution_count": 34,
   "id": "67f14e5c-022b-4fc3-bd67-7b2b08a96178",
   "metadata": {},
   "outputs": [
    {
     "data": {
      "text/plain": [
       "array([44, 47, 64, 67, 67,  9, 83, 21, 36, 87])"
      ]
     },
     "execution_count": 34,
     "metadata": {},
     "output_type": "execute_result"
    }
   ],
   "source": [
    "# broadcast\n",
    "\n",
    "a"
   ]
  },
  {
   "cell_type": "code",
   "execution_count": 35,
   "id": "210b3779-1002-430c-b7e3-231a2e599cba",
   "metadata": {},
   "outputs": [
    {
     "data": {
      "text/plain": [
       "array([ 88,  94, 128, 134, 134,  18, 166,  42,  72, 174])"
      ]
     },
     "execution_count": 35,
     "metadata": {},
     "output_type": "execute_result"
    }
   ],
   "source": [
    "a + a"
   ]
  },
  {
   "cell_type": "code",
   "execution_count": 36,
   "id": "2188b917-8974-4e4c-be39-8d15b2a0c05e",
   "metadata": {},
   "outputs": [
    {
     "data": {
      "text/plain": [
       "array([47, 50, 67, 70, 70, 12, 86, 24, 39, 90])"
      ]
     },
     "execution_count": 36,
     "metadata": {},
     "output_type": "execute_result"
    }
   ],
   "source": [
    "a + 3 "
   ]
  },
  {
   "cell_type": "code",
   "execution_count": 37,
   "id": "1bdc3dd5-4d22-486e-a90d-3e854b2f2484",
   "metadata": {},
   "outputs": [
    {
     "data": {
      "text/plain": [
       "array([ 85184, 103823, 262144, 300763, 300763,    729, 571787,   9261,\n",
       "        46656, 658503])"
      ]
     },
     "execution_count": 37,
     "metadata": {},
     "output_type": "execute_result"
    }
   ],
   "source": [
    "a ** 3"
   ]
  },
  {
   "cell_type": "code",
   "execution_count": 40,
   "id": "7164d571-7c4c-4c60-a9ec-25f2de27d93f",
   "metadata": {},
   "outputs": [
    {
     "data": {
      "text/plain": [
       "array([ 85184, 103823, 262144, 300763, 300763,    729, 571787,   9261,\n",
       "        46656, 658503])"
      ]
     },
     "execution_count": 40,
     "metadata": {},
     "output_type": "execute_result"
    }
   ],
   "source": [
    "a.__pow__(3)"
   ]
  },
  {
   "cell_type": "markdown",
   "id": "f12d62e5-834d-4e9a-9190-cc0a5b61c483",
   "metadata": {},
   "source": [
    "# Exercise: NumPy basics\n",
    "\n",
    "1. Create two NumPy arrays -- one with the minimum temps for the next 10 days, and the other with the maximum temps for the next 10 days.\n",
    "2. Find the mean high temp in the next 10 days.\n",
    "3. Find the mean high temp in the next 3 days.\n",
    "4. Find the mean of the difference in temperatures in the next few days.\n",
    "5. Convert the two arrays to Fahrenheit, then find the mean difference between temperatures in the coming days."
   ]
  },
  {
   "cell_type": "code",
   "execution_count": 41,
   "id": "56197277-c4e1-43bd-8a63-5f90ad3272c7",
   "metadata": {},
   "outputs": [],
   "source": [
    "min_temps = np.array([13, 12, 12, 11, 11, 11, 10, 12, 10, 8])\n",
    "max_temps = np.array([19, 20, 18, 22, 24, 22, 19, 18, 16, 15])\n"
   ]
  },
  {
   "cell_type": "code",
   "execution_count": 42,
   "id": "47d3b5ae-e6ea-4cdf-b2c8-77aa24ce859d",
   "metadata": {},
   "outputs": [
    {
     "data": {
      "text/plain": [
       "19.3"
      ]
     },
     "execution_count": 42,
     "metadata": {},
     "output_type": "execute_result"
    }
   ],
   "source": [
    "max_temps.mean()"
   ]
  },
  {
   "cell_type": "code",
   "execution_count": 44,
   "id": "f248ba5d-7e2c-4bb5-9761-a040e9eaf146",
   "metadata": {},
   "outputs": [
    {
     "data": {
      "text/plain": [
       "19.0"
      ]
     },
     "execution_count": 44,
     "metadata": {},
     "output_type": "execute_result"
    }
   ],
   "source": [
    "max_temps[:3].mean()"
   ]
  },
  {
   "cell_type": "code",
   "execution_count": 46,
   "id": "dddd600a-e66f-47ea-a0b3-839fb3aff7fd",
   "metadata": {},
   "outputs": [
    {
     "data": {
      "text/plain": [
       "19.0"
      ]
     },
     "execution_count": 46,
     "metadata": {},
     "output_type": "execute_result"
    }
   ],
   "source": [
    "# fancy indexing\n",
    "max_temps[range(3)].mean()"
   ]
  },
  {
   "cell_type": "code",
   "execution_count": 47,
   "id": "b3ef98d3-d0c0-42ce-9231-6dd6894e574a",
   "metadata": {},
   "outputs": [
    {
     "data": {
      "text/plain": [
       "19.0"
      ]
     },
     "execution_count": 47,
     "metadata": {},
     "output_type": "execute_result"
    }
   ],
   "source": [
    "max_temps[[0, 1, 2]].mean()"
   ]
  },
  {
   "cell_type": "code",
   "execution_count": 51,
   "id": "32c4ae26-706d-4253-81af-d143e5549f21",
   "metadata": {},
   "outputs": [
    {
     "data": {
      "text/plain": [
       "8.3"
      ]
     },
     "execution_count": 51,
     "metadata": {},
     "output_type": "execute_result"
    }
   ],
   "source": [
    "(max_temps - min_temps).mean()"
   ]
  },
  {
   "cell_type": "code",
   "execution_count": 52,
   "id": "74e29849-165a-4de0-9651-6e9ccf10140f",
   "metadata": {},
   "outputs": [
    {
     "data": {
      "text/plain": [
       "array([55.4, 53.6, 53.6, 51.8, 51.8, 51.8, 50. , 53.6, 50. , 46.4])"
      ]
     },
     "execution_count": 52,
     "metadata": {},
     "output_type": "execute_result"
    }
   ],
   "source": [
    "min_temps * (9/5) + 32"
   ]
  },
  {
   "cell_type": "code",
   "execution_count": 53,
   "id": "7ba48108-eb25-47f6-9b87-c051e8b17fa6",
   "metadata": {},
   "outputs": [
    {
     "data": {
      "text/plain": [
       "array([66.2, 68. , 64.4, 71.6, 75.2, 71.6, 66.2, 64.4, 60.8, 59. ])"
      ]
     },
     "execution_count": 53,
     "metadata": {},
     "output_type": "execute_result"
    }
   ],
   "source": [
    "max_temps * (9/5) + 32"
   ]
  },
  {
   "cell_type": "code",
   "execution_count": 56,
   "id": "c32a4f6f-d551-4fc3-915a-21c0662709ef",
   "metadata": {},
   "outputs": [
    {
     "data": {
      "text/plain": [
       "14.940000000000001"
      ]
     },
     "execution_count": 56,
     "metadata": {},
     "output_type": "execute_result"
    }
   ],
   "source": [
    "((max_temps * (9/5) + 32) - \n",
    " (min_temps * (9/5) + 32)).mean()"
   ]
  },
  {
   "cell_type": "code",
   "execution_count": 57,
   "id": "f41b860e-b361-400b-a1c9-c84f3be963c1",
   "metadata": {},
   "outputs": [
    {
     "data": {
      "text/plain": [
       "array([44, 47, 64, 67, 67,  9, 83, 21, 36, 87])"
      ]
     },
     "execution_count": 57,
     "metadata": {},
     "output_type": "execute_result"
    }
   ],
   "source": [
    "a"
   ]
  },
  {
   "cell_type": "code",
   "execution_count": 58,
   "id": "1933a9d4-8555-4a7e-aa23-18bf67cb2592",
   "metadata": {},
   "outputs": [
    {
     "data": {
      "text/plain": [
       "array([10, 20, 30, 40, 50])"
      ]
     },
     "execution_count": 58,
     "metadata": {},
     "output_type": "execute_result"
    }
   ],
   "source": [
    "a = np.array([10, 20, 30, 40, 50])\n",
    "a"
   ]
  },
  {
   "cell_type": "code",
   "execution_count": 59,
   "id": "70294632-59f4-46fe-a9d5-eb7f10a1538f",
   "metadata": {},
   "outputs": [
    {
     "data": {
      "text/plain": [
       "array([30, 50])"
      ]
     },
     "execution_count": 59,
     "metadata": {},
     "output_type": "execute_result"
    }
   ],
   "source": [
    "a[[2, 4]]"
   ]
  },
  {
   "cell_type": "code",
   "execution_count": 60,
   "id": "5bb5792d-97f8-487a-91fd-515c1710c119",
   "metadata": {},
   "outputs": [
    {
     "data": {
      "text/plain": [
       "array([10, 40, 50])"
      ]
     },
     "execution_count": 60,
     "metadata": {},
     "output_type": "execute_result"
    }
   ],
   "source": [
    "# what happens if I do this?\n",
    "# this is a boolean index / mask index -- only where we have a True value do we get a result\n",
    "a[ [True, False, False, True, True] ]"
   ]
  },
  {
   "cell_type": "code",
   "execution_count": null,
   "id": "3da4352b-b968-4a4a-b00b-bab3ae7e53eb",
   "metadata": {},
   "outputs": [],
   "source": [
    "# broadca"
   ]
  }
 ],
 "metadata": {
  "kernelspec": {
   "display_name": "Python 3 (ipykernel)",
   "language": "python",
   "name": "python3"
  },
  "language_info": {
   "codemirror_mode": {
    "name": "ipython",
    "version": 3
   },
   "file_extension": ".py",
   "mimetype": "text/x-python",
   "name": "python",
   "nbconvert_exporter": "python",
   "pygments_lexer": "ipython3",
   "version": "3.11.7"
  }
 },
 "nbformat": 4,
 "nbformat_minor": 5
}
