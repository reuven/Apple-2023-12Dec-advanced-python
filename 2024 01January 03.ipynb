{
 "cells": [
  {
   "cell_type": "markdown",
   "id": "053255ba-5e5e-425b-a388-d059edb715be",
   "metadata": {},
   "source": [
    "# Agenda\n",
    "\n",
    "1. Threads + multiprocessing with `map`\n",
    "2. `asyncio`\n",
    "3. NumPy"
   ]
  },
  {
   "cell_type": "code",
   "execution_count": 1,
   "id": "30f83435-5a3f-44ea-b9db-f4ee32091eca",
   "metadata": {},
   "outputs": [
    {
     "data": {
      "text/plain": [
       "[0, 1, 4, 9, 16, 25, 36, 49, 64, 81]"
      ]
     },
     "execution_count": 1,
     "metadata": {},
     "output_type": "execute_result"
    }
   ],
   "source": [
    "# list comprehension\n",
    "\n",
    "numbers = range(10)\n",
    "\n",
    "[one_number ** 2\n",
    " for one_number in numbers]"
   ]
  },
  {
   "cell_type": "code",
   "execution_count": 2,
   "id": "44a12c14-e7bd-42c2-a4cd-9c8669cd3413",
   "metadata": {},
   "outputs": [
    {
     "data": {
      "text/plain": [
       "[1, 9, 25, 49, 81]"
      ]
     },
     "execution_count": 2,
     "metadata": {},
     "output_type": "execute_result"
    }
   ],
   "source": [
    "\n",
    "numbers = range(10)\n",
    "\n",
    "[one_number ** 2               # expression ... what we used to use \"map\" for\n",
    " for one_number in numbers\n",
    " if one_number % 2]            # condition ... what we used to use \"filter\" for"
   ]
  },
  {
   "cell_type": "code",
   "execution_count": 5,
   "id": "014a3c4d-c727-400b-9bff-b85623f33238",
   "metadata": {},
   "outputs": [
    {
     "data": {
      "text/plain": [
       "[4, 2, 1, 5, 2, 5]"
      ]
     },
     "execution_count": 5,
     "metadata": {},
     "output_type": "execute_result"
    }
   ],
   "source": [
    "# how does map work?\n",
    "\n",
    "# we pass map two arguments:\n",
    "# 1. a function that takes one argument\n",
    "# 2. an iterable of data\n",
    "\n",
    "words = 'this is a bunch of words'.split()\n",
    "\n",
    "list(map(len, words))"
   ]
  },
  {
   "cell_type": "code",
   "execution_count": 7,
   "id": "041a99dc-3f89-49ae-bed1-9ea42771e73c",
   "metadata": {},
   "outputs": [
    {
     "data": {
      "text/plain": [
       "[1, 1, 1, 3, 1, 3, 1, 6, 3]"
      ]
     },
     "execution_count": 7,
     "metadata": {},
     "output_type": "execute_result"
    }
   ],
   "source": [
    "def count_vowels(s):\n",
    "    total = 0\n",
    "\n",
    "    for one_character in s:\n",
    "        if one_character in 'aeiou':\n",
    "            total += 1\n",
    "\n",
    "    return total\n",
    "\n",
    "words = 'this is a fantastic and enticing and superfabulous sentence'.split()\n",
    "\n",
    "list(map(count_vowels, words))"
   ]
  },
  {
   "cell_type": "code",
   "execution_count": 9,
   "id": "86ebca8f-ec50-452b-9a59-072a696358ac",
   "metadata": {},
   "outputs": [
    {
     "name": "stdout",
     "output_type": "stream",
     "text": [
      "1 1 1 3 1 3 1 6 3\n"
     ]
    }
   ],
   "source": [
    "print(*map(count_vowels, words))"
   ]
  },
  {
   "cell_type": "markdown",
   "id": "f6771dce-8481-4efd-9058-1a1f7b826638",
   "metadata": {},
   "source": [
    "# Exercise: Longest words\n",
    "\n",
    "1. Write a function that takes a filename (string) as an argument, and returns the longest word found in that file.\n",
    "2. Use the Executor.map functions (for threads and processes) to call this function on a list of filenames.\n",
    "3. Print the longest words that you found.\n",
    "4. Also: How much time does it take to run these? (You can use `time.time` to get the number of seconds since 1.1.70.)"
   ]
  },
  {
   "cell_type": "code",
   "execution_count": 10,
   "id": "918d56d5-66e8-4685-9f98-aca8fa6bca86",
   "metadata": {},
   "outputs": [
    {
     "data": {
      "text/plain": [
       "1704269326.356544"
      ]
     },
     "execution_count": 10,
     "metadata": {},
     "output_type": "execute_result"
    }
   ],
   "source": [
    "import time\n",
    "time.time()"
   ]
  },
  {
   "cell_type": "markdown",
   "id": "e6cf5a22-ca12-4627-8d6a-aca7b72f1aab",
   "metadata": {},
   "source": [
    "# `asyncio`\n",
    "\n",
    "Reactor model -- one process and one thread.\n",
    "\n",
    "The way it works:\n",
    "- We put all of our tasks (functions, basically) as elements on a list\n",
    "- We run a `for` loop on the list, and let each function run a little bit\n",
    "- When the function ends, we remove it from our list\n",
    "- We can always add new functions\n",
    "- So long as there are tasks on the list, we re-run our `for` loop from the start\n",
    "\n",
    "## Advantages\n",
    "- Many more items can run\n",
    "- We don't have to worry about thread safety\n",
    "- We know exactly when a function might be stopped\n",
    "- We have access to global variables\n",
    "\n",
    "## Disadvantages\n",
    "- No real I/O\n",
    "- We don't really, directly run our function\n",
    "- We add two words to Python's vocabulary:\n",
    "    - `async` -- `async def` creates a function that can be run via the event loop\n",
    "    - `await` -- very similiar to `yield`, in that it says: Whatever is to my right will take a long time, so I'll go to sleep waiting for it"
   ]
  },
  {
   "cell_type": "markdown",
   "id": "04051c9f-bef8-4a4b-bba7-29c34127c44d",
   "metadata": {},
   "source": [
    "# Next up:\n",
    "\n",
    "- More `asyncio`\n",
    "- NumPy\n",
    "\n",
    "Resume at 11:20"
   ]
  },
  {
   "cell_type": "markdown",
   "id": "84a6b71c-fd0b-4429-b97b-24964e82f562",
   "metadata": {},
   "source": [
    "# Terms\n",
    "\n",
    "- `async def` -- syntax used in Python to create a function that, when run, gives us a coroutine back\n",
    "- coroutine -- the body of a function, along with its stack frame, that we get back from running an `async def`. We can run a coroutine directly with `asyncio.run` or by putting it to the right of `await`.\n",
    "- task -- a wrapper for a coroutine, placed on the event loop, and executed whenever the event loop wants.\n",
    "\n",
    "If I really want to see things run concurrently, then I need to:\n",
    "- Create several tasks, based on coroutines\n",
    "- Run all of the tasks as a group\n",
    "\n"
   ]
  },
  {
   "cell_type": "markdown",
   "id": "e027e16a-912d-4aa8-b8a3-302c08462b3c",
   "metadata": {},
   "source": [
    "# NumPy\n",
    "\n",
    "NumPy array:\n",
    "- Python API\n",
    "- C implementation\n",
    "\n"
   ]
  },
  {
   "cell_type": "code",
   "execution_count": 11,
   "id": "bde860e8-d6ae-48eb-90b3-4b5f23221a06",
   "metadata": {},
   "outputs": [],
   "source": [
    "import numpy as np"
   ]
  },
  {
   "cell_type": "code",
   "execution_count": 12,
   "id": "9d4c9326-ea12-4685-bac9-7ed8d76e5a6a",
   "metadata": {},
   "outputs": [
    {
     "data": {
      "text/plain": [
       "array([10, 20, 30, 40, 50, 60])"
      ]
     },
     "execution_count": 12,
     "metadata": {},
     "output_type": "execute_result"
    }
   ],
   "source": [
    "# np.nparray is the data structure we want\n",
    "# but we'll build it with np.array, passing it a list\n",
    "\n",
    "a = np.array([10, 20, 30, 40, 50, 60])\n",
    "a"
   ]
  },
  {
   "cell_type": "code",
   "execution_count": 13,
   "id": "742c4db0-79b1-4769-9939-985a0c445899",
   "metadata": {},
   "outputs": [
    {
     "data": {
      "text/plain": [
       "10"
      ]
     },
     "execution_count": 13,
     "metadata": {},
     "output_type": "execute_result"
    }
   ],
   "source": [
    "# many standard Python things work with a NumPy array\n",
    "\n",
    "a[0]"
   ]
  },
  {
   "cell_type": "code",
   "execution_count": 14,
   "id": "056698b5-b4f3-4289-983d-800813feb5aa",
   "metadata": {},
   "outputs": [
    {
     "data": {
      "text/plain": [
       "20"
      ]
     },
     "execution_count": 14,
     "metadata": {},
     "output_type": "execute_result"
    }
   ],
   "source": [
    "a[1]"
   ]
  },
  {
   "cell_type": "code",
   "execution_count": 15,
   "id": "91bde412-7b7a-4f74-9ded-171b5ff20273",
   "metadata": {},
   "outputs": [
    {
     "data": {
      "text/plain": [
       "60"
      ]
     },
     "execution_count": 15,
     "metadata": {},
     "output_type": "execute_result"
    }
   ],
   "source": [
    "a[-1]"
   ]
  },
  {
   "cell_type": "code",
   "execution_count": 17,
   "id": "de361577-156a-4ade-b75a-36571d0d0e8c",
   "metadata": {},
   "outputs": [
    {
     "data": {
      "text/plain": [
       "array([30, 40, 50])"
      ]
     },
     "execution_count": 17,
     "metadata": {},
     "output_type": "execute_result"
    }
   ],
   "source": [
    "a[2:5]"
   ]
  },
  {
   "cell_type": "code",
   "execution_count": 18,
   "id": "02f1a185-c26c-4e04-ae3b-f8a280afd85e",
   "metadata": {},
   "outputs": [
    {
     "name": "stdout",
     "output_type": "stream",
     "text": [
      "10\n",
      "20\n",
      "30\n",
      "40\n",
      "50\n",
      "60\n"
     ]
    }
   ],
   "source": [
    "for one_item in a:\n",
    "    print(one_item)"
   ]
  },
  {
   "cell_type": "code",
   "execution_count": 19,
   "id": "f513807e-6a8b-41de-b0a4-d2071df1525b",
   "metadata": {},
   "outputs": [
    {
     "data": {
      "text/plain": [
       "array([12, 25, 33, 61, 32, 52, 97, 91, 40, 66])"
      ]
     },
     "execution_count": 19,
     "metadata": {},
     "output_type": "execute_result"
    }
   ],
   "source": [
    "# some other ways to create NumPy arrays\n",
    "\n",
    "a = np.random.randint(0, 100, 10)    # 10 ints from 0-100\n",
    "a"
   ]
  },
  {
   "cell_type": "code",
   "execution_count": 20,
   "id": "e4f4d815-8b00-46de-a400-e08084236536",
   "metadata": {},
   "outputs": [
    {
     "data": {
      "text/plain": [
       "array([0.29683241, 0.93433433, 0.84712284, 0.47561611, 0.74451551,\n",
       "       0.85910408, 0.86507627, 0.50345427, 0.43890329, 0.6056343 ])"
      ]
     },
     "execution_count": 20,
     "metadata": {},
     "output_type": "execute_result"
    }
   ],
   "source": [
    "a = np.random.rand(10)   # 10 floats from 0-1\n",
    "a"
   ]
  },
  {
   "cell_type": "code",
   "execution_count": 21,
   "id": "0ac7a764-a8e6-42e2-9ff0-7c2313dfb466",
   "metadata": {},
   "outputs": [
    {
     "data": {
      "text/plain": [
       "array([ 0,  1,  2,  3,  4,  5,  6,  7,  8,  9, 10, 11, 12, 13, 14, 15, 16,\n",
       "       17, 18, 19])"
      ]
     },
     "execution_count": 21,
     "metadata": {},
     "output_type": "execute_result"
    }
   ],
   "source": [
    "a = np.arange(20)   # all numbers from 0-19\n",
    "a"
   ]
  },
  {
   "cell_type": "code",
   "execution_count": null,
   "id": "f19605fb-31e1-455e-8204-f63f707400ff",
   "metadata": {},
   "outputs": [],
   "source": [
    "# fancy indexing -- I can request multiple indexes\n",
    "\n",
    "a = "
   ]
  }
 ],
 "metadata": {
  "kernelspec": {
   "display_name": "Python 3 (ipykernel)",
   "language": "python",
   "name": "python3"
  },
  "language_info": {
   "codemirror_mode": {
    "name": "ipython",
    "version": 3
   },
   "file_extension": ".py",
   "mimetype": "text/x-python",
   "name": "python",
   "nbconvert_exporter": "python",
   "pygments_lexer": "ipython3",
   "version": "3.11.7"
  }
 },
 "nbformat": 4,
 "nbformat_minor": 5
}
