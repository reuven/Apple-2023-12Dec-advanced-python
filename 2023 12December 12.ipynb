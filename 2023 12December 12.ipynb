{
  "nbformat": 4,
  "nbformat_minor": 5,
  "metadata": {
    "kernel_info": {
      "name": "python3"
    },
    "kernelspec": {
      "display_name": "Python 3.9",
      "identifier": "legacy",
      "language": "python",
      "language_version": "3.9",
      "name": "python3"
    },
    "selected_hardware_size": "small"
  },
  "cells": [
    {
      "id": "fccdf3be8c5249d7a918cfd262dc344d",
      "cell_type": "markdown",
      "source": "# Agenda\n\n1. Objects\n    - Object system in Python\n    - Attributes (ICPO)\n    - Magic methods\n    - Inheritance\n    - `__del__`\n    - Metaclasses\n2. Iterator protocol\n    - Protocol\n    - Adding iteration to our classes\n    - Generator functions\n    - Generator comprehensions\n3. Function annotations + Mypy\n4. Concurrency\n    - Threads\n    - Processes\n    - `asyncio`\n5. Profiling\n6. Data science / analytics\n    - NumPy\n    - Pandas\n    - Matplotlib\n7. Pytest    ",
      "metadata": {
        "tags": [
          "show_line_numbers"
        ]
      }
    },
    {
      "id": "ecdbfe60-696b-4000-8963-68816ec517bd",
      "cell_type": "markdown",
      "source": "# What is Pythonic?\n\n",
      "metadata": {
        "noteable": {
          "cell_type": "markdown"
        },
        "tags": [
          "show_line_numbers"
        ]
      }
    },
    {
      "id": "141e8bf6-47cc-485a-bf37-329bdca926cf",
      "cell_type": "code",
      "metadata": {
        "noteable": {
          "cell_type": "python",
          "output_collection_id": "a203395f-c843-4d8f-a626-8b76aff1db32"
        },
        "ExecuteTime": null,
        "tags": [
          "show_line_numbers"
        ]
      },
      "execution_count": null,
      "source": "import this",
      "outputs": []
    },
    {
      "id": "8c336088-ab8e-489f-8207-c2e9c4345a0f",
      "cell_type": "markdown",
      "source": "# Everything is an object!\n\nThat means, everything in Python has three things:\n\n- ID\n- type\n- Attributes\n",
      "metadata": {
        "tags": [
          "show_line_numbers"
        ]
      }
    },
    {
      "id": "c2902306-dd1e-4d5e-bd1c-0f3598c023e2",
      "cell_type": "code",
      "metadata": {
        "noteable": {
          "output_collection_id": "ce2f8955-2ea4-42b4-b22a-7d84075def17"
        },
        "ExecuteTime": null,
        "tags": [
          "show_line_numbers"
        ]
      },
      "execution_count": null,
      "source": "x = 'abcd'\nid(x)\n",
      "outputs": []
    },
    {
      "id": "7ce19ec8-3c06-47d0-88c0-64d4d17b80c1",
      "cell_type": "code",
      "metadata": {
        "jupyter": {
          "outputs_hidden": false,
          "source_hidden": false
        },
        "noteable": {
          "cell_type": "code",
          "output_collection_id": "1805a94a-da24-4ea2-8df2-d529af6b608c"
        },
        "ExecuteTime": null,
        "tags": [
          "show_line_numbers"
        ]
      },
      "execution_count": null,
      "source": "y = 'efgh'\nid(y)",
      "outputs": []
    },
    {
      "id": "4a7e2ddf-185b-4b6e-ae47-597b0579e9d7",
      "cell_type": "code",
      "metadata": {
        "jupyter": {
          "outputs_hidden": false,
          "source_hidden": false
        },
        "noteable": {
          "cell_type": "code",
          "output_collection_id": "43a9fc27-f659-447a-9f25-0715487b0ac4"
        },
        "ExecuteTime": null,
        "tags": [
          "show_line_numbers"
        ]
      },
      "execution_count": null,
      "source": "# I can check if x and y refer to the same object\n\nid(x) == id(y)",
      "outputs": []
    },
    {
      "id": "0ac0c3d9-6b11-447c-9cd7-cddc1aa71382",
      "cell_type": "code",
      "metadata": {
        "jupyter": {
          "outputs_hidden": false,
          "source_hidden": false
        },
        "noteable": {
          "cell_type": "code",
          "output_collection_id": "5e05dea3-c243-43a3-8de0-505ac345ee1b"
        },
        "ExecuteTime": null,
        "tags": [
          "show_line_numbers"
        ]
      },
      "execution_count": null,
      "source": "x = [10, 20, 30]\ny = [10, 20, 30]\n\nid(x) == id(y)",
      "outputs": []
    },
    {
      "id": "9f56a10f-45ee-4fe6-9997-28667ce09046",
      "cell_type": "code",
      "metadata": {
        "jupyter": {
          "outputs_hidden": false,
          "source_hidden": false
        },
        "noteable": {
          "cell_type": "code",
          "output_collection_id": "a2427cb9-342a-4ebf-8bfd-ce11648329a9"
        },
        "ExecuteTime": null,
        "tags": [
          "show_line_numbers"
        ]
      },
      "execution_count": null,
      "source": "# do they have the same values?\nx == y ",
      "outputs": []
    },
    {
      "id": "981f6f64-4528-4b19-9689-07b44e1368a6",
      "cell_type": "code",
      "metadata": {
        "jupyter": {
          "outputs_hidden": false,
          "source_hidden": false
        },
        "noteable": {
          "cell_type": "code",
          "output_collection_id": "416e3f6d-cb68-4d15-96fe-ffc4d1c357ce"
        },
        "ExecuteTime": null,
        "tags": [
          "show_line_numbers"
        ]
      },
      "execution_count": null,
      "source": "# if I want to check whether two objects are the same, we can use \"is\"\n\nx = [10, 20, 30]\ny = [10, 20, 30]\n\nx is y    # id(x) == id(y)",
      "outputs": []
    },
    {
      "id": "acd29a50-ff19-4222-90f5-fa4f68853799",
      "cell_type": "code",
      "metadata": {
        "jupyter": {
          "outputs_hidden": false,
          "source_hidden": false
        },
        "noteable": {
          "cell_type": "code",
          "output_collection_id": "98dee948-f574-4ea2-bfef-d56d6ae3c512"
        },
        "ExecuteTime": null,
        "tags": [
          "show_line_numbers"
        ]
      },
      "execution_count": null,
      "source": "x = 10\ny = 10\n\nx == y ",
      "outputs": []
    },
    {
      "id": "ca097a9b-9a22-49f1-beca-146265045ea0",
      "cell_type": "code",
      "metadata": {
        "jupyter": {
          "outputs_hidden": false,
          "source_hidden": false
        },
        "noteable": {
          "cell_type": "code",
          "output_collection_id": "f9b7261e-c1b6-4b8c-901c-d2bb6ca41a51"
        },
        "ExecuteTime": null,
        "tags": [
          "show_line_numbers"
        ]
      },
      "execution_count": null,
      "source": "x is y",
      "outputs": []
    },
    {
      "id": "b32e05e2-4ed2-401a-98c1-b06462314fa9",
      "cell_type": "code",
      "metadata": {
        "jupyter": {
          "outputs_hidden": false,
          "source_hidden": false
        },
        "noteable": {
          "cell_type": "code",
          "output_collection_id": "760fd4f7-4db7-4cd8-b689-ee28ecb9ca6d"
        },
        "ExecuteTime": null,
        "tags": [
          "show_line_numbers"
        ]
      },
      "execution_count": null,
      "source": "x = 1000\ny = 1000\n\nx == y",
      "outputs": []
    },
    {
      "id": "1dff09a7-84ef-47ba-b617-00ff4ec29fb6",
      "cell_type": "code",
      "metadata": {
        "jupyter": {
          "outputs_hidden": false,
          "source_hidden": false
        },
        "noteable": {
          "cell_type": "code",
          "output_collection_id": "ebe6b3a3-bf9d-44f0-ba21-25c9e06fc5fa"
        },
        "ExecuteTime": null,
        "tags": [
          "show_line_numbers"
        ]
      },
      "execution_count": null,
      "source": "x is y",
      "outputs": []
    },
    {
      "id": "853ba970-4f96-448e-a4bd-16b93e317b30",
      "cell_type": "markdown",
      "source": "Python defines all ints from -5 until 256 when the language starts up. If we use one of these ints, then we get the pre-defined object. ",
      "metadata": {
        "tags": [
          "show_line_numbers"
        ]
      }
    },
    {
      "id": "59346784-edbf-4f10-9552-62fbc7ef863c",
      "cell_type": "code",
      "metadata": {
        "noteable": {
          "output_collection_id": "920a0a04-012d-4b4e-83a7-748c2fb2fa21"
        },
        "ExecuteTime": null,
        "tags": [
          "show_line_numbers"
        ]
      },
      "execution_count": null,
      "source": "def myfunc():\n    x = 1000\n    y = 1000\n    print(x == y)\n    print(x is y)",
      "outputs": []
    },
    {
      "id": "df4106eb-e0de-4778-9644-dbe98bb880e3",
      "cell_type": "code",
      "metadata": {
        "jupyter": {
          "outputs_hidden": false,
          "source_hidden": false
        },
        "noteable": {
          "cell_type": "code",
          "output_collection_id": "ad5c450a-c321-4b24-83d1-53fef7957ade"
        },
        "ExecuteTime": null,
        "tags": [
          "show_line_numbers"
        ]
      },
      "execution_count": null,
      "source": "myfunc()",
      "outputs": []
    },
    {
      "id": "87d86003-1467-4c51-88d8-f5e3ea316f17",
      "cell_type": "code",
      "metadata": {
        "jupyter": {
          "outputs_hidden": false,
          "source_hidden": false
        },
        "noteable": {
          "cell_type": "code",
          "output_collection_id": "560298a0-e9eb-4e12-95a3-012c58aedf9f"
        },
        "ExecuteTime": null,
        "tags": [
          "show_line_numbers"
        ]
      },
      "execution_count": null,
      "source": "myfunc.__code__.co_code",
      "outputs": []
    },
    {
      "id": "6c6143f6-89e4-481f-9c9d-f1caae68d8d8",
      "cell_type": "code",
      "metadata": {
        "jupyter": {
          "outputs_hidden": false,
          "source_hidden": false
        },
        "noteable": {
          "cell_type": "code",
          "output_collection_id": "ea7e9b87-cedd-43d2-9db6-6a0616f8aff4"
        },
        "ExecuteTime": null,
        "tags": [
          "show_line_numbers"
        ]
      },
      "execution_count": null,
      "source": "import dis   # disassembler\ndis.dis(myfunc)",
      "outputs": []
    },
    {
      "id": "ac76ca35-e768-460a-bf68-d345c94a696b",
      "cell_type": "code",
      "metadata": {
        "jupyter": {
          "outputs_hidden": false,
          "source_hidden": false
        },
        "noteable": {
          "cell_type": "code",
          "output_collection_id": "75457c29-66bb-441f-9dc8-73a7fd0ddb0c"
        },
        "ExecuteTime": null,
        "tags": [
          "show_line_numbers"
        ]
      },
      "execution_count": null,
      "source": "myfunc.__code__.co_consts",
      "outputs": []
    },
    {
      "id": "1308c7ce-466a-4cf9-89d8-4853b43b5407",
      "cell_type": "code",
      "metadata": {
        "jupyter": {
          "outputs_hidden": false,
          "source_hidden": false
        },
        "noteable": {
          "cell_type": "code",
          "output_collection_id": "3b425eae-3c55-4a6e-a454-6ad275737691"
        },
        "ExecuteTime": null,
        "tags": [
          "show_line_numbers"
        ]
      },
      "execution_count": null,
      "source": "x = 1000; y = 1000\n\nx is y",
      "outputs": []
    },
    {
      "id": "7a1eb7ca-9689-4998-8f1c-1e46eb0f578c",
      "cell_type": "code",
      "metadata": {
        "jupyter": {
          "outputs_hidden": false,
          "source_hidden": false
        },
        "noteable": {
          "cell_type": "code",
          "output_collection_id": "bebbfa5b-9792-49fd-89e6-ffeb1b8f87b6"
        },
        "ExecuteTime": null,
        "tags": [
          "show_line_numbers"
        ]
      },
      "execution_count": null,
      "source": "def myfunc():\n    x = 1000\n    y = x\n    print(x == y)\n    print(x is y)",
      "outputs": []
    },
    {
      "id": "db1508b0-8e30-44c8-ad9f-b712c3b76c9c",
      "cell_type": "code",
      "metadata": {
        "jupyter": {
          "outputs_hidden": false,
          "source_hidden": false
        },
        "noteable": {
          "cell_type": "code",
          "output_collection_id": "c9381126-29c8-46a8-adf9-f26f23e3e987"
        },
        "ExecuteTime": null,
        "tags": [
          "show_line_numbers"
        ]
      },
      "execution_count": null,
      "source": "dis.dis(myfunc)",
      "outputs": []
    },
    {
      "id": "45576fa8-890f-4614-acd4-32c2f11ef1c3",
      "cell_type": "code",
      "metadata": {
        "jupyter": {
          "outputs_hidden": false,
          "source_hidden": false
        },
        "noteable": {
          "cell_type": "code",
          "output_collection_id": "d94933c8-4c4b-46e0-8e54-f50cfa57e09b"
        },
        "ExecuteTime": null,
        "tags": [
          "show_line_numbers"
        ]
      },
      "execution_count": null,
      "source": "x = 100\ny = x\n\nx = 200\ny",
      "outputs": []
    },
    {
      "id": "c1e2ded9-1bfe-4918-99c1-945f9214255d",
      "cell_type": "code",
      "metadata": {
        "jupyter": {
          "outputs_hidden": false,
          "source_hidden": false
        },
        "noteable": {
          "cell_type": "code",
          "output_collection_id": "e180a2b1-1108-4d32-88d9-345a52d491f0"
        },
        "ExecuteTime": null,
        "tags": [
          "show_line_numbers"
        ]
      },
      "execution_count": null,
      "source": "x = 'abcd'\ny = 'abcd'\n\nx == y",
      "outputs": []
    },
    {
      "id": "980ea94a-e970-4243-bafa-b9346cf0491c",
      "cell_type": "code",
      "metadata": {
        "jupyter": {
          "outputs_hidden": false,
          "source_hidden": false
        },
        "noteable": {
          "cell_type": "code",
          "output_collection_id": "d28b6a3b-4cf3-4aab-8f2b-ed18fb012146"
        },
        "ExecuteTime": null,
        "tags": [
          "show_line_numbers"
        ]
      },
      "execution_count": null,
      "source": "x is y",
      "outputs": []
    },
    {
      "id": "2e9a054c-63b9-4d4c-a8a6-0aa4a2136614",
      "cell_type": "code",
      "metadata": {
        "jupyter": {
          "outputs_hidden": false,
          "source_hidden": false
        },
        "noteable": {
          "cell_type": "code",
          "output_collection_id": "aa651b94-2a07-4d03-b0bb-cc411b0aa91b"
        },
        "ExecuteTime": null,
        "tags": [
          "show_line_numbers"
        ]
      },
      "execution_count": null,
      "source": "x = 'a.b'\ny = 'a.b'\n\nx == y",
      "outputs": []
    },
    {
      "id": "b0e5916e-4002-456b-96b8-8a3d50370a1f",
      "cell_type": "code",
      "metadata": {
        "jupyter": {
          "outputs_hidden": false,
          "source_hidden": false
        },
        "noteable": {
          "cell_type": "code",
          "output_collection_id": "d7c65f93-3853-4692-a493-a70cefef26ec"
        },
        "ExecuteTime": null,
        "tags": [
          "show_line_numbers"
        ]
      },
      "execution_count": null,
      "source": "x is y",
      "outputs": []
    },
    {
      "id": "ba82749c-5483-4825-98e8-e426b0b66f78",
      "cell_type": "code",
      "metadata": {
        "jupyter": {
          "outputs_hidden": false,
          "source_hidden": false
        },
        "noteable": {
          "cell_type": "code",
          "output_collection_id": "69ac1969-b7f4-4d30-903a-2a4fa45fcbe6"
        },
        "ExecuteTime": null,
        "tags": [
          "show_line_numbers"
        ]
      },
      "execution_count": null,
      "source": "x = 'abcd' * 100_000\ny = 'abcd' * 100_000\n\nx == y",
      "outputs": []
    },
    {
      "id": "7c0110fb-4946-4bf6-98cc-95d99f4bf621",
      "cell_type": "code",
      "metadata": {
        "jupyter": {
          "outputs_hidden": false,
          "source_hidden": false
        },
        "noteable": {
          "cell_type": "code",
          "output_collection_id": "cbb95de6-6a5e-42a0-ad70-439373d25dc9"
        },
        "ExecuteTime": null,
        "tags": [
          "show_line_numbers"
        ]
      },
      "execution_count": null,
      "source": "x is y",
      "outputs": []
    },
    {
      "id": "767bcfc1-33ed-430d-be5d-f618b59c56df",
      "cell_type": "code",
      "metadata": {
        "jupyter": {
          "outputs_hidden": false,
          "source_hidden": false
        },
        "noteable": {
          "cell_type": "code",
          "output_collection_id": "e9841712-e766-43fd-8002-fe21780fb721"
        },
        "ExecuteTime": null,
        "tags": [
          "show_line_numbers"
        ]
      },
      "execution_count": null,
      "source": "z = 'xyz'   # z is turned into a string, and used as a dict key!",
      "outputs": []
    },
    {
      "id": "677c1aa0-8ff9-40b6-be62-adedab434854",
      "cell_type": "code",
      "metadata": {
        "jupyter": {
          "outputs_hidden": false,
          "source_hidden": false
        },
        "noteable": {
          "cell_type": "code",
          "output_collection_id": "7e3bb13c-d5a0-4c86-9163-fed1b5fb7ac8"
        },
        "ExecuteTime": null,
        "tags": [
          "show_line_numbers"
        ]
      },
      "execution_count": null,
      "source": "globals() ",
      "outputs": []
    },
    {
      "id": "2be9aefa-c021-4c4c-bf5b-68ae92328faa",
      "cell_type": "code",
      "metadata": {
        "jupyter": {
          "outputs_hidden": false,
          "source_hidden": false
        },
        "noteable": {
          "cell_type": "code",
          "output_collection_id": "df322ceb-07c5-48da-a1e9-bc53746e42f3"
        },
        "ExecuteTime": null,
        "tags": [
          "show_line_numbers"
        ]
      },
      "execution_count": null,
      "source": "globals()['z']",
      "outputs": []
    },
    {
      "id": "95fbb6e5-3baf-40a2-b340-9cb49e3989b6",
      "cell_type": "code",
      "metadata": {
        "jupyter": {
          "outputs_hidden": false,
          "source_hidden": false
        },
        "noteable": {
          "cell_type": "code",
          "output_collection_id": "cc0d15a1-baa0-4270-b9fe-591c96cd71d6"
        },
        "ExecuteTime": null,
        "tags": [
          "show_line_numbers"
        ]
      },
      "execution_count": null,
      "source": "globals()['z'] = 1234\nz",
      "outputs": []
    },
    {
      "id": "4e8e0477-82b9-4b17-a56c-eb2969fecec1",
      "cell_type": "code",
      "metadata": {
        "jupyter": {
          "outputs_hidden": false,
          "source_hidden": false
        },
        "noteable": {
          "cell_type": "code",
          "output_collection_id": "93c86970-af1c-4c24-aabc-34a0d96f710b"
        },
        "ExecuteTime": null,
        "tags": [
          "show_line_numbers"
        ]
      },
      "execution_count": null,
      "source": "def myfunc():\n    x = 1234",
      "outputs": []
    },
    {
      "id": "bea65852-5001-435f-9ae0-1609c175c4c7",
      "cell_type": "code",
      "metadata": {
        "jupyter": {
          "outputs_hidden": false,
          "source_hidden": false
        },
        "noteable": {
          "cell_type": "code",
          "output_collection_id": "e7d1ca3c-9724-47c7-a348-36415e1b037d"
        },
        "ExecuteTime": null,
        "tags": [
          "show_line_numbers"
        ]
      },
      "execution_count": null,
      "source": "myfunc.__code__.co_varnames",
      "outputs": []
    },
    {
      "id": "2412bf7d-20ab-4870-98cc-236c173dd722",
      "cell_type": "code",
      "metadata": {
        "jupyter": {
          "outputs_hidden": false,
          "source_hidden": false
        },
        "noteable": {
          "cell_type": "code",
          "output_collection_id": "41f2beb5-be2d-4767-ba24-383287aa3f18"
        },
        "ExecuteTime": null,
        "tags": [
          "show_line_numbers"
        ]
      },
      "execution_count": null,
      "source": "x = 100    # global x\n\ndef myfunc():\n    x += 1   # x = x + 1\n    print(x)\n    \nmyfunc()    ",
      "outputs": []
    },
    {
      "id": "a0b90c19-95ba-4da4-9fc5-81b4c8274046",
      "cell_type": "code",
      "metadata": {
        "jupyter": {
          "outputs_hidden": false,
          "source_hidden": false
        },
        "noteable": {
          "cell_type": "code",
          "output_collection_id": "f9d1e839-e427-4315-8007-3f6374b48132"
        },
        "ExecuteTime": null,
        "tags": [
          "show_line_numbers"
        ]
      },
      "execution_count": null,
      "source": "def myfunc():\n    x = 100\n    y = [10, 20, 30]\n    print(locals())\n    \nmyfunc()",
      "outputs": []
    },
    {
      "id": "97d871b6-3507-4903-9655-4e68d64be3f5",
      "cell_type": "code",
      "metadata": {
        "jupyter": {
          "outputs_hidden": false,
          "source_hidden": false
        },
        "noteable": {
          "cell_type": "code",
          "output_collection_id": "138f0b43-4455-4069-9d49-88e0c249f8b4"
        },
        "ExecuteTime": null,
        "tags": [
          "show_line_numbers"
        ]
      },
      "execution_count": null,
      "source": "d = {'a':10, 'b':20, 'c':30}\n\ndef myfunc(a_dict):\n    a_dict['a'] = 12345\n    \nprint(d)\nmyfunc(d)\nprint(d)",
      "outputs": []
    },
    {
      "id": "e92d314c-4c29-4200-a4ee-c1d19fc26313",
      "cell_type": "markdown",
      "source": "Visualized in Python Tutor at: \n\nhttps://pythontutor.com/render.html#code=d%20%3D%20%7B'a'%3A10,%20'b'%3A20,%20'c'%3A30%7D%0A%0Adef%20myfunc%28a_dict%29%3A%0A%20%20%20%20a_dict%5B'a'%5D%20%3D%2012345%0A%20%20%20%20%0Aprint%28d%29%0Amyfunc%28d%29%0Aprint%28d%29&cumulative=false&curInstr=7&heapPrimitives=nevernest&mode=display&origin=opt-frontend.js&py=311&rawInputLstJSON=%5B%5D&textReferences=false",
      "metadata": {
        "noteable": {
          "cell_type": "markdown"
        },
        "tags": [
          "show_line_numbers"
        ]
      }
    },
    {
      "id": "dd789cb1-bc30-43e2-a1aa-46e114b0df4a",
      "cell_type": "code",
      "metadata": {
        "noteable": {
          "cell_type": "python",
          "output_collection_id": "16cb36ac-a52a-4967-80f0-ddb770bd32fb"
        },
        "ExecuteTime": null,
        "tags": [
          "show_line_numbers"
        ]
      },
      "execution_count": null,
      "source": "# every object has a type\n\nx = 100\ntype(x)",
      "outputs": []
    },
    {
      "id": "8adb2ba2-b421-47bb-a20d-c11dbce6b6f6",
      "cell_type": "code",
      "metadata": {
        "jupyter": {
          "outputs_hidden": false,
          "source_hidden": false
        },
        "noteable": {
          "cell_type": "code",
          "output_collection_id": "3166cab5-ea70-4740-925b-a50624b5fa28"
        },
        "ExecuteTime": null,
        "tags": [
          "show_line_numbers"
        ]
      },
      "execution_count": null,
      "source": "s = 'abcd'\ntype(s)",
      "outputs": []
    },
    {
      "id": "255e821c-a0e2-4575-835e-7fb11eb90f74",
      "cell_type": "code",
      "metadata": {
        "jupyter": {
          "outputs_hidden": false,
          "source_hidden": false
        },
        "noteable": {
          "cell_type": "code",
          "output_collection_id": "a8b7d5b9-eb2b-4715-8733-f5c9f11f8587"
        },
        "ExecuteTime": null,
        "tags": [
          "show_line_numbers"
        ]
      },
      "execution_count": null,
      "source": "mylist = [10, 20, 30]\ntype(mylist)",
      "outputs": []
    },
    {
      "id": "aa0e8dbc-2b4d-4f71-85ac-2b64c0b3ba74",
      "cell_type": "code",
      "metadata": {
        "jupyter": {
          "outputs_hidden": false,
          "source_hidden": false
        },
        "noteable": {
          "cell_type": "code",
          "output_collection_id": "4d37a78c-9339-4421-92b4-b987bbcedb08"
        },
        "ExecuteTime": null,
        "tags": [
          "show_line_numbers"
        ]
      },
      "execution_count": null,
      "source": "type(int)",
      "outputs": []
    },
    {
      "id": "00fba97b-4425-4513-8e1c-47264fa35ac7",
      "cell_type": "code",
      "metadata": {
        "jupyter": {
          "outputs_hidden": false,
          "source_hidden": false
        },
        "noteable": {
          "cell_type": "code",
          "output_collection_id": "bafdaa24-b561-4a84-b413-e6485204df5a"
        },
        "ExecuteTime": null,
        "tags": [
          "show_line_numbers"
        ]
      },
      "execution_count": null,
      "source": "type(str)",
      "outputs": []
    },
    {
      "id": "7cc34876-2896-4f93-b14a-7b3911f6a820",
      "cell_type": "code",
      "metadata": {
        "jupyter": {
          "outputs_hidden": false,
          "source_hidden": false
        },
        "noteable": {
          "cell_type": "code",
          "output_collection_id": "39e360c8-3bd9-4b3b-bc7b-0837a95e28d5"
        },
        "ExecuteTime": null,
        "tags": [
          "show_line_numbers"
        ]
      },
      "execution_count": null,
      "source": "type(list)",
      "outputs": []
    },
    {
      "id": "87f5b41f-029a-4168-8322-80da6d1fc321",
      "cell_type": "code",
      "metadata": {
        "jupyter": {
          "outputs_hidden": false,
          "source_hidden": false
        },
        "noteable": {
          "cell_type": "code",
          "output_collection_id": "bb37aab5-b93b-459b-a126-76f803a7aa34"
        },
        "ExecuteTime": null,
        "tags": [
          "show_line_numbers"
        ]
      },
      "execution_count": null,
      "source": "# every class in Python is an instance of type!\n\ntype(type)",
      "outputs": []
    },
    {
      "id": "6e1081f1-1e31-4845-8262-cb205f10306e",
      "cell_type": "code",
      "metadata": {
        "jupyter": {
          "outputs_hidden": false,
          "source_hidden": false
        },
        "noteable": {
          "cell_type": "code",
          "output_collection_id": "12dbc526-b377-49da-acd9-51b59c0eaeb7"
        },
        "ExecuteTime": null,
        "tags": [
          "show_line_numbers"
        ]
      },
      "execution_count": null,
      "source": "x = 10\ny = '20'\n\nx + y",
      "outputs": []
    },
    {
      "id": "ac0e6d2c-adfc-4dde-b8a9-7be80410656a",
      "cell_type": "code",
      "metadata": {
        "jupyter": {
          "outputs_hidden": false,
          "source_hidden": false
        },
        "noteable": {
          "cell_type": "code"
        },
        "tags": [
          "show_line_numbers"
        ]
      },
      "execution_count": null,
      "source": "# to check type in code, use isinstance\n\n",
      "outputs": []
    },
    {
      "id": "06850413-50d5-46b8-b614-27fb3a4f3630",
      "cell_type": "code",
      "metadata": {
        "jupyter": {
          "outputs_hidden": false,
          "source_hidden": false
        },
        "noteable": {
          "cell_type": "code",
          "output_collection_id": "76bba1ad-7529-4966-b0a4-66167170a2ba"
        },
        "ExecuteTime": null,
        "tags": [
          "show_line_numbers"
        ]
      },
      "execution_count": null,
      "source": "# attributes\n# every object has attributes, a private dict that we access via \".\"\n# we can add just about any attribute to just about any object we want\n\n# dir(x) returns a list of strings, the attributes on x\n\ns = 'abcd'\ndir(s)\n",
      "outputs": []
    },
    {
      "id": "909a2391-af01-4314-a6ff-28b8efae4a10",
      "cell_type": "markdown",
      "source": "# Let's define a class!\n\n",
      "metadata": {
        "tags": [
          "show_line_numbers"
        ]
      }
    },
    {
      "id": "3fa1aa2f-ee5c-488d-9f8e-0e1ff306d55d",
      "cell_type": "code",
      "metadata": {
        "noteable": {
          "cell_type": "python",
          "output_collection_id": "8f3eac75-eade-41cb-bdab-77bd8e270ba4"
        },
        "ExecuteTime": null,
        "tags": [
          "show_line_numbers"
        ]
      },
      "execution_count": null,
      "source": "class MyClass:\n    def __init__(self):    # \"dunder-init\" -- self is the instance we've created!\n        self.x = 100       # add the attribute x, value 100\n        self.y = 'abcd'    # add this attribute y, value 'abcd'\n        \nm = MyClass()    # here, we call (indirectly) to `__new__`\nprint(m.x)\nprint(m.y)",
      "outputs": []
    },
    {
      "id": "65e15081-dde8-4611-9112-ae282b14b453",
      "cell_type": "markdown",
      "source": "# What's really happening?\n\n- The constructor method in Python `__new__`. This method gets three attributes: The class, `*args`, `**kwargs`. It then creates a new instance of our class.  Let's say that it sticks the new instance in a variable called `o`.\n- `__new__` then calls `__init__`, passing it `o` (which in `__init__` is `self`), and adds `*args` and `**kwargs`. The job of `__init__` is to add attributes to the new object.\n- When `__init__` returns, the object has changed. `__new__` returns that (changed) object to the caller.\n",
      "metadata": {
        "tags": [
          "show_line_numbers"
        ]
      }
    },
    {
      "id": "0100c764-f3e3-424d-9c7d-f5e68171301a",
      "cell_type": "code",
      "metadata": {
        "noteable": {
          "cell_type": "python",
          "output_collection_id": "a1476f96-8779-4642-902e-cef15d491ad4"
        },
        "ExecuteTime": null,
        "tags": [
          "show_line_numbers"
        ]
      },
      "execution_count": null,
      "source": "class Person:\n    def __init__(self, name):\n        self.name = name\n        \np = Person('Reuven')     \nprint(vars(p))   # vars(p) returns a dict of all attributes on the instance",
      "outputs": []
    },
    {
      "id": "4f275b4e-6c98-4857-bc10-c5aa89bfd89c",
      "cell_type": "code",
      "metadata": {
        "jupyter": {
          "outputs_hidden": false,
          "source_hidden": false
        },
        "noteable": {
          "cell_type": "code",
          "output_collection_id": "132389db-c8e0-42ec-af0e-0a6ef3772716"
        },
        "ExecuteTime": null,
        "tags": [
          "show_line_numbers"
        ]
      },
      "execution_count": null,
      "source": "# what if I want to get the name, or set it?\n\nclass Person:\n    def __init__(self, name):\n        self.name = name\n        \n    def get_name(self):\n        return self.name\n    \n    def set_name(self, new_name):\n        self.name = new_name\n    \n        \np = Person('Reuven')     \nprint(p.get_name())\np.set_name('my new name')\nprint(p.get_name())",
      "outputs": []
    },
    {
      "id": "d74a4578-cc4b-43b0-88db-f88db4b00c40",
      "cell_type": "code",
      "metadata": {
        "jupyter": {
          "outputs_hidden": false,
          "source_hidden": false
        },
        "noteable": {
          "cell_type": "code",
          "output_collection_id": "c606ebc3-8347-43f2-b3c6-52a3ce4cf6c1"
        },
        "ExecuteTime": null,
        "tags": [
          "show_line_numbers"
        ]
      },
      "execution_count": null,
      "source": "# In Python, we normally don't write getters and setters\n# we normally retrieve and set attributes *directly*\n\n# there's no need, everything is public\n# you could use a property, which looks like data but acts like a function/method\n",
      "outputs": []
    },
    {
      "id": "e9e87370-6637-4c2d-b974-5e7cfcc2395f",
      "cell_type": "code",
      "metadata": {
        "jupyter": {
          "outputs_hidden": false,
          "source_hidden": false
        },
        "noteable": {
          "cell_type": "code",
          "output_collection_id": "a8e0098f-60ad-4cad-8802-83aacadd492c"
        },
        "ExecuteTime": null,
        "tags": [
          "show_line_numbers"
        ]
      },
      "execution_count": null,
      "source": "# here's my non-getter/setter code:\n\nclass Person:\n    def __init__(self, name):\n        self.name = name\n        \n\np = Person('Reuven')     \nprint(p.name)\np.name = 'my new name'\nprint(p.name)",
      "outputs": []
    },
    {
      "id": "13a7dee4-9cdf-4e7d-bc99-c3a97882af80",
      "cell_type": "code",
      "metadata": {
        "jupyter": {
          "outputs_hidden": false,
          "source_hidden": false
        },
        "noteable": {
          "cell_type": "code",
          "output_collection_id": "c6709dae-106b-4032-bc60-90766616dc56"
        },
        "ExecuteTime": null,
        "tags": [
          "show_line_numbers"
        ]
      },
      "execution_count": null,
      "source": "class Person:\n    def __init__(self, name):\n        self.name = name\n        \np = Person('Reuven')     \nprint(vars(Person)) ",
      "outputs": []
    },
    {
      "id": "b9efec5c-cb88-47a0-83ef-499f0818b3a6",
      "cell_type": "code",
      "metadata": {
        "jupyter": {
          "outputs_hidden": false,
          "source_hidden": false
        },
        "noteable": {
          "cell_type": "code",
          "output_collection_id": "af0996c1-db3f-4ab1-9055-00b3d0bdf4f1"
        },
        "ExecuteTime": null,
        "tags": [
          "show_line_numbers"
        ]
      },
      "execution_count": null,
      "source": "a = 1\nvars(a)",
      "outputs": []
    },
    {
      "id": "8a224e13-a88e-4223-9c2a-0f7cb77a3209",
      "cell_type": "code",
      "metadata": {
        "jupyter": {
          "outputs_hidden": false,
          "source_hidden": false
        },
        "noteable": {
          "cell_type": "code",
          "output_collection_id": "89499d13-b126-4d04-81c9-919539302276"
        },
        "ExecuteTime": null,
        "tags": [
          "show_line_numbers"
        ]
      },
      "execution_count": null,
      "source": "class Person:\n    def __init__(self, first, last):\n        self.first = first\n        self.last = last\n        \n    def fullname(self):\n        return f'{self.first} {self.last}'\n        \np = Person('Reuven', 'Lerner')     \nprint(p.fullname())",
      "outputs": []
    },
    {
      "id": "f5060a38-e4cf-4401-a4eb-a289f1ea19ea",
      "cell_type": "code",
      "metadata": {
        "noteable": {
          "cell_type": "python",
          "output_collection_id": "8ed49f8e-1076-4dc5-8672-bd8847086b3e"
        },
        "ExecuteTime": null,
        "tags": [
          "show_line_numbers"
        ]
      },
      "execution_count": null,
      "source": "s = 'abcd'\ns.upper()    # --> str.upper(s)",
      "outputs": []
    },
    {
      "id": "c7eefa26-6482-4796-a760-c3dbcb406ed7",
      "cell_type": "code",
      "metadata": {
        "jupyter": {
          "outputs_hidden": false,
          "source_hidden": false
        },
        "noteable": {
          "cell_type": "code",
          "output_collection_id": "0c4b15af-6fdd-4874-9408-c61176dd38cf"
        },
        "ExecuteTime": null,
        "tags": [
          "show_line_numbers"
        ]
      },
      "execution_count": null,
      "source": "class Person:\n    def __init__(self, first, last):\n        self.first = first\n        self.last = last\n        \n    def fullname(self):\n        return f'{self.first} {self.last}'\n    \n    @staticmethod\n    def hello(name):\n        return f'Hello, {name}!'\n        \np = Person('Reuven', 'Lerner')     \nprint(p.fullname())",
      "outputs": []
    },
    {
      "id": "c9aa1485-252a-43c1-a488-19e24ce89135",
      "cell_type": "code",
      "metadata": {
        "jupyter": {
          "outputs_hidden": false,
          "source_hidden": false
        },
        "noteable": {
          "cell_type": "code",
          "output_collection_id": "221f184f-d2ee-455f-af32-25c8480b987d"
        },
        "ExecuteTime": null,
        "tags": [
          "show_line_numbers"
        ]
      },
      "execution_count": null,
      "source": "Person.hello('whoever')",
      "outputs": []
    },
    {
      "id": "cd2674e6-7e36-4643-b954-695b95854b3e",
      "cell_type": "code",
      "metadata": {
        "jupyter": {
          "outputs_hidden": false,
          "source_hidden": false
        },
        "noteable": {
          "cell_type": "code",
          "output_collection_id": "027f360e-7d04-410d-9b7f-d87a62fcd4a7"
        },
        "ExecuteTime": null,
        "tags": [
          "show_line_numbers"
        ]
      },
      "execution_count": null,
      "source": "p.hello('world')",
      "outputs": []
    },
    {
      "id": "d58ccdfc-b2a5-407f-8c9f-8e5ba6ef20d4",
      "cell_type": "markdown",
      "source": "",
      "metadata": {
        "tags": [
          "show_line_numbers"
        ]
      }
    },
    {
      "id": "ef080746-c352-49cf-9c01-7c86d9147992",
      "cell_type": "markdown",
      "source": "# Exercise: Ice cream\n\n1. Define a `Scoop` class, whose instances have a single `flavor` attribute.\n2. Define three instances of `Scoop`, each with a different flavor. Print the flavor from each one.\n3. Define a `Bowl` class, whose instances have a single `scoops` attribute -- a list that will contain instances of `Scoop`. We'll also want two other methods:\n    - `add_scoops` -- a method that takes any number of `Scoop` objects, and adds them to our `scoops` attribute\n    - `flavors` -- method that takes no arguments, but that returns a list of strings with the flavors in that bowl.\n    \nExample:\n\n```python\ns1 = Scoop('chocolate')\ns2 = Scoop('vanilla')\ns3 = Scoop('coffee')\n\nb = Bowl()\nb.add_scoops(s1, s2)\nb.add_scoops(s3)\nprint(b.flavors())  ['chocolate', 'vanilla', 'coffee']\n```",
      "metadata": {
        "noteable": {
          "cell_type": "markdown"
        },
        "tags": [
          "show_line_numbers"
        ]
      }
    },
    {
      "id": "376a58d7-a094-4df0-a375-dfd3d0cbb325",
      "cell_type": "code",
      "metadata": {
        "noteable": {
          "output_collection_id": "ccb35b91-383c-4de8-8a6f-bdc5af080789"
        },
        "ExecuteTime": null,
        "tags": [
          "show_line_numbers"
        ]
      },
      "execution_count": null,
      "source": "class Scoop:\n    def __init__(self, flavor):\n        self.flavor = flavor\n        \ns1 = Scoop('chocolate')\ns2 = Scoop('vanilla')\ns3 = Scoop('coffee')\n\nfor one_scoop in [s1, s2, s3]:\n    print(one_scoop.flavor)\n\nclass Bowl:\n    def __init__(self):\n        self.scoops = []\n        \n    def add_scoops(self, *new_scoops):\n        self.scoops += new_scoop\n        \n        for one_scoop in new_scoops:\n            self.scoops.append(one_scoop)\n\n# b = Bowl()\n# b.add_scoops(s1, s2)\n# b.add_scoops(s3)\n# print(b.flavors())  ['chocolate', 'vanilla', 'coffee']\n",
      "outputs": []
    },
    {
      "id": "a85c557c-dbfb-4846-a7c3-1e6cd2b7e4ed",
      "cell_type": "code",
      "metadata": {
        "jupyter": {
          "outputs_hidden": false,
          "source_hidden": false
        },
        "noteable": {
          "cell_type": "code",
          "output_collection_id": "4c11a626-8066-43f2-a1d3-a8b96763b4d7"
        },
        "ExecuteTime": null,
        "tags": [
          "show_line_numbers"
        ]
      },
      "execution_count": null,
      "source": "mylist = [10, 20, 30]\n\nmylist += 'abcd'\n\nmylist",
      "outputs": []
    },
    {
      "id": "e7e92db4-459a-4a4e-89c8-d8fff5c5f2ca",
      "cell_type": "code",
      "metadata": {
        "jupyter": {
          "outputs_hidden": false,
          "source_hidden": false
        },
        "noteable": {
          "cell_type": "code",
          "output_collection_id": "8605cc30-09b6-4814-a8cb-6dbbf0489d02"
        },
        "ExecuteTime": null,
        "tags": [
          "show_line_numbers"
        ]
      },
      "execution_count": null,
      "source": "# append takes one argument, and adds it to the end of the list\nmylist = [10, 20, 30]\nmylist.append('abcd')\nmylist.append([100, 200, 300])\nmylist",
      "outputs": []
    },
    {
      "id": "fd8ede27-fac9-4e18-a006-bf81c199e94e",
      "cell_type": "code",
      "metadata": {
        "jupyter": {
          "outputs_hidden": false,
          "source_hidden": false
        },
        "noteable": {
          "cell_type": "code",
          "output_collection_id": "e9809335-bd7a-4f02-b4fe-d6b138db9724"
        },
        "ExecuteTime": null,
        "tags": [
          "show_line_numbers"
        ]
      },
      "execution_count": null,
      "source": "# extend takes one argument, and runs a for loop on it and adds\nmylist = [10, 20, 30]\nmylist.extend('abcd')\nmylist.extend([100, 200, [300, 400, 500]])\nmylist",
      "outputs": []
    },
    {
      "id": "9b56dd93-dcd6-4604-92a6-82bccae9de03",
      "cell_type": "code",
      "metadata": {
        "jupyter": {
          "outputs_hidden": false,
          "source_hidden": false
        },
        "noteable": {
          "cell_type": "code"
        },
        "tags": [
          "show_line_numbers"
        ]
      },
      "execution_count": null,
      "source": "self.scoops[:] = [*self.scoops, *new_scoops]\n",
      "outputs": []
    },
    {
      "id": "dd5b9de7-2ad0-4cfc-bced-8f49cb3191f5",
      "cell_type": "code",
      "metadata": {
        "jupyter": {
          "outputs_hidden": false,
          "source_hidden": false
        },
        "noteable": {
          "cell_type": "code",
          "output_collection_id": "2300ddae-1dc6-4bba-9e43-14945a127dc7"
        },
        "ExecuteTime": null,
        "tags": [
          "show_line_numbers"
        ]
      },
      "execution_count": null,
      "source": "mylist1 = [10, 20, 30]\nmylist2 = [100, 200, 300]\n\n[mylist1, mylist2]",
      "outputs": []
    },
    {
      "id": "3aa2e9d9-6a36-4a5c-9966-8c86d7018b2d",
      "cell_type": "code",
      "metadata": {
        "jupyter": {
          "outputs_hidden": false,
          "source_hidden": false
        },
        "noteable": {
          "cell_type": "code",
          "output_collection_id": "217aa9ae-479f-4906-9dfc-c0b261a3e951"
        },
        "ExecuteTime": null,
        "tags": [
          "show_line_numbers"
        ]
      },
      "execution_count": null,
      "source": "[*mylist1, *mylist2]",
      "outputs": []
    },
    {
      "id": "ea3b46c4-d78c-4dcc-91c5-a69eda82e69e",
      "cell_type": "code",
      "metadata": {
        "jupyter": {
          "outputs_hidden": false,
          "source_hidden": false
        },
        "noteable": {
          "cell_type": "code",
          "output_collection_id": "f485bf13-750c-4d2b-8208-05584309db9f"
        },
        "ExecuteTime": null,
        "tags": [
          "show_line_numbers"
        ]
      },
      "execution_count": null,
      "source": "mylist = [10, 20, 30, 40, 50]\nx = mylist\n\nmylist = [100, 200, 300]   # mylist, the variable, refers to a new list\nx",
      "outputs": []
    },
    {
      "id": "eef23711-b950-4943-a6fe-c71e5b699547",
      "cell_type": "code",
      "metadata": {
        "jupyter": {
          "outputs_hidden": false,
          "source_hidden": false
        },
        "noteable": {
          "cell_type": "code",
          "output_collection_id": "37eff834-39e5-47c0-a1c6-28cf9d79a0cd"
        },
        "ExecuteTime": null,
        "tags": [
          "show_line_numbers"
        ]
      },
      "execution_count": null,
      "source": "mylist = [10, 20, 30, 40, 50]\nx = mylist\n\nmylist[:] = [100, 200, 300]  # replace the contents of mylist (and x) with other stuff\nx",
      "outputs": []
    },
    {
      "id": "1c774dc4-7b59-4502-879d-48a9313cd682",
      "cell_type": "code",
      "metadata": {
        "jupyter": {
          "outputs_hidden": false,
          "source_hidden": false
        },
        "noteable": {
          "cell_type": "code",
          "output_collection_id": "c00dbb64-8122-42ed-8635-aee25fb1ea5f"
        },
        "ExecuteTime": null,
        "tags": [
          "show_line_numbers"
        ]
      },
      "execution_count": null,
      "source": "%%timeit\n\nmylist = []\nmylist.append(100)\nmylist.append(200)\nmylist.append(300)",
      "outputs": []
    },
    {
      "id": "1225ca20-a529-48af-8658-a6010cdf3737",
      "cell_type": "code",
      "metadata": {
        "jupyter": {
          "outputs_hidden": false,
          "source_hidden": false
        },
        "noteable": {
          "cell_type": "code",
          "output_collection_id": "aa05b0b1-2899-4630-8aa2-d0f930d2d0f8"
        },
        "ExecuteTime": null,
        "tags": [
          "show_line_numbers"
        ]
      },
      "execution_count": null,
      "source": "%%timeit\n\nmylist = []\nmylist.extend([100, 200, 300])",
      "outputs": []
    },
    {
      "id": "450f1e5f-6a39-4ee0-8faa-d6445c7fdbdc",
      "cell_type": "code",
      "metadata": {
        "jupyter": {
          "outputs_hidden": false,
          "source_hidden": false
        },
        "noteable": {
          "cell_type": "code",
          "output_collection_id": "36f06260-5cb0-4eea-81fa-19f8465b002e"
        },
        "ExecuteTime": null,
        "tags": [
          "show_line_numbers"
        ]
      },
      "execution_count": null,
      "source": "%%timeit\n\nmylist = []\nmylist[:] = [100, 200, 300]",
      "outputs": []
    },
    {
      "id": "8cb85ad0-9902-4c70-8ad7-013f2cbfb649",
      "cell_type": "code",
      "metadata": {
        "jupyter": {
          "outputs_hidden": false,
          "source_hidden": false
        },
        "noteable": {
          "cell_type": "code",
          "output_collection_id": "7954552d-47fa-4d94-8df0-13c6a94c53d8"
        },
        "ExecuteTime": null,
        "tags": [
          "show_line_numbers"
        ]
      },
      "execution_count": null,
      "source": "class Scoop:\n    def __init__(self, flavor):\n        self.flavor = flavor\n        \ns1 = Scoop('chocolate')\ns2 = Scoop('vanilla')\ns3 = Scoop('coffee')\n\nfor one_scoop in [s1, s2, s3]:\n    print(one_scoop.flavor)\n\nclass Bowl:\n    def __init__(self):\n        self.scoops = []\n        \n    def add_scoops(self, *new_scoops):\n        for one_scoop in new_scoops:\n            self.scoops.append(one_scoop)\n            \n    def flavors(self):\n        \n# I have: a list of scoops\n# I want: a list of strings (flavors)\n# I can map from the first to the second with the .flavor attribute\n\n        return [one_scoop.flavor\n               for one_scoop in self.scoops]\n\n#        output = []\n#         for one_scoop in self.scoops:\n#             output.append(one_scoop.flavor)\n\n#         return output\n\nb = Bowl()\nb.add_scoops(s1, s2)\nb.add_scoops(s3)\nprint(b.flavors()) #  ['chocolate', 'vanilla', 'coffee']",
      "outputs": []
    },
    {
      "id": "694d45fa-7b3b-4a26-8185-df6f8cbc85ba",
      "cell_type": "code",
      "metadata": {
        "jupyter": {
          "outputs_hidden": false,
          "source_hidden": false
        },
        "noteable": {
          "cell_type": "code",
          "output_collection_id": "3c78c5b4-4edf-49dd-9b59-31aee60e04a7"
        },
        "ExecuteTime": null,
        "tags": [
          "show_line_numbers"
        ]
      },
      "execution_count": null,
      "source": "mylist = [10, 20, 30]\nt = (100, 200, 300)\n\nmylist.extend(t)",
      "outputs": []
    },
    {
      "id": "54292151-8096-4c7c-86fc-12905c2c3079",
      "cell_type": "code",
      "metadata": {
        "jupyter": {
          "outputs_hidden": false,
          "source_hidden": false
        },
        "noteable": {
          "cell_type": "code",
          "output_collection_id": "03ea3043-851a-4941-8d1b-ce20c73e3b24"
        },
        "ExecuteTime": null,
        "tags": [
          "show_line_numbers"
        ]
      },
      "execution_count": null,
      "source": "mylist",
      "outputs": []
    },
    {
      "id": "bedab28a-9968-4a45-9200-e0455f9bc8f1",
      "cell_type": "markdown",
      "source": "# Next up\n\n- Attributes - instance + class + ICPO\n\nResume at :45",
      "metadata": {
        "noteable": {
          "cell_type": "markdown"
        },
        "tags": [
          "show_line_numbers"
        ]
      }
    },
    {
      "id": "33595f6f-df7b-4a67-bdde-634bba5b2297",
      "cell_type": "code",
      "metadata": {
        "noteable": {
          "output_collection_id": "a8fa1200-83c8-4da0-901a-35bec5dd673d"
        },
        "ExecuteTime": null,
        "tags": [
          "show_line_numbers"
        ]
      },
      "execution_count": null,
      "source": "population = 0\n\nclass Person:\n    def __init__(self, name):\n        self.name = name\n        population += 1\n        \n    def greet(self):\n        return f'Hello, {self.name}!'\n    \nprint(f'Before, population = {population}')\np1 = Person('name1')    \np2 = Person('name2')\nprint(f'After, population = {population}')\n\nprint(p1.greet())\nprint(p2.greet())",
      "outputs": []
    },
    {
      "id": "c8b25ad2-748b-433a-801a-78a152ee60b3",
      "cell_type": "code",
      "metadata": {
        "jupyter": {
          "outputs_hidden": false,
          "source_hidden": false
        },
        "noteable": {
          "cell_type": "code",
          "output_collection_id": "fd0ba509-857d-485d-86f4-6c59c025c8e1"
        },
        "ExecuteTime": null,
        "tags": [
          "show_line_numbers"
        ]
      },
      "execution_count": null,
      "source": "# let's declare population to be *only* global\n\npopulation = 0\n\nclass Person:\n    def __init__(self, name):\n        global population   # meaning: don't record population as local during compilation\n        self.name = name\n        population += 1\n        \n    def greet(self):\n        return f'Hello, {self.name}!'\n    \nprint(f'Before, population = {population}')\np1 = Person('name1')    \np2 = Person('name2')\nprint(f'After, population = {population}')\n\nprint(p1.greet())\nprint(p2.greet())",
      "outputs": []
    },
    {
      "id": "72e14606-6ebe-49a0-841f-6d8d70c93ce2",
      "cell_type": "code",
      "metadata": {
        "jupyter": {
          "outputs_hidden": false,
          "source_hidden": false
        },
        "noteable": {
          "cell_type": "code",
          "output_collection_id": "a476835e-f320-4e81-86a8-9f59d8337553"
        },
        "ExecuteTime": null,
        "tags": [
          "show_line_numbers"
        ]
      },
      "execution_count": null,
      "source": "# instead of a global variable, let's make population an attribute on the class\n\nclass Person:\n    def __init__(self, name):\n        self.name = name\n        Person.population += 1\n        \n    def greet(self):\n        return f'Hello, {self.name}!'\n    \nPerson.population = 0\n\nprint(f'Before, population = {Person.population}')\np1 = Person('name1')    \np2 = Person('name2')\nprint(f'After, population = {Person.population}')\n\nprint(p1.greet())\nprint(p2.greet())",
      "outputs": []
    },
    {
      "id": "72d1f2b8-2bbc-4140-a195-e386ba2064f8",
      "cell_type": "code",
      "metadata": {
        "jupyter": {
          "outputs_hidden": false,
          "source_hidden": false
        },
        "noteable": {
          "cell_type": "code",
          "output_collection_id": "d7ee63e6-65cc-4ebc-87c2-2d49f347f4db"
        },
        "ExecuteTime": null,
        "tags": [
          "show_line_numbers"
        ]
      },
      "execution_count": null,
      "source": "print('A')\nclass MyClass:\n    print('B')\n    def __init__(self):\n        print('C')\n        self.x = 100\n    print('D')\nprint('E')    \n        \nm1 = MyClass()\nm2 = MyClass()",
      "outputs": []
    },
    {
      "id": "93bedb6b-4397-499a-82a6-afb156b4af9b",
      "cell_type": "markdown",
      "source": "When I use `def`, Python does two things:\n- Creates a function object\n- Assigns that function to a variable\n\nMoreover, the body of the function isn't run at definition time.\n\nHowever, when we define a class, the body of the class is executed. Any variable we define inside of the class is not really a variable, but rather an attribute on the class.",
      "metadata": {
        "tags": [
          "show_line_numbers"
        ]
      }
    },
    {
      "id": "01928ff8-4360-4aa2-afc9-fbbbe5d31d8a",
      "cell_type": "code",
      "metadata": {
        "noteable": {
          "cell_type": "python",
          "output_collection_id": "31843733-a197-450c-b06e-1f96baa84046"
        },
        "ExecuteTime": null,
        "tags": [
          "show_line_numbers"
        ]
      },
      "execution_count": null,
      "source": "MyClass.__init__",
      "outputs": []
    },
    {
      "id": "eab94a0d-d6fd-4d0c-97dc-5f2626d3f834",
      "cell_type": "code",
      "metadata": {
        "jupyter": {
          "outputs_hidden": false,
          "source_hidden": false
        },
        "noteable": {
          "cell_type": "code",
          "output_collection_id": "a621afeb-316d-4437-a25a-cae31a6c2bc4"
        },
        "ExecuteTime": null,
        "tags": [
          "show_line_numbers"
        ]
      },
      "execution_count": null,
      "source": "# Let's use a cleaner syntax to add the population attribute\n\nclass Person:\n    population = 0   # this defines Person.population = 0\n\n    def __init__(self, name):\n        self.name = name\n        Person.population += 1\n        \n    def greet(self):\n        return f'Hello, {self.name}!'\n    \nprint(f'Before, population = {Person.population}')\np1 = Person('name1')    \np2 = Person('name2')\nprint(f'After, Person.population = {Person.population}') # Person has population? yes, 2\nprint(f'After, p1.population = {p1.population}') # p1 has population? No. Person? Yes, 2\nprint(f'After, p2.population = {p2.population}') # p2 (same thing)\n\nprint(p1.greet()) # p1 has greet? No. Person has greet? Yes\nprint(p2.greet()) # p2 has greet? No. person has greet? Yes.",
      "outputs": []
    },
    {
      "id": "d2b727c2-ddfe-40bc-9a97-43c79d4e8fd2",
      "cell_type": "markdown",
      "source": "# ICPO -- attribute resolution order\n\nWhen we ask Python for an attribute, it tries to find the attribute on several objects:\n\n- `I` - instance that we specified. \n- `C` - If it cannot find the attribute on the instance, it looks on the class\n- `P` - If it cannot find on the class, it looks on the parent\n- `O` - If it cannot find on the parent, it looks on `object`",
      "metadata": {
        "tags": [
          "show_line_numbers"
        ]
      }
    },
    {
      "id": "161c674d-151e-49b4-8265-e0a2fc87a47e",
      "cell_type": "code",
      "metadata": {
        "noteable": {
          "cell_type": "python",
          "output_collection_id": "16f85276-d206-4668-a469-7222cb2d1bd7"
        },
        "ExecuteTime": null,
        "tags": [
          "show_line_numbers"
        ]
      },
      "execution_count": null,
      "source": "# who does Person inherit from?\n\nPerson.__bases__",
      "outputs": []
    },
    {
      "id": "a5ea48bf-67dc-40e5-b32a-98ace2e958dd",
      "cell_type": "code",
      "metadata": {
        "jupyter": {
          "outputs_hidden": false,
          "source_hidden": false
        },
        "noteable": {
          "cell_type": "code",
          "output_collection_id": "ba16cb4f-73ce-405f-910e-46e4896b5849"
        },
        "tags": [
          "show_line_numbers"
        ],
        "ExecuteTime": null
      },
      "execution_count": null,
      "source": "# what if we change Person.population += 1 to self.population += 1?\n\nclass Person:\n    population = 0   # this defines Person.population = 0\n\n    def __init__(self, name):\n        self.name = name\n        Person.population += 1\n        \n    def greet(self):\n        return f'Hello, {self.name}!'\n    \nprint(f'Before, population = {Person.population}')\np1 = Person('name1')    \np2 = Person('name2')\nprint(f'After, Person.population = {Person.population}') \nprint(f'After, p1.population = {p1.population}') \nprint(f'After, p2.population = {p2.population}') \n\nprint(p1.greet()) \nprint(p2.greet()) ",
      "outputs": []
    },
    {
      "id": "cbcd7789-5969-48e1-b8ac-f5d700ca0c51",
      "cell_type": "markdown",
      "source": "# Why class attributes?\n\n- Methods. All methods are class attributes.\n- Constants. We can have (sorta kinda) constants by assigning them on the class, assuming that we won't change them. If we have a value that we'll use everywhere in the class, we can put it here.\n- Shared resources. Something that's shared among all instances can go in the class as an attribute.",
      "metadata": {}
    },
    {
      "id": "d34ae4c0-3f84-4456-ac42-1b016ce62dc4",
      "cell_type": "code",
      "metadata": {
        "noteable": {
          "cell_type": "python"
        }
      },
      "execution_count": null,
      "source": "# one-time only initialization of class attribute from an instance\n\nclass Person:\n    population = None   # initial value\n\n    def __init__(self, name):\n        self.name = name\n\n        if Person.population is None:   # initialize Person.population once\n            Person.population = 0\n\n        Person.population += 1          # always run this\n        \n    def greet(self):\n        return f'Hello, {self.name}!'\n    \nprint(f'Before, population = {Person.population}')\np1 = Person('name1')    \np2 = Person('name2')\nprint(f'After, Person.population = {Person.population}') \nprint(f'After, p1.population = {p1.population}') \nprint(f'After, p2.population = {p2.population}') \n\nprint(p1.greet()) \nprint(p2.greet()) ",
      "outputs": []
    },
    {
      "id": "adf79648-d732-4049-b3d5-2d84d6984b38",
      "cell_type": "code",
      "metadata": {
        "jupyter": {
          "outputs_hidden": false,
          "source_hidden": false
        },
        "noteable": {
          "cell_type": "code",
          "output_collection_id": "f4aca67d-99a1-4198-a841-c1cd85802643"
        },
        "ExecuteTime": null
      },
      "execution_count": null,
      "source": "# generally, if/else is done like this:\n\nx = 10\n\nif x % 2:\n    result = 'odd'\nelse:\n    result = 'even'\n    \nprint(result)    ",
      "outputs": []
    },
    {
      "id": "5008f367-fba0-42d3-a158-2c57ddd416b7",
      "cell_type": "code",
      "metadata": {
        "jupyter": {
          "outputs_hidden": false,
          "source_hidden": false
        },
        "noteable": {
          "cell_type": "code",
          "output_collection_id": "63b2df29-1ccb-4a44-ba20-951f5225d6ce"
        },
        "ExecuteTime": null
      },
      "execution_count": null,
      "source": "# there is another way...\n\nx = 10\n\nresult = 'odd' if x % 2 else 'even'\n\nprint(result)",
      "outputs": []
    },
    {
      "id": "f4306260-b543-4504-b360-2b656b55e5b5",
      "cell_type": "markdown",
      "source": "# Exercise: Limited bowls\n\n1. Let's limit the number of scoops you can put in a bowl to 3.\n2. Modify `add_scoops` to do this; any scoop beyond the third is ignored.\n",
      "metadata": {}
    },
    {
      "id": "e2907a3c-2f6f-42b5-9f87-f5ba54862e01",
      "cell_type": "code",
      "metadata": {
        "noteable": {
          "output_collection_id": "5536c87c-9980-4d5b-a5a4-41bbaff99cf1"
        },
        "ExecuteTime": null
      },
      "execution_count": null,
      "source": "x = 10\n\nx++",
      "outputs": []
    },
    {
      "id": "fc18d50f-9c71-4709-a60d-608a8cf8c47a",
      "cell_type": "code",
      "metadata": {
        "jupyter": {
          "outputs_hidden": false,
          "source_hidden": false
        },
        "noteable": {
          "cell_type": "code",
          "output_collection_id": "6d1d0248-4c2e-4ae7-8663-27e0baa56e5d"
        },
        "ExecuteTime": null
      },
      "execution_count": null,
      "source": "(+(+x))   # unary plus",
      "outputs": []
    },
    {
      "id": "a1bb562e-e895-496a-9a1e-5953b0b8f80a",
      "cell_type": "code",
      "metadata": {
        "jupyter": {
          "outputs_hidden": false,
          "source_hidden": false
        },
        "noteable": {
          "cell_type": "code",
          "output_collection_id": "f8ad61d6-46b6-4d97-a8a5-ccc2f05f9e6c"
        },
        "ExecuteTime": null
      },
      "execution_count": null,
      "source": "x",
      "outputs": []
    },
    {
      "id": "1fd4f8c2-1eba-440c-bc5c-63a7c79fb7cf",
      "cell_type": "code",
      "metadata": {
        "jupyter": {
          "outputs_hidden": false,
          "source_hidden": false
        },
        "noteable": {
          "cell_type": "code",
          "output_collection_id": "b28901ea-eaa8-40f4-a409-e8606e9fd4c4"
        },
        "ExecuteTime": null
      },
      "execution_count": null,
      "source": "class Scoop:\n    def __init__(self, flavor):\n        self.flavor = flavor\n        \nclass Bowl:\n    MAX_SCOOPS = 3\n    \n    def __init__(self):\n        self.scoops = []\n        \n    def add_scoops(self, *new_scoops):\n        for one_scoop in new_scoops:\n            if len(self.scoops) < Bowl.MAX_SCOOPS:\n                self.scoops.append(one_scoop)\n            \n    def flavors(self):\n        \n        return [one_scoop.flavor\n               for one_scoop in self.scoops]\n\ns1 = Scoop('chocolate')\ns2 = Scoop('vanilla')\ns3 = Scoop('coffee')\ns4 = Scoop('flavor 4')\ns5 = Scoop('flavor 5')\n\nb = Bowl()\nb.add_scoops(s1, s2)\nb.add_scoops(s3)\nb.add_scoops(s4, s5)\nprint(b.flavors()) ",
      "outputs": []
    },
    {
      "id": "a55f38c4-0e68-47c0-8f23-970736342a07",
      "cell_type": "code",
      "metadata": {
        "jupyter": {
          "outputs_hidden": false,
          "source_hidden": false
        },
        "noteable": {
          "cell_type": "code",
          "output_collection_id": "42d8e9af-9908-4bff-b3d5-1374db4f3adf"
        },
        "ExecuteTime": null
      },
      "execution_count": null,
      "source": "# Inheritance \n\nclass Person:\n\n    def __init__(self, name):\n        self.name = name\n        \n    def greet(self):\n        return f'Hello, {self.name}!'\n    \np1 = Person('name1')    \np2 = Person('name2')\n\nprint(p1.greet()) \nprint(p2.greet()) \n\nclass Employee(Person):    # Employee is-a Person, i.e., inherits from Person\n\n    def __init__(self, name, id_number):\n        super().__init__(name)        # do what my parent does in __init__...\n        self.id_number = id_number    # add my own things\n            \ne1 = Employee('emp1', 1)# e1 has __init__? no. Empoyee has __init__? Yes \ne2 = Employee('emp2', 2)\n\nprint(e1.greet()) # e1 has greet? No. Employee has greet? No. Person has greet? yes\nprint(e2.greet()) ",
      "outputs": []
    },
    {
      "id": "01416c65-a8ea-4a45-994a-2e5af456bd10",
      "cell_type": "code",
      "metadata": {
        "jupyter": {
          "outputs_hidden": false,
          "source_hidden": false
        },
        "noteable": {
          "cell_type": "code",
          "output_collection_id": "cc496ac3-f696-458c-911d-db5f1dc9a36e"
        },
        "ExecuteTime": null
      },
      "execution_count": null,
      "source": "Employee.__bases__",
      "outputs": []
    },
    {
      "id": "f42af202-0604-49ad-b08c-ba9d0be97479",
      "cell_type": "code",
      "metadata": {
        "jupyter": {
          "outputs_hidden": false,
          "source_hidden": false
        },
        "noteable": {
          "cell_type": "code",
          "output_collection_id": "6aa89831-c650-453d-9792-c08d6679e1c5"
        },
        "ExecuteTime": null
      },
      "execution_count": null,
      "source": "Person.__bases__",
      "outputs": []
    },
    {
      "id": "01345351-ee79-4322-b696-6b44ce69b8e2",
      "cell_type": "markdown",
      "source": "# Next time\n\n1. Inheritance\n2. Magic methods (`__del__`)\n3. Object system\n4. Metaclasses\n5. Iterators etc. ",
      "metadata": {}
    },
    {
      "id": "48e1fa25-4b55-464c-95fa-0004c71c3795",
      "cell_type": "markdown",
      "source": "",
      "metadata": {
        "noteable": {
          "cell_type": "markdown"
        }
      }
    }
  ]
}